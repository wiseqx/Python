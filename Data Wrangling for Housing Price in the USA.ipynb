{
 "cells": [
  {
   "cell_type": "markdown",
   "metadata": {},
   "source": [
    "# Housing price Analysis\n",
    "\n",
    "Date: 02/03/2020\n",
    "\n",
    "Version: 1\n",
    "\n",
    "Environment: Python 2.7.16 and Jupyter notebook\n",
    "\n",
    "Libraries used:\n",
    "* pandas (loading data, creating dataframes, manipulating a dataframe and plotting)\n",
    "* pandas.Series (One-dimensional ndarray with axis labels)\n",
    "* json (Parsing JSON from strings or files)\n",
    "* pandas.io.json (Normalize semi-structured JSON data into a flat table)\n",
    "* matplotlib (Plotting)\n",
    "* seaborn (High-level interface to Matplotlib, helping with the advanced plotting)\n",
    "* numpy (Mathematical operation)\n",
    "* IPython.core.display (Top-level display functions for displaying dataframe in different formats. Package is under 'style' file)\n",
    "* scipy.spatial.distance (Used to calculate Mahalanobis distance)\n",
    "* mpl_toolkits.mplot3d.Axes3d (Plotting 3 dimensional graphing)\n",
    "* sklearn.linear_model.lineargression (Calculating linear regression)\n",
    "* sklearn.model_selection.train_test_split (Splitting data into train sets and test sets)"
   ]
  },
  {
   "cell_type": "markdown",
   "metadata": {},
   "source": [
    "## Introduction\n",
    "\n",
    "Data from the real estate market can be used to analyze and predict property prices for data analysts. Property price predictions give a good indicator for proprty investors, property sellers, overall property market and even economic health of a country. \n",
    "\n",
    "This project requires wrangling U.S.A property sale records which is stored in an unknown format. It also has many unknown data quality issues. Task1 is about parsing the property sales data which is stored in 'data.dat'. Task2 is about auditing and cleaning the loaded data.\n",
    "\n",
    "****"
   ]
  },
  {
   "cell_type": "markdown",
   "metadata": {},
   "source": [
    "## Import libraries "
   ]
  },
  {
   "cell_type": "code",
   "execution_count": 1,
   "metadata": {},
   "outputs": [],
   "source": [
    "# import gengeral libraries\n",
    "import pandas as pd\n",
    "from pandas import Series\n",
    "import json\n",
    "from pandas.io.json import json_normalize\n",
    "import matplotlib as mpl\n",
    "import matplotlib.pyplot as plt\n",
    "import seaborn as sns\n",
    "import numpy as np   \n",
    "from scipy.spatial import distance  \n",
    "from mpl_toolkits.mplot3d import Axes3D\n",
    "from sklearn.linear_model import LinearRegression\n",
    "from sklearn.model_selection import train_test_split"
   ]
  },
  {
   "cell_type": "code",
   "execution_count": 2,
   "metadata": {},
   "outputs": [],
   "source": [
    "# Configure visualisations\n",
    "%matplotlib inline\n",
    "mpl.style.use('ggplot')"
   ]
  },
  {
   "cell_type": "code",
   "execution_count": 3,
   "metadata": {},
   "outputs": [
    {
     "name": "stderr",
     "output_type": "stream",
     "text": [
      "Python 2.7.16 :: Anaconda, Inc.\n"
     ]
    }
   ],
   "source": [
    "!python --version"
   ]
  },
  {
   "cell_type": "markdown",
   "metadata": {},
   "source": [
    "****"
   ]
  },
  {
   "cell_type": "markdown",
   "metadata": {},
   "source": [
    "## Task 1:  Parsing the property sales data stored in “data.dat”\n"
   ]
  },
  {
   "cell_type": "markdown",
   "metadata": {},
   "source": [
    "## 1.Loading data into dataframe"
   ]
  },
  {
   "cell_type": "code",
   "execution_count": 4,
   "metadata": {},
   "outputs": [
    {
     "name": "stdout",
     "output_type": "stream",
     "text": [
      "<type 'dict'>\n"
     ]
    },
    {
     "data": {
      "text/plain": [
       "{u'address': u'18810 Densmore Ave N, Shoreline, WA 98133, USA',\n",
       " u'area': {u'sqft_above': 1340,\n",
       "  u'sqft_basement': 0,\n",
       "  u'sqft_living/sqft_lot': u'sqft_living/sqft_lot=1340\\\\ 7912'},\n",
       " u'condition': 3,\n",
       " u'date': u'20140502T000000',\n",
       " u'floors': 1.5,\n",
       " u'price': 313000.0,\n",
       " u'rooms': u'Number of bathrooms: 1.5; Number of bedrooms: 3',\n",
       " u'view': 0,\n",
       " u'waterfront': 0,\n",
       " u'yr_built': 1955,\n",
       " u'yr_renovated': nan}"
      ]
     },
     "execution_count": 4,
     "metadata": {},
     "output_type": "execute_result"
    }
   ],
   "source": [
    "#loading data and checking the structure\n",
    "with open(\"data.dat\") as data_file:\n",
    "    #dat format can be loaded as a json format\n",
    "    file_data = json.load(data_file)\n",
    "#file is loaded in dictionary format\n",
    "print type(file_data)\n",
    "file_data['houses'][0]"
   ]
  },
  {
   "cell_type": "code",
   "execution_count": 5,
   "metadata": {},
   "outputs": [
    {
     "data": {
      "text/plain": [
       "[u'houses']"
      ]
     },
     "execution_count": 5,
     "metadata": {},
     "output_type": "execute_result"
    }
   ],
   "source": [
    "#what kind of keys the dictionary has\n",
    "file_data.keys()"
   ]
  },
  {
   "cell_type": "code",
   "execution_count": 6,
   "metadata": {
    "scrolled": true
   },
   "outputs": [
    {
     "data": {
      "text/html": [
       "<div>\n",
       "<style scoped>\n",
       "    .dataframe tbody tr th:only-of-type {\n",
       "        vertical-align: middle;\n",
       "    }\n",
       "\n",
       "    .dataframe tbody tr th {\n",
       "        vertical-align: top;\n",
       "    }\n",
       "\n",
       "    .dataframe thead th {\n",
       "        text-align: right;\n",
       "    }\n",
       "</style>\n",
       "<table border=\"1\" class=\"dataframe\">\n",
       "  <thead>\n",
       "    <tr style=\"text-align: right;\">\n",
       "      <th></th>\n",
       "      <th>address</th>\n",
       "      <th>area.sqft_above</th>\n",
       "      <th>area.sqft_basement</th>\n",
       "      <th>area.sqft_living/sqft_lot</th>\n",
       "      <th>condition</th>\n",
       "      <th>date</th>\n",
       "      <th>floors</th>\n",
       "      <th>price</th>\n",
       "      <th>rooms</th>\n",
       "      <th>view</th>\n",
       "      <th>waterfront</th>\n",
       "      <th>yr_built</th>\n",
       "      <th>yr_renovated</th>\n",
       "    </tr>\n",
       "  </thead>\n",
       "  <tbody>\n",
       "    <tr>\n",
       "      <th>0</th>\n",
       "      <td>18810 Densmore Ave N, Shoreline, WA 98133, USA</td>\n",
       "      <td>1340</td>\n",
       "      <td>0</td>\n",
       "      <td>sqft_living/sqft_lot=1340\\ 7912</td>\n",
       "      <td>3</td>\n",
       "      <td>20140502T000000</td>\n",
       "      <td>1.5</td>\n",
       "      <td>313000.0</td>\n",
       "      <td>Number of bathrooms: 1.5; Number of bedrooms: 3</td>\n",
       "      <td>0</td>\n",
       "      <td>0</td>\n",
       "      <td>1955</td>\n",
       "      <td>NaN</td>\n",
       "    </tr>\n",
       "  </tbody>\n",
       "</table>\n",
       "</div>"
      ],
      "text/plain": [
       "                                          address  area.sqft_above  \\\n",
       "0  18810 Densmore Ave N, Shoreline, WA 98133, USA             1340   \n",
       "\n",
       "   area.sqft_basement        area.sqft_living/sqft_lot  condition  \\\n",
       "0                   0  sqft_living/sqft_lot=1340\\ 7912          3   \n",
       "\n",
       "              date  floors     price  \\\n",
       "0  20140502T000000     1.5  313000.0   \n",
       "\n",
       "                                             rooms  view  waterfront  \\\n",
       "0  Number of bathrooms: 1.5; Number of bedrooms: 3     0           0   \n",
       "\n",
       "   yr_built  yr_renovated  \n",
       "0      1955           NaN  "
      ]
     },
     "execution_count": 6,
     "metadata": {},
     "output_type": "execute_result"
    }
   ],
   "source": [
    "#normalize and show the data\n",
    "df_house=json_normalize(file_data['houses'])\n",
    "#show the first row\n",
    "df_house.head(1)"
   ]
  },
  {
   "cell_type": "markdown",
   "metadata": {},
   "source": [
    "## 2.Parsing the loaded data "
   ]
  },
  {
   "cell_type": "markdown",
   "metadata": {},
   "source": [
    "### 1.Spliting address into street, city, statezip, country"
   ]
  },
  {
   "cell_type": "code",
   "execution_count": 7,
   "metadata": {
    "scrolled": true
   },
   "outputs": [
    {
     "data": {
      "text/html": [
       "<div>\n",
       "<style scoped>\n",
       "    .dataframe tbody tr th:only-of-type {\n",
       "        vertical-align: middle;\n",
       "    }\n",
       "\n",
       "    .dataframe tbody tr th {\n",
       "        vertical-align: top;\n",
       "    }\n",
       "\n",
       "    .dataframe thead th {\n",
       "        text-align: right;\n",
       "    }\n",
       "</style>\n",
       "<table border=\"1\" class=\"dataframe\">\n",
       "  <thead>\n",
       "    <tr style=\"text-align: right;\">\n",
       "      <th></th>\n",
       "      <th>address</th>\n",
       "      <th>area.sqft_above</th>\n",
       "      <th>area.sqft_basement</th>\n",
       "      <th>area.sqft_living/sqft_lot</th>\n",
       "      <th>condition</th>\n",
       "      <th>date</th>\n",
       "      <th>floors</th>\n",
       "      <th>price</th>\n",
       "      <th>rooms</th>\n",
       "      <th>view</th>\n",
       "      <th>waterfront</th>\n",
       "      <th>yr_built</th>\n",
       "      <th>yr_renovated</th>\n",
       "      <th>street</th>\n",
       "      <th>city</th>\n",
       "      <th>statezip</th>\n",
       "      <th>country</th>\n",
       "    </tr>\n",
       "  </thead>\n",
       "  <tbody>\n",
       "    <tr>\n",
       "      <th>0</th>\n",
       "      <td>18810 Densmore Ave N, Shoreline, WA 98133, USA</td>\n",
       "      <td>1340</td>\n",
       "      <td>0</td>\n",
       "      <td>sqft_living/sqft_lot=1340\\ 7912</td>\n",
       "      <td>3</td>\n",
       "      <td>20140502T000000</td>\n",
       "      <td>1.5</td>\n",
       "      <td>313000.0</td>\n",
       "      <td>Number of bathrooms: 1.5; Number of bedrooms: 3</td>\n",
       "      <td>0</td>\n",
       "      <td>0</td>\n",
       "      <td>1955</td>\n",
       "      <td>NaN</td>\n",
       "      <td>18810 Densmore Ave N</td>\n",
       "      <td>Shoreline</td>\n",
       "      <td>WA 98133</td>\n",
       "      <td>USA</td>\n",
       "    </tr>\n",
       "  </tbody>\n",
       "</table>\n",
       "</div>"
      ],
      "text/plain": [
       "                                          address  area.sqft_above  \\\n",
       "0  18810 Densmore Ave N, Shoreline, WA 98133, USA             1340   \n",
       "\n",
       "   area.sqft_basement        area.sqft_living/sqft_lot  condition  \\\n",
       "0                   0  sqft_living/sqft_lot=1340\\ 7912          3   \n",
       "\n",
       "              date  floors     price  \\\n",
       "0  20140502T000000     1.5  313000.0   \n",
       "\n",
       "                                             rooms  view  waterfront  \\\n",
       "0  Number of bathrooms: 1.5; Number of bedrooms: 3     0           0   \n",
       "\n",
       "   yr_built  yr_renovated                street       city  statezip country  \n",
       "0      1955           NaN  18810 Densmore Ave N  Shoreline  WA 98133     USA  "
      ]
     },
     "execution_count": 7,
     "metadata": {},
     "output_type": "execute_result"
    }
   ],
   "source": [
    "#split address into 4 parts\n",
    "df_house['street'],df_house['city'],df_house['statezip'],df_house['country'] = df_house['address'].str.split(\", \").str\n",
    "df_house.head(1)"
   ]
  },
  {
   "cell_type": "markdown",
   "metadata": {},
   "source": [
    "Some columns have the issue that the order of bathrooms and bedrooms are misplaced. Some rows have issues that the number of bedrooms and number of bathrooms are misplaced. "
   ]
  },
  {
   "cell_type": "code",
   "execution_count": 8,
   "metadata": {
    "scrolled": true
   },
   "outputs": [
    {
     "data": {
      "text/html": [
       "<div>\n",
       "<style scoped>\n",
       "    .dataframe tbody tr th:only-of-type {\n",
       "        vertical-align: middle;\n",
       "    }\n",
       "\n",
       "    .dataframe tbody tr th {\n",
       "        vertical-align: top;\n",
       "    }\n",
       "\n",
       "    .dataframe thead th {\n",
       "        text-align: right;\n",
       "    }\n",
       "</style>\n",
       "<table border=\"1\" class=\"dataframe\">\n",
       "  <thead>\n",
       "    <tr style=\"text-align: right;\">\n",
       "      <th></th>\n",
       "      <th>address</th>\n",
       "      <th>area.sqft_above</th>\n",
       "      <th>area.sqft_basement</th>\n",
       "      <th>area.sqft_living/sqft_lot</th>\n",
       "      <th>condition</th>\n",
       "      <th>date</th>\n",
       "      <th>floors</th>\n",
       "      <th>price</th>\n",
       "      <th>rooms</th>\n",
       "      <th>view</th>\n",
       "      <th>waterfront</th>\n",
       "      <th>yr_built</th>\n",
       "      <th>yr_renovated</th>\n",
       "      <th>street</th>\n",
       "      <th>city</th>\n",
       "      <th>statezip</th>\n",
       "      <th>country</th>\n",
       "    </tr>\n",
       "  </thead>\n",
       "  <tbody>\n",
       "    <tr>\n",
       "      <th>0</th>\n",
       "      <td>18810 Densmore Ave N, Shoreline, WA 98133, USA</td>\n",
       "      <td>1340</td>\n",
       "      <td>0</td>\n",
       "      <td>sqft_living/sqft_lot=1340\\ 7912</td>\n",
       "      <td>3</td>\n",
       "      <td>20140502T000000</td>\n",
       "      <td>1.5</td>\n",
       "      <td>313000.0</td>\n",
       "      <td>Number of bathrooms: 1.5; Number of bedrooms: 3</td>\n",
       "      <td>0</td>\n",
       "      <td>0</td>\n",
       "      <td>1955</td>\n",
       "      <td>NaN</td>\n",
       "      <td>18810 Densmore Ave N</td>\n",
       "      <td>Shoreline</td>\n",
       "      <td>WA 98133</td>\n",
       "      <td>USA</td>\n",
       "    </tr>\n",
       "  </tbody>\n",
       "</table>\n",
       "</div>"
      ],
      "text/plain": [
       "                                          address  area.sqft_above  \\\n",
       "0  18810 Densmore Ave N, Shoreline, WA 98133, USA             1340   \n",
       "\n",
       "   area.sqft_basement        area.sqft_living/sqft_lot  condition  \\\n",
       "0                   0  sqft_living/sqft_lot=1340\\ 7912          3   \n",
       "\n",
       "              date  floors     price  \\\n",
       "0  20140502T000000     1.5  313000.0   \n",
       "\n",
       "                                             rooms  view  waterfront  \\\n",
       "0  Number of bathrooms: 1.5; Number of bedrooms: 3     0           0   \n",
       "\n",
       "   yr_built  yr_renovated                street       city  statezip country  \n",
       "0      1955           NaN  18810 Densmore Ave N  Shoreline  WA 98133     USA  "
      ]
     },
     "execution_count": 8,
     "metadata": {},
     "output_type": "execute_result"
    }
   ],
   "source": [
    "#switch the number of bathrooms and the number of bedrooms' position \n",
    "room_list=[]\n",
    "for each in df_house['rooms']:\n",
    "    temp=\"\"\n",
    "    #split with '; ' and convert string to list\n",
    "    each_list=each.split('; ')\n",
    "    #if 'number of bedrooms' shows at first, switch its position\n",
    "    if \"Number of bedrooms\" in each_list[0]:\n",
    "        temp=each_list[0]\n",
    "        each_list[0],each_list[1]=each_list[1],temp\n",
    "    #convert list to string\n",
    "    each_str='; '.join(each_list)\n",
    "    #append to whole list\n",
    "    room_list.append(each_str)\n",
    "#change the value of columns\n",
    "df_house['rooms']=room_list\n",
    "df_house.head(1)"
   ]
  },
  {
   "cell_type": "markdown",
   "metadata": {},
   "source": [
    "### 2.Splitting living and land area and Splitting rooms"
   ]
  },
  {
   "cell_type": "code",
   "execution_count": 9,
   "metadata": {
    "scrolled": true
   },
   "outputs": [
    {
     "data": {
      "text/html": [
       "<div>\n",
       "<style scoped>\n",
       "    .dataframe tbody tr th:only-of-type {\n",
       "        vertical-align: middle;\n",
       "    }\n",
       "\n",
       "    .dataframe tbody tr th {\n",
       "        vertical-align: top;\n",
       "    }\n",
       "\n",
       "    .dataframe thead th {\n",
       "        text-align: right;\n",
       "    }\n",
       "</style>\n",
       "<table border=\"1\" class=\"dataframe\">\n",
       "  <thead>\n",
       "    <tr style=\"text-align: right;\">\n",
       "      <th></th>\n",
       "      <th>address</th>\n",
       "      <th>area.sqft_above</th>\n",
       "      <th>area.sqft_basement</th>\n",
       "      <th>area.sqft_living/sqft_lot</th>\n",
       "      <th>condition</th>\n",
       "      <th>date</th>\n",
       "      <th>floors</th>\n",
       "      <th>price</th>\n",
       "      <th>rooms</th>\n",
       "      <th>view</th>\n",
       "      <th>...</th>\n",
       "      <th>yr_built</th>\n",
       "      <th>yr_renovated</th>\n",
       "      <th>street</th>\n",
       "      <th>city</th>\n",
       "      <th>statezip</th>\n",
       "      <th>country</th>\n",
       "      <th>sqft_living</th>\n",
       "      <th>sqft_lot</th>\n",
       "      <th>bathrooms</th>\n",
       "      <th>bedrooms</th>\n",
       "    </tr>\n",
       "  </thead>\n",
       "  <tbody>\n",
       "    <tr>\n",
       "      <th>0</th>\n",
       "      <td>18810 Densmore Ave N, Shoreline, WA 98133, USA</td>\n",
       "      <td>1340</td>\n",
       "      <td>0</td>\n",
       "      <td>sqft_living/sqft_lot=1340\\ 7912</td>\n",
       "      <td>3</td>\n",
       "      <td>20140502T000000</td>\n",
       "      <td>1.5</td>\n",
       "      <td>313000.0</td>\n",
       "      <td>Number of bathrooms: 1.5; Number of bedrooms: 3</td>\n",
       "      <td>0</td>\n",
       "      <td>...</td>\n",
       "      <td>1955</td>\n",
       "      <td>NaN</td>\n",
       "      <td>18810 Densmore Ave N</td>\n",
       "      <td>Shoreline</td>\n",
       "      <td>WA 98133</td>\n",
       "      <td>USA</td>\n",
       "      <td>1340</td>\n",
       "      <td>7912</td>\n",
       "      <td>1.5</td>\n",
       "      <td>3</td>\n",
       "    </tr>\n",
       "  </tbody>\n",
       "</table>\n",
       "<p>1 rows × 21 columns</p>\n",
       "</div>"
      ],
      "text/plain": [
       "                                          address  area.sqft_above  \\\n",
       "0  18810 Densmore Ave N, Shoreline, WA 98133, USA             1340   \n",
       "\n",
       "   area.sqft_basement        area.sqft_living/sqft_lot  condition  \\\n",
       "0                   0  sqft_living/sqft_lot=1340\\ 7912          3   \n",
       "\n",
       "              date  floors     price  \\\n",
       "0  20140502T000000     1.5  313000.0   \n",
       "\n",
       "                                             rooms  view  ...  yr_built  \\\n",
       "0  Number of bathrooms: 1.5; Number of bedrooms: 3     0  ...      1955   \n",
       "\n",
       "   yr_renovated                street       city  statezip country  \\\n",
       "0           NaN  18810 Densmore Ave N  Shoreline  WA 98133     USA   \n",
       "\n",
       "  sqft_living sqft_lot bathrooms bedrooms  \n",
       "0        1340     7912       1.5        3  \n",
       "\n",
       "[1 rows x 21 columns]"
      ]
     },
     "execution_count": 9,
     "metadata": {},
     "output_type": "execute_result"
    }
   ],
   "source": [
    "#split sqft_living and lot\n",
    "df_house['sqft_living'], df_house['sqft_lot'] = df_house['area.sqft_living/sqft_lot'].str.split(\"\\ \",1).str\n",
    "#extract sqft_living and sqft_lot  \n",
    "df_house['sqft_living'].replace(regex=True,inplace=True,to_replace=r'[^\\d.]+',value=r'')\n",
    "\n",
    "#split room by '; '\n",
    "df_house['bathrooms'], df_house['bedrooms'] = df_house['rooms'].str.split(';', 1).str\n",
    "#extract bathrooms and bedrooms \n",
    "df_house['bathrooms'].replace(regex=True,inplace=True,to_replace=r'[^\\d.]+',value=r'')\n",
    "df_house['bedrooms'].replace(regex=True,inplace=True,to_replace=r'[^\\d.]+',value=r'')\n",
    "\n",
    "#show the first row\n",
    "df_house.head(1)"
   ]
  },
  {
   "cell_type": "code",
   "execution_count": 10,
   "metadata": {},
   "outputs": [
    {
     "data": {
      "text/html": [
       "<div>\n",
       "<style scoped>\n",
       "    .dataframe tbody tr th:only-of-type {\n",
       "        vertical-align: middle;\n",
       "    }\n",
       "\n",
       "    .dataframe tbody tr th {\n",
       "        vertical-align: top;\n",
       "    }\n",
       "\n",
       "    .dataframe thead th {\n",
       "        text-align: right;\n",
       "    }\n",
       "</style>\n",
       "<table border=\"1\" class=\"dataframe\">\n",
       "  <thead>\n",
       "    <tr style=\"text-align: right;\">\n",
       "      <th></th>\n",
       "      <th>area.sqft_above</th>\n",
       "      <th>area.sqft_basement</th>\n",
       "      <th>condition</th>\n",
       "      <th>date</th>\n",
       "      <th>floors</th>\n",
       "      <th>price</th>\n",
       "      <th>view</th>\n",
       "      <th>waterfront</th>\n",
       "      <th>yr_built</th>\n",
       "      <th>yr_renovated</th>\n",
       "      <th>street</th>\n",
       "      <th>city</th>\n",
       "      <th>statezip</th>\n",
       "      <th>country</th>\n",
       "      <th>sqft_living</th>\n",
       "      <th>sqft_lot</th>\n",
       "      <th>bathrooms</th>\n",
       "      <th>bedrooms</th>\n",
       "    </tr>\n",
       "  </thead>\n",
       "  <tbody>\n",
       "    <tr>\n",
       "      <th>0</th>\n",
       "      <td>1340</td>\n",
       "      <td>0</td>\n",
       "      <td>3</td>\n",
       "      <td>20140502T000000</td>\n",
       "      <td>1.5</td>\n",
       "      <td>313000.0</td>\n",
       "      <td>0</td>\n",
       "      <td>0</td>\n",
       "      <td>1955</td>\n",
       "      <td>NaN</td>\n",
       "      <td>18810 Densmore Ave N</td>\n",
       "      <td>Shoreline</td>\n",
       "      <td>WA 98133</td>\n",
       "      <td>USA</td>\n",
       "      <td>1340</td>\n",
       "      <td>7912</td>\n",
       "      <td>1.5</td>\n",
       "      <td>3</td>\n",
       "    </tr>\n",
       "  </tbody>\n",
       "</table>\n",
       "</div>"
      ],
      "text/plain": [
       "   area.sqft_above  area.sqft_basement  condition             date  floors  \\\n",
       "0             1340                   0          3  20140502T000000     1.5   \n",
       "\n",
       "      price  view  waterfront  yr_built  yr_renovated                street  \\\n",
       "0  313000.0     0           0      1955           NaN  18810 Densmore Ave N   \n",
       "\n",
       "        city  statezip country sqft_living sqft_lot bathrooms bedrooms  \n",
       "0  Shoreline  WA 98133     USA        1340     7912       1.5        3  "
      ]
     },
     "execution_count": 10,
     "metadata": {},
     "output_type": "execute_result"
    }
   ],
   "source": [
    "#remove original columns\n",
    "df_house.drop(['address','area.sqft_living/sqft_lot', 'rooms'], axis = 1, inplace = True)\n",
    "df_house.head(1)"
   ]
  },
  {
   "cell_type": "markdown",
   "metadata": {},
   "source": [
    "### 3. Integrate and reorder column names. Make dataframe looks more tidy."
   ]
  },
  {
   "cell_type": "code",
   "execution_count": 11,
   "metadata": {},
   "outputs": [
    {
     "data": {
      "text/html": [
       "<div>\n",
       "<style scoped>\n",
       "    .dataframe tbody tr th:only-of-type {\n",
       "        vertical-align: middle;\n",
       "    }\n",
       "\n",
       "    .dataframe tbody tr th {\n",
       "        vertical-align: top;\n",
       "    }\n",
       "\n",
       "    .dataframe thead th {\n",
       "        text-align: right;\n",
       "    }\n",
       "</style>\n",
       "<table border=\"1\" class=\"dataframe\">\n",
       "  <thead>\n",
       "    <tr style=\"text-align: right;\">\n",
       "      <th></th>\n",
       "      <th>date</th>\n",
       "      <th>price</th>\n",
       "      <th>bedrooms</th>\n",
       "      <th>bathrooms</th>\n",
       "      <th>sqft_living</th>\n",
       "      <th>sqft_lot</th>\n",
       "      <th>floors</th>\n",
       "      <th>waterfront</th>\n",
       "      <th>view</th>\n",
       "      <th>condition</th>\n",
       "      <th>sqft_above</th>\n",
       "      <th>sqft_basement</th>\n",
       "      <th>yr_built</th>\n",
       "      <th>yr_renovated</th>\n",
       "      <th>street</th>\n",
       "      <th>city</th>\n",
       "      <th>statezip</th>\n",
       "      <th>country</th>\n",
       "    </tr>\n",
       "  </thead>\n",
       "  <tbody>\n",
       "    <tr>\n",
       "      <th>0</th>\n",
       "      <td>20140502T000000</td>\n",
       "      <td>313000.0</td>\n",
       "      <td>3</td>\n",
       "      <td>1.5</td>\n",
       "      <td>1340</td>\n",
       "      <td>7912</td>\n",
       "      <td>1.5</td>\n",
       "      <td>0</td>\n",
       "      <td>0</td>\n",
       "      <td>3</td>\n",
       "      <td>1340</td>\n",
       "      <td>0</td>\n",
       "      <td>1955</td>\n",
       "      <td>NaN</td>\n",
       "      <td>18810 Densmore Ave N</td>\n",
       "      <td>Shoreline</td>\n",
       "      <td>WA 98133</td>\n",
       "      <td>USA</td>\n",
       "    </tr>\n",
       "  </tbody>\n",
       "</table>\n",
       "</div>"
      ],
      "text/plain": [
       "              date     price bedrooms bathrooms sqft_living sqft_lot  floors  \\\n",
       "0  20140502T000000  313000.0        3       1.5        1340     7912     1.5   \n",
       "\n",
       "   waterfront  view  condition  sqft_above  sqft_basement  yr_built  \\\n",
       "0           0     0          3        1340              0      1955   \n",
       "\n",
       "   yr_renovated                street       city  statezip country  \n",
       "0           NaN  18810 Densmore Ave N  Shoreline  WA 98133     USA  "
      ]
     },
     "execution_count": 11,
     "metadata": {},
     "output_type": "execute_result"
    }
   ],
   "source": [
    "#rename columns' name to corresponding table name required by question\n",
    "df_house.rename(columns={'area.sqft_above':'sqft_above'}, inplace=True)\n",
    "df_house.rename(columns={'area.sqft_basement':'sqft_basement'}, inplace=True)\n",
    "#reorder the columns\n",
    "df_house = df_house[['date', 'price', 'bedrooms', 'bathrooms', 'sqft_living','sqft_lot','floors','waterfront','view',\n",
    "                    'condition','sqft_above','sqft_basement','yr_built','yr_renovated','street','city','statezip','country']]\n",
    "\n",
    "df_house.head(1)"
   ]
  },
  {
   "cell_type": "markdown",
   "metadata": {},
   "source": [
    "### 4. Change data types"
   ]
  },
  {
   "cell_type": "code",
   "execution_count": 12,
   "metadata": {},
   "outputs": [
    {
     "data": {
      "text/html": [
       "<div>\n",
       "<style scoped>\n",
       "    .dataframe tbody tr th:only-of-type {\n",
       "        vertical-align: middle;\n",
       "    }\n",
       "\n",
       "    .dataframe tbody tr th {\n",
       "        vertical-align: top;\n",
       "    }\n",
       "\n",
       "    .dataframe thead th {\n",
       "        text-align: right;\n",
       "    }\n",
       "</style>\n",
       "<table border=\"1\" class=\"dataframe\">\n",
       "  <thead>\n",
       "    <tr style=\"text-align: right;\">\n",
       "      <th></th>\n",
       "      <th>date</th>\n",
       "      <th>price</th>\n",
       "      <th>bedrooms</th>\n",
       "      <th>bathrooms</th>\n",
       "      <th>sqft_living</th>\n",
       "      <th>sqft_lot</th>\n",
       "      <th>floors</th>\n",
       "      <th>waterfront</th>\n",
       "      <th>view</th>\n",
       "      <th>condition</th>\n",
       "      <th>sqft_above</th>\n",
       "      <th>sqft_basement</th>\n",
       "      <th>yr_built</th>\n",
       "      <th>yr_renovated</th>\n",
       "      <th>street</th>\n",
       "      <th>city</th>\n",
       "      <th>statezip</th>\n",
       "      <th>country</th>\n",
       "    </tr>\n",
       "  </thead>\n",
       "  <tbody>\n",
       "    <tr>\n",
       "      <th>0</th>\n",
       "      <td>20140502T000000</td>\n",
       "      <td>313000</td>\n",
       "      <td>3</td>\n",
       "      <td>1.5</td>\n",
       "      <td>1340</td>\n",
       "      <td>7912</td>\n",
       "      <td>1.5</td>\n",
       "      <td>0</td>\n",
       "      <td>0</td>\n",
       "      <td>3</td>\n",
       "      <td>1340</td>\n",
       "      <td>0</td>\n",
       "      <td>1955</td>\n",
       "      <td>NaN</td>\n",
       "      <td>18810 Densmore Ave N</td>\n",
       "      <td>Shoreline</td>\n",
       "      <td>WA 98133</td>\n",
       "      <td>USA</td>\n",
       "    </tr>\n",
       "  </tbody>\n",
       "</table>\n",
       "</div>"
      ],
      "text/plain": [
       "              date   price  bedrooms  bathrooms  sqft_living  sqft_lot  \\\n",
       "0  20140502T000000  313000         3        1.5         1340      7912   \n",
       "\n",
       "   floors  waterfront  view  condition  sqft_above  sqft_basement  yr_built  \\\n",
       "0     1.5           0     0          3        1340              0      1955   \n",
       "\n",
       "   yr_renovated                street       city  statezip country  \n",
       "0           NaN  18810 Densmore Ave N  Shoreline  WA 98133     USA  "
      ]
     },
     "execution_count": 12,
     "metadata": {},
     "output_type": "execute_result"
    }
   ],
   "source": [
    "#change data types\n",
    "df_house['price'] = df_house['price'].astype(int)\n",
    "df_house['bedrooms'] = df_house['bedrooms'].astype(int)\n",
    "df_house['bathrooms'] = df_house['bathrooms'].astype(float)\n",
    "df_house['sqft_living'] = df_house['sqft_living'].astype(int)\n",
    "df_house['sqft_lot'] = df_house['sqft_lot'].astype(int)\n",
    "df_house.head(1)"
   ]
  },
  {
   "cell_type": "markdown",
   "metadata": {},
   "source": [
    "****"
   ]
  },
  {
   "cell_type": "markdown",
   "metadata": {},
   "source": [
    "# Task 2. Auditing and cleansing the loaded data"
   ]
  },
  {
   "cell_type": "markdown",
   "metadata": {},
   "source": [
    "## General anaysis"
   ]
  },
  {
   "cell_type": "markdown",
   "metadata": {},
   "source": [
    "Let's see the value of attributes with numbers."
   ]
  },
  {
   "cell_type": "code",
   "execution_count": 13,
   "metadata": {},
   "outputs": [
    {
     "data": {
      "text/html": [
       "<div>\n",
       "<style scoped>\n",
       "    .dataframe tbody tr th:only-of-type {\n",
       "        vertical-align: middle;\n",
       "    }\n",
       "\n",
       "    .dataframe tbody tr th {\n",
       "        vertical-align: top;\n",
       "    }\n",
       "\n",
       "    .dataframe thead th {\n",
       "        text-align: right;\n",
       "    }\n",
       "</style>\n",
       "<table border=\"1\" class=\"dataframe\">\n",
       "  <thead>\n",
       "    <tr style=\"text-align: right;\">\n",
       "      <th></th>\n",
       "      <th>price</th>\n",
       "      <th>bedrooms</th>\n",
       "      <th>bathrooms</th>\n",
       "      <th>sqft_living</th>\n",
       "      <th>sqft_lot</th>\n",
       "      <th>floors</th>\n",
       "      <th>waterfront</th>\n",
       "      <th>view</th>\n",
       "      <th>condition</th>\n",
       "      <th>sqft_above</th>\n",
       "      <th>sqft_basement</th>\n",
       "      <th>yr_built</th>\n",
       "      <th>yr_renovated</th>\n",
       "    </tr>\n",
       "  </thead>\n",
       "  <tbody>\n",
       "    <tr>\n",
       "      <th>count</th>\n",
       "      <td>4.601000e+03</td>\n",
       "      <td>4601.000000</td>\n",
       "      <td>4601.000000</td>\n",
       "      <td>4601.000000</td>\n",
       "      <td>4.601000e+03</td>\n",
       "      <td>4601.000000</td>\n",
       "      <td>4601.000000</td>\n",
       "      <td>4601.000000</td>\n",
       "      <td>4601.000000</td>\n",
       "      <td>4601.000000</td>\n",
       "      <td>4601.000000</td>\n",
       "      <td>4601.000000</td>\n",
       "      <td>229.000000</td>\n",
       "    </tr>\n",
       "    <tr>\n",
       "      <th>mean</th>\n",
       "      <td>5.345240e+05</td>\n",
       "      <td>3.400782</td>\n",
       "      <td>2.160763</td>\n",
       "      <td>2139.218865</td>\n",
       "      <td>1.485157e+04</td>\n",
       "      <td>1.512171</td>\n",
       "      <td>0.007172</td>\n",
       "      <td>0.240600</td>\n",
       "      <td>3.451641</td>\n",
       "      <td>1827.448598</td>\n",
       "      <td>312.013693</td>\n",
       "      <td>1970.790263</td>\n",
       "      <td>1995.707424</td>\n",
       "    </tr>\n",
       "    <tr>\n",
       "      <th>std</th>\n",
       "      <td>5.716016e+05</td>\n",
       "      <td>0.908769</td>\n",
       "      <td>0.783810</td>\n",
       "      <td>963.087096</td>\n",
       "      <td>3.588059e+04</td>\n",
       "      <td>0.538278</td>\n",
       "      <td>0.084395</td>\n",
       "      <td>0.778328</td>\n",
       "      <td>0.677189</td>\n",
       "      <td>862.164780</td>\n",
       "      <td>464.109581</td>\n",
       "      <td>29.729829</td>\n",
       "      <td>18.590155</td>\n",
       "    </tr>\n",
       "    <tr>\n",
       "      <th>min</th>\n",
       "      <td>0.000000e+00</td>\n",
       "      <td>0.000000</td>\n",
       "      <td>0.000000</td>\n",
       "      <td>370.000000</td>\n",
       "      <td>6.380000e+02</td>\n",
       "      <td>1.000000</td>\n",
       "      <td>0.000000</td>\n",
       "      <td>0.000000</td>\n",
       "      <td>1.000000</td>\n",
       "      <td>370.000000</td>\n",
       "      <td>0.000000</td>\n",
       "      <td>1900.000000</td>\n",
       "      <td>1912.000000</td>\n",
       "    </tr>\n",
       "    <tr>\n",
       "      <th>25%</th>\n",
       "      <td>3.099500e+05</td>\n",
       "      <td>3.000000</td>\n",
       "      <td>1.750000</td>\n",
       "      <td>1460.000000</td>\n",
       "      <td>5.001000e+03</td>\n",
       "      <td>1.000000</td>\n",
       "      <td>0.000000</td>\n",
       "      <td>0.000000</td>\n",
       "      <td>3.000000</td>\n",
       "      <td>1190.000000</td>\n",
       "      <td>0.000000</td>\n",
       "      <td>1951.000000</td>\n",
       "      <td>1988.000000</td>\n",
       "    </tr>\n",
       "    <tr>\n",
       "      <th>50%</th>\n",
       "      <td>4.535000e+05</td>\n",
       "      <td>3.000000</td>\n",
       "      <td>2.250000</td>\n",
       "      <td>1980.000000</td>\n",
       "      <td>7.683000e+03</td>\n",
       "      <td>1.500000</td>\n",
       "      <td>0.000000</td>\n",
       "      <td>0.000000</td>\n",
       "      <td>3.000000</td>\n",
       "      <td>1590.000000</td>\n",
       "      <td>0.000000</td>\n",
       "      <td>1976.000000</td>\n",
       "      <td>2001.000000</td>\n",
       "    </tr>\n",
       "    <tr>\n",
       "      <th>75%</th>\n",
       "      <td>6.500000e+05</td>\n",
       "      <td>4.000000</td>\n",
       "      <td>2.500000</td>\n",
       "      <td>2620.000000</td>\n",
       "      <td>1.100000e+04</td>\n",
       "      <td>2.000000</td>\n",
       "      <td>0.000000</td>\n",
       "      <td>0.000000</td>\n",
       "      <td>4.000000</td>\n",
       "      <td>2300.000000</td>\n",
       "      <td>610.000000</td>\n",
       "      <td>1997.000000</td>\n",
       "      <td>2009.000000</td>\n",
       "    </tr>\n",
       "    <tr>\n",
       "      <th>max</th>\n",
       "      <td>2.659000e+07</td>\n",
       "      <td>9.000000</td>\n",
       "      <td>8.000000</td>\n",
       "      <td>13540.000000</td>\n",
       "      <td>1.074218e+06</td>\n",
       "      <td>3.500000</td>\n",
       "      <td>1.000000</td>\n",
       "      <td>4.000000</td>\n",
       "      <td>5.000000</td>\n",
       "      <td>9410.000000</td>\n",
       "      <td>4820.000000</td>\n",
       "      <td>2014.000000</td>\n",
       "      <td>2014.000000</td>\n",
       "    </tr>\n",
       "  </tbody>\n",
       "</table>\n",
       "</div>"
      ],
      "text/plain": [
       "              price     bedrooms    bathrooms   sqft_living      sqft_lot  \\\n",
       "count  4.601000e+03  4601.000000  4601.000000   4601.000000  4.601000e+03   \n",
       "mean   5.345240e+05     3.400782     2.160763   2139.218865  1.485157e+04   \n",
       "std    5.716016e+05     0.908769     0.783810    963.087096  3.588059e+04   \n",
       "min    0.000000e+00     0.000000     0.000000    370.000000  6.380000e+02   \n",
       "25%    3.099500e+05     3.000000     1.750000   1460.000000  5.001000e+03   \n",
       "50%    4.535000e+05     3.000000     2.250000   1980.000000  7.683000e+03   \n",
       "75%    6.500000e+05     4.000000     2.500000   2620.000000  1.100000e+04   \n",
       "max    2.659000e+07     9.000000     8.000000  13540.000000  1.074218e+06   \n",
       "\n",
       "            floors   waterfront         view    condition   sqft_above  \\\n",
       "count  4601.000000  4601.000000  4601.000000  4601.000000  4601.000000   \n",
       "mean      1.512171     0.007172     0.240600     3.451641  1827.448598   \n",
       "std       0.538278     0.084395     0.778328     0.677189   862.164780   \n",
       "min       1.000000     0.000000     0.000000     1.000000   370.000000   \n",
       "25%       1.000000     0.000000     0.000000     3.000000  1190.000000   \n",
       "50%       1.500000     0.000000     0.000000     3.000000  1590.000000   \n",
       "75%       2.000000     0.000000     0.000000     4.000000  2300.000000   \n",
       "max       3.500000     1.000000     4.000000     5.000000  9410.000000   \n",
       "\n",
       "       sqft_basement     yr_built  yr_renovated  \n",
       "count    4601.000000  4601.000000    229.000000  \n",
       "mean      312.013693  1970.790263   1995.707424  \n",
       "std       464.109581    29.729829     18.590155  \n",
       "min         0.000000  1900.000000   1912.000000  \n",
       "25%         0.000000  1951.000000   1988.000000  \n",
       "50%         0.000000  1976.000000   2001.000000  \n",
       "75%       610.000000  1997.000000   2009.000000  \n",
       "max      4820.000000  2014.000000   2014.000000  "
      ]
     },
     "execution_count": 13,
     "metadata": {},
     "output_type": "execute_result"
    }
   ],
   "source": [
    "df_house.describe()"
   ]
  },
  {
   "cell_type": "markdown",
   "metadata": {},
   "source": [
    "What the table above tells us:\n",
    "\n",
    "1. Each Column has 4601 data. yr_renovated has a lot of missing values\n",
    "2. For the column of price, standard deviation is relatively close to mean, which indicates individual price varies a lot, it might has outliers.\n",
    "3. We can see that minimum price is 0 and maximum price is 2.659x10^7, and mean is 5.34x10^7, which indicates that most of housing price are under the mean, the distribution of the price must be right skwed. \n",
    "4. For sqft_living, standard deviation is also close to mean. However, from its min and max, we can guess that the individual living area varies a lot.\n",
    "5. The mean of the condition is more than 3.45. It shows that most of properties have average-above conditions.\n",
    "6. Most of properties can not overlook the waterfront.\n",
    "7. The properties were built between the year of 1997 and the year of 2014\n"
   ]
  },
  {
   "cell_type": "markdown",
   "metadata": {},
   "source": [
    "Let's see the distribution of the categorical variables"
   ]
  },
  {
   "cell_type": "code",
   "execution_count": 14,
   "metadata": {},
   "outputs": [
    {
     "data": {
      "text/html": [
       "<div>\n",
       "<style scoped>\n",
       "    .dataframe tbody tr th:only-of-type {\n",
       "        vertical-align: middle;\n",
       "    }\n",
       "\n",
       "    .dataframe tbody tr th {\n",
       "        vertical-align: top;\n",
       "    }\n",
       "\n",
       "    .dataframe thead th {\n",
       "        text-align: right;\n",
       "    }\n",
       "</style>\n",
       "<table border=\"1\" class=\"dataframe\">\n",
       "  <thead>\n",
       "    <tr style=\"text-align: right;\">\n",
       "      <th></th>\n",
       "      <th>date</th>\n",
       "      <th>street</th>\n",
       "      <th>city</th>\n",
       "      <th>statezip</th>\n",
       "      <th>country</th>\n",
       "    </tr>\n",
       "  </thead>\n",
       "  <tbody>\n",
       "    <tr>\n",
       "      <th>count</th>\n",
       "      <td>4601</td>\n",
       "      <td>4601</td>\n",
       "      <td>4601</td>\n",
       "      <td>4601</td>\n",
       "      <td>4601</td>\n",
       "    </tr>\n",
       "    <tr>\n",
       "      <th>unique</th>\n",
       "      <td>72</td>\n",
       "      <td>4525</td>\n",
       "      <td>62</td>\n",
       "      <td>77</td>\n",
       "      <td>1</td>\n",
       "    </tr>\n",
       "    <tr>\n",
       "      <th>top</th>\n",
       "      <td>20140623T000000</td>\n",
       "      <td>2520 Mulberry Walk NE</td>\n",
       "      <td>Seattle</td>\n",
       "      <td>WA 98103</td>\n",
       "      <td>USA</td>\n",
       "    </tr>\n",
       "    <tr>\n",
       "      <th>freq</th>\n",
       "      <td>142</td>\n",
       "      <td>4</td>\n",
       "      <td>1569</td>\n",
       "      <td>148</td>\n",
       "      <td>4601</td>\n",
       "    </tr>\n",
       "  </tbody>\n",
       "</table>\n",
       "</div>"
      ],
      "text/plain": [
       "                   date                 street     city  statezip country\n",
       "count              4601                   4601     4601      4601    4601\n",
       "unique               72                   4525       62        77       1\n",
       "top     20140623T000000  2520 Mulberry Walk NE  Seattle  WA 98103     USA\n",
       "freq                142                      4     1569       148    4601"
      ]
     },
     "execution_count": 14,
     "metadata": {},
     "output_type": "execute_result"
    }
   ],
   "source": [
    "df_house.describe(include=['O'])"
   ]
  },
  {
   "cell_type": "markdown",
   "metadata": {},
   "source": [
    "What the table above tells us:\n",
    "\n",
    "1. 142 properties have been sold at the same day\n",
    "2. Aboout 80 properties (4601-4525) have been sold more than twice\n",
    "3. Seattle is the most popular city for property sales\n",
    "4. WA 98103 in the Seattle is the most popular area for property sales, with 148 sales in total\n",
    "5. We can make sure that no other country are included in the dataset"
   ]
  },
  {
   "cell_type": "markdown",
   "metadata": {
    "collapsed": true
   },
   "source": [
    "## Checking irregularities"
   ]
  },
  {
   "cell_type": "markdown",
   "metadata": {},
   "source": [
    "#### Checking irregularity of bathrooms"
   ]
  },
  {
   "cell_type": "code",
   "execution_count": 15,
   "metadata": {},
   "outputs": [
    {
     "data": {
      "text/plain": [
       "array([1.5 , 2.5 , 2.  , 2.25, 1.  , 1.75, 2.75, 3.  , 3.25, 3.5 , 8.  ,\n",
       "       4.25, 4.  , 3.75, 5.  , 4.5 , 5.75, 1.25, 6.5 , 4.75, 0.75, 5.25,\n",
       "       5.5 , 6.25, 0.  , 6.75, 1.05, 2.55, 2.57, 2.3 , 1.7 ])"
      ]
     },
     "execution_count": 15,
     "metadata": {},
     "output_type": "execute_result"
    }
   ],
   "source": [
    "df_house.bathrooms.unique()"
   ]
  },
  {
   "cell_type": "markdown",
   "metadata": {
    "collapsed": true
   },
   "source": [
    "From the unique bathrooms above, there are some strange numbers which do not end with .25, .5 or .75, such as 1.05, 2.55, 2.57, 2.3 and 1.7. These have no meanings in the dataset. I round them to the nearest 0.25."
   ]
  },
  {
   "cell_type": "code",
   "execution_count": 16,
   "metadata": {},
   "outputs": [],
   "source": [
    "bathroom_list=[]\n",
    "for each in df_house.bathrooms:\n",
    "    #rounding by quarter-intervals\n",
    "    each=round(each*4)/4\n",
    "    bathroom_list.append(each)\n",
    "df_house['bathrooms']=bathroom_list"
   ]
  },
  {
   "cell_type": "markdown",
   "metadata": {},
   "source": [
    "Now the unique number of bathrooms should be:"
   ]
  },
  {
   "cell_type": "code",
   "execution_count": 17,
   "metadata": {},
   "outputs": [
    {
     "data": {
      "text/plain": [
       "array([1.5 , 2.5 , 2.  , 2.25, 1.  , 1.75, 2.75, 3.  , 3.25, 3.5 , 8.  ,\n",
       "       4.25, 4.  , 3.75, 5.  , 4.5 , 5.75, 1.25, 6.5 , 4.75, 0.75, 5.25,\n",
       "       5.5 , 6.25, 0.  , 6.75])"
      ]
     },
     "execution_count": 17,
     "metadata": {},
     "output_type": "execute_result"
    }
   ],
   "source": [
    "df_house.bathrooms.unique()"
   ]
  },
  {
   "cell_type": "markdown",
   "metadata": {},
   "source": [
    "#### Checking irregularity of bedrooms "
   ]
  },
  {
   "cell_type": "code",
   "execution_count": 18,
   "metadata": {},
   "outputs": [
    {
     "data": {
      "text/plain": [
       "array([3, 5, 4, 2, 6, 7, 9, 1, 8, 0], dtype=int64)"
      ]
     },
     "execution_count": 18,
     "metadata": {},
     "output_type": "execute_result"
    }
   ],
   "source": [
    "df_house.bedrooms.unique()"
   ]
  },
  {
   "cell_type": "markdown",
   "metadata": {},
   "source": [
    "Bedrooms looks good and make sense. The maximum number of bedrooms is 8 and the minimum is 0."
   ]
  },
  {
   "cell_type": "markdown",
   "metadata": {},
   "source": [
    "#### Checking irregularity of views"
   ]
  },
  {
   "cell_type": "code",
   "execution_count": 19,
   "metadata": {},
   "outputs": [
    {
     "data": {
      "text/plain": [
       "array([0, 4, 1, 2, 3], dtype=int64)"
      ]
     },
     "execution_count": 19,
     "metadata": {},
     "output_type": "execute_result"
    }
   ],
   "source": [
    "df_house.view.unique()"
   ]
  },
  {
   "cell_type": "markdown",
   "metadata": {},
   "source": [
    "Views looks good and its integers are between 0 and 4."
   ]
  },
  {
   "cell_type": "markdown",
   "metadata": {},
   "source": [
    "#### Checking irregularity of condition"
   ]
  },
  {
   "cell_type": "code",
   "execution_count": 20,
   "metadata": {},
   "outputs": [
    {
     "data": {
      "text/plain": [
       "array([3, 5, 4, 2, 1], dtype=int64)"
      ]
     },
     "execution_count": 20,
     "metadata": {},
     "output_type": "execute_result"
    }
   ],
   "source": [
    "df_house.condition.unique()"
   ]
  },
  {
   "cell_type": "markdown",
   "metadata": {},
   "source": [
    "Condition of property looks good and numbers are from 1 to 5."
   ]
  },
  {
   "cell_type": "markdown",
   "metadata": {},
   "source": [
    "#### Checking irregularity of yr_renovated"
   ]
  },
  {
   "cell_type": "code",
   "execution_count": 21,
   "metadata": {},
   "outputs": [
    {
     "data": {
      "text/plain": [
       "array([  nan, 1994., 1954., 2011., 1998., 1958., 1992., 2005., 1986.,\n",
       "       2013., 2014., 2002., 2001., 1990., 1956., 1984., 2003., 2010.,\n",
       "       2000., 1996., 2007., 1970., 1983., 1981., 1971., 1988., 1999.,\n",
       "       2009., 1995., 1969., 1997., 1989., 1982., 2006., 1985., 1993.,\n",
       "       1953., 1955., 1979., 1987., 1960., 1934., 1945., 2008., 1980.,\n",
       "       2012., 1972., 1948., 1978., 2004., 1968., 1991., 1974., 1913.,\n",
       "       1912., 1923., 1977., 1975.])"
      ]
     },
     "execution_count": 21,
     "metadata": {},
     "output_type": "execute_result"
    }
   ],
   "source": [
    "df_house.yr_renovated.unique()"
   ]
  },
  {
   "cell_type": "markdown",
   "metadata": {},
   "source": [
    "In addition to NaN values, the year looks normal."
   ]
  },
  {
   "cell_type": "markdown",
   "metadata": {},
   "source": [
    "#### Checking irregularity of statezip"
   ]
  },
  {
   "cell_type": "code",
   "execution_count": 22,
   "metadata": {},
   "outputs": [
    {
     "data": {
      "text/plain": [
       "array([u'WA 98133', u'WA 98119', u'WA 98042', u'WA 98008', u'WA 98052',\n",
       "       u'WA 98115', u'WA 98038', u'WA 98045', u'WA 98155', u'WA 98105',\n",
       "       u'WA 98074', u'WA 98106', u'WA 98007', u'WA 98092', u'WA 98198',\n",
       "       u'WA 98006', u'WA 98102', u'WA 98011', u'WA 98125', u'WA 98003',\n",
       "       u'WA 98136', u'WA 98033', u'WA 98029', u'WA 98117', u'WA 98034',\n",
       "       u'WA 98072', u'WA 98023', u'WA 98107', u'WA 98166', u'WA 98116',\n",
       "       u'WA 98024', u'WA 98055', u'WA 98077', u'WA 98027', u'WA 98059',\n",
       "       u'WA 98075', u'WA 98014', u'WA 98065', u'WA 98199', u'WA 98053',\n",
       "       u'WA 98058', u'WA 98122', u'WA 98103', u'WA 98112', u'WA 98005',\n",
       "       u'WA 98118', u'WA 98177', u'WA 98004', u'WA 98019', u'WA 98144',\n",
       "       u'WA 98168', u'WA 98001', u'WA 98056', u'WA 98146', u'WA 98028',\n",
       "       u'WA 98148', u'WA 98057', u'WA 98040', u'WA 98010', u'WA 98051',\n",
       "       u'WA 98031', u'WA 98109', u'WA 98030', u'WA 98126', u'WA 98032',\n",
       "       u'WA 98178', u'WA 98288', u'WA 98108', u'WA 98070', u'WA 98188',\n",
       "       u'WA 98002', u'WA 98039', u'WA 98022', u'WA 98068', u'WA 98047',\n",
       "       u'WA 98050', u'WA 98354'], dtype=object)"
      ]
     },
     "execution_count": 22,
     "metadata": {},
     "output_type": "execute_result"
    }
   ],
   "source": [
    "df_house.statezip.unique()"
   ]
  },
  {
   "cell_type": "markdown",
   "metadata": {},
   "source": [
    "Statezips looks normal, and it does not have abnormal format such as WA qj922."
   ]
  },
  {
   "cell_type": "markdown",
   "metadata": {},
   "source": [
    "#### Checking irregularity of floors"
   ]
  },
  {
   "cell_type": "code",
   "execution_count": 23,
   "metadata": {},
   "outputs": [
    {
     "data": {
      "text/plain": [
       "array([1.5, 2. , 1. , 2.5, 3. , 3.5])"
      ]
     },
     "execution_count": 23,
     "metadata": {},
     "output_type": "execute_result"
    }
   ],
   "source": [
    "df_house.floors.unique()"
   ]
  },
  {
   "cell_type": "markdown",
   "metadata": {},
   "source": [
    "The minimum floor is 1, and the reason why it has decimals here is that it mighe be some of the houses which have a mezzanine or an attic, and some of them might be built on a slope."
   ]
  },
  {
   "cell_type": "markdown",
   "metadata": {},
   "source": [
    "****"
   ]
  },
  {
   "cell_type": "markdown",
   "metadata": {},
   "source": [
    "## Checking lexical errors\n",
    "Typo is the most common error particularly when the data entry process involves human. We use 'value_counts()' function to check if there are some unique typos."
   ]
  },
  {
   "cell_type": "markdown",
   "metadata": {},
   "source": [
    "#### Checking date attribute"
   ]
  },
  {
   "cell_type": "code",
   "execution_count": 25,
   "metadata": {
    "scrolled": true
   },
   "outputs": [
    {
     "data": {
      "text/plain": [
       "20140704T000000    2\n",
       "20140511T000000    2\n",
       "23052014T000000    1\n",
       "20140517T000000    1\n",
       "20140631T000000    1\n",
       "Name: date, dtype: int64"
      ]
     },
     "execution_count": 25,
     "metadata": {},
     "output_type": "execute_result"
    }
   ],
   "source": [
    "df_house.date.value_counts().tail(5) "
   ]
  },
  {
   "cell_type": "markdown",
   "metadata": {},
   "source": [
    "The output above shows that \n",
    "* typo \n",
    "    * 23052014T000000\n",
    "    \n",
    "Now showing the typo row of date:"
   ]
  },
  {
   "cell_type": "code",
   "execution_count": 26,
   "metadata": {},
   "outputs": [
    {
     "data": {
      "text/html": [
       "<div>\n",
       "<style scoped>\n",
       "    .dataframe tbody tr th:only-of-type {\n",
       "        vertical-align: middle;\n",
       "    }\n",
       "\n",
       "    .dataframe tbody tr th {\n",
       "        vertical-align: top;\n",
       "    }\n",
       "\n",
       "    .dataframe thead th {\n",
       "        text-align: right;\n",
       "    }\n",
       "</style>\n",
       "<table border=\"1\" class=\"dataframe\">\n",
       "  <thead>\n",
       "    <tr style=\"text-align: right;\">\n",
       "      <th></th>\n",
       "      <th>date</th>\n",
       "      <th>price</th>\n",
       "      <th>bedrooms</th>\n",
       "      <th>bathrooms</th>\n",
       "      <th>sqft_living</th>\n",
       "      <th>sqft_lot</th>\n",
       "      <th>floors</th>\n",
       "      <th>waterfront</th>\n",
       "      <th>view</th>\n",
       "      <th>condition</th>\n",
       "      <th>sqft_above</th>\n",
       "      <th>sqft_basement</th>\n",
       "      <th>yr_built</th>\n",
       "      <th>yr_renovated</th>\n",
       "      <th>street</th>\n",
       "      <th>city</th>\n",
       "      <th>statezip</th>\n",
       "      <th>country</th>\n",
       "    </tr>\n",
       "  </thead>\n",
       "  <tbody>\n",
       "    <tr>\n",
       "      <th>4335</th>\n",
       "      <td>23052014T000000</td>\n",
       "      <td>505000</td>\n",
       "      <td>3</td>\n",
       "      <td>2.25</td>\n",
       "      <td>1670</td>\n",
       "      <td>1596</td>\n",
       "      <td>2.0</td>\n",
       "      <td>0</td>\n",
       "      <td>0</td>\n",
       "      <td>3</td>\n",
       "      <td>1220</td>\n",
       "      <td>450</td>\n",
       "      <td>2002</td>\n",
       "      <td>NaN</td>\n",
       "      <td>3019 30th Ave W</td>\n",
       "      <td>Seattle</td>\n",
       "      <td>WA 98199</td>\n",
       "      <td>USA</td>\n",
       "    </tr>\n",
       "  </tbody>\n",
       "</table>\n",
       "</div>"
      ],
      "text/plain": [
       "                 date   price  bedrooms  bathrooms  sqft_living  sqft_lot  \\\n",
       "4335  23052014T000000  505000         3       2.25         1670      1596   \n",
       "\n",
       "      floors  waterfront  view  condition  sqft_above  sqft_basement  \\\n",
       "4335     2.0           0     0          3        1220            450   \n",
       "\n",
       "      yr_built  yr_renovated           street     city  statezip country  \n",
       "4335      2002           NaN  3019 30th Ave W  Seattle  WA 98199     USA  "
      ]
     },
     "execution_count": 26,
     "metadata": {},
     "output_type": "execute_result"
    }
   ],
   "source": [
    "df_house[df_house['date']=='23052014T000000']"
   ]
  },
  {
   "cell_type": "markdown",
   "metadata": {},
   "source": [
    "The format should be 'YearMonthDay', but here it is written as 'DayMonthYear'."
   ]
  },
  {
   "cell_type": "code",
   "execution_count": 27,
   "metadata": {},
   "outputs": [],
   "source": [
    "#replace to correct one\n",
    "df_house.date.replace({\"23052014T000000\": \"20140523T000000\"}, inplace=True)"
   ]
  },
  {
   "cell_type": "markdown",
   "metadata": {},
   "source": [
    "In data wrangling, date is supposed to be in date format. Let's change it to the format it should be."
   ]
  },
  {
   "cell_type": "code",
   "execution_count": 28,
   "metadata": {},
   "outputs": [],
   "source": [
    "#remove 'T000000'\n",
    "df_house['date'] = df_house.date.str.replace('T000000' , '')"
   ]
  },
  {
   "cell_type": "markdown",
   "metadata": {},
   "source": [
    "Finding other errors in date"
   ]
  },
  {
   "cell_type": "code",
   "execution_count": 29,
   "metadata": {
    "scrolled": true
   },
   "outputs": [
    {
     "data": {
      "text/html": [
       "<div>\n",
       "<style scoped>\n",
       "    .dataframe tbody tr th:only-of-type {\n",
       "        vertical-align: middle;\n",
       "    }\n",
       "\n",
       "    .dataframe tbody tr th {\n",
       "        vertical-align: top;\n",
       "    }\n",
       "\n",
       "    .dataframe thead th {\n",
       "        text-align: right;\n",
       "    }\n",
       "</style>\n",
       "<table border=\"1\" class=\"dataframe\">\n",
       "  <thead>\n",
       "    <tr style=\"text-align: right;\">\n",
       "      <th></th>\n",
       "      <th>date</th>\n",
       "      <th>price</th>\n",
       "      <th>bedrooms</th>\n",
       "      <th>bathrooms</th>\n",
       "      <th>sqft_living</th>\n",
       "      <th>sqft_lot</th>\n",
       "      <th>floors</th>\n",
       "      <th>waterfront</th>\n",
       "      <th>view</th>\n",
       "      <th>condition</th>\n",
       "      <th>sqft_above</th>\n",
       "      <th>sqft_basement</th>\n",
       "      <th>yr_built</th>\n",
       "      <th>yr_renovated</th>\n",
       "      <th>street</th>\n",
       "      <th>city</th>\n",
       "      <th>statezip</th>\n",
       "      <th>country</th>\n",
       "    </tr>\n",
       "  </thead>\n",
       "  <tbody>\n",
       "    <tr>\n",
       "      <th>4334</th>\n",
       "      <td>20140631</td>\n",
       "      <td>248000</td>\n",
       "      <td>3</td>\n",
       "      <td>1.0</td>\n",
       "      <td>950</td>\n",
       "      <td>9400</td>\n",
       "      <td>1.0</td>\n",
       "      <td>0</td>\n",
       "      <td>0</td>\n",
       "      <td>4</td>\n",
       "      <td>950</td>\n",
       "      <td>0</td>\n",
       "      <td>1954</td>\n",
       "      <td>NaN</td>\n",
       "      <td>3920 153rd Ave SE</td>\n",
       "      <td>Bellevue</td>\n",
       "      <td>WA 98006</td>\n",
       "      <td>USA</td>\n",
       "    </tr>\n",
       "  </tbody>\n",
       "</table>\n",
       "</div>"
      ],
      "text/plain": [
       "          date   price  bedrooms  bathrooms  sqft_living  sqft_lot  floors  \\\n",
       "4334  20140631  248000         3        1.0          950      9400     1.0   \n",
       "\n",
       "      waterfront  view  condition  sqft_above  sqft_basement  yr_built  \\\n",
       "4334           0     0          4         950              0      1954   \n",
       "\n",
       "      yr_renovated             street      city  statezip country  \n",
       "4334           NaN  3920 153rd Ave SE  Bellevue  WA 98006     USA  "
      ]
     },
     "execution_count": 29,
     "metadata": {},
     "output_type": "execute_result"
    }
   ],
   "source": [
    "#use regular expression to check whether there are other errors in date\n",
    "regex = r'''(?x)\n",
    "    # Year\n",
    "    (?:(?:(?:\\d{2})?\\d{2})\n",
    "    #30-day months\n",
    "    (?:(?:(?:0[469]|11)(?:30|[12][0-9]|0[1-9]))|\n",
    "    #31-day months\n",
    "    (?:(?:0[13578]|1[02])(?:3[01]|[12][0-9]|0[1-9]))|\n",
    "    #February (29 days every year)\n",
    "    (?:(?:0?2)(?:[12][0-9]|0?[1-9]))))\n",
    "'''\n",
    "\n",
    "df_house[~df_house[\"date\"].str.match(regex)]"
   ]
  },
  {
   "cell_type": "markdown",
   "metadata": {},
   "source": [
    "There is no 31st day on June, so this date might be a typo. It should be 30th instead. The correction step is shown in the next step."
   ]
  },
  {
   "cell_type": "code",
   "execution_count": 30,
   "metadata": {},
   "outputs": [],
   "source": [
    "#replace 20140631 with 20140630\n",
    "df_house.date.replace({'20140631':'20140630'}, inplace=True)"
   ]
  },
  {
   "cell_type": "markdown",
   "metadata": {},
   "source": [
    "Here we switch string to date format."
   ]
  },
  {
   "cell_type": "code",
   "execution_count": 31,
   "metadata": {},
   "outputs": [],
   "source": [
    "#change the datetime format\n",
    "df_house['date']= pd.to_datetime(df_house['date'])"
   ]
  },
  {
   "cell_type": "markdown",
   "metadata": {},
   "source": [
    "#### Checking lexical errors of city attribute"
   ]
  },
  {
   "cell_type": "code",
   "execution_count": 32,
   "metadata": {
    "scrolled": true
   },
   "outputs": [
    {
     "data": {
      "text/plain": [
       "Snoqualmie Pass    1\n",
       "Bellvue            1\n",
       "Coronation         1\n",
       "Sureline           1\n",
       "Auburnt            1\n",
       "Name: city, dtype: int64"
      ]
     },
     "execution_count": 32,
     "metadata": {},
     "output_type": "execute_result"
    }
   ],
   "source": [
    "df_house.city.value_counts().tail(5)"
   ]
  },
  {
   "cell_type": "markdown",
   "metadata": {},
   "source": [
    "We should check the cities which not only appear once, but also more than once but no more than 10 times.\n",
    "\n",
    "The errors show that \n",
    "* typos & Inconsistent spelling\n",
    "        'Sureline':'Shoreline', \n",
    "        'Seatle':'Seattle','seattle':'Seattle', 'Seaattle':'Seattle', \n",
    "        \"redmond\":\"Redmond\",\"Redmund\":\"Redmond\",\"Redmonde\":\"Redmond\",\n",
    "        'Samamish':'Sammamish', 'sammamish':'Sammamish',\n",
    "        'Auburnt':'Auburn', \"auburn\": \"Auburn\",\n",
    "        'Bellvue':'Bellevue', 'Belleview':'Bellevue',\n",
    "        \"Snogualmie\":\"Snoqualmie\",\n",
    "        \"Kirklund\":\"Kirkland\",\n",
    "        \"Woodenville\":\"Woodinville\",\n",
    "        \"Coronation\":\"Carnation\",\n",
    "        \"Issaguah\": \"Issaquah\",\n",
    "\n",
    "From wikipedia website, Beaux Arts Village, Inglewood-Finn Hill, and Snoqualmie Pass are cities of USA, so we keep thoses cities in the table temporarily. The rest and inconsistent <font color=\"blue\">18</font> cities are replaced with the correct ones."
   ]
  },
  {
   "cell_type": "code",
   "execution_count": 33,
   "metadata": {
    "scrolled": true
   },
   "outputs": [
    {
     "data": {
      "text/plain": [
       "array([u'Shoreline', u'Seattle', u'Kent', u'Bellevue', u'Redmond',\n",
       "       u'Maple Valley', u'North Bend', u'Lake Forest Park', u'Sammamish',\n",
       "       u'Auburn', u'Des Moines', u'Bothell', u'Federal Way', u'Kirkland',\n",
       "       u'Issaquah', u'Woodinville', u'Normandy Park', u'Fall City',\n",
       "       u'Renton', u'Carnation', u'Snoqualmie', u'Duvall', u'Burien',\n",
       "       u'Covington', u'Inglewood-Finn Hill', u'Kenmore', u'Newcastle',\n",
       "       u'Mercer Island', u'Black Diamond', u'Ravensdale', u'Clyde Hill',\n",
       "       u'Algona', u'Skykomish', u'Tukwila', u'Vashon', u'Yarrow Point',\n",
       "       u'SeaTac', u'Medina', u'Enumclaw', u'Snoqualmie Pass', u'Pacific',\n",
       "       u'Beaux Arts Village', u'Preston', u'Milton', u'seattle',\n",
       "       u'Woodenville', u'Seatle', u'Seaattle', u'Redmund', u'Belleview',\n",
       "       u'Bellvue', u'Samamish', u'Sureline', u'Kirklund', u'Auburnt',\n",
       "       u'Snogualmie', u'Issaguah', u'Redmonde', u'Coronation', u'auburn',\n",
       "       u'redmond', u'sammamish'], dtype=object)"
      ]
     },
     "execution_count": 33,
     "metadata": {},
     "output_type": "execute_result"
    }
   ],
   "source": [
    "df_house.city.unique()"
   ]
  },
  {
   "cell_type": "markdown",
   "metadata": {},
   "source": [
    "The assumption I made here is that it is less likely to have such large amount of wrong spellings."
   ]
  },
  {
   "cell_type": "code",
   "execution_count": 33,
   "metadata": {},
   "outputs": [],
   "source": [
    "#replace with the correct spelling\n",
    "df_house.city.replace({'Sureline':'Shoreline', \n",
    "                       'Seatle':'Seattle','seattle':'Seattle', 'Seaattle':'Seattle', \n",
    "                       \"redmond\":\"Redmond\",\"Redmund\":\"Redmond\",\"Redmonde\":\"Redmond\",\n",
    "                       'Samamish':'Sammamish', 'sammamish':'Sammamish',\n",
    "                       'Auburnt':'Auburn', \"auburn\": \"Auburn\",\n",
    "                       'Bellvue':'Bellevue', 'Belleview':'Bellevue',\n",
    "                       \"Snogualmie\":\"Snoqualmie\",\n",
    "                       \"Kirklund\":\"Kirkland\",\n",
    "                       \"Woodenville\":\"Woodinville\",\n",
    "                       \"Coronation\":\"Carnation\",\n",
    "                       \"Issaguah\": \"Issaquah\" }, inplace=True)"
   ]
  },
  {
   "cell_type": "code",
   "execution_count": 34,
   "metadata": {
    "scrolled": true
   },
   "outputs": [
    {
     "data": {
      "text/plain": [
       "Milton                 2\n",
       "Preston                2\n",
       "Beaux Arts Village     1\n",
       "Inglewood-Finn Hill    1\n",
       "Snoqualmie Pass        1\n",
       "Name: city, dtype: int64"
      ]
     },
     "execution_count": 34,
     "metadata": {},
     "output_type": "execute_result"
    }
   ],
   "source": [
    "df_house.city.value_counts().tail(5)"
   ]
  },
  {
   "cell_type": "markdown",
   "metadata": {},
   "source": [
    "Now let's check the cities and its corresponding statezips. "
   ]
  },
  {
   "cell_type": "code",
   "execution_count": 35,
   "metadata": {},
   "outputs": [
    {
     "data": {
      "text/html": [
       "<div>\n",
       "<style scoped>\n",
       "    .dataframe tbody tr th:only-of-type {\n",
       "        vertical-align: middle;\n",
       "    }\n",
       "\n",
       "    .dataframe tbody tr th {\n",
       "        vertical-align: top;\n",
       "    }\n",
       "\n",
       "    .dataframe thead th {\n",
       "        text-align: right;\n",
       "    }\n",
       "</style>\n",
       "<table border=\"1\" class=\"dataframe\">\n",
       "  <thead>\n",
       "    <tr style=\"text-align: right;\">\n",
       "      <th></th>\n",
       "      <th>date</th>\n",
       "      <th>price</th>\n",
       "      <th>bedrooms</th>\n",
       "      <th>bathrooms</th>\n",
       "      <th>sqft_living</th>\n",
       "      <th>sqft_lot</th>\n",
       "      <th>floors</th>\n",
       "      <th>waterfront</th>\n",
       "      <th>view</th>\n",
       "      <th>condition</th>\n",
       "      <th>sqft_above</th>\n",
       "      <th>sqft_basement</th>\n",
       "      <th>yr_built</th>\n",
       "      <th>yr_renovated</th>\n",
       "      <th>street</th>\n",
       "      <th>city</th>\n",
       "      <th>statezip</th>\n",
       "      <th>country</th>\n",
       "    </tr>\n",
       "  </thead>\n",
       "  <tbody>\n",
       "    <tr>\n",
       "      <th>1476</th>\n",
       "      <td>2014-05-28</td>\n",
       "      <td>745000</td>\n",
       "      <td>3</td>\n",
       "      <td>1.75</td>\n",
       "      <td>1490</td>\n",
       "      <td>9800</td>\n",
       "      <td>1.0</td>\n",
       "      <td>0</td>\n",
       "      <td>0</td>\n",
       "      <td>4</td>\n",
       "      <td>1140</td>\n",
       "      <td>350</td>\n",
       "      <td>1947</td>\n",
       "      <td>NaN</td>\n",
       "      <td>10637 SE 29th St</td>\n",
       "      <td>Beaux Arts Village</td>\n",
       "      <td>WA 98004</td>\n",
       "      <td>USA</td>\n",
       "    </tr>\n",
       "  </tbody>\n",
       "</table>\n",
       "</div>"
      ],
      "text/plain": [
       "           date   price  bedrooms  bathrooms  sqft_living  sqft_lot  floors  \\\n",
       "1476 2014-05-28  745000         3       1.75         1490      9800     1.0   \n",
       "\n",
       "      waterfront  view  condition  sqft_above  sqft_basement  yr_built  \\\n",
       "1476           0     0          4        1140            350      1947   \n",
       "\n",
       "      yr_renovated            street                city  statezip country  \n",
       "1476           NaN  10637 SE 29th St  Beaux Arts Village  WA 98004     USA  "
      ]
     },
     "execution_count": 35,
     "metadata": {},
     "output_type": "execute_result"
    }
   ],
   "source": [
    "df_house[df_house.city==\"Beaux Arts Village\"]"
   ]
  },
  {
   "cell_type": "markdown",
   "metadata": {},
   "source": [
    "We can see that this area's statezip is 'WA 98004', but from the data below, is it impossible that Beaux Arts Village and other areas have the same statezip?\n"
   ]
  },
  {
   "cell_type": "code",
   "execution_count": 36,
   "metadata": {},
   "outputs": [
    {
     "data": {
      "text/html": [
       "<div>\n",
       "<style scoped>\n",
       "    .dataframe tbody tr th:only-of-type {\n",
       "        vertical-align: middle;\n",
       "    }\n",
       "\n",
       "    .dataframe tbody tr th {\n",
       "        vertical-align: top;\n",
       "    }\n",
       "\n",
       "    .dataframe thead th {\n",
       "        text-align: right;\n",
       "    }\n",
       "</style>\n",
       "<table border=\"1\" class=\"dataframe\">\n",
       "  <thead>\n",
       "    <tr style=\"text-align: right;\">\n",
       "      <th></th>\n",
       "      <th>date</th>\n",
       "      <th>price</th>\n",
       "      <th>bedrooms</th>\n",
       "      <th>bathrooms</th>\n",
       "      <th>sqft_living</th>\n",
       "      <th>sqft_lot</th>\n",
       "      <th>floors</th>\n",
       "      <th>waterfront</th>\n",
       "      <th>view</th>\n",
       "      <th>condition</th>\n",
       "      <th>sqft_above</th>\n",
       "      <th>sqft_basement</th>\n",
       "      <th>yr_built</th>\n",
       "      <th>yr_renovated</th>\n",
       "      <th>street</th>\n",
       "      <th>city</th>\n",
       "      <th>statezip</th>\n",
       "      <th>country</th>\n",
       "    </tr>\n",
       "  </thead>\n",
       "  <tbody>\n",
       "    <tr>\n",
       "      <th>102</th>\n",
       "      <td>2014-05-05</td>\n",
       "      <td>787000</td>\n",
       "      <td>3</td>\n",
       "      <td>1.75</td>\n",
       "      <td>1330</td>\n",
       "      <td>7500</td>\n",
       "      <td>1.0</td>\n",
       "      <td>0</td>\n",
       "      <td>0</td>\n",
       "      <td>3</td>\n",
       "      <td>1330</td>\n",
       "      <td>0</td>\n",
       "      <td>1961</td>\n",
       "      <td>NaN</td>\n",
       "      <td>218 109th Ave SE</td>\n",
       "      <td>Bellevue</td>\n",
       "      <td>WA 98004</td>\n",
       "      <td>USA</td>\n",
       "    </tr>\n",
       "    <tr>\n",
       "      <th>227</th>\n",
       "      <td>2014-05-06</td>\n",
       "      <td>1800000</td>\n",
       "      <td>5</td>\n",
       "      <td>5.00</td>\n",
       "      <td>4490</td>\n",
       "      <td>10279</td>\n",
       "      <td>2.0</td>\n",
       "      <td>0</td>\n",
       "      <td>0</td>\n",
       "      <td>3</td>\n",
       "      <td>3930</td>\n",
       "      <td>560</td>\n",
       "      <td>2013</td>\n",
       "      <td>NaN</td>\n",
       "      <td>1435 104th Ave SE</td>\n",
       "      <td>Bellevue</td>\n",
       "      <td>WA 98004</td>\n",
       "      <td>USA</td>\n",
       "    </tr>\n",
       "    <tr>\n",
       "      <th>273</th>\n",
       "      <td>2014-05-07</td>\n",
       "      <td>1110000</td>\n",
       "      <td>4</td>\n",
       "      <td>1.50</td>\n",
       "      <td>2310</td>\n",
       "      <td>13300</td>\n",
       "      <td>1.0</td>\n",
       "      <td>0</td>\n",
       "      <td>0</td>\n",
       "      <td>3</td>\n",
       "      <td>1890</td>\n",
       "      <td>420</td>\n",
       "      <td>1950</td>\n",
       "      <td>NaN</td>\n",
       "      <td>9724 NE 14th St</td>\n",
       "      <td>Clyde Hill</td>\n",
       "      <td>WA 98004</td>\n",
       "      <td>USA</td>\n",
       "    </tr>\n",
       "  </tbody>\n",
       "</table>\n",
       "</div>"
      ],
      "text/plain": [
       "          date    price  bedrooms  bathrooms  sqft_living  sqft_lot  floors  \\\n",
       "102 2014-05-05   787000         3       1.75         1330      7500     1.0   \n",
       "227 2014-05-06  1800000         5       5.00         4490     10279     2.0   \n",
       "273 2014-05-07  1110000         4       1.50         2310     13300     1.0   \n",
       "\n",
       "     waterfront  view  condition  sqft_above  sqft_basement  yr_built  \\\n",
       "102           0     0          3        1330              0      1961   \n",
       "227           0     0          3        3930            560      2013   \n",
       "273           0     0          3        1890            420      1950   \n",
       "\n",
       "     yr_renovated             street        city  statezip country  \n",
       "102           NaN   218 109th Ave SE    Bellevue  WA 98004     USA  \n",
       "227           NaN  1435 104th Ave SE    Bellevue  WA 98004     USA  \n",
       "273           NaN    9724 NE 14th St  Clyde Hill  WA 98004     USA  "
      ]
     },
     "execution_count": 36,
     "metadata": {},
     "output_type": "execute_result"
    }
   ],
   "source": [
    "df_house[df_house.statezip=='WA 98004'].head(3)"
   ]
  },
  {
   "cell_type": "markdown",
   "metadata": {},
   "source": [
    "Now, checking \"Inglewood-Finn Hill's statezip"
   ]
  },
  {
   "cell_type": "code",
   "execution_count": 37,
   "metadata": {},
   "outputs": [
    {
     "data": {
      "text/html": [
       "<div>\n",
       "<style scoped>\n",
       "    .dataframe tbody tr th:only-of-type {\n",
       "        vertical-align: middle;\n",
       "    }\n",
       "\n",
       "    .dataframe tbody tr th {\n",
       "        vertical-align: top;\n",
       "    }\n",
       "\n",
       "    .dataframe thead th {\n",
       "        text-align: right;\n",
       "    }\n",
       "</style>\n",
       "<table border=\"1\" class=\"dataframe\">\n",
       "  <thead>\n",
       "    <tr style=\"text-align: right;\">\n",
       "      <th></th>\n",
       "      <th>date</th>\n",
       "      <th>price</th>\n",
       "      <th>bedrooms</th>\n",
       "      <th>bathrooms</th>\n",
       "      <th>sqft_living</th>\n",
       "      <th>sqft_lot</th>\n",
       "      <th>floors</th>\n",
       "      <th>waterfront</th>\n",
       "      <th>view</th>\n",
       "      <th>condition</th>\n",
       "      <th>sqft_above</th>\n",
       "      <th>sqft_basement</th>\n",
       "      <th>yr_built</th>\n",
       "      <th>yr_renovated</th>\n",
       "      <th>street</th>\n",
       "      <th>city</th>\n",
       "      <th>statezip</th>\n",
       "      <th>country</th>\n",
       "    </tr>\n",
       "  </thead>\n",
       "  <tbody>\n",
       "    <tr>\n",
       "      <th>166</th>\n",
       "      <td>2014-05-06</td>\n",
       "      <td>425000</td>\n",
       "      <td>4</td>\n",
       "      <td>2.0</td>\n",
       "      <td>1520</td>\n",
       "      <td>7983</td>\n",
       "      <td>1.0</td>\n",
       "      <td>0</td>\n",
       "      <td>0</td>\n",
       "      <td>5</td>\n",
       "      <td>1520</td>\n",
       "      <td>0</td>\n",
       "      <td>1967</td>\n",
       "      <td>NaN</td>\n",
       "      <td>14876 Juanita Woodinville Way NE</td>\n",
       "      <td>Inglewood-Finn Hill</td>\n",
       "      <td>WA 98034</td>\n",
       "      <td>USA</td>\n",
       "    </tr>\n",
       "  </tbody>\n",
       "</table>\n",
       "</div>"
      ],
      "text/plain": [
       "          date   price  bedrooms  bathrooms  sqft_living  sqft_lot  floors  \\\n",
       "166 2014-05-06  425000         4        2.0         1520      7983     1.0   \n",
       "\n",
       "     waterfront  view  condition  sqft_above  sqft_basement  yr_built  \\\n",
       "166           0     0          5        1520              0      1967   \n",
       "\n",
       "     yr_renovated                            street                 city  \\\n",
       "166           NaN  14876 Juanita Woodinville Way NE  Inglewood-Finn Hill   \n",
       "\n",
       "     statezip country  \n",
       "166  WA 98034     USA  "
      ]
     },
     "execution_count": 37,
     "metadata": {},
     "output_type": "execute_result"
    }
   ],
   "source": [
    "df_house[df_house.city==\"Inglewood-Finn Hill\"]"
   ]
  },
  {
   "cell_type": "code",
   "execution_count": 38,
   "metadata": {},
   "outputs": [
    {
     "data": {
      "text/html": [
       "<div>\n",
       "<style scoped>\n",
       "    .dataframe tbody tr th:only-of-type {\n",
       "        vertical-align: middle;\n",
       "    }\n",
       "\n",
       "    .dataframe tbody tr th {\n",
       "        vertical-align: top;\n",
       "    }\n",
       "\n",
       "    .dataframe thead th {\n",
       "        text-align: right;\n",
       "    }\n",
       "</style>\n",
       "<table border=\"1\" class=\"dataframe\">\n",
       "  <thead>\n",
       "    <tr style=\"text-align: right;\">\n",
       "      <th></th>\n",
       "      <th>date</th>\n",
       "      <th>price</th>\n",
       "      <th>bedrooms</th>\n",
       "      <th>bathrooms</th>\n",
       "      <th>sqft_living</th>\n",
       "      <th>sqft_lot</th>\n",
       "      <th>floors</th>\n",
       "      <th>waterfront</th>\n",
       "      <th>view</th>\n",
       "      <th>condition</th>\n",
       "      <th>sqft_above</th>\n",
       "      <th>sqft_basement</th>\n",
       "      <th>yr_built</th>\n",
       "      <th>yr_renovated</th>\n",
       "      <th>street</th>\n",
       "      <th>city</th>\n",
       "      <th>statezip</th>\n",
       "      <th>country</th>\n",
       "    </tr>\n",
       "  </thead>\n",
       "  <tbody>\n",
       "    <tr>\n",
       "      <th>30</th>\n",
       "      <td>2014-05-02</td>\n",
       "      <td>382500</td>\n",
       "      <td>4</td>\n",
       "      <td>1.75</td>\n",
       "      <td>1560</td>\n",
       "      <td>8700</td>\n",
       "      <td>1.0</td>\n",
       "      <td>0</td>\n",
       "      <td>0</td>\n",
       "      <td>4</td>\n",
       "      <td>1560</td>\n",
       "      <td>0</td>\n",
       "      <td>1967</td>\n",
       "      <td>NaN</td>\n",
       "      <td>14104 119th Ave NE</td>\n",
       "      <td>Kirkland</td>\n",
       "      <td>WA 98034</td>\n",
       "      <td>USA</td>\n",
       "    </tr>\n",
       "    <tr>\n",
       "      <th>84</th>\n",
       "      <td>2014-05-05</td>\n",
       "      <td>485000</td>\n",
       "      <td>4</td>\n",
       "      <td>3.00</td>\n",
       "      <td>2340</td>\n",
       "      <td>7048</td>\n",
       "      <td>1.0</td>\n",
       "      <td>0</td>\n",
       "      <td>0</td>\n",
       "      <td>4</td>\n",
       "      <td>1340</td>\n",
       "      <td>1000</td>\n",
       "      <td>1979</td>\n",
       "      <td>NaN</td>\n",
       "      <td>14319 85th Pl NE</td>\n",
       "      <td>Kirkland</td>\n",
       "      <td>WA 98034</td>\n",
       "      <td>USA</td>\n",
       "    </tr>\n",
       "    <tr>\n",
       "      <th>115</th>\n",
       "      <td>2014-05-05</td>\n",
       "      <td>340000</td>\n",
       "      <td>5</td>\n",
       "      <td>1.00</td>\n",
       "      <td>1120</td>\n",
       "      <td>9022</td>\n",
       "      <td>1.5</td>\n",
       "      <td>0</td>\n",
       "      <td>0</td>\n",
       "      <td>4</td>\n",
       "      <td>1120</td>\n",
       "      <td>0</td>\n",
       "      <td>1962</td>\n",
       "      <td>NaN</td>\n",
       "      <td>14150 75th Ave NE</td>\n",
       "      <td>Kirkland</td>\n",
       "      <td>WA 98034</td>\n",
       "      <td>USA</td>\n",
       "    </tr>\n",
       "  </tbody>\n",
       "</table>\n",
       "</div>"
      ],
      "text/plain": [
       "          date   price  bedrooms  bathrooms  sqft_living  sqft_lot  floors  \\\n",
       "30  2014-05-02  382500         4       1.75         1560      8700     1.0   \n",
       "84  2014-05-05  485000         4       3.00         2340      7048     1.0   \n",
       "115 2014-05-05  340000         5       1.00         1120      9022     1.5   \n",
       "\n",
       "     waterfront  view  condition  sqft_above  sqft_basement  yr_built  \\\n",
       "30            0     0          4        1560              0      1967   \n",
       "84            0     0          4        1340           1000      1979   \n",
       "115           0     0          4        1120              0      1962   \n",
       "\n",
       "     yr_renovated              street      city  statezip country  \n",
       "30            NaN  14104 119th Ave NE  Kirkland  WA 98034     USA  \n",
       "84            NaN    14319 85th Pl NE  Kirkland  WA 98034     USA  \n",
       "115           NaN   14150 75th Ave NE  Kirkland  WA 98034     USA  "
      ]
     },
     "execution_count": 38,
     "metadata": {},
     "output_type": "execute_result"
    }
   ],
   "source": [
    "df_house[df_house.statezip=='WA 98034'].head(3)"
   ]
  },
  {
   "cell_type": "markdown",
   "metadata": {},
   "source": [
    "It looks possible that Inglewood-Finn Hill shares the same statezip with the city of Kirkland."
   ]
  },
  {
   "cell_type": "markdown",
   "metadata": {
    "collapsed": true
   },
   "source": [
    "#### Checking statezip attribute"
   ]
  },
  {
   "cell_type": "code",
   "execution_count": 39,
   "metadata": {
    "scrolled": true
   },
   "outputs": [
    {
     "data": {
      "text/plain": [
       "WA 98354    2\n",
       "WA 98050    2\n",
       "WA 98068    1\n",
       "Name: statezip, dtype: int64"
      ]
     },
     "execution_count": 39,
     "metadata": {},
     "output_type": "execute_result"
    }
   ],
   "source": [
    "df_house.statezip.value_counts().tail(3)"
   ]
  },
  {
   "cell_type": "markdown",
   "metadata": {},
   "source": [
    "I suspect that the statezip that appears twice might have some issures. Now I check them one by one."
   ]
  },
  {
   "cell_type": "code",
   "execution_count": 40,
   "metadata": {},
   "outputs": [
    {
     "data": {
      "text/html": [
       "<div>\n",
       "<style scoped>\n",
       "    .dataframe tbody tr th:only-of-type {\n",
       "        vertical-align: middle;\n",
       "    }\n",
       "\n",
       "    .dataframe tbody tr th {\n",
       "        vertical-align: top;\n",
       "    }\n",
       "\n",
       "    .dataframe thead th {\n",
       "        text-align: right;\n",
       "    }\n",
       "</style>\n",
       "<table border=\"1\" class=\"dataframe\">\n",
       "  <thead>\n",
       "    <tr style=\"text-align: right;\">\n",
       "      <th></th>\n",
       "      <th>date</th>\n",
       "      <th>price</th>\n",
       "      <th>bedrooms</th>\n",
       "      <th>bathrooms</th>\n",
       "      <th>sqft_living</th>\n",
       "      <th>sqft_lot</th>\n",
       "      <th>floors</th>\n",
       "      <th>waterfront</th>\n",
       "      <th>view</th>\n",
       "      <th>condition</th>\n",
       "      <th>sqft_above</th>\n",
       "      <th>sqft_basement</th>\n",
       "      <th>yr_built</th>\n",
       "      <th>yr_renovated</th>\n",
       "      <th>street</th>\n",
       "      <th>city</th>\n",
       "      <th>statezip</th>\n",
       "      <th>country</th>\n",
       "    </tr>\n",
       "  </thead>\n",
       "  <tbody>\n",
       "    <tr>\n",
       "      <th>1064</th>\n",
       "      <td>2014-05-21</td>\n",
       "      <td>525000</td>\n",
       "      <td>3</td>\n",
       "      <td>2.75</td>\n",
       "      <td>2100</td>\n",
       "      <td>10362</td>\n",
       "      <td>2.0</td>\n",
       "      <td>0</td>\n",
       "      <td>0</td>\n",
       "      <td>3</td>\n",
       "      <td>1510</td>\n",
       "      <td>590</td>\n",
       "      <td>1998</td>\n",
       "      <td>NaN</td>\n",
       "      <td>3 Ober Strasse</td>\n",
       "      <td>Snoqualmie Pass</td>\n",
       "      <td>WA 98068</td>\n",
       "      <td>USA</td>\n",
       "    </tr>\n",
       "  </tbody>\n",
       "</table>\n",
       "</div>"
      ],
      "text/plain": [
       "           date   price  bedrooms  bathrooms  sqft_living  sqft_lot  floors  \\\n",
       "1064 2014-05-21  525000         3       2.75         2100     10362     2.0   \n",
       "\n",
       "      waterfront  view  condition  sqft_above  sqft_basement  yr_built  \\\n",
       "1064           0     0          3        1510            590      1998   \n",
       "\n",
       "      yr_renovated          street             city  statezip country  \n",
       "1064           NaN  3 Ober Strasse  Snoqualmie Pass  WA 98068     USA  "
      ]
     },
     "execution_count": 40,
     "metadata": {},
     "output_type": "execute_result"
    }
   ],
   "source": [
    "df_house[df_house.statezip=='WA 98068']"
   ]
  },
  {
   "cell_type": "markdown",
   "metadata": {},
   "source": [
    "The corresponding city \"Snoqualmie Pass\" only appears once from the last city value counts. So it is not wrong."
   ]
  },
  {
   "cell_type": "code",
   "execution_count": 41,
   "metadata": {},
   "outputs": [
    {
     "data": {
      "text/html": [
       "<div>\n",
       "<style scoped>\n",
       "    .dataframe tbody tr th:only-of-type {\n",
       "        vertical-align: middle;\n",
       "    }\n",
       "\n",
       "    .dataframe tbody tr th {\n",
       "        vertical-align: top;\n",
       "    }\n",
       "\n",
       "    .dataframe thead th {\n",
       "        text-align: right;\n",
       "    }\n",
       "</style>\n",
       "<table border=\"1\" class=\"dataframe\">\n",
       "  <thead>\n",
       "    <tr style=\"text-align: right;\">\n",
       "      <th></th>\n",
       "      <th>date</th>\n",
       "      <th>price</th>\n",
       "      <th>bedrooms</th>\n",
       "      <th>bathrooms</th>\n",
       "      <th>sqft_living</th>\n",
       "      <th>sqft_lot</th>\n",
       "      <th>floors</th>\n",
       "      <th>waterfront</th>\n",
       "      <th>view</th>\n",
       "      <th>condition</th>\n",
       "      <th>sqft_above</th>\n",
       "      <th>sqft_basement</th>\n",
       "      <th>yr_built</th>\n",
       "      <th>yr_renovated</th>\n",
       "      <th>street</th>\n",
       "      <th>city</th>\n",
       "      <th>statezip</th>\n",
       "      <th>country</th>\n",
       "    </tr>\n",
       "  </thead>\n",
       "  <tbody>\n",
       "    <tr>\n",
       "      <th>2064</th>\n",
       "      <td>2014-06-06</td>\n",
       "      <td>320000</td>\n",
       "      <td>3</td>\n",
       "      <td>1.75</td>\n",
       "      <td>1370</td>\n",
       "      <td>9900</td>\n",
       "      <td>1.0</td>\n",
       "      <td>0</td>\n",
       "      <td>0</td>\n",
       "      <td>4</td>\n",
       "      <td>1370</td>\n",
       "      <td>0</td>\n",
       "      <td>1983</td>\n",
       "      <td>NaN</td>\n",
       "      <td>99 17th Ave</td>\n",
       "      <td>Milton</td>\n",
       "      <td>WA 98354</td>\n",
       "      <td>USA</td>\n",
       "    </tr>\n",
       "    <tr>\n",
       "      <th>4112</th>\n",
       "      <td>2014-07-08</td>\n",
       "      <td>250000</td>\n",
       "      <td>3</td>\n",
       "      <td>1.75</td>\n",
       "      <td>1140</td>\n",
       "      <td>10400</td>\n",
       "      <td>1.0</td>\n",
       "      <td>0</td>\n",
       "      <td>0</td>\n",
       "      <td>4</td>\n",
       "      <td>1140</td>\n",
       "      <td>0</td>\n",
       "      <td>1983</td>\n",
       "      <td>NaN</td>\n",
       "      <td>1705 Douglas Ct</td>\n",
       "      <td>Milton</td>\n",
       "      <td>WA 98354</td>\n",
       "      <td>USA</td>\n",
       "    </tr>\n",
       "  </tbody>\n",
       "</table>\n",
       "</div>"
      ],
      "text/plain": [
       "           date   price  bedrooms  bathrooms  sqft_living  sqft_lot  floors  \\\n",
       "2064 2014-06-06  320000         3       1.75         1370      9900     1.0   \n",
       "4112 2014-07-08  250000         3       1.75         1140     10400     1.0   \n",
       "\n",
       "      waterfront  view  condition  sqft_above  sqft_basement  yr_built  \\\n",
       "2064           0     0          4        1370              0      1983   \n",
       "4112           0     0          4        1140              0      1983   \n",
       "\n",
       "      yr_renovated           street    city  statezip country  \n",
       "2064           NaN      99 17th Ave  Milton  WA 98354     USA  \n",
       "4112           NaN  1705 Douglas Ct  Milton  WA 98354     USA  "
      ]
     },
     "execution_count": 41,
     "metadata": {},
     "output_type": "execute_result"
    }
   ],
   "source": [
    "df_house[df_house.statezip=='WA 98354']"
   ]
  },
  {
   "cell_type": "markdown",
   "metadata": {},
   "source": [
    "The corresponding city \"Milton\" appears twice. So it is not wrong"
   ]
  },
  {
   "cell_type": "code",
   "execution_count": 42,
   "metadata": {},
   "outputs": [
    {
     "data": {
      "text/html": [
       "<div>\n",
       "<style scoped>\n",
       "    .dataframe tbody tr th:only-of-type {\n",
       "        vertical-align: middle;\n",
       "    }\n",
       "\n",
       "    .dataframe tbody tr th {\n",
       "        vertical-align: top;\n",
       "    }\n",
       "\n",
       "    .dataframe thead th {\n",
       "        text-align: right;\n",
       "    }\n",
       "</style>\n",
       "<table border=\"1\" class=\"dataframe\">\n",
       "  <thead>\n",
       "    <tr style=\"text-align: right;\">\n",
       "      <th></th>\n",
       "      <th>date</th>\n",
       "      <th>price</th>\n",
       "      <th>bedrooms</th>\n",
       "      <th>bathrooms</th>\n",
       "      <th>sqft_living</th>\n",
       "      <th>sqft_lot</th>\n",
       "      <th>floors</th>\n",
       "      <th>waterfront</th>\n",
       "      <th>view</th>\n",
       "      <th>condition</th>\n",
       "      <th>sqft_above</th>\n",
       "      <th>sqft_basement</th>\n",
       "      <th>yr_built</th>\n",
       "      <th>yr_renovated</th>\n",
       "      <th>street</th>\n",
       "      <th>city</th>\n",
       "      <th>statezip</th>\n",
       "      <th>country</th>\n",
       "    </tr>\n",
       "  </thead>\n",
       "  <tbody>\n",
       "    <tr>\n",
       "      <th>2064</th>\n",
       "      <td>2014-06-06</td>\n",
       "      <td>320000</td>\n",
       "      <td>3</td>\n",
       "      <td>1.75</td>\n",
       "      <td>1370</td>\n",
       "      <td>9900</td>\n",
       "      <td>1.0</td>\n",
       "      <td>0</td>\n",
       "      <td>0</td>\n",
       "      <td>4</td>\n",
       "      <td>1370</td>\n",
       "      <td>0</td>\n",
       "      <td>1983</td>\n",
       "      <td>NaN</td>\n",
       "      <td>99 17th Ave</td>\n",
       "      <td>Milton</td>\n",
       "      <td>WA 98354</td>\n",
       "      <td>USA</td>\n",
       "    </tr>\n",
       "    <tr>\n",
       "      <th>4112</th>\n",
       "      <td>2014-07-08</td>\n",
       "      <td>250000</td>\n",
       "      <td>3</td>\n",
       "      <td>1.75</td>\n",
       "      <td>1140</td>\n",
       "      <td>10400</td>\n",
       "      <td>1.0</td>\n",
       "      <td>0</td>\n",
       "      <td>0</td>\n",
       "      <td>4</td>\n",
       "      <td>1140</td>\n",
       "      <td>0</td>\n",
       "      <td>1983</td>\n",
       "      <td>NaN</td>\n",
       "      <td>1705 Douglas Ct</td>\n",
       "      <td>Milton</td>\n",
       "      <td>WA 98354</td>\n",
       "      <td>USA</td>\n",
       "    </tr>\n",
       "  </tbody>\n",
       "</table>\n",
       "</div>"
      ],
      "text/plain": [
       "           date   price  bedrooms  bathrooms  sqft_living  sqft_lot  floors  \\\n",
       "2064 2014-06-06  320000         3       1.75         1370      9900     1.0   \n",
       "4112 2014-07-08  250000         3       1.75         1140     10400     1.0   \n",
       "\n",
       "      waterfront  view  condition  sqft_above  sqft_basement  yr_built  \\\n",
       "2064           0     0          4        1370              0      1983   \n",
       "4112           0     0          4        1140              0      1983   \n",
       "\n",
       "      yr_renovated           street    city  statezip country  \n",
       "2064           NaN      99 17th Ave  Milton  WA 98354     USA  \n",
       "4112           NaN  1705 Douglas Ct  Milton  WA 98354     USA  "
      ]
     },
     "execution_count": 42,
     "metadata": {},
     "output_type": "execute_result"
    }
   ],
   "source": [
    "df_house[df_house.city==\"Milton\"]"
   ]
  },
  {
   "cell_type": "markdown",
   "metadata": {},
   "source": [
    "Checking the statezip which equals 'WA 98050'"
   ]
  },
  {
   "cell_type": "code",
   "execution_count": 43,
   "metadata": {},
   "outputs": [
    {
     "data": {
      "text/html": [
       "<div>\n",
       "<style scoped>\n",
       "    .dataframe tbody tr th:only-of-type {\n",
       "        vertical-align: middle;\n",
       "    }\n",
       "\n",
       "    .dataframe tbody tr th {\n",
       "        vertical-align: top;\n",
       "    }\n",
       "\n",
       "    .dataframe thead th {\n",
       "        text-align: right;\n",
       "    }\n",
       "</style>\n",
       "<table border=\"1\" class=\"dataframe\">\n",
       "  <thead>\n",
       "    <tr style=\"text-align: right;\">\n",
       "      <th></th>\n",
       "      <th>date</th>\n",
       "      <th>price</th>\n",
       "      <th>bedrooms</th>\n",
       "      <th>bathrooms</th>\n",
       "      <th>sqft_living</th>\n",
       "      <th>sqft_lot</th>\n",
       "      <th>floors</th>\n",
       "      <th>waterfront</th>\n",
       "      <th>view</th>\n",
       "      <th>condition</th>\n",
       "      <th>sqft_above</th>\n",
       "      <th>sqft_basement</th>\n",
       "      <th>yr_built</th>\n",
       "      <th>yr_renovated</th>\n",
       "      <th>street</th>\n",
       "      <th>city</th>\n",
       "      <th>statezip</th>\n",
       "      <th>country</th>\n",
       "    </tr>\n",
       "  </thead>\n",
       "  <tbody>\n",
       "    <tr>\n",
       "      <th>1672</th>\n",
       "      <td>2014-06-02</td>\n",
       "      <td>439900</td>\n",
       "      <td>2</td>\n",
       "      <td>2.00</td>\n",
       "      <td>1410</td>\n",
       "      <td>12282</td>\n",
       "      <td>1.5</td>\n",
       "      <td>0</td>\n",
       "      <td>0</td>\n",
       "      <td>5</td>\n",
       "      <td>1410</td>\n",
       "      <td>0</td>\n",
       "      <td>1909</td>\n",
       "      <td>1988.0</td>\n",
       "      <td>31103 SE 85th Pl</td>\n",
       "      <td>Preston</td>\n",
       "      <td>WA 98050</td>\n",
       "      <td>USA</td>\n",
       "    </tr>\n",
       "    <tr>\n",
       "      <th>1944</th>\n",
       "      <td>2014-06-05</td>\n",
       "      <td>685000</td>\n",
       "      <td>3</td>\n",
       "      <td>2.75</td>\n",
       "      <td>3150</td>\n",
       "      <td>219978</td>\n",
       "      <td>2.0</td>\n",
       "      <td>0</td>\n",
       "      <td>0</td>\n",
       "      <td>4</td>\n",
       "      <td>3000</td>\n",
       "      <td>150</td>\n",
       "      <td>1990</td>\n",
       "      <td>NaN</td>\n",
       "      <td>5424 298th Ave SE</td>\n",
       "      <td>Preston</td>\n",
       "      <td>WA 98050</td>\n",
       "      <td>USA</td>\n",
       "    </tr>\n",
       "  </tbody>\n",
       "</table>\n",
       "</div>"
      ],
      "text/plain": [
       "           date   price  bedrooms  bathrooms  sqft_living  sqft_lot  floors  \\\n",
       "1672 2014-06-02  439900         2       2.00         1410     12282     1.5   \n",
       "1944 2014-06-05  685000         3       2.75         3150    219978     2.0   \n",
       "\n",
       "      waterfront  view  condition  sqft_above  sqft_basement  yr_built  \\\n",
       "1672           0     0          5        1410              0      1909   \n",
       "1944           0     0          4        3000            150      1990   \n",
       "\n",
       "      yr_renovated             street     city  statezip country  \n",
       "1672        1988.0   31103 SE 85th Pl  Preston  WA 98050     USA  \n",
       "1944           NaN  5424 298th Ave SE  Preston  WA 98050     USA  "
      ]
     },
     "execution_count": 43,
     "metadata": {},
     "output_type": "execute_result"
    }
   ],
   "source": [
    "df_house[df_house.statezip=='WA 98050']"
   ]
  },
  {
   "cell_type": "code",
   "execution_count": 44,
   "metadata": {},
   "outputs": [
    {
     "data": {
      "text/html": [
       "<div>\n",
       "<style scoped>\n",
       "    .dataframe tbody tr th:only-of-type {\n",
       "        vertical-align: middle;\n",
       "    }\n",
       "\n",
       "    .dataframe tbody tr th {\n",
       "        vertical-align: top;\n",
       "    }\n",
       "\n",
       "    .dataframe thead th {\n",
       "        text-align: right;\n",
       "    }\n",
       "</style>\n",
       "<table border=\"1\" class=\"dataframe\">\n",
       "  <thead>\n",
       "    <tr style=\"text-align: right;\">\n",
       "      <th></th>\n",
       "      <th>date</th>\n",
       "      <th>price</th>\n",
       "      <th>bedrooms</th>\n",
       "      <th>bathrooms</th>\n",
       "      <th>sqft_living</th>\n",
       "      <th>sqft_lot</th>\n",
       "      <th>floors</th>\n",
       "      <th>waterfront</th>\n",
       "      <th>view</th>\n",
       "      <th>condition</th>\n",
       "      <th>sqft_above</th>\n",
       "      <th>sqft_basement</th>\n",
       "      <th>yr_built</th>\n",
       "      <th>yr_renovated</th>\n",
       "      <th>street</th>\n",
       "      <th>city</th>\n",
       "      <th>statezip</th>\n",
       "      <th>country</th>\n",
       "    </tr>\n",
       "  </thead>\n",
       "  <tbody>\n",
       "    <tr>\n",
       "      <th>1672</th>\n",
       "      <td>2014-06-02</td>\n",
       "      <td>439900</td>\n",
       "      <td>2</td>\n",
       "      <td>2.00</td>\n",
       "      <td>1410</td>\n",
       "      <td>12282</td>\n",
       "      <td>1.5</td>\n",
       "      <td>0</td>\n",
       "      <td>0</td>\n",
       "      <td>5</td>\n",
       "      <td>1410</td>\n",
       "      <td>0</td>\n",
       "      <td>1909</td>\n",
       "      <td>1988.0</td>\n",
       "      <td>31103 SE 85th Pl</td>\n",
       "      <td>Preston</td>\n",
       "      <td>WA 98050</td>\n",
       "      <td>USA</td>\n",
       "    </tr>\n",
       "    <tr>\n",
       "      <th>1944</th>\n",
       "      <td>2014-06-05</td>\n",
       "      <td>685000</td>\n",
       "      <td>3</td>\n",
       "      <td>2.75</td>\n",
       "      <td>3150</td>\n",
       "      <td>219978</td>\n",
       "      <td>2.0</td>\n",
       "      <td>0</td>\n",
       "      <td>0</td>\n",
       "      <td>4</td>\n",
       "      <td>3000</td>\n",
       "      <td>150</td>\n",
       "      <td>1990</td>\n",
       "      <td>NaN</td>\n",
       "      <td>5424 298th Ave SE</td>\n",
       "      <td>Preston</td>\n",
       "      <td>WA 98050</td>\n",
       "      <td>USA</td>\n",
       "    </tr>\n",
       "  </tbody>\n",
       "</table>\n",
       "</div>"
      ],
      "text/plain": [
       "           date   price  bedrooms  bathrooms  sqft_living  sqft_lot  floors  \\\n",
       "1672 2014-06-02  439900         2       2.00         1410     12282     1.5   \n",
       "1944 2014-06-05  685000         3       2.75         3150    219978     2.0   \n",
       "\n",
       "      waterfront  view  condition  sqft_above  sqft_basement  yr_built  \\\n",
       "1672           0     0          5        1410              0      1909   \n",
       "1944           0     0          4        3000            150      1990   \n",
       "\n",
       "      yr_renovated             street     city  statezip country  \n",
       "1672        1988.0   31103 SE 85th Pl  Preston  WA 98050     USA  \n",
       "1944           NaN  5424 298th Ave SE  Preston  WA 98050     USA  "
      ]
     },
     "execution_count": 44,
     "metadata": {},
     "output_type": "execute_result"
    }
   ],
   "source": [
    "df_house[df_house.city==\"Preston\"]"
   ]
  },
  {
   "cell_type": "markdown",
   "metadata": {},
   "source": [
    "The corresponding city \"Preston\" appear twice. It is not wrong either."
   ]
  },
  {
   "cell_type": "markdown",
   "metadata": {},
   "source": [
    "***"
   ]
  },
  {
   "cell_type": "markdown",
   "metadata": {
    "collapsed": true
   },
   "source": [
    "##  Checking Inconsistency , Integrity and Semantic errors\n",
    "### Checking whether the values of \"sqft_living\" consistent with the values of \"sqft_above\" plus \"sqft_basement\""
   ]
  },
  {
   "cell_type": "code",
   "execution_count": 45,
   "metadata": {},
   "outputs": [
    {
     "data": {
      "text/html": [
       "<div>\n",
       "<style scoped>\n",
       "    .dataframe tbody tr th:only-of-type {\n",
       "        vertical-align: middle;\n",
       "    }\n",
       "\n",
       "    .dataframe tbody tr th {\n",
       "        vertical-align: top;\n",
       "    }\n",
       "\n",
       "    .dataframe thead th {\n",
       "        text-align: right;\n",
       "    }\n",
       "</style>\n",
       "<table border=\"1\" class=\"dataframe\">\n",
       "  <thead>\n",
       "    <tr style=\"text-align: right;\">\n",
       "      <th></th>\n",
       "      <th>date</th>\n",
       "      <th>price</th>\n",
       "      <th>bedrooms</th>\n",
       "      <th>bathrooms</th>\n",
       "      <th>sqft_living</th>\n",
       "      <th>sqft_lot</th>\n",
       "      <th>floors</th>\n",
       "      <th>waterfront</th>\n",
       "      <th>view</th>\n",
       "      <th>condition</th>\n",
       "      <th>sqft_above</th>\n",
       "      <th>sqft_basement</th>\n",
       "      <th>yr_built</th>\n",
       "      <th>yr_renovated</th>\n",
       "      <th>street</th>\n",
       "      <th>city</th>\n",
       "      <th>statezip</th>\n",
       "      <th>country</th>\n",
       "    </tr>\n",
       "  </thead>\n",
       "  <tbody>\n",
       "    <tr>\n",
       "      <th>4338</th>\n",
       "      <td>2014-07-10</td>\n",
       "      <td>670000</td>\n",
       "      <td>3</td>\n",
       "      <td>2.5</td>\n",
       "      <td>1280</td>\n",
       "      <td>1438</td>\n",
       "      <td>2.0</td>\n",
       "      <td>0</td>\n",
       "      <td>0</td>\n",
       "      <td>3</td>\n",
       "      <td>1280</td>\n",
       "      <td>1420</td>\n",
       "      <td>2003</td>\n",
       "      <td>NaN</td>\n",
       "      <td>746 Boylston Ave E</td>\n",
       "      <td>Seattle</td>\n",
       "      <td>WA 98102</td>\n",
       "      <td>USA</td>\n",
       "    </tr>\n",
       "    <tr>\n",
       "      <th>4339</th>\n",
       "      <td>2014-07-01</td>\n",
       "      <td>202000</td>\n",
       "      <td>1</td>\n",
       "      <td>1.0</td>\n",
       "      <td>890</td>\n",
       "      <td>833</td>\n",
       "      <td>1.0</td>\n",
       "      <td>0</td>\n",
       "      <td>0</td>\n",
       "      <td>4</td>\n",
       "      <td>590</td>\n",
       "      <td>0</td>\n",
       "      <td>1926</td>\n",
       "      <td>NaN</td>\n",
       "      <td>701-711 26th Ave</td>\n",
       "      <td>Seattle</td>\n",
       "      <td>WA 98122</td>\n",
       "      <td>USA</td>\n",
       "    </tr>\n",
       "  </tbody>\n",
       "</table>\n",
       "</div>"
      ],
      "text/plain": [
       "           date   price  bedrooms  bathrooms  sqft_living  sqft_lot  floors  \\\n",
       "4338 2014-07-10  670000         3        2.5         1280      1438     2.0   \n",
       "4339 2014-07-01  202000         1        1.0          890       833     1.0   \n",
       "\n",
       "      waterfront  view  condition  sqft_above  sqft_basement  yr_built  \\\n",
       "4338           0     0          3        1280           1420      2003   \n",
       "4339           0     0          4         590              0      1926   \n",
       "\n",
       "      yr_renovated              street     city  statezip country  \n",
       "4338           NaN  746 Boylston Ave E  Seattle  WA 98102     USA  \n",
       "4339           NaN    701-711 26th Ave  Seattle  WA 98122     USA  "
      ]
     },
     "execution_count": 45,
     "metadata": {},
     "output_type": "execute_result"
    }
   ],
   "source": [
    "df_house.loc[(df_house.sqft_living!=df_house.sqft_above+df_house.sqft_basement)]"
   ]
  },
  {
   "cell_type": "markdown",
   "metadata": {},
   "source": [
    "There are 2 properties which are not consistency. According to the first property, we can see that sqft_living and sqft_above have the same room areas, I guess it might either be a typo or someone forget to add the value of basement. It is resonable to add above and basement area together because the property has 2 levels so that sqft_living coule be larger than sqft_lot. Assume the correct sqft_living values should add area of the above and the area of the basement together.  The second property must be a typo."
   ]
  },
  {
   "cell_type": "code",
   "execution_count": 46,
   "metadata": {},
   "outputs": [],
   "source": [
    "df_house['sqft_living']=df_house['sqft_above']+df_house['sqft_basement']"
   ]
  },
  {
   "cell_type": "markdown",
   "metadata": {},
   "source": [
    "### Checking whether the year of last renovation earlier than the year of its initially built"
   ]
  },
  {
   "cell_type": "code",
   "execution_count": 47,
   "metadata": {},
   "outputs": [
    {
     "data": {
      "text/html": [
       "<div>\n",
       "<style scoped>\n",
       "    .dataframe tbody tr th:only-of-type {\n",
       "        vertical-align: middle;\n",
       "    }\n",
       "\n",
       "    .dataframe tbody tr th {\n",
       "        vertical-align: top;\n",
       "    }\n",
       "\n",
       "    .dataframe thead th {\n",
       "        text-align: right;\n",
       "    }\n",
       "</style>\n",
       "<table border=\"1\" class=\"dataframe\">\n",
       "  <thead>\n",
       "    <tr style=\"text-align: right;\">\n",
       "      <th></th>\n",
       "      <th>date</th>\n",
       "      <th>price</th>\n",
       "      <th>bedrooms</th>\n",
       "      <th>bathrooms</th>\n",
       "      <th>sqft_living</th>\n",
       "      <th>sqft_lot</th>\n",
       "      <th>floors</th>\n",
       "      <th>waterfront</th>\n",
       "      <th>view</th>\n",
       "      <th>condition</th>\n",
       "      <th>sqft_above</th>\n",
       "      <th>sqft_basement</th>\n",
       "      <th>yr_built</th>\n",
       "      <th>yr_renovated</th>\n",
       "      <th>street</th>\n",
       "      <th>city</th>\n",
       "      <th>statezip</th>\n",
       "      <th>country</th>\n",
       "    </tr>\n",
       "  </thead>\n",
       "  <tbody>\n",
       "    <tr>\n",
       "      <th>4340</th>\n",
       "      <td>2014-05-02</td>\n",
       "      <td>440000</td>\n",
       "      <td>4</td>\n",
       "      <td>2.25</td>\n",
       "      <td>2160</td>\n",
       "      <td>8119</td>\n",
       "      <td>1.0</td>\n",
       "      <td>0</td>\n",
       "      <td>0</td>\n",
       "      <td>3</td>\n",
       "      <td>1080</td>\n",
       "      <td>1080</td>\n",
       "      <td>1966</td>\n",
       "      <td>1913.0</td>\n",
       "      <td>12211 SE 65th St</td>\n",
       "      <td>Bellevue</td>\n",
       "      <td>WA 98006</td>\n",
       "      <td>USA</td>\n",
       "    </tr>\n",
       "    <tr>\n",
       "      <th>4341</th>\n",
       "      <td>2014-05-26</td>\n",
       "      <td>690000</td>\n",
       "      <td>4</td>\n",
       "      <td>2.50</td>\n",
       "      <td>2700</td>\n",
       "      <td>8810</td>\n",
       "      <td>2.0</td>\n",
       "      <td>0</td>\n",
       "      <td>0</td>\n",
       "      <td>3</td>\n",
       "      <td>2700</td>\n",
       "      <td>0</td>\n",
       "      <td>2004</td>\n",
       "      <td>2003.0</td>\n",
       "      <td>11659 168th Ct NE</td>\n",
       "      <td>Redmond</td>\n",
       "      <td>WA 98052</td>\n",
       "      <td>USA</td>\n",
       "    </tr>\n",
       "    <tr>\n",
       "      <th>4342</th>\n",
       "      <td>2014-05-08</td>\n",
       "      <td>375000</td>\n",
       "      <td>6</td>\n",
       "      <td>2.25</td>\n",
       "      <td>3206</td>\n",
       "      <td>5793</td>\n",
       "      <td>2.0</td>\n",
       "      <td>0</td>\n",
       "      <td>0</td>\n",
       "      <td>3</td>\n",
       "      <td>3206</td>\n",
       "      <td>0</td>\n",
       "      <td>2012</td>\n",
       "      <td>1912.0</td>\n",
       "      <td>25921-25929 35th Pl S</td>\n",
       "      <td>Kent</td>\n",
       "      <td>WA 98032</td>\n",
       "      <td>USA</td>\n",
       "    </tr>\n",
       "    <tr>\n",
       "      <th>4345</th>\n",
       "      <td>2014-05-22</td>\n",
       "      <td>850000</td>\n",
       "      <td>4</td>\n",
       "      <td>3.25</td>\n",
       "      <td>3090</td>\n",
       "      <td>6744</td>\n",
       "      <td>2.0</td>\n",
       "      <td>0</td>\n",
       "      <td>4</td>\n",
       "      <td>3</td>\n",
       "      <td>3090</td>\n",
       "      <td>0</td>\n",
       "      <td>2013</td>\n",
       "      <td>1923.0</td>\n",
       "      <td>19117-19123 Richmond Beach Dr NW</td>\n",
       "      <td>Shoreline</td>\n",
       "      <td>WA 98177</td>\n",
       "      <td>USA</td>\n",
       "    </tr>\n",
       "  </tbody>\n",
       "</table>\n",
       "</div>"
      ],
      "text/plain": [
       "           date   price  bedrooms  bathrooms  sqft_living  sqft_lot  floors  \\\n",
       "4340 2014-05-02  440000         4       2.25         2160      8119     1.0   \n",
       "4341 2014-05-26  690000         4       2.50         2700      8810     2.0   \n",
       "4342 2014-05-08  375000         6       2.25         3206      5793     2.0   \n",
       "4345 2014-05-22  850000         4       3.25         3090      6744     2.0   \n",
       "\n",
       "      waterfront  view  condition  sqft_above  sqft_basement  yr_built  \\\n",
       "4340           0     0          3        1080           1080      1966   \n",
       "4341           0     0          3        2700              0      2004   \n",
       "4342           0     0          3        3206              0      2012   \n",
       "4345           0     4          3        3090              0      2013   \n",
       "\n",
       "      yr_renovated                            street       city  statezip  \\\n",
       "4340        1913.0                  12211 SE 65th St   Bellevue  WA 98006   \n",
       "4341        2003.0                 11659 168th Ct NE    Redmond  WA 98052   \n",
       "4342        1912.0             25921-25929 35th Pl S       Kent  WA 98032   \n",
       "4345        1923.0  19117-19123 Richmond Beach Dr NW  Shoreline  WA 98177   \n",
       "\n",
       "     country  \n",
       "4340     USA  \n",
       "4341     USA  \n",
       "4342     USA  \n",
       "4345     USA  "
      ]
     },
     "execution_count": 47,
     "metadata": {},
     "output_type": "execute_result"
    }
   ],
   "source": [
    "df_house.loc[(df_house.yr_renovated<=df_house.yr_built)]"
   ]
  },
  {
   "cell_type": "markdown",
   "metadata": {},
   "source": [
    "There are 4 properties having typos here. Assume that someone reversed the year of renovate and the year of built, I switch them back."
   ]
  },
  {
   "cell_type": "code",
   "execution_count": 48,
   "metadata": {},
   "outputs": [],
   "source": [
    "#finding the rows that yr_renovated eairlier than yr_built\n",
    "s=df_house['yr_renovated']<df_house['yr_built']\n",
    "#reverse the value of 2 columns\n",
    "df_house.loc[s,['yr_renovated','yr_built']]=df_house.loc[s,['yr_built','yr_renovated']].values"
   ]
  },
  {
   "cell_type": "markdown",
   "metadata": {},
   "source": [
    "### Checking whether a house does not have any bathrooms and bedrooms"
   ]
  },
  {
   "cell_type": "code",
   "execution_count": 49,
   "metadata": {},
   "outputs": [
    {
     "data": {
      "text/html": [
       "<div>\n",
       "<style scoped>\n",
       "    .dataframe tbody tr th:only-of-type {\n",
       "        vertical-align: middle;\n",
       "    }\n",
       "\n",
       "    .dataframe tbody tr th {\n",
       "        vertical-align: top;\n",
       "    }\n",
       "\n",
       "    .dataframe thead th {\n",
       "        text-align: right;\n",
       "    }\n",
       "</style>\n",
       "<table border=\"1\" class=\"dataframe\">\n",
       "  <thead>\n",
       "    <tr style=\"text-align: right;\">\n",
       "      <th></th>\n",
       "      <th>date</th>\n",
       "      <th>price</th>\n",
       "      <th>bedrooms</th>\n",
       "      <th>bathrooms</th>\n",
       "      <th>sqft_living</th>\n",
       "      <th>sqft_lot</th>\n",
       "      <th>floors</th>\n",
       "      <th>waterfront</th>\n",
       "      <th>view</th>\n",
       "      <th>condition</th>\n",
       "      <th>sqft_above</th>\n",
       "      <th>sqft_basement</th>\n",
       "      <th>yr_built</th>\n",
       "      <th>yr_renovated</th>\n",
       "      <th>street</th>\n",
       "      <th>city</th>\n",
       "      <th>statezip</th>\n",
       "      <th>country</th>\n",
       "    </tr>\n",
       "  </thead>\n",
       "  <tbody>\n",
       "    <tr>\n",
       "      <th>2365</th>\n",
       "      <td>2014-06-12</td>\n",
       "      <td>1095000</td>\n",
       "      <td>0</td>\n",
       "      <td>0.0</td>\n",
       "      <td>3064</td>\n",
       "      <td>4764</td>\n",
       "      <td>3.5</td>\n",
       "      <td>0</td>\n",
       "      <td>2</td>\n",
       "      <td>3</td>\n",
       "      <td>3064</td>\n",
       "      <td>0</td>\n",
       "      <td>1990.0</td>\n",
       "      <td>NaN</td>\n",
       "      <td>814 E Howe St</td>\n",
       "      <td>Seattle</td>\n",
       "      <td>WA 98102</td>\n",
       "      <td>USA</td>\n",
       "    </tr>\n",
       "    <tr>\n",
       "      <th>3209</th>\n",
       "      <td>2014-06-24</td>\n",
       "      <td>1295648</td>\n",
       "      <td>0</td>\n",
       "      <td>0.0</td>\n",
       "      <td>4810</td>\n",
       "      <td>28008</td>\n",
       "      <td>2.0</td>\n",
       "      <td>0</td>\n",
       "      <td>0</td>\n",
       "      <td>3</td>\n",
       "      <td>4810</td>\n",
       "      <td>0</td>\n",
       "      <td>1990.0</td>\n",
       "      <td>NaN</td>\n",
       "      <td>20418 NE 64th Pl</td>\n",
       "      <td>Redmond</td>\n",
       "      <td>WA 98053</td>\n",
       "      <td>USA</td>\n",
       "    </tr>\n",
       "  </tbody>\n",
       "</table>\n",
       "</div>"
      ],
      "text/plain": [
       "           date    price  bedrooms  bathrooms  sqft_living  sqft_lot  floors  \\\n",
       "2365 2014-06-12  1095000         0        0.0         3064      4764     3.5   \n",
       "3209 2014-06-24  1295648         0        0.0         4810     28008     2.0   \n",
       "\n",
       "      waterfront  view  condition  sqft_above  sqft_basement  yr_built  \\\n",
       "2365           0     2          3        3064              0    1990.0   \n",
       "3209           0     0          3        4810              0    1990.0   \n",
       "\n",
       "      yr_renovated            street     city  statezip country  \n",
       "2365           NaN     814 E Howe St  Seattle  WA 98102     USA  \n",
       "3209           NaN  20418 NE 64th Pl  Redmond  WA 98053     USA  "
      ]
     },
     "execution_count": 49,
     "metadata": {},
     "output_type": "execute_result"
    }
   ],
   "source": [
    "df_house[(df_house.bathrooms==0) & (df_house.bedrooms==0)]"
   ]
  },
  {
   "cell_type": "markdown",
   "metadata": {},
   "source": [
    "According to the above 2 properties, it is reasonable that a property does not have any bedroms and bathrooms, because yr_renovated are missing here. We can assume that these properties have not been renovated yet. And these two properties have similar price and year_built. Keeping them in the database could be a good indicator for a investor who like to buy a house without any bedroms and bathrooms. We can assume those type of properties are a \n",
    "unfurnished house and does not have any fitments and paintings. So, I keep those rows in the database."
   ]
  },
  {
   "cell_type": "markdown",
   "metadata": {},
   "source": [
    "### Checking whether a property's living area is larger than the land area when it only has 1 floor and no basement"
   ]
  },
  {
   "cell_type": "markdown",
   "metadata": {},
   "source": [
    "Let's check the house which just have 1 floor"
   ]
  },
  {
   "cell_type": "code",
   "execution_count": 34,
   "metadata": {},
   "outputs": [
    {
     "data": {
      "text/html": [
       "<div>\n",
       "<style scoped>\n",
       "    .dataframe tbody tr th:only-of-type {\n",
       "        vertical-align: middle;\n",
       "    }\n",
       "\n",
       "    .dataframe tbody tr th {\n",
       "        vertical-align: top;\n",
       "    }\n",
       "\n",
       "    .dataframe thead th {\n",
       "        text-align: right;\n",
       "    }\n",
       "</style>\n",
       "<table border=\"1\" class=\"dataframe\">\n",
       "  <thead>\n",
       "    <tr style=\"text-align: right;\">\n",
       "      <th></th>\n",
       "      <th>date</th>\n",
       "      <th>price</th>\n",
       "      <th>bedrooms</th>\n",
       "      <th>bathrooms</th>\n",
       "      <th>sqft_living</th>\n",
       "      <th>sqft_lot</th>\n",
       "      <th>floors</th>\n",
       "      <th>waterfront</th>\n",
       "      <th>view</th>\n",
       "      <th>condition</th>\n",
       "      <th>sqft_above</th>\n",
       "      <th>sqft_basement</th>\n",
       "      <th>yr_built</th>\n",
       "      <th>yr_renovated</th>\n",
       "      <th>street</th>\n",
       "      <th>city</th>\n",
       "      <th>statezip</th>\n",
       "      <th>country</th>\n",
       "    </tr>\n",
       "  </thead>\n",
       "  <tbody>\n",
       "    <tr>\n",
       "      <th>2</th>\n",
       "      <td>20140502T000000</td>\n",
       "      <td>342000</td>\n",
       "      <td>3</td>\n",
       "      <td>2.00</td>\n",
       "      <td>1930</td>\n",
       "      <td>11947</td>\n",
       "      <td>1.0</td>\n",
       "      <td>0</td>\n",
       "      <td>0</td>\n",
       "      <td>4</td>\n",
       "      <td>1930</td>\n",
       "      <td>0</td>\n",
       "      <td>1966</td>\n",
       "      <td>NaN</td>\n",
       "      <td>26206-26214 143rd Ave SE</td>\n",
       "      <td>Kent</td>\n",
       "      <td>WA 98042</td>\n",
       "      <td>USA</td>\n",
       "    </tr>\n",
       "    <tr>\n",
       "      <th>3</th>\n",
       "      <td>20140502T000000</td>\n",
       "      <td>420000</td>\n",
       "      <td>3</td>\n",
       "      <td>2.25</td>\n",
       "      <td>2000</td>\n",
       "      <td>8030</td>\n",
       "      <td>1.0</td>\n",
       "      <td>0</td>\n",
       "      <td>0</td>\n",
       "      <td>4</td>\n",
       "      <td>1000</td>\n",
       "      <td>1000</td>\n",
       "      <td>1963</td>\n",
       "      <td>NaN</td>\n",
       "      <td>857 170th Pl NE</td>\n",
       "      <td>Bellevue</td>\n",
       "      <td>WA 98008</td>\n",
       "      <td>USA</td>\n",
       "    </tr>\n",
       "    <tr>\n",
       "      <th>4</th>\n",
       "      <td>20140502T000000</td>\n",
       "      <td>550000</td>\n",
       "      <td>4</td>\n",
       "      <td>2.50</td>\n",
       "      <td>1940</td>\n",
       "      <td>10500</td>\n",
       "      <td>1.0</td>\n",
       "      <td>0</td>\n",
       "      <td>0</td>\n",
       "      <td>4</td>\n",
       "      <td>1140</td>\n",
       "      <td>800</td>\n",
       "      <td>1976</td>\n",
       "      <td>NaN</td>\n",
       "      <td>9105 170th Ave NE</td>\n",
       "      <td>Redmond</td>\n",
       "      <td>WA 98052</td>\n",
       "      <td>USA</td>\n",
       "    </tr>\n",
       "  </tbody>\n",
       "</table>\n",
       "</div>"
      ],
      "text/plain": [
       "              date   price  bedrooms  bathrooms  sqft_living  sqft_lot  \\\n",
       "2  20140502T000000  342000         3       2.00         1930     11947   \n",
       "3  20140502T000000  420000         3       2.25         2000      8030   \n",
       "4  20140502T000000  550000         4       2.50         1940     10500   \n",
       "\n",
       "   floors  waterfront  view  condition  sqft_above  sqft_basement  yr_built  \\\n",
       "2     1.0           0     0          4        1930              0      1966   \n",
       "3     1.0           0     0          4        1000           1000      1963   \n",
       "4     1.0           0     0          4        1140            800      1976   \n",
       "\n",
       "   yr_renovated                    street      city  statezip country  \n",
       "2           NaN  26206-26214 143rd Ave SE      Kent  WA 98042     USA  \n",
       "3           NaN           857 170th Pl NE  Bellevue  WA 98008     USA  \n",
       "4           NaN         9105 170th Ave NE   Redmond  WA 98052     USA  "
      ]
     },
     "execution_count": 34,
     "metadata": {},
     "output_type": "execute_result"
    }
   ],
   "source": [
    "df_house[(df_house.floors==1)].head(3)"
   ]
  },
  {
   "cell_type": "markdown",
   "metadata": {},
   "source": [
    "From the table above, we cannot say that the basement area is a part of floor because when floor equals 1, a lot of properties still have a basement with large area, and obviously they are not mistakes or errors.\n",
    "\n",
    "Now let's check whether we have a property that living area is larger than land area when the property only has 1 floor and no basement."
   ]
  },
  {
   "cell_type": "code",
   "execution_count": 50,
   "metadata": {},
   "outputs": [
    {
     "data": {
      "text/html": [
       "<div>\n",
       "<style scoped>\n",
       "    .dataframe tbody tr th:only-of-type {\n",
       "        vertical-align: middle;\n",
       "    }\n",
       "\n",
       "    .dataframe tbody tr th {\n",
       "        vertical-align: top;\n",
       "    }\n",
       "\n",
       "    .dataframe thead th {\n",
       "        text-align: right;\n",
       "    }\n",
       "</style>\n",
       "<table border=\"1\" class=\"dataframe\">\n",
       "  <thead>\n",
       "    <tr style=\"text-align: right;\">\n",
       "      <th></th>\n",
       "      <th>date</th>\n",
       "      <th>price</th>\n",
       "      <th>bedrooms</th>\n",
       "      <th>bathrooms</th>\n",
       "      <th>sqft_living</th>\n",
       "      <th>sqft_lot</th>\n",
       "      <th>floors</th>\n",
       "      <th>waterfront</th>\n",
       "      <th>view</th>\n",
       "      <th>condition</th>\n",
       "      <th>sqft_above</th>\n",
       "      <th>sqft_basement</th>\n",
       "      <th>yr_built</th>\n",
       "      <th>yr_renovated</th>\n",
       "      <th>street</th>\n",
       "      <th>city</th>\n",
       "      <th>statezip</th>\n",
       "      <th>country</th>\n",
       "    </tr>\n",
       "  </thead>\n",
       "  <tbody>\n",
       "  </tbody>\n",
       "</table>\n",
       "</div>"
      ],
      "text/plain": [
       "Empty DataFrame\n",
       "Columns: [date, price, bedrooms, bathrooms, sqft_living, sqft_lot, floors, waterfront, view, condition, sqft_above, sqft_basement, yr_built, yr_renovated, street, city, statezip, country]\n",
       "Index: []"
      ]
     },
     "execution_count": 50,
     "metadata": {},
     "output_type": "execute_result"
    }
   ],
   "source": [
    "df_house[(df_house.floors==1) & (df_house.sqft_basement==0) & (df_house.sqft_living>df_house.sqft_lot)]"
   ]
  },
  {
   "cell_type": "markdown",
   "metadata": {},
   "source": [
    "Good news! It seems that no rows meet the condition."
   ]
  },
  {
   "cell_type": "markdown",
   "metadata": {},
   "source": [
    "## Checking duplicated records"
   ]
  },
  {
   "cell_type": "markdown",
   "metadata": {},
   "source": [
    "If we assume that street, city and date can uniquely identify a property bacause there will not be a property sold twice in one day, we can then use the three values to check whether or not the dataset contains duplicated records."
   ]
  },
  {
   "cell_type": "code",
   "execution_count": 51,
   "metadata": {},
   "outputs": [
    {
     "data": {
      "text/html": [
       "<div>\n",
       "<style scoped>\n",
       "    .dataframe tbody tr th:only-of-type {\n",
       "        vertical-align: middle;\n",
       "    }\n",
       "\n",
       "    .dataframe tbody tr th {\n",
       "        vertical-align: top;\n",
       "    }\n",
       "\n",
       "    .dataframe thead th {\n",
       "        text-align: right;\n",
       "    }\n",
       "</style>\n",
       "<table border=\"1\" class=\"dataframe\">\n",
       "  <thead>\n",
       "    <tr style=\"text-align: right;\">\n",
       "      <th></th>\n",
       "      <th>date</th>\n",
       "      <th>price</th>\n",
       "      <th>bedrooms</th>\n",
       "      <th>bathrooms</th>\n",
       "      <th>sqft_living</th>\n",
       "      <th>sqft_lot</th>\n",
       "      <th>floors</th>\n",
       "      <th>waterfront</th>\n",
       "      <th>view</th>\n",
       "      <th>condition</th>\n",
       "      <th>sqft_above</th>\n",
       "      <th>sqft_basement</th>\n",
       "      <th>yr_built</th>\n",
       "      <th>yr_renovated</th>\n",
       "      <th>street</th>\n",
       "      <th>city</th>\n",
       "      <th>statezip</th>\n",
       "      <th>country</th>\n",
       "    </tr>\n",
       "  </thead>\n",
       "  <tbody>\n",
       "    <tr>\n",
       "      <th>1017</th>\n",
       "      <td>2014-05-20</td>\n",
       "      <td>300000</td>\n",
       "      <td>6</td>\n",
       "      <td>5.25</td>\n",
       "      <td>2860</td>\n",
       "      <td>5682</td>\n",
       "      <td>2.0</td>\n",
       "      <td>0</td>\n",
       "      <td>0</td>\n",
       "      <td>3</td>\n",
       "      <td>2860</td>\n",
       "      <td>0</td>\n",
       "      <td>1978.0</td>\n",
       "      <td>NaN</td>\n",
       "      <td>606 5th St SE</td>\n",
       "      <td>Auburn</td>\n",
       "      <td>WA 98002</td>\n",
       "      <td>USA</td>\n",
       "    </tr>\n",
       "    <tr>\n",
       "      <th>1024</th>\n",
       "      <td>2014-05-20</td>\n",
       "      <td>206000</td>\n",
       "      <td>4</td>\n",
       "      <td>2.00</td>\n",
       "      <td>1700</td>\n",
       "      <td>6025</td>\n",
       "      <td>1.0</td>\n",
       "      <td>0</td>\n",
       "      <td>0</td>\n",
       "      <td>3</td>\n",
       "      <td>1700</td>\n",
       "      <td>0</td>\n",
       "      <td>1978.0</td>\n",
       "      <td>NaN</td>\n",
       "      <td>606 5th St SE</td>\n",
       "      <td>Auburn</td>\n",
       "      <td>WA 98002</td>\n",
       "      <td>USA</td>\n",
       "    </tr>\n",
       "    <tr>\n",
       "      <th>4336</th>\n",
       "      <td>2014-05-22</td>\n",
       "      <td>657500</td>\n",
       "      <td>3</td>\n",
       "      <td>2.50</td>\n",
       "      <td>2670</td>\n",
       "      <td>10496</td>\n",
       "      <td>2.0</td>\n",
       "      <td>0</td>\n",
       "      <td>0</td>\n",
       "      <td>3</td>\n",
       "      <td>2670</td>\n",
       "      <td>0</td>\n",
       "      <td>1989.0</td>\n",
       "      <td>NaN</td>\n",
       "      <td>1917 235th Ct NE</td>\n",
       "      <td>Sammamish</td>\n",
       "      <td>WA 98074</td>\n",
       "      <td>USA</td>\n",
       "    </tr>\n",
       "    <tr>\n",
       "      <th>4337</th>\n",
       "      <td>2014-05-22</td>\n",
       "      <td>657500</td>\n",
       "      <td>3</td>\n",
       "      <td>2.50</td>\n",
       "      <td>2670</td>\n",
       "      <td>10496</td>\n",
       "      <td>2.0</td>\n",
       "      <td>0</td>\n",
       "      <td>0</td>\n",
       "      <td>3</td>\n",
       "      <td>2670</td>\n",
       "      <td>0</td>\n",
       "      <td>1989.0</td>\n",
       "      <td>NaN</td>\n",
       "      <td>1917 235th Ct NE</td>\n",
       "      <td>Sammamish</td>\n",
       "      <td>WA 98074</td>\n",
       "      <td>USA</td>\n",
       "    </tr>\n",
       "  </tbody>\n",
       "</table>\n",
       "</div>"
      ],
      "text/plain": [
       "           date   price  bedrooms  bathrooms  sqft_living  sqft_lot  floors  \\\n",
       "1017 2014-05-20  300000         6       5.25         2860      5682     2.0   \n",
       "1024 2014-05-20  206000         4       2.00         1700      6025     1.0   \n",
       "4336 2014-05-22  657500         3       2.50         2670     10496     2.0   \n",
       "4337 2014-05-22  657500         3       2.50         2670     10496     2.0   \n",
       "\n",
       "      waterfront  view  condition  sqft_above  sqft_basement  yr_built  \\\n",
       "1017           0     0          3        2860              0    1978.0   \n",
       "1024           0     0          3        1700              0    1978.0   \n",
       "4336           0     0          3        2670              0    1989.0   \n",
       "4337           0     0          3        2670              0    1989.0   \n",
       "\n",
       "      yr_renovated            street       city  statezip country  \n",
       "1017           NaN     606 5th St SE     Auburn  WA 98002     USA  \n",
       "1024           NaN     606 5th St SE     Auburn  WA 98002     USA  \n",
       "4336           NaN  1917 235th Ct NE  Sammamish  WA 98074     USA  \n",
       "4337           NaN  1917 235th Ct NE  Sammamish  WA 98074     USA  "
      ]
     },
     "execution_count": 51,
     "metadata": {},
     "output_type": "execute_result"
    }
   ],
   "source": [
    "df_house[df_house.duplicated([\"street\", \"city\",\"date\"], keep=False)]"
   ]
  },
  {
   "cell_type": "markdown",
   "metadata": {},
   "source": [
    "The property in the street '606 5th St SE' might not be sold just once, we can check other dates to identify which one is more accurate."
   ]
  },
  {
   "cell_type": "code",
   "execution_count": 52,
   "metadata": {},
   "outputs": [
    {
     "data": {
      "text/html": [
       "<div>\n",
       "<style scoped>\n",
       "    .dataframe tbody tr th:only-of-type {\n",
       "        vertical-align: middle;\n",
       "    }\n",
       "\n",
       "    .dataframe tbody tr th {\n",
       "        vertical-align: top;\n",
       "    }\n",
       "\n",
       "    .dataframe thead th {\n",
       "        text-align: right;\n",
       "    }\n",
       "</style>\n",
       "<table border=\"1\" class=\"dataframe\">\n",
       "  <thead>\n",
       "    <tr style=\"text-align: right;\">\n",
       "      <th></th>\n",
       "      <th>date</th>\n",
       "      <th>price</th>\n",
       "      <th>bedrooms</th>\n",
       "      <th>bathrooms</th>\n",
       "      <th>sqft_living</th>\n",
       "      <th>sqft_lot</th>\n",
       "      <th>floors</th>\n",
       "      <th>waterfront</th>\n",
       "      <th>view</th>\n",
       "      <th>condition</th>\n",
       "      <th>sqft_above</th>\n",
       "      <th>sqft_basement</th>\n",
       "      <th>yr_built</th>\n",
       "      <th>yr_renovated</th>\n",
       "      <th>street</th>\n",
       "      <th>city</th>\n",
       "      <th>statezip</th>\n",
       "      <th>country</th>\n",
       "    </tr>\n",
       "  </thead>\n",
       "  <tbody>\n",
       "    <tr>\n",
       "      <th>1017</th>\n",
       "      <td>2014-05-20</td>\n",
       "      <td>300000</td>\n",
       "      <td>6</td>\n",
       "      <td>5.25</td>\n",
       "      <td>2860</td>\n",
       "      <td>5682</td>\n",
       "      <td>2.0</td>\n",
       "      <td>0</td>\n",
       "      <td>0</td>\n",
       "      <td>3</td>\n",
       "      <td>2860</td>\n",
       "      <td>0</td>\n",
       "      <td>1978.0</td>\n",
       "      <td>NaN</td>\n",
       "      <td>606 5th St SE</td>\n",
       "      <td>Auburn</td>\n",
       "      <td>WA 98002</td>\n",
       "      <td>USA</td>\n",
       "    </tr>\n",
       "    <tr>\n",
       "      <th>1024</th>\n",
       "      <td>2014-05-20</td>\n",
       "      <td>206000</td>\n",
       "      <td>4</td>\n",
       "      <td>2.00</td>\n",
       "      <td>1700</td>\n",
       "      <td>6025</td>\n",
       "      <td>1.0</td>\n",
       "      <td>0</td>\n",
       "      <td>0</td>\n",
       "      <td>3</td>\n",
       "      <td>1700</td>\n",
       "      <td>0</td>\n",
       "      <td>1978.0</td>\n",
       "      <td>NaN</td>\n",
       "      <td>606 5th St SE</td>\n",
       "      <td>Auburn</td>\n",
       "      <td>WA 98002</td>\n",
       "      <td>USA</td>\n",
       "    </tr>\n",
       "  </tbody>\n",
       "</table>\n",
       "</div>"
      ],
      "text/plain": [
       "           date   price  bedrooms  bathrooms  sqft_living  sqft_lot  floors  \\\n",
       "1017 2014-05-20  300000         6       5.25         2860      5682     2.0   \n",
       "1024 2014-05-20  206000         4       2.00         1700      6025     1.0   \n",
       "\n",
       "      waterfront  view  condition  sqft_above  sqft_basement  yr_built  \\\n",
       "1017           0     0          3        2860              0    1978.0   \n",
       "1024           0     0          3        1700              0    1978.0   \n",
       "\n",
       "      yr_renovated         street    city  statezip country  \n",
       "1017           NaN  606 5th St SE  Auburn  WA 98002     USA  \n",
       "1024           NaN  606 5th St SE  Auburn  WA 98002     USA  "
      ]
     },
     "execution_count": 52,
     "metadata": {},
     "output_type": "execute_result"
    }
   ],
   "source": [
    "df_house[df_house.street=='606 5th St SE']"
   ]
  },
  {
   "cell_type": "markdown",
   "metadata": {},
   "source": [
    "Assume that there is not any selling records here on that property, but we can check the status of other properties which have similar land area in the same city."
   ]
  },
  {
   "cell_type": "code",
   "execution_count": 53,
   "metadata": {
    "scrolled": true
   },
   "outputs": [
    {
     "data": {
      "text/html": [
       "<div>\n",
       "<style scoped>\n",
       "    .dataframe tbody tr th:only-of-type {\n",
       "        vertical-align: middle;\n",
       "    }\n",
       "\n",
       "    .dataframe tbody tr th {\n",
       "        vertical-align: top;\n",
       "    }\n",
       "\n",
       "    .dataframe thead th {\n",
       "        text-align: right;\n",
       "    }\n",
       "</style>\n",
       "<table border=\"1\" class=\"dataframe\">\n",
       "  <thead>\n",
       "    <tr style=\"text-align: right;\">\n",
       "      <th></th>\n",
       "      <th>date</th>\n",
       "      <th>price</th>\n",
       "      <th>bedrooms</th>\n",
       "      <th>bathrooms</th>\n",
       "      <th>sqft_living</th>\n",
       "      <th>sqft_lot</th>\n",
       "      <th>floors</th>\n",
       "      <th>waterfront</th>\n",
       "      <th>view</th>\n",
       "      <th>condition</th>\n",
       "      <th>sqft_above</th>\n",
       "      <th>sqft_basement</th>\n",
       "      <th>yr_built</th>\n",
       "      <th>yr_renovated</th>\n",
       "      <th>street</th>\n",
       "      <th>city</th>\n",
       "      <th>statezip</th>\n",
       "      <th>country</th>\n",
       "    </tr>\n",
       "  </thead>\n",
       "  <tbody>\n",
       "    <tr>\n",
       "      <th>103</th>\n",
       "      <td>2014-05-05</td>\n",
       "      <td>328000</td>\n",
       "      <td>4</td>\n",
       "      <td>2.5</td>\n",
       "      <td>2370</td>\n",
       "      <td>6500</td>\n",
       "      <td>2.0</td>\n",
       "      <td>0</td>\n",
       "      <td>0</td>\n",
       "      <td>3</td>\n",
       "      <td>2370</td>\n",
       "      <td>0</td>\n",
       "      <td>1998.0</td>\n",
       "      <td>NaN</td>\n",
       "      <td>12621 SE 300th Way</td>\n",
       "      <td>Auburn</td>\n",
       "      <td>WA 98092</td>\n",
       "      <td>USA</td>\n",
       "    </tr>\n",
       "  </tbody>\n",
       "</table>\n",
       "</div>"
      ],
      "text/plain": [
       "          date   price  bedrooms  bathrooms  sqft_living  sqft_lot  floors  \\\n",
       "103 2014-05-05  328000         4        2.5         2370      6500     2.0   \n",
       "\n",
       "     waterfront  view  condition  sqft_above  sqft_basement  yr_built  \\\n",
       "103           0     0          3        2370              0    1998.0   \n",
       "\n",
       "     yr_renovated              street    city  statezip country  \n",
       "103           NaN  12621 SE 300th Way  Auburn  WA 98092     USA  "
      ]
     },
     "execution_count": 53,
     "metadata": {},
     "output_type": "execute_result"
    }
   ],
   "source": [
    "df_house[(df_house.city=='Auburn') & ((df_house.sqft_lot>5000) & (df_house.sqft_lot<7000))].head(1)"
   ]
  },
  {
   "cell_type": "code",
   "execution_count": 54,
   "metadata": {},
   "outputs": [
    {
     "data": {
      "text/html": [
       "<div>\n",
       "<style scoped>\n",
       "    .dataframe tbody tr th:only-of-type {\n",
       "        vertical-align: middle;\n",
       "    }\n",
       "\n",
       "    .dataframe tbody tr th {\n",
       "        vertical-align: top;\n",
       "    }\n",
       "\n",
       "    .dataframe thead th {\n",
       "        text-align: right;\n",
       "    }\n",
       "</style>\n",
       "<table border=\"1\" class=\"dataframe\">\n",
       "  <thead>\n",
       "    <tr style=\"text-align: right;\">\n",
       "      <th></th>\n",
       "      <th>date</th>\n",
       "      <th>price</th>\n",
       "      <th>bedrooms</th>\n",
       "      <th>bathrooms</th>\n",
       "      <th>sqft_living</th>\n",
       "      <th>sqft_lot</th>\n",
       "      <th>floors</th>\n",
       "      <th>waterfront</th>\n",
       "      <th>view</th>\n",
       "      <th>condition</th>\n",
       "      <th>sqft_above</th>\n",
       "      <th>sqft_basement</th>\n",
       "      <th>yr_built</th>\n",
       "      <th>yr_renovated</th>\n",
       "      <th>street</th>\n",
       "      <th>city</th>\n",
       "      <th>statezip</th>\n",
       "      <th>country</th>\n",
       "    </tr>\n",
       "  </thead>\n",
       "  <tbody>\n",
       "    <tr>\n",
       "      <th>122</th>\n",
       "      <td>2014-05-05</td>\n",
       "      <td>2280000</td>\n",
       "      <td>7</td>\n",
       "      <td>8.00</td>\n",
       "      <td>13540</td>\n",
       "      <td>307752</td>\n",
       "      <td>3.0</td>\n",
       "      <td>0</td>\n",
       "      <td>4</td>\n",
       "      <td>3</td>\n",
       "      <td>9410</td>\n",
       "      <td>4130</td>\n",
       "      <td>1999.0</td>\n",
       "      <td>NaN</td>\n",
       "      <td>26408 NE 70th St</td>\n",
       "      <td>Redmond</td>\n",
       "      <td>WA 98053</td>\n",
       "      <td>USA</td>\n",
       "    </tr>\n",
       "    <tr>\n",
       "      <th>291</th>\n",
       "      <td>2014-05-07</td>\n",
       "      <td>540000</td>\n",
       "      <td>7</td>\n",
       "      <td>5.75</td>\n",
       "      <td>3700</td>\n",
       "      <td>7647</td>\n",
       "      <td>2.0</td>\n",
       "      <td>0</td>\n",
       "      <td>1</td>\n",
       "      <td>3</td>\n",
       "      <td>3700</td>\n",
       "      <td>0</td>\n",
       "      <td>1948.0</td>\n",
       "      <td>1984.0</td>\n",
       "      <td>15007-15299 37th Ave NE</td>\n",
       "      <td>Lake Forest Park</td>\n",
       "      <td>WA 98155</td>\n",
       "      <td>USA</td>\n",
       "    </tr>\n",
       "    <tr>\n",
       "      <th>1017</th>\n",
       "      <td>2014-05-20</td>\n",
       "      <td>300000</td>\n",
       "      <td>6</td>\n",
       "      <td>5.25</td>\n",
       "      <td>2860</td>\n",
       "      <td>5682</td>\n",
       "      <td>2.0</td>\n",
       "      <td>0</td>\n",
       "      <td>0</td>\n",
       "      <td>3</td>\n",
       "      <td>2860</td>\n",
       "      <td>0</td>\n",
       "      <td>1978.0</td>\n",
       "      <td>NaN</td>\n",
       "      <td>606 5th St SE</td>\n",
       "      <td>Auburn</td>\n",
       "      <td>WA 98002</td>\n",
       "      <td>USA</td>\n",
       "    </tr>\n",
       "    <tr>\n",
       "      <th>3004</th>\n",
       "      <td>2014-06-20</td>\n",
       "      <td>1240000</td>\n",
       "      <td>7</td>\n",
       "      <td>5.50</td>\n",
       "      <td>6630</td>\n",
       "      <td>13782</td>\n",
       "      <td>2.0</td>\n",
       "      <td>0</td>\n",
       "      <td>0</td>\n",
       "      <td>3</td>\n",
       "      <td>4930</td>\n",
       "      <td>1700</td>\n",
       "      <td>2004.0</td>\n",
       "      <td>NaN</td>\n",
       "      <td>16659 SE 69th Way</td>\n",
       "      <td>Bellevue</td>\n",
       "      <td>WA 98006</td>\n",
       "      <td>USA</td>\n",
       "    </tr>\n",
       "  </tbody>\n",
       "</table>\n",
       "</div>"
      ],
      "text/plain": [
       "           date    price  bedrooms  bathrooms  sqft_living  sqft_lot  floors  \\\n",
       "122  2014-05-05  2280000         7       8.00        13540    307752     3.0   \n",
       "291  2014-05-07   540000         7       5.75         3700      7647     2.0   \n",
       "1017 2014-05-20   300000         6       5.25         2860      5682     2.0   \n",
       "3004 2014-06-20  1240000         7       5.50         6630     13782     2.0   \n",
       "\n",
       "      waterfront  view  condition  sqft_above  sqft_basement  yr_built  \\\n",
       "122            0     4          3        9410           4130    1999.0   \n",
       "291            0     1          3        3700              0    1948.0   \n",
       "1017           0     0          3        2860              0    1978.0   \n",
       "3004           0     0          3        4930           1700    2004.0   \n",
       "\n",
       "      yr_renovated                   street              city  statezip  \\\n",
       "122            NaN         26408 NE 70th St           Redmond  WA 98053   \n",
       "291         1984.0  15007-15299 37th Ave NE  Lake Forest Park  WA 98155   \n",
       "1017           NaN            606 5th St SE            Auburn  WA 98002   \n",
       "3004           NaN        16659 SE 69th Way          Bellevue  WA 98006   \n",
       "\n",
       "     country  \n",
       "122      USA  \n",
       "291      USA  \n",
       "1017     USA  \n",
       "3004     USA  "
      ]
     },
     "execution_count": 54,
     "metadata": {},
     "output_type": "execute_result"
    }
   ],
   "source": [
    "df_house[(df_house.bedrooms>5) & (df_house.bathrooms>5)]"
   ]
  },
  {
   "cell_type": "markdown",
   "metadata": {},
   "source": [
    "Comparing with other properies in this area, the first observation is at the street '606 5th St SE', the price for both properties are resonable. It seems to be a town house which share one address. The first proerty with higher living area has higher price, but the second one has lower living area and lower housing price. So it is reasonable to keep these houses in the table since it could happen in the real world.\n",
    "\n",
    "In terms of the row 4336 and the row 4337, they are completely the same. I just remove the first record and keep the second one for this properties."
   ]
  },
  {
   "cell_type": "code",
   "execution_count": 55,
   "metadata": {},
   "outputs": [],
   "source": [
    "df_house.drop_duplicates([\"street\", \"city\", \"date\", \"price\"], keep='last', inplace=True)"
   ]
  },
  {
   "cell_type": "markdown",
   "metadata": {
    "collapsed": true
   },
   "source": [
    "### Now let's check the duplicate again in case we have other duplicate omissions"
   ]
  },
  {
   "cell_type": "code",
   "execution_count": 56,
   "metadata": {},
   "outputs": [
    {
     "data": {
      "text/html": [
       "<div>\n",
       "<style scoped>\n",
       "    .dataframe tbody tr th:only-of-type {\n",
       "        vertical-align: middle;\n",
       "    }\n",
       "\n",
       "    .dataframe tbody tr th {\n",
       "        vertical-align: top;\n",
       "    }\n",
       "\n",
       "    .dataframe thead th {\n",
       "        text-align: right;\n",
       "    }\n",
       "</style>\n",
       "<table border=\"1\" class=\"dataframe\">\n",
       "  <thead>\n",
       "    <tr style=\"text-align: right;\">\n",
       "      <th></th>\n",
       "      <th>date</th>\n",
       "      <th>price</th>\n",
       "      <th>bedrooms</th>\n",
       "      <th>bathrooms</th>\n",
       "      <th>sqft_living</th>\n",
       "      <th>sqft_lot</th>\n",
       "      <th>floors</th>\n",
       "      <th>waterfront</th>\n",
       "      <th>view</th>\n",
       "      <th>condition</th>\n",
       "      <th>sqft_above</th>\n",
       "      <th>sqft_basement</th>\n",
       "      <th>yr_built</th>\n",
       "      <th>yr_renovated</th>\n",
       "      <th>street</th>\n",
       "      <th>city</th>\n",
       "      <th>statezip</th>\n",
       "      <th>country</th>\n",
       "    </tr>\n",
       "  </thead>\n",
       "  <tbody>\n",
       "    <tr>\n",
       "      <th>2271</th>\n",
       "      <td>2014-06-10</td>\n",
       "      <td>399950</td>\n",
       "      <td>2</td>\n",
       "      <td>1.0</td>\n",
       "      <td>710</td>\n",
       "      <td>1157</td>\n",
       "      <td>2.0</td>\n",
       "      <td>0</td>\n",
       "      <td>0</td>\n",
       "      <td>4</td>\n",
       "      <td>710</td>\n",
       "      <td>0</td>\n",
       "      <td>1943.0</td>\n",
       "      <td>NaN</td>\n",
       "      <td>2358 Fairview Ave E</td>\n",
       "      <td>Seattle</td>\n",
       "      <td>WA 98102</td>\n",
       "      <td>USA</td>\n",
       "    </tr>\n",
       "    <tr>\n",
       "      <th>2350</th>\n",
       "      <td>2014-06-11</td>\n",
       "      <td>399950</td>\n",
       "      <td>2</td>\n",
       "      <td>1.0</td>\n",
       "      <td>710</td>\n",
       "      <td>1131</td>\n",
       "      <td>2.0</td>\n",
       "      <td>0</td>\n",
       "      <td>0</td>\n",
       "      <td>4</td>\n",
       "      <td>710</td>\n",
       "      <td>0</td>\n",
       "      <td>1943.0</td>\n",
       "      <td>NaN</td>\n",
       "      <td>2358 Fairview Ave E</td>\n",
       "      <td>Seattle</td>\n",
       "      <td>WA 98102</td>\n",
       "      <td>USA</td>\n",
       "    </tr>\n",
       "  </tbody>\n",
       "</table>\n",
       "</div>"
      ],
      "text/plain": [
       "           date   price  bedrooms  bathrooms  sqft_living  sqft_lot  floors  \\\n",
       "2271 2014-06-10  399950         2        1.0          710      1157     2.0   \n",
       "2350 2014-06-11  399950         2        1.0          710      1131     2.0   \n",
       "\n",
       "      waterfront  view  condition  sqft_above  sqft_basement  yr_built  \\\n",
       "2271           0     0          4         710              0    1943.0   \n",
       "2350           0     0          4         710              0    1943.0   \n",
       "\n",
       "      yr_renovated               street     city  statezip country  \n",
       "2271           NaN  2358 Fairview Ave E  Seattle  WA 98102     USA  \n",
       "2350           NaN  2358 Fairview Ave E  Seattle  WA 98102     USA  "
      ]
     },
     "execution_count": 56,
     "metadata": {},
     "output_type": "execute_result"
    }
   ],
   "source": [
    "df_house[df_house.duplicated([\"street\", \"price\"], keep=False)]"
   ]
  },
  {
   "cell_type": "markdown",
   "metadata": {},
   "source": [
    "We can find the row 2271 property sold just one day eariler than the row 2350 property. It can be regarded as a typo, but also can be seemed as reasonable rows. If we regard it as a normal case, we can say that the property had been sold in 10th June and sold at the second time at 11th June. I regard it as a normal case because it could happen in the real world even though the second owner did not gain or lose any profit. "
   ]
  },
  {
   "cell_type": "markdown",
   "metadata": {},
   "source": [
    "***"
   ]
  },
  {
   "cell_type": "markdown",
   "metadata": {},
   "source": [
    "## Outliers"
   ]
  },
  {
   "cell_type": "markdown",
   "metadata": {},
   "source": [
    "The reason why I remove outliers before filling missing values is that outliers will influence linear regression model as well as r-squares when predicting missing values."
   ]
  },
  {
   "cell_type": "markdown",
   "metadata": {},
   "source": [
    "###  Removing missing values\n",
    "\n",
    "missing values should be changed to 'NaN' in case of finding outliers"
   ]
  },
  {
   "cell_type": "markdown",
   "metadata": {},
   "source": [
    "Price equals 0 can be regarded as a missing value because a property can not be sold without any charge in the real property market"
   ]
  },
  {
   "cell_type": "code",
   "execution_count": 57,
   "metadata": {},
   "outputs": [],
   "source": [
    "#replace 0 with NaN\n",
    "df_house['price'].replace(0,np.NaN,inplace=True)"
   ]
  },
  {
   "cell_type": "markdown",
   "metadata": {},
   "source": [
    "### Univariate Outlier Detection Methods\n",
    "* The 3σ Edit Rule\n",
    "* The Boxplots graphical Detections"
   ]
  },
  {
   "cell_type": "markdown",
   "metadata": {},
   "source": [
    "##### 1.The 3σ Edit Rule"
   ]
  },
  {
   "cell_type": "markdown",
   "metadata": {},
   "source": [
    "The most common way to detect outliers in this case is the 3σ edit rule, which indicates that any point lying farther than three standard deviations from the mean is an outlier. "
   ]
  },
  {
   "cell_type": "code",
   "execution_count": 58,
   "metadata": {},
   "outputs": [
    {
     "data": {
      "text/plain": [
       "count    4.352000e+03\n",
       "mean     5.649557e+05\n",
       "std      5.728973e+05\n",
       "min      7.800000e+03\n",
       "25%      3.300000e+05\n",
       "50%      4.710000e+05\n",
       "75%      6.600000e+05\n",
       "max      2.659000e+07\n",
       "Name: price, dtype: float64"
      ]
     },
     "execution_count": 58,
     "metadata": {},
     "output_type": "execute_result"
    }
   ],
   "source": [
    "df_house['price'].describe()"
   ]
  },
  {
   "cell_type": "code",
   "execution_count": 61,
   "metadata": {},
   "outputs": [
    {
     "data": {
      "text/plain": [
       "1718691.9460004922"
      ]
     },
     "execution_count": 61,
     "metadata": {},
     "output_type": "execute_result"
    }
   ],
   "source": [
    "#calculate the distance of 3*standard deviation\n",
    "three_sigma=3*(df_house.price.std())\n",
    "three_sigma"
   ]
  },
  {
   "cell_type": "code",
   "execution_count": 62,
   "metadata": {
    "collapsed": true
   },
   "outputs": [],
   "source": [
    "#finding the rows that has 3sd far away from the mean\n",
    "price_Editrule=[]\n",
    "for i in range(len(df_house)):\n",
    "    #calculate the mean of price\n",
    "    price_mean=df_house.price.mean()\n",
    "    #absolute value of price\n",
    "    absolute_value=abs(df_house.price.iloc[i])\n",
    "    #distance of 3sd away from mean\n",
    "    a=price_mean+three_sigma\n",
    "    #justify the price of property larger than 3sd from the mean\n",
    "    if absolute_value>a:\n",
    "        price_Editrule.append(i)"
   ]
  },
  {
   "cell_type": "code",
   "execution_count": 63,
   "metadata": {},
   "outputs": [
    {
     "data": {
      "text/plain": [
       "30"
      ]
     },
     "execution_count": 63,
     "metadata": {},
     "output_type": "execute_result"
    }
   ],
   "source": [
    "len(price_Editrule)"
   ]
  },
  {
   "cell_type": "code",
   "execution_count": 29,
   "metadata": {
    "scrolled": true
   },
   "outputs": [],
   "source": [
    "df_house.iloc[price_Editrule]"
   ]
  },
  {
   "cell_type": "markdown",
   "metadata": {},
   "source": [
    "There are 30 outliers detected from this calculation. The basic idea of the edit rule is if the data samples are well approximated by an i.i.d. sequence of Gaussian random variables with mean μ and standard deviation σ, the probability of observing a value farther than three standard deviations from the mean is only about 0.3%. However, 30 outliers account for 0.65% of total sample properities in this case. A common difficulty for this method is the sensitivity to mean and SD value that are themselves affected by the outliers. According to this definition, we can conclude that if there is a data point farther than an outlier is also an outlier. So I would like to use other methods to check the outliers."
   ]
  },
  {
   "cell_type": "markdown",
   "metadata": {},
   "source": [
    "****"
   ]
  },
  {
   "cell_type": "markdown",
   "metadata": {},
   "source": [
    "##### 2.Boxplots Detection"
   ]
  },
  {
   "cell_type": "markdown",
   "metadata": {},
   "source": [
    "Graphical methods are very important for visualising and identifying outliers especially with data represented in few dimensions. Boxplot is a common graphical method that has an advantage of robustness against outliers because it is the usage of quartiles. "
   ]
  },
  {
   "cell_type": "code",
   "execution_count": 65,
   "metadata": {},
   "outputs": [
    {
     "data": {
      "image/png": "[encoded data removed]",
      "text/plain": [
       "<matplotlib.figure.Figure at 0xef9c630>"
      ]
     },
     "metadata": {},
     "output_type": "display_data"
    }
   ],
   "source": [
    "df_house.boxplot(column='price',sym='k.')\n",
    "plt.show()"
   ]
  },
  {
   "cell_type": "code",
   "execution_count": 66,
   "metadata": {},
   "outputs": [
    {
     "data": {
      "text/plain": [
       "count    4.352000e+03\n",
       "mean     5.649557e+05\n",
       "std      5.728973e+05\n",
       "min      7.800000e+03\n",
       "25%      3.300000e+05\n",
       "50%      4.710000e+05\n",
       "75%      6.600000e+05\n",
       "max      2.659000e+07\n",
       "Name: price, dtype: float64"
      ]
     },
     "execution_count": 66,
     "metadata": {},
     "output_type": "execute_result"
    }
   ],
   "source": [
    "df_house['price'].describe()"
   ]
  },
  {
   "cell_type": "markdown",
   "metadata": {},
   "source": [
    "From the boxplot and price description above, we can see that the y-axis is shown in million. The median value is shown at the bottom in the box plot. It is hard to distinguish any deviation below the median. Therefore, we take the natural log of the house prices to look for any clear deviation."
   ]
  },
  {
   "cell_type": "code",
   "execution_count": 59,
   "metadata": {},
   "outputs": [],
   "source": [
    "#log of each price\n",
    "df_house['price']=np.log(df_house.price)"
   ]
  },
  {
   "cell_type": "code",
   "execution_count": 61,
   "metadata": {},
   "outputs": [
    {
     "data": {
      "text/html": [
       "<div>\n",
       "<style scoped>\n",
       "    .dataframe tbody tr th:only-of-type {\n",
       "        vertical-align: middle;\n",
       "    }\n",
       "\n",
       "    .dataframe tbody tr th {\n",
       "        vertical-align: top;\n",
       "    }\n",
       "\n",
       "    .dataframe thead th {\n",
       "        text-align: right;\n",
       "    }\n",
       "</style>\n",
       "<table border=\"1\" class=\"dataframe\">\n",
       "  <thead>\n",
       "    <tr style=\"text-align: right;\">\n",
       "      <th></th>\n",
       "      <th>date</th>\n",
       "      <th>price</th>\n",
       "      <th>bedrooms</th>\n",
       "      <th>bathrooms</th>\n",
       "      <th>sqft_living</th>\n",
       "      <th>sqft_lot</th>\n",
       "      <th>floors</th>\n",
       "      <th>waterfront</th>\n",
       "      <th>view</th>\n",
       "      <th>condition</th>\n",
       "      <th>sqft_above</th>\n",
       "      <th>sqft_basement</th>\n",
       "      <th>yr_built</th>\n",
       "      <th>yr_renovated</th>\n",
       "      <th>street</th>\n",
       "      <th>city</th>\n",
       "      <th>statezip</th>\n",
       "      <th>country</th>\n",
       "    </tr>\n",
       "  </thead>\n",
       "  <tbody>\n",
       "    <tr>\n",
       "      <th>0</th>\n",
       "      <td>2014-05-02</td>\n",
       "      <td>12.653958</td>\n",
       "      <td>3</td>\n",
       "      <td>1.5</td>\n",
       "      <td>1340</td>\n",
       "      <td>7912</td>\n",
       "      <td>1.5</td>\n",
       "      <td>0</td>\n",
       "      <td>0</td>\n",
       "      <td>3</td>\n",
       "      <td>1340</td>\n",
       "      <td>0</td>\n",
       "      <td>1955.0</td>\n",
       "      <td>NaN</td>\n",
       "      <td>18810 Densmore Ave N</td>\n",
       "      <td>Shoreline</td>\n",
       "      <td>WA 98133</td>\n",
       "      <td>USA</td>\n",
       "    </tr>\n",
       "    <tr>\n",
       "      <th>1</th>\n",
       "      <td>2014-05-02</td>\n",
       "      <td>14.684290</td>\n",
       "      <td>5</td>\n",
       "      <td>2.5</td>\n",
       "      <td>3650</td>\n",
       "      <td>9050</td>\n",
       "      <td>2.0</td>\n",
       "      <td>0</td>\n",
       "      <td>4</td>\n",
       "      <td>5</td>\n",
       "      <td>3370</td>\n",
       "      <td>280</td>\n",
       "      <td>1921.0</td>\n",
       "      <td>NaN</td>\n",
       "      <td>709 W Blaine St</td>\n",
       "      <td>Seattle</td>\n",
       "      <td>WA 98119</td>\n",
       "      <td>USA</td>\n",
       "    </tr>\n",
       "    <tr>\n",
       "      <th>2</th>\n",
       "      <td>2014-05-02</td>\n",
       "      <td>12.742566</td>\n",
       "      <td>3</td>\n",
       "      <td>2.0</td>\n",
       "      <td>1930</td>\n",
       "      <td>11947</td>\n",
       "      <td>1.0</td>\n",
       "      <td>0</td>\n",
       "      <td>0</td>\n",
       "      <td>4</td>\n",
       "      <td>1930</td>\n",
       "      <td>0</td>\n",
       "      <td>1966.0</td>\n",
       "      <td>NaN</td>\n",
       "      <td>26206-26214 143rd Ave SE</td>\n",
       "      <td>Kent</td>\n",
       "      <td>WA 98042</td>\n",
       "      <td>USA</td>\n",
       "    </tr>\n",
       "  </tbody>\n",
       "</table>\n",
       "</div>"
      ],
      "text/plain": [
       "        date      price  bedrooms  bathrooms  sqft_living  sqft_lot  floors  \\\n",
       "0 2014-05-02  12.653958         3        1.5         1340      7912     1.5   \n",
       "1 2014-05-02  14.684290         5        2.5         3650      9050     2.0   \n",
       "2 2014-05-02  12.742566         3        2.0         1930     11947     1.0   \n",
       "\n",
       "   waterfront  view  condition  sqft_above  sqft_basement  yr_built  \\\n",
       "0           0     0          3        1340              0    1955.0   \n",
       "1           0     4          5        3370            280    1921.0   \n",
       "2           0     0          4        1930              0    1966.0   \n",
       "\n",
       "   yr_renovated                    street       city  statezip country  \n",
       "0           NaN      18810 Densmore Ave N  Shoreline  WA 98133     USA  \n",
       "1           NaN           709 W Blaine St    Seattle  WA 98119     USA  \n",
       "2           NaN  26206-26214 143rd Ave SE       Kent  WA 98042     USA  "
      ]
     },
     "execution_count": 61,
     "metadata": {},
     "output_type": "execute_result"
    }
   ],
   "source": [
    "#show the first 5 rows\n",
    "df_house.head(3)"
   ]
  },
  {
   "cell_type": "code",
   "execution_count": 69,
   "metadata": {},
   "outputs": [
    {
     "data": {
      "image/png": "[encoded data removed]",
      "text/plain": [
       "<matplotlib.figure.Figure at 0xf5df8d0>"
      ]
     },
     "metadata": {},
     "output_type": "display_data"
    }
   ],
   "source": [
    "#Now plot a boxplot again\n",
    "df_house.boxplot(column='price',sym='k.')\n",
    "plt.show()"
   ]
  },
  {
   "cell_type": "markdown",
   "metadata": {},
   "source": [
    "From the boxplot shows above, we can clearly find the outliers are biased from the median"
   ]
  },
  {
   "cell_type": "code",
   "execution_count": 70,
   "metadata": {},
   "outputs": [
    {
     "data": {
      "text/html": [
       "<div>\n",
       "<style>\n",
       "    .dataframe thead tr:only-child th {\n",
       "        text-align: right;\n",
       "    }\n",
       "\n",
       "    .dataframe thead th {\n",
       "        text-align: left;\n",
       "    }\n",
       "\n",
       "    .dataframe tbody tr th {\n",
       "        vertical-align: top;\n",
       "    }\n",
       "</style>\n",
       "<table border=\"1\" class=\"dataframe\">\n",
       "  <thead>\n",
       "    <tr style=\"text-align: right;\">\n",
       "      <th></th>\n",
       "      <th>date</th>\n",
       "      <th>price</th>\n",
       "      <th>bedrooms</th>\n",
       "      <th>bathrooms</th>\n",
       "      <th>sqft_living</th>\n",
       "      <th>sqft_lot</th>\n",
       "      <th>floors</th>\n",
       "      <th>waterfront</th>\n",
       "      <th>view</th>\n",
       "      <th>condition</th>\n",
       "      <th>sqft_above</th>\n",
       "      <th>sqft_basement</th>\n",
       "      <th>yr_built</th>\n",
       "      <th>yr_renovated</th>\n",
       "      <th>street</th>\n",
       "      <th>city</th>\n",
       "      <th>statezip</th>\n",
       "      <th>country</th>\n",
       "    </tr>\n",
       "  </thead>\n",
       "  <tbody>\n",
       "    <tr>\n",
       "      <th>4352</th>\n",
       "      <td>2014-05-06</td>\n",
       "      <td>8.961879</td>\n",
       "      <td>2</td>\n",
       "      <td>1.0</td>\n",
       "      <td>780</td>\n",
       "      <td>16344</td>\n",
       "      <td>1.0</td>\n",
       "      <td>0</td>\n",
       "      <td>0</td>\n",
       "      <td>1</td>\n",
       "      <td>780</td>\n",
       "      <td>0</td>\n",
       "      <td>1942</td>\n",
       "      <td>NaN</td>\n",
       "      <td>4229 S 144th St</td>\n",
       "      <td>Tukwila</td>\n",
       "      <td>WA 98168</td>\n",
       "      <td>USA</td>\n",
       "    </tr>\n",
       "  </tbody>\n",
       "</table>\n",
       "</div>"
      ],
      "text/plain": [
       "           date     price  bedrooms  bathrooms  sqft_living  sqft_lot  floors  \\\n",
       "4352 2014-05-06  8.961879         2        1.0          780     16344     1.0   \n",
       "\n",
       "      waterfront  view  condition  sqft_above  sqft_basement  yr_built  \\\n",
       "4352           0     0          1         780              0      1942   \n",
       "\n",
       "      yr_renovated           street     city  statezip country  \n",
       "4352           NaN  4229 S 144th St  Tukwila  WA 98168     USA  "
      ]
     },
     "execution_count": 70,
     "metadata": {},
     "output_type": "execute_result"
    }
   ],
   "source": [
    "#checking the price which lower than 10 after logarithm\n",
    "df_house[df_house.price<10]"
   ]
  },
  {
   "cell_type": "markdown",
   "metadata": {},
   "source": [
    "This is a weired price for a property. We can see that the land area is quite large but living area is quite small. Also, it has the least condition and only 2 bedrooms. There is a large probability that a mistake occur either in price or in land area. Therefore, this data must be an outlier here."
   ]
  },
  {
   "cell_type": "code",
   "execution_count": 71,
   "metadata": {},
   "outputs": [
    {
     "data": {
      "text/html": [
       "<div>\n",
       "<style>\n",
       "    .dataframe thead tr:only-child th {\n",
       "        text-align: right;\n",
       "    }\n",
       "\n",
       "    .dataframe thead th {\n",
       "        text-align: left;\n",
       "    }\n",
       "\n",
       "    .dataframe tbody tr th {\n",
       "        vertical-align: top;\n",
       "    }\n",
       "</style>\n",
       "<table border=\"1\" class=\"dataframe\">\n",
       "  <thead>\n",
       "    <tr style=\"text-align: right;\">\n",
       "      <th></th>\n",
       "      <th>date</th>\n",
       "      <th>price</th>\n",
       "      <th>bedrooms</th>\n",
       "      <th>bathrooms</th>\n",
       "      <th>sqft_living</th>\n",
       "      <th>sqft_lot</th>\n",
       "      <th>floors</th>\n",
       "      <th>waterfront</th>\n",
       "      <th>view</th>\n",
       "      <th>condition</th>\n",
       "      <th>sqft_above</th>\n",
       "      <th>sqft_basement</th>\n",
       "      <th>yr_built</th>\n",
       "      <th>yr_renovated</th>\n",
       "      <th>street</th>\n",
       "      <th>city</th>\n",
       "      <th>statezip</th>\n",
       "      <th>country</th>\n",
       "    </tr>\n",
       "  </thead>\n",
       "  <tbody>\n",
       "    <tr>\n",
       "      <th>2286</th>\n",
       "      <td>2014-06-11</td>\n",
       "      <td>15.770310</td>\n",
       "      <td>5</td>\n",
       "      <td>4.5</td>\n",
       "      <td>10040</td>\n",
       "      <td>37325</td>\n",
       "      <td>2.0</td>\n",
       "      <td>1</td>\n",
       "      <td>2</td>\n",
       "      <td>3</td>\n",
       "      <td>7680</td>\n",
       "      <td>2360</td>\n",
       "      <td>1940</td>\n",
       "      <td>2001.0</td>\n",
       "      <td>4442 95th Ave NE</td>\n",
       "      <td>Bellevue</td>\n",
       "      <td>WA 98004</td>\n",
       "      <td>USA</td>\n",
       "    </tr>\n",
       "    <tr>\n",
       "      <th>4347</th>\n",
       "      <td>2014-06-23</td>\n",
       "      <td>16.372660</td>\n",
       "      <td>3</td>\n",
       "      <td>2.5</td>\n",
       "      <td>2190</td>\n",
       "      <td>11394</td>\n",
       "      <td>1.0</td>\n",
       "      <td>0</td>\n",
       "      <td>0</td>\n",
       "      <td>3</td>\n",
       "      <td>1550</td>\n",
       "      <td>640</td>\n",
       "      <td>1956</td>\n",
       "      <td>NaN</td>\n",
       "      <td>5426 40th Ave W</td>\n",
       "      <td>Seattle</td>\n",
       "      <td>WA 98199</td>\n",
       "      <td>USA</td>\n",
       "    </tr>\n",
       "    <tr>\n",
       "      <th>4351</th>\n",
       "      <td>2014-07-03</td>\n",
       "      <td>17.096046</td>\n",
       "      <td>3</td>\n",
       "      <td>2.0</td>\n",
       "      <td>1180</td>\n",
       "      <td>7793</td>\n",
       "      <td>1.0</td>\n",
       "      <td>0</td>\n",
       "      <td>0</td>\n",
       "      <td>4</td>\n",
       "      <td>1180</td>\n",
       "      <td>0</td>\n",
       "      <td>1992</td>\n",
       "      <td>NaN</td>\n",
       "      <td>12005 SE 219th Ct</td>\n",
       "      <td>Kent</td>\n",
       "      <td>WA 98031</td>\n",
       "      <td>USA</td>\n",
       "    </tr>\n",
       "  </tbody>\n",
       "</table>\n",
       "</div>"
      ],
      "text/plain": [
       "           date      price  bedrooms  bathrooms  sqft_living  sqft_lot  \\\n",
       "2286 2014-06-11  15.770310         5        4.5        10040     37325   \n",
       "4347 2014-06-23  16.372660         3        2.5         2190     11394   \n",
       "4351 2014-07-03  17.096046         3        2.0         1180      7793   \n",
       "\n",
       "      floors  waterfront  view  condition  sqft_above  sqft_basement  \\\n",
       "2286     2.0           1     2          3        7680           2360   \n",
       "4347     1.0           0     0          3        1550            640   \n",
       "4351     1.0           0     0          4        1180              0   \n",
       "\n",
       "      yr_built  yr_renovated             street      city  statezip country  \n",
       "2286      1940        2001.0   4442 95th Ave NE  Bellevue  WA 98004     USA  \n",
       "4347      1956           NaN    5426 40th Ave W   Seattle  WA 98199     USA  \n",
       "4351      1992           NaN  12005 SE 219th Ct      Kent  WA 98031     USA  "
      ]
     },
     "execution_count": 71,
     "metadata": {},
     "output_type": "execute_result"
    }
   ],
   "source": [
    "#checking the price which higher than 15.5\n",
    "df_house[df_house.price>15.5]"
   ]
  },
  {
   "cell_type": "markdown",
   "metadata": {},
   "source": [
    "From the above first obervation, the property with the highest price is resonable because it has larger living and land area, and mulitiple bedrooms and bathrooms. More importantly, it was renovated in 2001. I would like to check the location in the next step.\n",
    "\n",
    "In terms of the second observation, I guess the reason why the price is way too high is because of the larger land area and the better location.\n",
    "\n",
    "The third oservation which has higher property price seems also reasonable because this property has higher land area, higher condition and was built relatively late even though the living area is relatively small."
   ]
  },
  {
   "cell_type": "markdown",
   "metadata": {},
   "source": [
    "let's check wthether the location can influence the housing price"
   ]
  },
  {
   "cell_type": "code",
   "execution_count": 64,
   "metadata": {},
   "outputs": [
    {
     "data": {
      "text/plain": [
       "count    265.000000\n",
       "mean      13.563497\n",
       "std        0.461470\n",
       "min       12.421184\n",
       "25%       13.217674\n",
       "50%       13.520468\n",
       "75%       13.842152\n",
       "max       15.770310\n",
       "Name: price, dtype: float64"
      ]
     },
     "execution_count": 64,
     "metadata": {},
     "output_type": "execute_result"
    }
   ],
   "source": [
    "df_house[df_house.city=='Bellevue'].describe()['price']"
   ]
  },
  {
   "cell_type": "code",
   "execution_count": 65,
   "metadata": {},
   "outputs": [
    {
     "data": {
      "text/plain": [
       "count    4352.000000\n",
       "mean       13.079388\n",
       "std         0.537775\n",
       "min         8.961879\n",
       "25%        12.706848\n",
       "50%        13.062613\n",
       "75%        13.399995\n",
       "max        17.096046\n",
       "Name: price, dtype: float64"
      ]
     },
     "execution_count": 65,
     "metadata": {},
     "output_type": "execute_result"
    }
   ],
   "source": [
    "df_house['price'].describe()"
   ]
  },
  {
   "cell_type": "markdown",
   "metadata": {},
   "source": [
    "We can see that the mean price (13.56) is higher than the market mean(13.07). It gives us a persuadable evidence that the location is the one of the reason that will influence the housing price. Therefore, the highest price of the property could be reasonable but just be further from the mean phousing price."
   ]
  },
  {
   "cell_type": "markdown",
   "metadata": {},
   "source": [
    "****"
   ]
  },
  {
   "cell_type": "markdown",
   "metadata": {},
   "source": [
    "### ● Multivariate Outlier Detection Methods\n",
    "* Graphical method\n",
    "* Mahalanobis Distance"
   ]
  },
  {
   "cell_type": "markdown",
   "metadata": {},
   "source": [
    "##### 1. Graphical method"
   ]
  },
  {
   "cell_type": "markdown",
   "metadata": {},
   "source": [
    "According to the previous boxplot anaysis, price has relationship with some measured variables. We check whether the <font color=\"blue\">location</font> is one of the factors that will influence the housing price.\n",
    "\n",
    "When detecting relationship between the hosing price and the location, we attempt to minimize the impacts from other factors. I calculate the price per living area for each city and then compare them with the volatility of the housing price. "
   ]
  },
  {
   "cell_type": "code",
   "execution_count": 73,
   "metadata": {
    "collapsed": true
   },
   "outputs": [],
   "source": [
    "#create a column that calculate price per living area\n",
    "df_house['price_living']=df_house['price']/df_house['sqft_living']"
   ]
  },
  {
   "cell_type": "code",
   "execution_count": 74,
   "metadata": {},
   "outputs": [
    {
     "data": {
      "text/html": [
       "<div>\n",
       "<style>\n",
       "    .dataframe thead tr:only-child th {\n",
       "        text-align: right;\n",
       "    }\n",
       "\n",
       "    .dataframe thead th {\n",
       "        text-align: left;\n",
       "    }\n",
       "\n",
       "    .dataframe tbody tr th {\n",
       "        vertical-align: top;\n",
       "    }\n",
       "</style>\n",
       "<table border=\"1\" class=\"dataframe\">\n",
       "  <thead>\n",
       "    <tr style=\"text-align: right;\">\n",
       "      <th></th>\n",
       "      <th>date</th>\n",
       "      <th>price</th>\n",
       "      <th>bedrooms</th>\n",
       "      <th>bathrooms</th>\n",
       "      <th>sqft_living</th>\n",
       "      <th>sqft_lot</th>\n",
       "      <th>floors</th>\n",
       "      <th>waterfront</th>\n",
       "      <th>view</th>\n",
       "      <th>condition</th>\n",
       "      <th>sqft_above</th>\n",
       "      <th>sqft_basement</th>\n",
       "      <th>yr_built</th>\n",
       "      <th>yr_renovated</th>\n",
       "      <th>street</th>\n",
       "      <th>city</th>\n",
       "      <th>statezip</th>\n",
       "      <th>country</th>\n",
       "      <th>price_living</th>\n",
       "    </tr>\n",
       "  </thead>\n",
       "  <tbody>\n",
       "    <tr>\n",
       "      <th>0</th>\n",
       "      <td>2014-05-02</td>\n",
       "      <td>12.653958</td>\n",
       "      <td>3</td>\n",
       "      <td>1.50</td>\n",
       "      <td>1340</td>\n",
       "      <td>7912</td>\n",
       "      <td>1.5</td>\n",
       "      <td>0</td>\n",
       "      <td>0</td>\n",
       "      <td>3</td>\n",
       "      <td>1340</td>\n",
       "      <td>0</td>\n",
       "      <td>1955</td>\n",
       "      <td>NaN</td>\n",
       "      <td>18810 Densmore Ave N</td>\n",
       "      <td>Shoreline</td>\n",
       "      <td>WA 98133</td>\n",
       "      <td>USA</td>\n",
       "      <td>0.009443</td>\n",
       "    </tr>\n",
       "    <tr>\n",
       "      <th>1</th>\n",
       "      <td>2014-05-02</td>\n",
       "      <td>14.684290</td>\n",
       "      <td>5</td>\n",
       "      <td>2.50</td>\n",
       "      <td>3650</td>\n",
       "      <td>9050</td>\n",
       "      <td>2.0</td>\n",
       "      <td>0</td>\n",
       "      <td>4</td>\n",
       "      <td>5</td>\n",
       "      <td>3370</td>\n",
       "      <td>280</td>\n",
       "      <td>1921</td>\n",
       "      <td>NaN</td>\n",
       "      <td>709 W Blaine St</td>\n",
       "      <td>Seattle</td>\n",
       "      <td>WA 98119</td>\n",
       "      <td>USA</td>\n",
       "      <td>0.004023</td>\n",
       "    </tr>\n",
       "    <tr>\n",
       "      <th>2</th>\n",
       "      <td>2014-05-02</td>\n",
       "      <td>12.742566</td>\n",
       "      <td>3</td>\n",
       "      <td>2.00</td>\n",
       "      <td>1930</td>\n",
       "      <td>11947</td>\n",
       "      <td>1.0</td>\n",
       "      <td>0</td>\n",
       "      <td>0</td>\n",
       "      <td>4</td>\n",
       "      <td>1930</td>\n",
       "      <td>0</td>\n",
       "      <td>1966</td>\n",
       "      <td>NaN</td>\n",
       "      <td>26206-26214 143rd Ave SE</td>\n",
       "      <td>Kent</td>\n",
       "      <td>WA 98042</td>\n",
       "      <td>USA</td>\n",
       "      <td>0.006602</td>\n",
       "    </tr>\n",
       "    <tr>\n",
       "      <th>3</th>\n",
       "      <td>2014-05-02</td>\n",
       "      <td>12.948010</td>\n",
       "      <td>3</td>\n",
       "      <td>2.25</td>\n",
       "      <td>2000</td>\n",
       "      <td>8030</td>\n",
       "      <td>1.0</td>\n",
       "      <td>0</td>\n",
       "      <td>0</td>\n",
       "      <td>4</td>\n",
       "      <td>1000</td>\n",
       "      <td>1000</td>\n",
       "      <td>1963</td>\n",
       "      <td>NaN</td>\n",
       "      <td>857 170th Pl NE</td>\n",
       "      <td>Bellevue</td>\n",
       "      <td>WA 98008</td>\n",
       "      <td>USA</td>\n",
       "      <td>0.006474</td>\n",
       "    </tr>\n",
       "    <tr>\n",
       "      <th>4</th>\n",
       "      <td>2014-05-02</td>\n",
       "      <td>13.217674</td>\n",
       "      <td>4</td>\n",
       "      <td>2.50</td>\n",
       "      <td>1940</td>\n",
       "      <td>10500</td>\n",
       "      <td>1.0</td>\n",
       "      <td>0</td>\n",
       "      <td>0</td>\n",
       "      <td>4</td>\n",
       "      <td>1140</td>\n",
       "      <td>800</td>\n",
       "      <td>1976</td>\n",
       "      <td>NaN</td>\n",
       "      <td>9105 170th Ave NE</td>\n",
       "      <td>Redmond</td>\n",
       "      <td>WA 98052</td>\n",
       "      <td>USA</td>\n",
       "      <td>0.006813</td>\n",
       "    </tr>\n",
       "  </tbody>\n",
       "</table>\n",
       "</div>"
      ],
      "text/plain": [
       "        date      price  bedrooms  bathrooms  sqft_living  sqft_lot  floors  \\\n",
       "0 2014-05-02  12.653958         3       1.50         1340      7912     1.5   \n",
       "1 2014-05-02  14.684290         5       2.50         3650      9050     2.0   \n",
       "2 2014-05-02  12.742566         3       2.00         1930     11947     1.0   \n",
       "3 2014-05-02  12.948010         3       2.25         2000      8030     1.0   \n",
       "4 2014-05-02  13.217674         4       2.50         1940     10500     1.0   \n",
       "\n",
       "   waterfront  view  condition  sqft_above  sqft_basement  yr_built  \\\n",
       "0           0     0          3        1340              0      1955   \n",
       "1           0     4          5        3370            280      1921   \n",
       "2           0     0          4        1930              0      1966   \n",
       "3           0     0          4        1000           1000      1963   \n",
       "4           0     0          4        1140            800      1976   \n",
       "\n",
       "   yr_renovated                    street       city  statezip country  \\\n",
       "0           NaN      18810 Densmore Ave N  Shoreline  WA 98133     USA   \n",
       "1           NaN           709 W Blaine St    Seattle  WA 98119     USA   \n",
       "2           NaN  26206-26214 143rd Ave SE       Kent  WA 98042     USA   \n",
       "3           NaN           857 170th Pl NE   Bellevue  WA 98008     USA   \n",
       "4           NaN         9105 170th Ave NE    Redmond  WA 98052     USA   \n",
       "\n",
       "   price_living  \n",
       "0      0.009443  \n",
       "1      0.004023  \n",
       "2      0.006602  \n",
       "3      0.006474  \n",
       "4      0.006813  "
      ]
     },
     "execution_count": 74,
     "metadata": {},
     "output_type": "execute_result"
    }
   ],
   "source": [
    "df_house.head()"
   ]
  },
  {
   "cell_type": "code",
   "execution_count": 75,
   "metadata": {},
   "outputs": [
    {
     "data": {
      "image/png": "[encoded data removed]",
      "text/plain": [
       "<matplotlib.figure.Figure at 0xf815b38>"
      ]
     },
     "metadata": {},
     "output_type": "display_data"
    }
   ],
   "source": [
    "#draw boxplot\n",
    "#using price group by city to plot a boxplot, shows outliers and figure size is 18,6, convert x_axis and y_axis\n",
    "df_house.boxplot(column=\"price_living\", by='city', sym = 'k.', rot=90,figsize=(18,6))\n",
    "#set title\n",
    "plt.title('Boxplot for Camparing price per living space for each city')\n",
    "plt.show()"
   ]
  },
  {
   "cell_type": "code",
   "execution_count": 76,
   "metadata": {},
   "outputs": [
    {
     "data": {
      "text/html": [
       "<div>\n",
       "<style>\n",
       "    .dataframe thead tr:only-child th {\n",
       "        text-align: right;\n",
       "    }\n",
       "\n",
       "    .dataframe thead th {\n",
       "        text-align: left;\n",
       "    }\n",
       "\n",
       "    .dataframe tbody tr th {\n",
       "        vertical-align: top;\n",
       "    }\n",
       "</style>\n",
       "<table border=\"1\" class=\"dataframe\">\n",
       "  <thead>\n",
       "    <tr style=\"text-align: right;\">\n",
       "      <th></th>\n",
       "      <th>date</th>\n",
       "      <th>price</th>\n",
       "      <th>bedrooms</th>\n",
       "      <th>bathrooms</th>\n",
       "      <th>sqft_living</th>\n",
       "      <th>sqft_lot</th>\n",
       "      <th>floors</th>\n",
       "      <th>waterfront</th>\n",
       "      <th>view</th>\n",
       "      <th>condition</th>\n",
       "      <th>sqft_above</th>\n",
       "      <th>sqft_basement</th>\n",
       "      <th>yr_built</th>\n",
       "      <th>yr_renovated</th>\n",
       "      <th>street</th>\n",
       "      <th>city</th>\n",
       "      <th>statezip</th>\n",
       "      <th>country</th>\n",
       "      <th>price_living</th>\n",
       "    </tr>\n",
       "  </thead>\n",
       "  <tbody>\n",
       "    <tr>\n",
       "      <th>1219</th>\n",
       "      <td>2014-05-23</td>\n",
       "      <td>11.289782</td>\n",
       "      <td>1</td>\n",
       "      <td>0.75</td>\n",
       "      <td>430</td>\n",
       "      <td>5050</td>\n",
       "      <td>1.0</td>\n",
       "      <td>0</td>\n",
       "      <td>0</td>\n",
       "      <td>2</td>\n",
       "      <td>430</td>\n",
       "      <td>0</td>\n",
       "      <td>1912</td>\n",
       "      <td>NaN</td>\n",
       "      <td>32215 E Rutherford St</td>\n",
       "      <td>Carnation</td>\n",
       "      <td>WA 98014</td>\n",
       "      <td>USA</td>\n",
       "      <td>0.026255</td>\n",
       "    </tr>\n",
       "    <tr>\n",
       "      <th>2416</th>\n",
       "      <td>2014-06-12</td>\n",
       "      <td>12.542545</td>\n",
       "      <td>1</td>\n",
       "      <td>0.75</td>\n",
       "      <td>420</td>\n",
       "      <td>6720</td>\n",
       "      <td>1.0</td>\n",
       "      <td>0</td>\n",
       "      <td>0</td>\n",
       "      <td>3</td>\n",
       "      <td>420</td>\n",
       "      <td>0</td>\n",
       "      <td>1922</td>\n",
       "      <td>NaN</td>\n",
       "      <td>5550 17th Ave S</td>\n",
       "      <td>Seattle</td>\n",
       "      <td>WA 98108</td>\n",
       "      <td>USA</td>\n",
       "      <td>0.029863</td>\n",
       "    </tr>\n",
       "    <tr>\n",
       "      <th>2919</th>\n",
       "      <td>2014-06-20</td>\n",
       "      <td>12.409013</td>\n",
       "      <td>1</td>\n",
       "      <td>0.75</td>\n",
       "      <td>380</td>\n",
       "      <td>15000</td>\n",
       "      <td>1.0</td>\n",
       "      <td>0</td>\n",
       "      <td>0</td>\n",
       "      <td>3</td>\n",
       "      <td>380</td>\n",
       "      <td>0</td>\n",
       "      <td>1963</td>\n",
       "      <td>NaN</td>\n",
       "      <td>13602 8th Ave S</td>\n",
       "      <td>Burien</td>\n",
       "      <td>WA 98168</td>\n",
       "      <td>USA</td>\n",
       "      <td>0.032655</td>\n",
       "    </tr>\n",
       "    <tr>\n",
       "      <th>3778</th>\n",
       "      <td>2014-07-01</td>\n",
       "      <td>12.528156</td>\n",
       "      <td>1</td>\n",
       "      <td>0.75</td>\n",
       "      <td>370</td>\n",
       "      <td>1801</td>\n",
       "      <td>1.0</td>\n",
       "      <td>0</td>\n",
       "      <td>0</td>\n",
       "      <td>5</td>\n",
       "      <td>370</td>\n",
       "      <td>0</td>\n",
       "      <td>1923</td>\n",
       "      <td>NaN</td>\n",
       "      <td>2508 NW 67th St</td>\n",
       "      <td>Seattle</td>\n",
       "      <td>WA 98117</td>\n",
       "      <td>USA</td>\n",
       "      <td>0.033860</td>\n",
       "    </tr>\n",
       "  </tbody>\n",
       "</table>\n",
       "</div>"
      ],
      "text/plain": [
       "           date      price  bedrooms  bathrooms  sqft_living  sqft_lot  \\\n",
       "1219 2014-05-23  11.289782         1       0.75          430      5050   \n",
       "2416 2014-06-12  12.542545         1       0.75          420      6720   \n",
       "2919 2014-06-20  12.409013         1       0.75          380     15000   \n",
       "3778 2014-07-01  12.528156         1       0.75          370      1801   \n",
       "\n",
       "      floors  waterfront  view  condition  sqft_above  sqft_basement  \\\n",
       "1219     1.0           0     0          2         430              0   \n",
       "2416     1.0           0     0          3         420              0   \n",
       "2919     1.0           0     0          3         380              0   \n",
       "3778     1.0           0     0          5         370              0   \n",
       "\n",
       "      yr_built  yr_renovated                 street       city  statezip  \\\n",
       "1219      1912           NaN  32215 E Rutherford St  Carnation  WA 98014   \n",
       "2416      1922           NaN        5550 17th Ave S    Seattle  WA 98108   \n",
       "2919      1963           NaN        13602 8th Ave S     Burien  WA 98168   \n",
       "3778      1923           NaN        2508 NW 67th St    Seattle  WA 98117   \n",
       "\n",
       "     country  price_living  \n",
       "1219     USA      0.026255  \n",
       "2416     USA      0.029863  \n",
       "2919     USA      0.032655  \n",
       "3778     USA      0.033860  "
      ]
     },
     "execution_count": 76,
     "metadata": {},
     "output_type": "execute_result"
    }
   ],
   "source": [
    "df_house[df_house.price_living>0.025]"
   ]
  },
  {
   "cell_type": "markdown",
   "metadata": {},
   "source": [
    "From the graph we can see Skykomish has the highest price per living area and Medina has the lowest. There are searval properties in Seattle which are also expensive. \n",
    "\n",
    "In the USA or most of other contries, housing price does not only depend on the living area. Other factors are also need to be considered such as interest rate, neigborhood etc. Now I draw a boxplot to compare each city's median price."
   ]
  },
  {
   "cell_type": "code",
   "execution_count": 77,
   "metadata": {},
   "outputs": [
    {
     "data": {
      "image/png": "[encoded data removed]",
      "text/plain": [
       "<matplotlib.figure.Figure at 0x10513b38>"
      ]
     },
     "metadata": {},
     "output_type": "display_data"
    }
   ],
   "source": [
    "#draw boxplot\n",
    "#build a boxplot for city and price\n",
    "df_house.boxplot(column=\"price\", by='city', sym = 'k.', rot=90, figsize=(18,6))\n",
    "#set title\n",
    "plt.title('Boxplot for Camparing price for each city')\n",
    "plt.show()"
   ]
  },
  {
   "cell_type": "markdown",
   "metadata": {},
   "source": [
    "We can see the output is totally different from the price per living area. Skykomish has the lowst median price among the 44 cities but it has the highest median price per living area. This indicates that Skykomish is a city where has relatively experensive hosing price but smaller living area. In other words, people who live there need to pay more to buy a relatively smaller house compared to the buyers who live in other cities.\n",
    "\n",
    "In terms of the city \"Tukwila\", there is a house which has the lowest housing price. However, by checking the highest price of the city, it seems too far away from median price. I would regard the lowest one as an outlier."
   ]
  },
  {
   "cell_type": "markdown",
   "metadata": {},
   "source": [
    "From eyeballing, The outliers should be as following:"
   ]
  },
  {
   "cell_type": "code",
   "execution_count": 78,
   "metadata": {},
   "outputs": [
    {
     "data": {
      "text/html": [
       "<div>\n",
       "<style>\n",
       "    .dataframe thead tr:only-child th {\n",
       "        text-align: right;\n",
       "    }\n",
       "\n",
       "    .dataframe thead th {\n",
       "        text-align: left;\n",
       "    }\n",
       "\n",
       "    .dataframe tbody tr th {\n",
       "        vertical-align: top;\n",
       "    }\n",
       "</style>\n",
       "<table border=\"1\" class=\"dataframe\">\n",
       "  <thead>\n",
       "    <tr style=\"text-align: right;\">\n",
       "      <th></th>\n",
       "      <th>date</th>\n",
       "      <th>price</th>\n",
       "      <th>bedrooms</th>\n",
       "      <th>bathrooms</th>\n",
       "      <th>sqft_living</th>\n",
       "      <th>sqft_lot</th>\n",
       "      <th>floors</th>\n",
       "      <th>waterfront</th>\n",
       "      <th>view</th>\n",
       "      <th>condition</th>\n",
       "      <th>sqft_above</th>\n",
       "      <th>sqft_basement</th>\n",
       "      <th>yr_built</th>\n",
       "      <th>yr_renovated</th>\n",
       "      <th>street</th>\n",
       "      <th>city</th>\n",
       "      <th>statezip</th>\n",
       "      <th>country</th>\n",
       "      <th>price_living</th>\n",
       "    </tr>\n",
       "  </thead>\n",
       "  <tbody>\n",
       "    <tr>\n",
       "      <th>4347</th>\n",
       "      <td>2014-06-23</td>\n",
       "      <td>16.372660</td>\n",
       "      <td>3</td>\n",
       "      <td>2.5</td>\n",
       "      <td>2190</td>\n",
       "      <td>11394</td>\n",
       "      <td>1.0</td>\n",
       "      <td>0</td>\n",
       "      <td>0</td>\n",
       "      <td>3</td>\n",
       "      <td>1550</td>\n",
       "      <td>640</td>\n",
       "      <td>1956</td>\n",
       "      <td>NaN</td>\n",
       "      <td>5426 40th Ave W</td>\n",
       "      <td>Seattle</td>\n",
       "      <td>WA 98199</td>\n",
       "      <td>USA</td>\n",
       "      <td>0.007476</td>\n",
       "    </tr>\n",
       "    <tr>\n",
       "      <th>4348</th>\n",
       "      <td>2014-05-08</td>\n",
       "      <td>14.562199</td>\n",
       "      <td>4</td>\n",
       "      <td>1.0</td>\n",
       "      <td>2100</td>\n",
       "      <td>9200</td>\n",
       "      <td>1.0</td>\n",
       "      <td>0</td>\n",
       "      <td>0</td>\n",
       "      <td>3</td>\n",
       "      <td>1050</td>\n",
       "      <td>1050</td>\n",
       "      <td>1959</td>\n",
       "      <td>NaN</td>\n",
       "      <td>14070 Military Rd S</td>\n",
       "      <td>Tukwila</td>\n",
       "      <td>WA 98168</td>\n",
       "      <td>USA</td>\n",
       "      <td>0.006934</td>\n",
       "    </tr>\n",
       "    <tr>\n",
       "      <th>4351</th>\n",
       "      <td>2014-07-03</td>\n",
       "      <td>17.096046</td>\n",
       "      <td>3</td>\n",
       "      <td>2.0</td>\n",
       "      <td>1180</td>\n",
       "      <td>7793</td>\n",
       "      <td>1.0</td>\n",
       "      <td>0</td>\n",
       "      <td>0</td>\n",
       "      <td>4</td>\n",
       "      <td>1180</td>\n",
       "      <td>0</td>\n",
       "      <td>1992</td>\n",
       "      <td>NaN</td>\n",
       "      <td>12005 SE 219th Ct</td>\n",
       "      <td>Kent</td>\n",
       "      <td>WA 98031</td>\n",
       "      <td>USA</td>\n",
       "      <td>0.014488</td>\n",
       "    </tr>\n",
       "    <tr>\n",
       "      <th>4352</th>\n",
       "      <td>2014-05-06</td>\n",
       "      <td>8.961879</td>\n",
       "      <td>2</td>\n",
       "      <td>1.0</td>\n",
       "      <td>780</td>\n",
       "      <td>16344</td>\n",
       "      <td>1.0</td>\n",
       "      <td>0</td>\n",
       "      <td>0</td>\n",
       "      <td>1</td>\n",
       "      <td>780</td>\n",
       "      <td>0</td>\n",
       "      <td>1942</td>\n",
       "      <td>NaN</td>\n",
       "      <td>4229 S 144th St</td>\n",
       "      <td>Tukwila</td>\n",
       "      <td>WA 98168</td>\n",
       "      <td>USA</td>\n",
       "      <td>0.011490</td>\n",
       "    </tr>\n",
       "  </tbody>\n",
       "</table>\n",
       "</div>"
      ],
      "text/plain": [
       "           date      price  bedrooms  bathrooms  sqft_living  sqft_lot  \\\n",
       "4347 2014-06-23  16.372660         3        2.5         2190     11394   \n",
       "4348 2014-05-08  14.562199         4        1.0         2100      9200   \n",
       "4351 2014-07-03  17.096046         3        2.0         1180      7793   \n",
       "4352 2014-05-06   8.961879         2        1.0          780     16344   \n",
       "\n",
       "      floors  waterfront  view  condition  sqft_above  sqft_basement  \\\n",
       "4347     1.0           0     0          3        1550            640   \n",
       "4348     1.0           0     0          3        1050           1050   \n",
       "4351     1.0           0     0          4        1180              0   \n",
       "4352     1.0           0     0          1         780              0   \n",
       "\n",
       "      yr_built  yr_renovated               street     city  statezip country  \\\n",
       "4347      1956           NaN      5426 40th Ave W  Seattle  WA 98199     USA   \n",
       "4348      1959           NaN  14070 Military Rd S  Tukwila  WA 98168     USA   \n",
       "4351      1992           NaN    12005 SE 219th Ct     Kent  WA 98031     USA   \n",
       "4352      1942           NaN      4229 S 144th St  Tukwila  WA 98168     USA   \n",
       "\n",
       "      price_living  \n",
       "4347      0.007476  \n",
       "4348      0.006934  \n",
       "4351      0.014488  \n",
       "4352      0.011490  "
      ]
     },
     "execution_count": 78,
     "metadata": {},
     "output_type": "execute_result"
    }
   ],
   "source": [
    "df_house[(df_house.price>16) | (df_house.price<10) | ((df_house.city=='Tukwila') & (df_house.price>14))]"
   ]
  },
  {
   "cell_type": "markdown",
   "metadata": {},
   "source": [
    "According to the boxplot above, city is a factor affecting housing prices. I thought the easiest way was to use dummy variables to represent cities. But this method has a difficulty -- we need to generate 11 extra city columns, but it might cause Spurious Regression when we predict the housing price. \n",
    "\n",
    "So I seperate cities into 4 groups based on the price, and each group has 11 cities (because some of cities just has 1 property recorded, seperating 11 cities may influence predictions). And those groups are used for predicitng missing values later. "
   ]
  },
  {
   "cell_type": "code",
   "execution_count": 79,
   "metadata": {
    "collapsed": true
   },
   "outputs": [],
   "source": [
    "#build a dataframe including price and city\n",
    "df_price_city=df_house[['price','city']]\n",
    "city_median_list={}\n",
    "for each in df_house.city.unique().tolist():\n",
    "    #counting median price for each city\n",
    "    count_median=df_price_city[df_price_city.city==each]['price'].median()\n",
    "    #median value as a key, city as a value\n",
    "    city_median_list[count_median]=each"
   ]
  },
  {
   "cell_type": "code",
   "execution_count": 30,
   "metadata": {
    "scrolled": true
   },
   "outputs": [],
   "source": [
    "city_median_list"
   ]
  },
  {
   "cell_type": "code",
   "execution_count": 81,
   "metadata": {},
   "outputs": [
    {
     "data": {
      "text/plain": [
       "44"
      ]
     },
     "execution_count": 81,
     "metadata": {},
     "output_type": "execute_result"
    }
   ],
   "source": [
    "#total number of cities\n",
    "len(city_median_list)"
   ]
  },
  {
   "cell_type": "code",
   "execution_count": 82,
   "metadata": {
    "collapsed": true
   },
   "outputs": [],
   "source": [
    "city_list=[]\n",
    "#sort median price from lowest to highest \n",
    "for key in sorted(city_median_list.keys()):\n",
    "    city_list.append(city_median_list[key])\n",
    "#the first 11 cities are regarded as lowest housing price cities\n",
    "lowest_price_cities=city_list[:11]\n",
    "#the 11th to 22nd cities are regarded as lower housing price cities\n",
    "low_price_cities=city_list[11:22]\n",
    "#the 22nd to 33rd cities are regarded as higher housing price cities\n",
    "high_price_cities=city_list[22:33]\n",
    "#the last 11 cities are regarded as highest housing price cities\n",
    "highest_price_cities=city_list[33:44]"
   ]
  },
  {
   "cell_type": "markdown",
   "metadata": {},
   "source": [
    "##### 2. Mahalanobis Distance"
   ]
  },
  {
   "cell_type": "markdown",
   "metadata": {},
   "source": [
    "The second method is to use Mahalanobis distance to find the outliers. Let's look at the correlation between price and other values. "
   ]
  },
  {
   "cell_type": "code",
   "execution_count": 83,
   "metadata": {},
   "outputs": [
    {
     "data": {
      "text/html": [
       "<div>\n",
       "<style>\n",
       "    .dataframe thead tr:only-child th {\n",
       "        text-align: right;\n",
       "    }\n",
       "\n",
       "    .dataframe thead th {\n",
       "        text-align: left;\n",
       "    }\n",
       "\n",
       "    .dataframe tbody tr th {\n",
       "        vertical-align: top;\n",
       "    }\n",
       "</style>\n",
       "<table border=\"1\" class=\"dataframe\">\n",
       "  <thead>\n",
       "    <tr style=\"text-align: right;\">\n",
       "      <th></th>\n",
       "      <th>price</th>\n",
       "      <th>bedrooms</th>\n",
       "      <th>bathrooms</th>\n",
       "      <th>sqft_living</th>\n",
       "      <th>sqft_lot</th>\n",
       "      <th>floors</th>\n",
       "      <th>waterfront</th>\n",
       "      <th>view</th>\n",
       "      <th>condition</th>\n",
       "      <th>sqft_above</th>\n",
       "      <th>sqft_basement</th>\n",
       "      <th>yr_built</th>\n",
       "      <th>yr_renovated</th>\n",
       "      <th>price_living</th>\n",
       "    </tr>\n",
       "  </thead>\n",
       "  <tbody>\n",
       "    <tr>\n",
       "      <th>price</th>\n",
       "      <td>1.000000</td>\n",
       "      <td>0.357069</td>\n",
       "      <td>0.551150</td>\n",
       "      <td>0.684202</td>\n",
       "      <td>0.095549</td>\n",
       "      <td>0.306321</td>\n",
       "      <td>0.146005</td>\n",
       "      <td>0.336901</td>\n",
       "      <td>0.065030</td>\n",
       "      <td>0.594455</td>\n",
       "      <td>0.318014</td>\n",
       "      <td>0.054128</td>\n",
       "      <td>0.144841</td>\n",
       "      <td>-0.547608</td>\n",
       "    </tr>\n",
       "    <tr>\n",
       "      <th>bedrooms</th>\n",
       "      <td>0.357069</td>\n",
       "      <td>1.000000</td>\n",
       "      <td>0.545870</td>\n",
       "      <td>0.594884</td>\n",
       "      <td>0.068819</td>\n",
       "      <td>0.177895</td>\n",
       "      <td>-0.003483</td>\n",
       "      <td>0.111028</td>\n",
       "      <td>0.025080</td>\n",
       "      <td>0.484705</td>\n",
       "      <td>0.334165</td>\n",
       "      <td>0.139581</td>\n",
       "      <td>0.113296</td>\n",
       "      <td>-0.630964</td>\n",
       "    </tr>\n",
       "    <tr>\n",
       "      <th>bathrooms</th>\n",
       "      <td>0.551150</td>\n",
       "      <td>0.545870</td>\n",
       "      <td>1.000000</td>\n",
       "      <td>0.761174</td>\n",
       "      <td>0.107868</td>\n",
       "      <td>0.486438</td>\n",
       "      <td>0.076241</td>\n",
       "      <td>0.211999</td>\n",
       "      <td>-0.120046</td>\n",
       "      <td>0.689886</td>\n",
       "      <td>0.298124</td>\n",
       "      <td>0.462092</td>\n",
       "      <td>0.211669</td>\n",
       "      <td>-0.697498</td>\n",
       "    </tr>\n",
       "    <tr>\n",
       "      <th>sqft_living</th>\n",
       "      <td>0.684202</td>\n",
       "      <td>0.594884</td>\n",
       "      <td>0.761174</td>\n",
       "      <td>1.000000</td>\n",
       "      <td>0.210538</td>\n",
       "      <td>0.344850</td>\n",
       "      <td>0.117616</td>\n",
       "      <td>0.311009</td>\n",
       "      <td>-0.062826</td>\n",
       "      <td>0.876443</td>\n",
       "      <td>0.447206</td>\n",
       "      <td>0.286110</td>\n",
       "      <td>0.116311</td>\n",
       "      <td>-0.824032</td>\n",
       "    </tr>\n",
       "    <tr>\n",
       "      <th>sqft_lot</th>\n",
       "      <td>0.095549</td>\n",
       "      <td>0.068819</td>\n",
       "      <td>0.107868</td>\n",
       "      <td>0.210538</td>\n",
       "      <td>1.000000</td>\n",
       "      <td>0.003750</td>\n",
       "      <td>0.017241</td>\n",
       "      <td>0.073907</td>\n",
       "      <td>0.000558</td>\n",
       "      <td>0.216455</td>\n",
       "      <td>0.034842</td>\n",
       "      <td>0.051079</td>\n",
       "      <td>-0.192180</td>\n",
       "      <td>-0.152166</td>\n",
       "    </tr>\n",
       "    <tr>\n",
       "      <th>floors</th>\n",
       "      <td>0.306321</td>\n",
       "      <td>0.177895</td>\n",
       "      <td>0.486438</td>\n",
       "      <td>0.344850</td>\n",
       "      <td>0.003750</td>\n",
       "      <td>1.000000</td>\n",
       "      <td>0.022024</td>\n",
       "      <td>0.031211</td>\n",
       "      <td>-0.275013</td>\n",
       "      <td>0.522814</td>\n",
       "      <td>-0.255510</td>\n",
       "      <td>0.466268</td>\n",
       "      <td>0.056934</td>\n",
       "      <td>-0.322573</td>\n",
       "    </tr>\n",
       "    <tr>\n",
       "      <th>waterfront</th>\n",
       "      <td>0.146005</td>\n",
       "      <td>-0.003483</td>\n",
       "      <td>0.076241</td>\n",
       "      <td>0.117616</td>\n",
       "      <td>0.017241</td>\n",
       "      <td>0.022024</td>\n",
       "      <td>1.000000</td>\n",
       "      <td>0.360935</td>\n",
       "      <td>0.000352</td>\n",
       "      <td>0.078911</td>\n",
       "      <td>0.097501</td>\n",
       "      <td>-0.023396</td>\n",
       "      <td>-0.030691</td>\n",
       "      <td>-0.042327</td>\n",
       "    </tr>\n",
       "    <tr>\n",
       "      <th>view</th>\n",
       "      <td>0.336901</td>\n",
       "      <td>0.111028</td>\n",
       "      <td>0.211999</td>\n",
       "      <td>0.311009</td>\n",
       "      <td>0.073907</td>\n",
       "      <td>0.031211</td>\n",
       "      <td>0.360935</td>\n",
       "      <td>1.000000</td>\n",
       "      <td>0.063077</td>\n",
       "      <td>0.174327</td>\n",
       "      <td>0.321602</td>\n",
       "      <td>-0.067250</td>\n",
       "      <td>0.008970</td>\n",
       "      <td>-0.199041</td>\n",
       "    </tr>\n",
       "    <tr>\n",
       "      <th>condition</th>\n",
       "      <td>0.065030</td>\n",
       "      <td>0.025080</td>\n",
       "      <td>-0.120046</td>\n",
       "      <td>-0.062826</td>\n",
       "      <td>0.000558</td>\n",
       "      <td>-0.275013</td>\n",
       "      <td>0.000352</td>\n",
       "      <td>0.063077</td>\n",
       "      <td>1.000000</td>\n",
       "      <td>-0.178196</td>\n",
       "      <td>0.200632</td>\n",
       "      <td>-0.398239</td>\n",
       "      <td>-0.440893</td>\n",
       "      <td>0.049823</td>\n",
       "    </tr>\n",
       "    <tr>\n",
       "      <th>sqft_above</th>\n",
       "      <td>0.594455</td>\n",
       "      <td>0.484705</td>\n",
       "      <td>0.689886</td>\n",
       "      <td>0.876443</td>\n",
       "      <td>0.216455</td>\n",
       "      <td>0.522814</td>\n",
       "      <td>0.078911</td>\n",
       "      <td>0.174327</td>\n",
       "      <td>-0.178196</td>\n",
       "      <td>1.000000</td>\n",
       "      <td>-0.038723</td>\n",
       "      <td>0.406456</td>\n",
       "      <td>0.078825</td>\n",
       "      <td>-0.718322</td>\n",
       "    </tr>\n",
       "    <tr>\n",
       "      <th>sqft_basement</th>\n",
       "      <td>0.318014</td>\n",
       "      <td>0.334165</td>\n",
       "      <td>0.298124</td>\n",
       "      <td>0.447206</td>\n",
       "      <td>0.034842</td>\n",
       "      <td>-0.255510</td>\n",
       "      <td>0.097501</td>\n",
       "      <td>0.321602</td>\n",
       "      <td>0.200632</td>\n",
       "      <td>-0.038723</td>\n",
       "      <td>1.000000</td>\n",
       "      <td>-0.161268</td>\n",
       "      <td>0.110966</td>\n",
       "      <td>-0.378622</td>\n",
       "    </tr>\n",
       "    <tr>\n",
       "      <th>yr_built</th>\n",
       "      <td>0.054128</td>\n",
       "      <td>0.139581</td>\n",
       "      <td>0.462092</td>\n",
       "      <td>0.286110</td>\n",
       "      <td>0.051079</td>\n",
       "      <td>0.466268</td>\n",
       "      <td>-0.023396</td>\n",
       "      <td>-0.067250</td>\n",
       "      <td>-0.398239</td>\n",
       "      <td>0.406456</td>\n",
       "      <td>-0.161268</td>\n",
       "      <td>1.000000</td>\n",
       "      <td>0.255961</td>\n",
       "      <td>-0.320095</td>\n",
       "    </tr>\n",
       "    <tr>\n",
       "      <th>yr_renovated</th>\n",
       "      <td>0.144841</td>\n",
       "      <td>0.113296</td>\n",
       "      <td>0.211669</td>\n",
       "      <td>0.116311</td>\n",
       "      <td>-0.192180</td>\n",
       "      <td>0.056934</td>\n",
       "      <td>-0.030691</td>\n",
       "      <td>0.008970</td>\n",
       "      <td>-0.440893</td>\n",
       "      <td>0.078825</td>\n",
       "      <td>0.110966</td>\n",
       "      <td>0.255961</td>\n",
       "      <td>1.000000</td>\n",
       "      <td>-0.110940</td>\n",
       "    </tr>\n",
       "    <tr>\n",
       "      <th>price_living</th>\n",
       "      <td>-0.547608</td>\n",
       "      <td>-0.630964</td>\n",
       "      <td>-0.697498</td>\n",
       "      <td>-0.824032</td>\n",
       "      <td>-0.152166</td>\n",
       "      <td>-0.322573</td>\n",
       "      <td>-0.042327</td>\n",
       "      <td>-0.199041</td>\n",
       "      <td>0.049823</td>\n",
       "      <td>-0.718322</td>\n",
       "      <td>-0.378622</td>\n",
       "      <td>-0.320095</td>\n",
       "      <td>-0.110940</td>\n",
       "      <td>1.000000</td>\n",
       "    </tr>\n",
       "  </tbody>\n",
       "</table>\n",
       "</div>"
      ],
      "text/plain": [
       "                  price  bedrooms  bathrooms  sqft_living  sqft_lot    floors  \\\n",
       "price          1.000000  0.357069   0.551150     0.684202  0.095549  0.306321   \n",
       "bedrooms       0.357069  1.000000   0.545870     0.594884  0.068819  0.177895   \n",
       "bathrooms      0.551150  0.545870   1.000000     0.761174  0.107868  0.486438   \n",
       "sqft_living    0.684202  0.594884   0.761174     1.000000  0.210538  0.344850   \n",
       "sqft_lot       0.095549  0.068819   0.107868     0.210538  1.000000  0.003750   \n",
       "floors         0.306321  0.177895   0.486438     0.344850  0.003750  1.000000   \n",
       "waterfront     0.146005 -0.003483   0.076241     0.117616  0.017241  0.022024   \n",
       "view           0.336901  0.111028   0.211999     0.311009  0.073907  0.031211   \n",
       "condition      0.065030  0.025080  -0.120046    -0.062826  0.000558 -0.275013   \n",
       "sqft_above     0.594455  0.484705   0.689886     0.876443  0.216455  0.522814   \n",
       "sqft_basement  0.318014  0.334165   0.298124     0.447206  0.034842 -0.255510   \n",
       "yr_built       0.054128  0.139581   0.462092     0.286110  0.051079  0.466268   \n",
       "yr_renovated   0.144841  0.113296   0.211669     0.116311 -0.192180  0.056934   \n",
       "price_living  -0.547608 -0.630964  -0.697498    -0.824032 -0.152166 -0.322573   \n",
       "\n",
       "               waterfront      view  condition  sqft_above  sqft_basement  \\\n",
       "price            0.146005  0.336901   0.065030    0.594455       0.318014   \n",
       "bedrooms        -0.003483  0.111028   0.025080    0.484705       0.334165   \n",
       "bathrooms        0.076241  0.211999  -0.120046    0.689886       0.298124   \n",
       "sqft_living      0.117616  0.311009  -0.062826    0.876443       0.447206   \n",
       "sqft_lot         0.017241  0.073907   0.000558    0.216455       0.034842   \n",
       "floors           0.022024  0.031211  -0.275013    0.522814      -0.255510   \n",
       "waterfront       1.000000  0.360935   0.000352    0.078911       0.097501   \n",
       "view             0.360935  1.000000   0.063077    0.174327       0.321602   \n",
       "condition        0.000352  0.063077   1.000000   -0.178196       0.200632   \n",
       "sqft_above       0.078911  0.174327  -0.178196    1.000000      -0.038723   \n",
       "sqft_basement    0.097501  0.321602   0.200632   -0.038723       1.000000   \n",
       "yr_built        -0.023396 -0.067250  -0.398239    0.406456      -0.161268   \n",
       "yr_renovated    -0.030691  0.008970  -0.440893    0.078825       0.110966   \n",
       "price_living    -0.042327 -0.199041   0.049823   -0.718322      -0.378622   \n",
       "\n",
       "               yr_built  yr_renovated  price_living  \n",
       "price          0.054128      0.144841     -0.547608  \n",
       "bedrooms       0.139581      0.113296     -0.630964  \n",
       "bathrooms      0.462092      0.211669     -0.697498  \n",
       "sqft_living    0.286110      0.116311     -0.824032  \n",
       "sqft_lot       0.051079     -0.192180     -0.152166  \n",
       "floors         0.466268      0.056934     -0.322573  \n",
       "waterfront    -0.023396     -0.030691     -0.042327  \n",
       "view          -0.067250      0.008970     -0.199041  \n",
       "condition     -0.398239     -0.440893      0.049823  \n",
       "sqft_above     0.406456      0.078825     -0.718322  \n",
       "sqft_basement -0.161268      0.110966     -0.378622  \n",
       "yr_built       1.000000      0.255961     -0.320095  \n",
       "yr_renovated   0.255961      1.000000     -0.110940  \n",
       "price_living  -0.320095     -0.110940      1.000000  "
      ]
     },
     "execution_count": 83,
     "metadata": {},
     "output_type": "execute_result"
    }
   ],
   "source": [
    "df_house.corr()"
   ]
  },
  {
   "cell_type": "markdown",
   "metadata": {},
   "source": [
    "The numbers makes people feel headache, correlation matrx can help to clearly identify the correlations."
   ]
  },
  {
   "cell_type": "code",
   "execution_count": 84,
   "metadata": {},
   "outputs": [
    {
     "data": {
      "image/png": "[encoded data removed]",
      "text/plain": [
       "<matplotlib.figure.Figure at 0x1148dc50>"
      ]
     },
     "metadata": {},
     "output_type": "display_data"
    }
   ],
   "source": [
    "plt.figure(figsize=(10,8))\n",
    "corr = df_house.corr()\n",
    "#use seaborn to draw the headmap\n",
    "sns.heatmap(corr, \n",
    "            xticklabels=corr.columns.values, #x label\n",
    "            yticklabels=corr.columns.values) #y label\n",
    "plt.show()"
   ]
  },
  {
   "cell_type": "markdown",
   "metadata": {},
   "source": [
    "Correlation gives an indication of how related the changes are between two variables. If two variables change in the same direction, they are positively correlated. If the change in the opposite direction (one goes up, one goes down), then they are negatively correlated. From correlation matrix, positive correlations are displayed in red and negative correlations are displayed in blue. The most correlated variables are living areas and bathrooms. "
   ]
  },
  {
   "cell_type": "markdown",
   "metadata": {},
   "source": [
    "Here, we would like to use Mahalanobis Distance to find outliers. The prerequisites of using Mahalanobis Distance is to enusre variables are normally distributed. "
   ]
  },
  {
   "cell_type": "markdown",
   "metadata": {},
   "source": [
    "Generally, in the real word, the total market housing price and its corresponding living areas should be normally distributed. A histgram can be plotted both for price and living areas. Let's check whether they are normally distributed."
   ]
  },
  {
   "cell_type": "code",
   "execution_count": 85,
   "metadata": {},
   "outputs": [
    {
     "data": {
      "image/png": "[encoded data removed]",
      "text/plain": [
       "<matplotlib.figure.Figure at 0x1149f978>"
      ]
     },
     "metadata": {},
     "output_type": "display_data"
    }
   ],
   "source": [
    "#plot a price histgram\n",
    "df_house['price'].hist(bins=100)\n",
    "plt.show()"
   ]
  },
  {
   "cell_type": "code",
   "execution_count": 86,
   "metadata": {},
   "outputs": [
    {
     "data": {
      "image/png": "[encoded data removed]",
      "text/plain": [
       "<matplotlib.figure.Figure at 0x114f8e10>"
      ]
     },
     "metadata": {},
     "output_type": "display_data"
    }
   ],
   "source": [
    "#plot living area histogram\n",
    "sns.distplot(df_house['sqft_living'])\n",
    "plt.show()"
   ]
  },
  {
   "cell_type": "markdown",
   "metadata": {},
   "source": [
    "Now we are going to gengerate 2-dimention mahalanobis distance for detecting outliers."
   ]
  },
  {
   "cell_type": "code",
   "execution_count": 87,
   "metadata": {},
   "outputs": [
    {
     "data": {
      "image/png": "[encoded data removed]",
      "text/plain": [
       "<matplotlib.figure.Figure at 0x1149fd30>"
      ]
     },
     "metadata": {},
     "output_type": "display_data"
    }
   ],
   "source": [
    "#2-dimention mahalanobis distance detect outliers\n",
    "#The greater the value of mahalanobis distance, the higher probability of outlier it is.\n",
    "\n",
    "#build a new dataframe which contains juat column for price and sqft_living \n",
    "hw=df_house[['price','sqft_living']]\n",
    "#define number of outliers\n",
    "n_outliers =7\n",
    "#use mahalanobis distance to detect each point\n",
    "#series used to generate distance for each property\n",
    "#hw.iloc stands for the outside index of each row; hw.mean stands for value of mean for 2 columns; np.mat create correlation matrix and reverse the matrix\n",
    "m_dist_order = Series([float(distance.mahalanobis(hw.iloc[i], hw.mean(), np.mat(hw.cov().as_matrix()).I) ** 2) for i in range(len(hw))]).sort_values(ascending=False).index.tolist()  \n",
    "#If the property is outlier return True, otherwise return False\n",
    "is_outlier = [False, ] * (len(hw)) \n",
    "for i in range(n_outliers):  \n",
    "    is_outlier[m_dist_order[i]] = True \n",
    "#outliers are displayed in red, others are displayed in blue\n",
    "color = ['b', 'r']  \n",
    "#turn True to 1, False to 0\n",
    "pch = [1 if is_outlier[i] == True else 0 for i in range(len(is_outlier))]  \n",
    "#turn 1 to 'r', turn 0 to 'b'\n",
    "cValue = [color[is_outlier[i]] for i in range(len(is_outlier))]  \n",
    "\n",
    "#plotting\n",
    "fig = plt.figure()  \n",
    "#set title\n",
    "plt.title('Scatter Plot')  \n",
    "#set x label\n",
    "plt.xlabel('sqft_living')  \n",
    "#set y label\n",
    "plt.ylabel('price')  \n",
    "#draw scatter\n",
    "plt.scatter(hw['sqft_living'],  hw['price'], s=40, c=cValue) \n",
    "plt.show()  "
   ]
  },
  {
   "cell_type": "code",
   "execution_count": 88,
   "metadata": {
    "collapsed": true
   },
   "outputs": [],
   "source": [
    "index_list1=[]\n",
    "for i in range(len(pch)):\n",
    "    #if value in pch is 1, it is an outlier\n",
    "    if pch[i]==1:\n",
    "        index_list1.append(i)"
   ]
  },
  {
   "cell_type": "code",
   "execution_count": 89,
   "metadata": {},
   "outputs": [
    {
     "data": {
      "text/plain": [
       "[122, 2286, 2328, 2654, 4346, 4350, 4351]"
      ]
     },
     "execution_count": 89,
     "metadata": {},
     "output_type": "execute_result"
    }
   ],
   "source": [
    "index_list1"
   ]
  },
  {
   "cell_type": "markdown",
   "metadata": {},
   "source": [
    "The outliers found from 2-dimention mahalanobis distance showed as following:"
   ]
  },
  {
   "cell_type": "code",
   "execution_count": 90,
   "metadata": {},
   "outputs": [
    {
     "data": {
      "text/html": [
       "<div>\n",
       "<style>\n",
       "    .dataframe thead tr:only-child th {\n",
       "        text-align: right;\n",
       "    }\n",
       "\n",
       "    .dataframe thead th {\n",
       "        text-align: left;\n",
       "    }\n",
       "\n",
       "    .dataframe tbody tr th {\n",
       "        vertical-align: top;\n",
       "    }\n",
       "</style>\n",
       "<table border=\"1\" class=\"dataframe\">\n",
       "  <thead>\n",
       "    <tr style=\"text-align: right;\">\n",
       "      <th></th>\n",
       "      <th>date</th>\n",
       "      <th>price</th>\n",
       "      <th>bedrooms</th>\n",
       "      <th>bathrooms</th>\n",
       "      <th>sqft_living</th>\n",
       "      <th>sqft_lot</th>\n",
       "      <th>floors</th>\n",
       "      <th>waterfront</th>\n",
       "      <th>view</th>\n",
       "      <th>condition</th>\n",
       "      <th>sqft_above</th>\n",
       "      <th>sqft_basement</th>\n",
       "      <th>yr_built</th>\n",
       "      <th>yr_renovated</th>\n",
       "      <th>street</th>\n",
       "      <th>city</th>\n",
       "      <th>statezip</th>\n",
       "      <th>country</th>\n",
       "      <th>price_living</th>\n",
       "    </tr>\n",
       "  </thead>\n",
       "  <tbody>\n",
       "    <tr>\n",
       "      <th>122</th>\n",
       "      <td>2014-05-05</td>\n",
       "      <td>14.639686</td>\n",
       "      <td>7</td>\n",
       "      <td>8.00</td>\n",
       "      <td>13540</td>\n",
       "      <td>307752</td>\n",
       "      <td>3.0</td>\n",
       "      <td>0</td>\n",
       "      <td>4</td>\n",
       "      <td>3</td>\n",
       "      <td>9410</td>\n",
       "      <td>4130</td>\n",
       "      <td>1999</td>\n",
       "      <td>NaN</td>\n",
       "      <td>26408 NE 70th St</td>\n",
       "      <td>Redmond</td>\n",
       "      <td>WA 98053</td>\n",
       "      <td>USA</td>\n",
       "      <td>0.001081</td>\n",
       "    </tr>\n",
       "    <tr>\n",
       "      <th>2286</th>\n",
       "      <td>2014-06-11</td>\n",
       "      <td>15.770310</td>\n",
       "      <td>5</td>\n",
       "      <td>4.50</td>\n",
       "      <td>10040</td>\n",
       "      <td>37325</td>\n",
       "      <td>2.0</td>\n",
       "      <td>1</td>\n",
       "      <td>2</td>\n",
       "      <td>3</td>\n",
       "      <td>7680</td>\n",
       "      <td>2360</td>\n",
       "      <td>1940</td>\n",
       "      <td>2001.0</td>\n",
       "      <td>4442 95th Ave NE</td>\n",
       "      <td>Bellevue</td>\n",
       "      <td>WA 98004</td>\n",
       "      <td>USA</td>\n",
       "      <td>0.001571</td>\n",
       "    </tr>\n",
       "    <tr>\n",
       "      <th>2328</th>\n",
       "      <td>2014-06-11</td>\n",
       "      <td>14.876075</td>\n",
       "      <td>5</td>\n",
       "      <td>6.25</td>\n",
       "      <td>8670</td>\n",
       "      <td>64033</td>\n",
       "      <td>2.0</td>\n",
       "      <td>0</td>\n",
       "      <td>4</td>\n",
       "      <td>3</td>\n",
       "      <td>6120</td>\n",
       "      <td>2550</td>\n",
       "      <td>1965</td>\n",
       "      <td>2003.0</td>\n",
       "      <td>1291 NW Elford Dr</td>\n",
       "      <td>Seattle</td>\n",
       "      <td>WA 98177</td>\n",
       "      <td>USA</td>\n",
       "      <td>0.001716</td>\n",
       "    </tr>\n",
       "    <tr>\n",
       "      <th>2654</th>\n",
       "      <td>2014-06-17</td>\n",
       "      <td>15.356241</td>\n",
       "      <td>5</td>\n",
       "      <td>6.75</td>\n",
       "      <td>9640</td>\n",
       "      <td>13068</td>\n",
       "      <td>1.0</td>\n",
       "      <td>1</td>\n",
       "      <td>4</td>\n",
       "      <td>3</td>\n",
       "      <td>4820</td>\n",
       "      <td>4820</td>\n",
       "      <td>1983</td>\n",
       "      <td>2009.0</td>\n",
       "      <td>5044 Butterworth Rd</td>\n",
       "      <td>Mercer Island</td>\n",
       "      <td>WA 98040</td>\n",
       "      <td>USA</td>\n",
       "      <td>0.001593</td>\n",
       "    </tr>\n",
       "    <tr>\n",
       "      <th>4347</th>\n",
       "      <td>2014-06-23</td>\n",
       "      <td>16.372660</td>\n",
       "      <td>3</td>\n",
       "      <td>2.50</td>\n",
       "      <td>2190</td>\n",
       "      <td>11394</td>\n",
       "      <td>1.0</td>\n",
       "      <td>0</td>\n",
       "      <td>0</td>\n",
       "      <td>3</td>\n",
       "      <td>1550</td>\n",
       "      <td>640</td>\n",
       "      <td>1956</td>\n",
       "      <td>NaN</td>\n",
       "      <td>5426 40th Ave W</td>\n",
       "      <td>Seattle</td>\n",
       "      <td>WA 98199</td>\n",
       "      <td>USA</td>\n",
       "      <td>0.007476</td>\n",
       "    </tr>\n",
       "    <tr>\n",
       "      <th>4351</th>\n",
       "      <td>2014-07-03</td>\n",
       "      <td>17.096046</td>\n",
       "      <td>3</td>\n",
       "      <td>2.00</td>\n",
       "      <td>1180</td>\n",
       "      <td>7793</td>\n",
       "      <td>1.0</td>\n",
       "      <td>0</td>\n",
       "      <td>0</td>\n",
       "      <td>4</td>\n",
       "      <td>1180</td>\n",
       "      <td>0</td>\n",
       "      <td>1992</td>\n",
       "      <td>NaN</td>\n",
       "      <td>12005 SE 219th Ct</td>\n",
       "      <td>Kent</td>\n",
       "      <td>WA 98031</td>\n",
       "      <td>USA</td>\n",
       "      <td>0.014488</td>\n",
       "    </tr>\n",
       "    <tr>\n",
       "      <th>4352</th>\n",
       "      <td>2014-05-06</td>\n",
       "      <td>8.961879</td>\n",
       "      <td>2</td>\n",
       "      <td>1.00</td>\n",
       "      <td>780</td>\n",
       "      <td>16344</td>\n",
       "      <td>1.0</td>\n",
       "      <td>0</td>\n",
       "      <td>0</td>\n",
       "      <td>1</td>\n",
       "      <td>780</td>\n",
       "      <td>0</td>\n",
       "      <td>1942</td>\n",
       "      <td>NaN</td>\n",
       "      <td>4229 S 144th St</td>\n",
       "      <td>Tukwila</td>\n",
       "      <td>WA 98168</td>\n",
       "      <td>USA</td>\n",
       "      <td>0.011490</td>\n",
       "    </tr>\n",
       "  </tbody>\n",
       "</table>\n",
       "</div>"
      ],
      "text/plain": [
       "           date      price  bedrooms  bathrooms  sqft_living  sqft_lot  \\\n",
       "122  2014-05-05  14.639686         7       8.00        13540    307752   \n",
       "2286 2014-06-11  15.770310         5       4.50        10040     37325   \n",
       "2328 2014-06-11  14.876075         5       6.25         8670     64033   \n",
       "2654 2014-06-17  15.356241         5       6.75         9640     13068   \n",
       "4347 2014-06-23  16.372660         3       2.50         2190     11394   \n",
       "4351 2014-07-03  17.096046         3       2.00         1180      7793   \n",
       "4352 2014-05-06   8.961879         2       1.00          780     16344   \n",
       "\n",
       "      floors  waterfront  view  condition  sqft_above  sqft_basement  \\\n",
       "122      3.0           0     4          3        9410           4130   \n",
       "2286     2.0           1     2          3        7680           2360   \n",
       "2328     2.0           0     4          3        6120           2550   \n",
       "2654     1.0           1     4          3        4820           4820   \n",
       "4347     1.0           0     0          3        1550            640   \n",
       "4351     1.0           0     0          4        1180              0   \n",
       "4352     1.0           0     0          1         780              0   \n",
       "\n",
       "      yr_built  yr_renovated               street           city  statezip  \\\n",
       "122       1999           NaN     26408 NE 70th St        Redmond  WA 98053   \n",
       "2286      1940        2001.0     4442 95th Ave NE       Bellevue  WA 98004   \n",
       "2328      1965        2003.0    1291 NW Elford Dr        Seattle  WA 98177   \n",
       "2654      1983        2009.0  5044 Butterworth Rd  Mercer Island  WA 98040   \n",
       "4347      1956           NaN      5426 40th Ave W        Seattle  WA 98199   \n",
       "4351      1992           NaN    12005 SE 219th Ct           Kent  WA 98031   \n",
       "4352      1942           NaN      4229 S 144th St        Tukwila  WA 98168   \n",
       "\n",
       "     country  price_living  \n",
       "122      USA      0.001081  \n",
       "2286     USA      0.001571  \n",
       "2328     USA      0.001716  \n",
       "2654     USA      0.001593  \n",
       "4347     USA      0.007476  \n",
       "4351     USA      0.014488  \n",
       "4352     USA      0.011490  "
      ]
     },
     "execution_count": 90,
     "metadata": {},
     "output_type": "execute_result"
    }
   ],
   "source": [
    "#show outliers from 2-dimention mahalanobis distance\n",
    "df_house.iloc[index_list1]"
   ]
  },
  {
   "cell_type": "markdown",
   "metadata": {},
   "source": [
    "7 outliers has been detected based on mahalanobis distance. The outliers are detected by using univariate methods. In order to get more accurate outliers, I build a 3-dimention mahalanobis distance model below to find outliers by using the most correlated variables (sqft_living and bathrooms)."
   ]
  },
  {
   "cell_type": "code",
   "execution_count": 91,
   "metadata": {},
   "outputs": [
    {
     "data": {
      "image/png": "[encoded data removed]",
      "text/plain": [
       "<matplotlib.figure.Figure at 0xfaf0828>"
      ]
     },
     "metadata": {},
     "output_type": "display_data"
    }
   ],
   "source": [
    "#3-dimention mahalanobis distance detect outliers\n",
    "#The greater the value of mahalanobis distance, the higher probability of outlier it is.  \n",
    "\n",
    "#build a new dataframe including three columns\n",
    "hw=df_house[['price','sqft_living','bathrooms']]    \n",
    "  \n",
    "n_outliers = 7 #select 7 outliers \n",
    "#iloc[]take 3 columns and 1 row   hw.mean()here is an array of three variables    np.mat(hw.cov().as_matrix()).I is the inverse matrix of covariance   **为乘方  \n",
    "#Series's output is: the index is on the left, the value is on the right\n",
    "#m_dist_order is a one-dimensional array that holds the index in descending order of Series\n",
    "m_dist_order =  Series([float(distance.mahalanobis(hw.iloc[i], hw.mean(), np.mat(hw.cov().as_matrix()).I) ** 2)  \n",
    "       for i in range(len(hw))]).sort_values(ascending=False).index.tolist()  \n",
    "is_outlier = [False, ] * len(hw)\n",
    "for i in range(n_outliers):#mahalanobis distance value is marked as True\n",
    "    is_outlier[m_dist_order[i]] = True  \n",
    "\n",
    "#outliers are displayed in red, others are displayed in blue\n",
    "color = ['b', 'r']  \n",
    "#turn True to 1, False to 0\n",
    "pch = [1 if is_outlier[i] == True else 0 for i in range(len(is_outlier))]  \n",
    "#turn 1 to 'r', turn 0 to 'b'\n",
    "cValue = [color[is_outlier[i]] for i in range(len(is_outlier))]  \n",
    "\n",
    "#plotting\n",
    "fig = plt.figure()  \n",
    "#using 3 dimention \n",
    "ax1 = fig.gca(projection='3d')  \n",
    "#set title and labels\n",
    "ax1.set_title('Scatter Plot')  \n",
    "ax1.set_xlabel('price')  \n",
    "ax1.set_ylabel('sqft_living')  \n",
    "ax1.set_zlabel('bathrooms')  \n",
    "#plot scatter plot\n",
    "ax1.scatter(hw['sqft_living'], hw['price'], hw['bathrooms'],  s=30, c=cValue)  \n",
    "plt.show()  "
   ]
  },
  {
   "cell_type": "code",
   "execution_count": 92,
   "metadata": {
    "collapsed": true
   },
   "outputs": [],
   "source": [
    "index_list2=[]\n",
    "#pch return True to 1. Here we can find the index of the outliers \n",
    "for i in range(len(pch)):\n",
    "    if pch[i]==1:\n",
    "        index_list2.append(i)"
   ]
  },
  {
   "cell_type": "code",
   "execution_count": 93,
   "metadata": {},
   "outputs": [
    {
     "data": {
      "text/plain": [
       "[122, 2286, 2654, 3209, 4346, 4350, 4351]"
      ]
     },
     "execution_count": 93,
     "metadata": {},
     "output_type": "execute_result"
    }
   ],
   "source": [
    "index_list2"
   ]
  },
  {
   "cell_type": "code",
   "execution_count": 94,
   "metadata": {
    "scrolled": true
   },
   "outputs": [
    {
     "data": {
      "text/html": [
       "<div>\n",
       "<style>\n",
       "    .dataframe thead tr:only-child th {\n",
       "        text-align: right;\n",
       "    }\n",
       "\n",
       "    .dataframe thead th {\n",
       "        text-align: left;\n",
       "    }\n",
       "\n",
       "    .dataframe tbody tr th {\n",
       "        vertical-align: top;\n",
       "    }\n",
       "</style>\n",
       "<table border=\"1\" class=\"dataframe\">\n",
       "  <thead>\n",
       "    <tr style=\"text-align: right;\">\n",
       "      <th></th>\n",
       "      <th>date</th>\n",
       "      <th>price</th>\n",
       "      <th>bedrooms</th>\n",
       "      <th>bathrooms</th>\n",
       "      <th>sqft_living</th>\n",
       "      <th>sqft_lot</th>\n",
       "      <th>floors</th>\n",
       "      <th>waterfront</th>\n",
       "      <th>view</th>\n",
       "      <th>condition</th>\n",
       "      <th>sqft_above</th>\n",
       "      <th>sqft_basement</th>\n",
       "      <th>yr_built</th>\n",
       "      <th>yr_renovated</th>\n",
       "      <th>street</th>\n",
       "      <th>city</th>\n",
       "      <th>statezip</th>\n",
       "      <th>country</th>\n",
       "      <th>price_living</th>\n",
       "    </tr>\n",
       "  </thead>\n",
       "  <tbody>\n",
       "    <tr>\n",
       "      <th>122</th>\n",
       "      <td>2014-05-05</td>\n",
       "      <td>14.639686</td>\n",
       "      <td>7</td>\n",
       "      <td>8.00</td>\n",
       "      <td>13540</td>\n",
       "      <td>307752</td>\n",
       "      <td>3.0</td>\n",
       "      <td>0</td>\n",
       "      <td>4</td>\n",
       "      <td>3</td>\n",
       "      <td>9410</td>\n",
       "      <td>4130</td>\n",
       "      <td>1999</td>\n",
       "      <td>NaN</td>\n",
       "      <td>26408 NE 70th St</td>\n",
       "      <td>Redmond</td>\n",
       "      <td>WA 98053</td>\n",
       "      <td>USA</td>\n",
       "      <td>0.001081</td>\n",
       "    </tr>\n",
       "    <tr>\n",
       "      <th>2286</th>\n",
       "      <td>2014-06-11</td>\n",
       "      <td>15.770310</td>\n",
       "      <td>5</td>\n",
       "      <td>4.50</td>\n",
       "      <td>10040</td>\n",
       "      <td>37325</td>\n",
       "      <td>2.0</td>\n",
       "      <td>1</td>\n",
       "      <td>2</td>\n",
       "      <td>3</td>\n",
       "      <td>7680</td>\n",
       "      <td>2360</td>\n",
       "      <td>1940</td>\n",
       "      <td>2001.0</td>\n",
       "      <td>4442 95th Ave NE</td>\n",
       "      <td>Bellevue</td>\n",
       "      <td>WA 98004</td>\n",
       "      <td>USA</td>\n",
       "      <td>0.001571</td>\n",
       "    </tr>\n",
       "    <tr>\n",
       "      <th>2654</th>\n",
       "      <td>2014-06-17</td>\n",
       "      <td>15.356241</td>\n",
       "      <td>5</td>\n",
       "      <td>6.75</td>\n",
       "      <td>9640</td>\n",
       "      <td>13068</td>\n",
       "      <td>1.0</td>\n",
       "      <td>1</td>\n",
       "      <td>4</td>\n",
       "      <td>3</td>\n",
       "      <td>4820</td>\n",
       "      <td>4820</td>\n",
       "      <td>1983</td>\n",
       "      <td>2009.0</td>\n",
       "      <td>5044 Butterworth Rd</td>\n",
       "      <td>Mercer Island</td>\n",
       "      <td>WA 98040</td>\n",
       "      <td>USA</td>\n",
       "      <td>0.001593</td>\n",
       "    </tr>\n",
       "    <tr>\n",
       "      <th>3209</th>\n",
       "      <td>2014-06-24</td>\n",
       "      <td>14.074522</td>\n",
       "      <td>0</td>\n",
       "      <td>0.00</td>\n",
       "      <td>4810</td>\n",
       "      <td>28008</td>\n",
       "      <td>2.0</td>\n",
       "      <td>0</td>\n",
       "      <td>0</td>\n",
       "      <td>3</td>\n",
       "      <td>4810</td>\n",
       "      <td>0</td>\n",
       "      <td>1990</td>\n",
       "      <td>NaN</td>\n",
       "      <td>20418 NE 64th Pl</td>\n",
       "      <td>Redmond</td>\n",
       "      <td>WA 98053</td>\n",
       "      <td>USA</td>\n",
       "      <td>0.002926</td>\n",
       "    </tr>\n",
       "    <tr>\n",
       "      <th>4347</th>\n",
       "      <td>2014-06-23</td>\n",
       "      <td>16.372660</td>\n",
       "      <td>3</td>\n",
       "      <td>2.50</td>\n",
       "      <td>2190</td>\n",
       "      <td>11394</td>\n",
       "      <td>1.0</td>\n",
       "      <td>0</td>\n",
       "      <td>0</td>\n",
       "      <td>3</td>\n",
       "      <td>1550</td>\n",
       "      <td>640</td>\n",
       "      <td>1956</td>\n",
       "      <td>NaN</td>\n",
       "      <td>5426 40th Ave W</td>\n",
       "      <td>Seattle</td>\n",
       "      <td>WA 98199</td>\n",
       "      <td>USA</td>\n",
       "      <td>0.007476</td>\n",
       "    </tr>\n",
       "    <tr>\n",
       "      <th>4351</th>\n",
       "      <td>2014-07-03</td>\n",
       "      <td>17.096046</td>\n",
       "      <td>3</td>\n",
       "      <td>2.00</td>\n",
       "      <td>1180</td>\n",
       "      <td>7793</td>\n",
       "      <td>1.0</td>\n",
       "      <td>0</td>\n",
       "      <td>0</td>\n",
       "      <td>4</td>\n",
       "      <td>1180</td>\n",
       "      <td>0</td>\n",
       "      <td>1992</td>\n",
       "      <td>NaN</td>\n",
       "      <td>12005 SE 219th Ct</td>\n",
       "      <td>Kent</td>\n",
       "      <td>WA 98031</td>\n",
       "      <td>USA</td>\n",
       "      <td>0.014488</td>\n",
       "    </tr>\n",
       "    <tr>\n",
       "      <th>4352</th>\n",
       "      <td>2014-05-06</td>\n",
       "      <td>8.961879</td>\n",
       "      <td>2</td>\n",
       "      <td>1.00</td>\n",
       "      <td>780</td>\n",
       "      <td>16344</td>\n",
       "      <td>1.0</td>\n",
       "      <td>0</td>\n",
       "      <td>0</td>\n",
       "      <td>1</td>\n",
       "      <td>780</td>\n",
       "      <td>0</td>\n",
       "      <td>1942</td>\n",
       "      <td>NaN</td>\n",
       "      <td>4229 S 144th St</td>\n",
       "      <td>Tukwila</td>\n",
       "      <td>WA 98168</td>\n",
       "      <td>USA</td>\n",
       "      <td>0.011490</td>\n",
       "    </tr>\n",
       "  </tbody>\n",
       "</table>\n",
       "</div>"
      ],
      "text/plain": [
       "           date      price  bedrooms  bathrooms  sqft_living  sqft_lot  \\\n",
       "122  2014-05-05  14.639686         7       8.00        13540    307752   \n",
       "2286 2014-06-11  15.770310         5       4.50        10040     37325   \n",
       "2654 2014-06-17  15.356241         5       6.75         9640     13068   \n",
       "3209 2014-06-24  14.074522         0       0.00         4810     28008   \n",
       "4347 2014-06-23  16.372660         3       2.50         2190     11394   \n",
       "4351 2014-07-03  17.096046         3       2.00         1180      7793   \n",
       "4352 2014-05-06   8.961879         2       1.00          780     16344   \n",
       "\n",
       "      floors  waterfront  view  condition  sqft_above  sqft_basement  \\\n",
       "122      3.0           0     4          3        9410           4130   \n",
       "2286     2.0           1     2          3        7680           2360   \n",
       "2654     1.0           1     4          3        4820           4820   \n",
       "3209     2.0           0     0          3        4810              0   \n",
       "4347     1.0           0     0          3        1550            640   \n",
       "4351     1.0           0     0          4        1180              0   \n",
       "4352     1.0           0     0          1         780              0   \n",
       "\n",
       "      yr_built  yr_renovated               street           city  statezip  \\\n",
       "122       1999           NaN     26408 NE 70th St        Redmond  WA 98053   \n",
       "2286      1940        2001.0     4442 95th Ave NE       Bellevue  WA 98004   \n",
       "2654      1983        2009.0  5044 Butterworth Rd  Mercer Island  WA 98040   \n",
       "3209      1990           NaN     20418 NE 64th Pl        Redmond  WA 98053   \n",
       "4347      1956           NaN      5426 40th Ave W        Seattle  WA 98199   \n",
       "4351      1992           NaN    12005 SE 219th Ct           Kent  WA 98031   \n",
       "4352      1942           NaN      4229 S 144th St        Tukwila  WA 98168   \n",
       "\n",
       "     country  price_living  \n",
       "122      USA      0.001081  \n",
       "2286     USA      0.001571  \n",
       "2654     USA      0.001593  \n",
       "3209     USA      0.002926  \n",
       "4347     USA      0.007476  \n",
       "4351     USA      0.014488  \n",
       "4352     USA      0.011490  "
      ]
     },
     "execution_count": 94,
     "metadata": {},
     "output_type": "execute_result"
    }
   ],
   "source": [
    "#show outliers from 3-dimention mahalanobis distance\n",
    "df_house.iloc[index_list2]"
   ]
  },
  {
   "cell_type": "markdown",
   "metadata": {},
   "source": [
    "7 outliers has been detected again! Campared with outliers that has been found from 2 dimention Mahalanobis distance, we have one more row(3209) detected and one less row(2328) undetected. It is not resonable to drop row 3209 here because it does not have any bedrooms and bathrooms. We can regards those 0 as missing values or even they truely does not have rooms in the real world. So it is hard to say. And another reson to keep it is that there are less indicators for housing price with no bedrooms and bathrooms. If we keep it, it can be regarded as one of the reference for someone who want to sell house without any interior decorations."
   ]
  },
  {
   "cell_type": "markdown",
   "metadata": {
    "collapsed": true
   },
   "source": [
    "Here, I would like to regard outliers as missing values which have been found from 2-dimention Mahalanobis distance, so it would not influence the prediction models."
   ]
  },
  {
   "cell_type": "code",
   "execution_count": 95,
   "metadata": {
    "collapsed": true
   },
   "outputs": [],
   "source": [
    "#Set values for particular cell in index_list\n",
    "df_house.iloc[index_list1,1]=0\n",
    "#replace 0 with NaN\n",
    "df_house['price'].replace(0,np.NaN,inplace=True)"
   ]
  },
  {
   "cell_type": "markdown",
   "metadata": {},
   "source": [
    "****"
   ]
  },
  {
   "cell_type": "markdown",
   "metadata": {},
   "source": [
    "## Missing values"
   ]
  },
  {
   "cell_type": "markdown",
   "metadata": {},
   "source": [
    "In terms of missing values, let's see what kind of missing values exists in the dataframe"
   ]
  },
  {
   "cell_type": "code",
   "execution_count": 96,
   "metadata": {},
   "outputs": [
    {
     "data": {
      "text/plain": [
       "date                0\n",
       "price             255\n",
       "bedrooms            0\n",
       "bathrooms           0\n",
       "sqft_living         0\n",
       "sqft_lot            0\n",
       "floors              0\n",
       "waterfront          0\n",
       "view                0\n",
       "condition           0\n",
       "sqft_above          0\n",
       "sqft_basement       0\n",
       "yr_built            0\n",
       "yr_renovated     4371\n",
       "street              0\n",
       "city                0\n",
       "statezip            0\n",
       "country             0\n",
       "price_living      248\n",
       "dtype: int64"
      ]
     },
     "execution_count": 96,
     "metadata": {},
     "output_type": "execute_result"
    }
   ],
   "source": [
    "df_house.isnull().sum()"
   ]
  },
  {
   "cell_type": "markdown",
   "metadata": {},
   "source": [
    "The reason for existence of missing values:\n",
    "* Missing at random in the collection process: Such as housing price, bathrooms, bedrooms.\n",
    "* Missing intentionally in the collection process: Such as participants refusing to provide their yr_renovated.\n",
    "* Missing because of a change of circumstances: Such as housing price sold twice.\n",
    "* Missing pattern due to manual data entry procedure: Such as view and condition."
   ]
  },
  {
   "cell_type": "markdown",
   "metadata": {},
   "source": [
    "### Missing value - bedrooms, bathrooms and other column with 0s"
   ]
  },
  {
   "cell_type": "markdown",
   "metadata": {},
   "source": [
    "We can not simply say that the column with 0 is missing value because those values might be 0 in the real word. For example, a house without a bedroom or bathroom or basement is normal and resonable. A house without bedrooms and bathrooms might be hotel or motel or department studios. And a house without basement is normal because poor people cannot afford basement. Therefore, based on the actual situation, data with zero should be justify with the fact when filling the missing values."
   ]
  },
  {
   "cell_type": "markdown",
   "metadata": {},
   "source": [
    "### Missing value - yr_renovated"
   ]
  },
  {
   "cell_type": "markdown",
   "metadata": {},
   "source": [
    "The NaN of yr_renovate is missing completely at random. We cannot simply to fill the NaN because there are 2 reason that does not have year of renovate. First is that the seller of property deliberately hide the year of renovated. The reason might be that the owner have not renovated since they buy it, or the house have not been renovated for a long time. They hide this information might be this column is an optional they cannot remember the specific year. The second reason is that there is no general concept to define the year of renovated. For example, if I paint a wall, is it called renovated? And most importantly, government might not care about year of renovated when they calculating the property price growth. Therefore, it has a large number of missing values here. \n",
    "\n",
    "But if this project is used for property buyers, they might care about year of renovated. If we have to fill NaN compulsively, I would fill by the maximum number for either the median year of renovated or the year of property built. ACtually for this project, there is nearly no correlation between yr_renovated and housing price according to correlation matrx. And if we use price to predict year renovated, we cannot predict price by using yr_renovated again, That's also the reason why missing at rondom value is not related to the vaiable which has missing data. "
   ]
  },
  {
   "cell_type": "markdown",
   "metadata": {},
   "source": [
    "### Missing value - Housing price"
   ]
  },
  {
   "cell_type": "markdown",
   "metadata": {
    "collapsed": true
   },
   "source": [
    "The most important part, price, which we need to replace missing values with predicted price. Those housing price are 0 must be missing values because in the real market, housing price should be a number greater than 0. Housing price here is missing at random (MAR). Its missingness is related to a particular variable, but it is not related to the value of the variable that has missing data. So it is not related to yr-renovated.\n",
    "\n",
    "It is easy to consider numerial variables as factors such as 'price','bedrooms','bathrooms','sqft_living','sqft_lot','floors','waterfront','view','condition', 'sqft_above','sqft_basement' and 'yr_built'. But how can we consider the relationship in categorical variable such as location and price? At very beginning, I thought it could be divided into several states to predict housing price. But later I think this method is not very good because several states have some of cities with higher housing price and some with lower housing price. Seperated by states would cause housing price imbalances, and reduce the predict accurate analysis. And moreover, some of states just have a few of properties, the lesser property records might lead to prediction biased.\n",
    "\n",
    "Therefore, I divide 44 cities into 4 parts, 11 cities per group, which sorted according to housing price. The first group is where has the lowest median housing price, and second group is where has the relative low median price, and third group is where has the relative high median price and last group with highest price. This method not only effectively avoid the problem that large and small cities have large difference in housing price for each state, but also rationally grouped large and prosperous cities together and samll and backward cities together."
   ]
  },
  {
   "cell_type": "markdown",
   "metadata": {},
   "source": [
    "##### 1. Handling with lowest housing price cities missing value"
   ]
  },
  {
   "cell_type": "code",
   "execution_count": 97,
   "metadata": {},
   "outputs": [
    {
     "data": {
      "text/plain": [
       "[u'Skykomish',\n",
       " u'Pacific',\n",
       " u'Algona',\n",
       " u'SeaTac',\n",
       " u'Covington',\n",
       " u'Des Moines',\n",
       " u'Tukwila',\n",
       " u'Federal Way',\n",
       " u'Auburn',\n",
       " u'Milton',\n",
       " u'Kent']"
      ]
     },
     "execution_count": 97,
     "metadata": {},
     "output_type": "execute_result"
    }
   ],
   "source": [
    "lowest_price_cities"
   ]
  },
  {
   "cell_type": "code",
   "execution_count": 98,
   "metadata": {},
   "outputs": [
    {
     "data": {
      "text/html": [
       "<div>\n",
       "<style>\n",
       "    .dataframe thead tr:only-child th {\n",
       "        text-align: right;\n",
       "    }\n",
       "\n",
       "    .dataframe thead th {\n",
       "        text-align: left;\n",
       "    }\n",
       "\n",
       "    .dataframe tbody tr th {\n",
       "        vertical-align: top;\n",
       "    }\n",
       "</style>\n",
       "<table border=\"1\" class=\"dataframe\">\n",
       "  <thead>\n",
       "    <tr style=\"text-align: right;\">\n",
       "      <th></th>\n",
       "      <th>date</th>\n",
       "      <th>price</th>\n",
       "      <th>bedrooms</th>\n",
       "      <th>bathrooms</th>\n",
       "      <th>sqft_living</th>\n",
       "      <th>sqft_lot</th>\n",
       "      <th>floors</th>\n",
       "      <th>waterfront</th>\n",
       "      <th>view</th>\n",
       "      <th>condition</th>\n",
       "      <th>sqft_above</th>\n",
       "      <th>sqft_basement</th>\n",
       "      <th>yr_built</th>\n",
       "      <th>yr_renovated</th>\n",
       "      <th>street</th>\n",
       "      <th>city</th>\n",
       "      <th>statezip</th>\n",
       "      <th>country</th>\n",
       "      <th>price_living</th>\n",
       "    </tr>\n",
       "  </thead>\n",
       "  <tbody>\n",
       "    <tr>\n",
       "      <th>2</th>\n",
       "      <td>2014-05-02</td>\n",
       "      <td>12.742566</td>\n",
       "      <td>3</td>\n",
       "      <td>2.00</td>\n",
       "      <td>1930</td>\n",
       "      <td>11947</td>\n",
       "      <td>1.0</td>\n",
       "      <td>0</td>\n",
       "      <td>0</td>\n",
       "      <td>4</td>\n",
       "      <td>1930</td>\n",
       "      <td>0</td>\n",
       "      <td>1966</td>\n",
       "      <td>NaN</td>\n",
       "      <td>26206-26214 143rd Ave SE</td>\n",
       "      <td>Kent</td>\n",
       "      <td>WA 98042</td>\n",
       "      <td>USA</td>\n",
       "      <td>0.006602</td>\n",
       "    </tr>\n",
       "    <tr>\n",
       "      <th>15</th>\n",
       "      <td>2014-05-02</td>\n",
       "      <td>12.398757</td>\n",
       "      <td>3</td>\n",
       "      <td>1.50</td>\n",
       "      <td>1200</td>\n",
       "      <td>9720</td>\n",
       "      <td>1.0</td>\n",
       "      <td>0</td>\n",
       "      <td>0</td>\n",
       "      <td>4</td>\n",
       "      <td>1200</td>\n",
       "      <td>0</td>\n",
       "      <td>1965</td>\n",
       "      <td>NaN</td>\n",
       "      <td>14034 SE 201st St</td>\n",
       "      <td>Kent</td>\n",
       "      <td>WA 98042</td>\n",
       "      <td>USA</td>\n",
       "      <td>0.010332</td>\n",
       "    </tr>\n",
       "    <tr>\n",
       "      <th>17</th>\n",
       "      <td>2014-05-02</td>\n",
       "      <td>12.814479</td>\n",
       "      <td>4</td>\n",
       "      <td>3.00</td>\n",
       "      <td>3110</td>\n",
       "      <td>7231</td>\n",
       "      <td>2.0</td>\n",
       "      <td>0</td>\n",
       "      <td>0</td>\n",
       "      <td>3</td>\n",
       "      <td>3110</td>\n",
       "      <td>0</td>\n",
       "      <td>1997</td>\n",
       "      <td>NaN</td>\n",
       "      <td>11224 SE 306th Pl</td>\n",
       "      <td>Auburn</td>\n",
       "      <td>WA 98092</td>\n",
       "      <td>USA</td>\n",
       "      <td>0.004120</td>\n",
       "    </tr>\n",
       "    <tr>\n",
       "      <th>18</th>\n",
       "      <td>2014-05-02</td>\n",
       "      <td>12.460521</td>\n",
       "      <td>3</td>\n",
       "      <td>1.75</td>\n",
       "      <td>1370</td>\n",
       "      <td>5858</td>\n",
       "      <td>1.0</td>\n",
       "      <td>0</td>\n",
       "      <td>0</td>\n",
       "      <td>3</td>\n",
       "      <td>1370</td>\n",
       "      <td>0</td>\n",
       "      <td>1987</td>\n",
       "      <td>NaN</td>\n",
       "      <td>1605 S 245th Pl</td>\n",
       "      <td>Des Moines</td>\n",
       "      <td>WA 98198</td>\n",
       "      <td>USA</td>\n",
       "      <td>0.009095</td>\n",
       "    </tr>\n",
       "    <tr>\n",
       "      <th>25</th>\n",
       "      <td>2014-05-02</td>\n",
       "      <td>12.560244</td>\n",
       "      <td>3</td>\n",
       "      <td>2.50</td>\n",
       "      <td>2090</td>\n",
       "      <td>10834</td>\n",
       "      <td>1.0</td>\n",
       "      <td>0</td>\n",
       "      <td>0</td>\n",
       "      <td>4</td>\n",
       "      <td>1360</td>\n",
       "      <td>730</td>\n",
       "      <td>1987</td>\n",
       "      <td>NaN</td>\n",
       "      <td>27736 23rd Avenue South</td>\n",
       "      <td>Federal Way</td>\n",
       "      <td>WA 98003</td>\n",
       "      <td>USA</td>\n",
       "      <td>0.006010</td>\n",
       "    </tr>\n",
       "  </tbody>\n",
       "</table>\n",
       "</div>"
      ],
      "text/plain": [
       "         date      price  bedrooms  bathrooms  sqft_living  sqft_lot  floors  \\\n",
       "2  2014-05-02  12.742566         3       2.00         1930     11947     1.0   \n",
       "15 2014-05-02  12.398757         3       1.50         1200      9720     1.0   \n",
       "17 2014-05-02  12.814479         4       3.00         3110      7231     2.0   \n",
       "18 2014-05-02  12.460521         3       1.75         1370      5858     1.0   \n",
       "25 2014-05-02  12.560244         3       2.50         2090     10834     1.0   \n",
       "\n",
       "    waterfront  view  condition  sqft_above  sqft_basement  yr_built  \\\n",
       "2            0     0          4        1930              0      1966   \n",
       "15           0     0          4        1200              0      1965   \n",
       "17           0     0          3        3110              0      1997   \n",
       "18           0     0          3        1370              0      1987   \n",
       "25           0     0          4        1360            730      1987   \n",
       "\n",
       "    yr_renovated                    street         city  statezip country  \\\n",
       "2            NaN  26206-26214 143rd Ave SE         Kent  WA 98042     USA   \n",
       "15           NaN         14034 SE 201st St         Kent  WA 98042     USA   \n",
       "17           NaN         11224 SE 306th Pl       Auburn  WA 98092     USA   \n",
       "18           NaN           1605 S 245th Pl   Des Moines  WA 98198     USA   \n",
       "25           NaN   27736 23rd Avenue South  Federal Way  WA 98003     USA   \n",
       "\n",
       "    price_living  \n",
       "2       0.006602  \n",
       "15      0.010332  \n",
       "17      0.004120  \n",
       "18      0.009095  \n",
       "25      0.006010  "
      ]
     },
     "execution_count": 98,
     "metadata": {},
     "output_type": "execute_result"
    }
   ],
   "source": [
    "#build a new dataframe that just contain the city which is in lowest_price_list\n",
    "df_house_copy=df_house[df_house['city'].isin(lowest_price_cities)]\n",
    "df_house_copy.head()"
   ]
  },
  {
   "cell_type": "code",
   "execution_count": 99,
   "metadata": {},
   "outputs": [
    {
     "data": {
      "text/plain": [
       "date               0\n",
       "price             40\n",
       "bedrooms           0\n",
       "bathrooms          0\n",
       "sqft_living        0\n",
       "sqft_lot           0\n",
       "floors             0\n",
       "waterfront         0\n",
       "view               0\n",
       "condition          0\n",
       "sqft_above         0\n",
       "sqft_basement      0\n",
       "yr_built           0\n",
       "yr_renovated     669\n",
       "street             0\n",
       "city               0\n",
       "statezip           0\n",
       "country            0\n",
       "price_living      38\n",
       "dtype: int64"
      ]
     },
     "execution_count": 99,
     "metadata": {},
     "output_type": "execute_result"
    }
   ],
   "source": [
    "#copy a new dataframe which not impact on original dataframe when modify the data\n",
    "lowestprice_house_dropna=df_house_copy.copy()\n",
    "#create a new dataframe to replace missing values with NaN\n",
    "df_house_impute1= lowestprice_house_dropna.copy()\n",
    "#check how many NaN in dataframe\n",
    "lowestprice_house_dropna.isnull().sum()"
   ]
  },
  {
   "cell_type": "code",
   "execution_count": 100,
   "metadata": {
    "collapsed": true
   },
   "outputs": [],
   "source": [
    "#drop rows with the price is NaN\n",
    "lowestprice_house_dropna.dropna(subset=['price'],axis=0,inplace=True)"
   ]
  },
  {
   "cell_type": "markdown",
   "metadata": {},
   "source": [
    "Counting number of NaN both the dataframe has now"
   ]
  },
  {
   "cell_type": "code",
   "execution_count": 101,
   "metadata": {},
   "outputs": [
    {
     "data": {
      "text/plain": [
       "0"
      ]
     },
     "execution_count": 101,
     "metadata": {},
     "output_type": "execute_result"
    }
   ],
   "source": [
    "lowestprice_house_dropna['price'].isnull().sum()"
   ]
  },
  {
   "cell_type": "code",
   "execution_count": 102,
   "metadata": {},
   "outputs": [
    {
     "data": {
      "text/plain": [
       "40"
      ]
     },
     "execution_count": 102,
     "metadata": {},
     "output_type": "execute_result"
    }
   ],
   "source": [
    "df_house_impute1['price'].isnull().sum()"
   ]
  },
  {
   "cell_type": "markdown",
   "metadata": {},
   "source": [
    "Drop the column which is categorical variables"
   ]
  },
  {
   "cell_type": "code",
   "execution_count": 103,
   "metadata": {
    "collapsed": true
   },
   "outputs": [],
   "source": [
    "lm_for_impute = LinearRegression()\n",
    "#select the feature which are numerical\n",
    "lm_fitting_df=lowestprice_house_dropna[['price','bedrooms','bathrooms','sqft_living','sqft_lot','floors','waterfront','view','condition',\n",
    "                         'sqft_above','sqft_basement','yr_built']]\n",
    "df_house_impute1=df_house_impute1[['price','bedrooms','bathrooms','sqft_living','sqft_lot','floors','waterfront','view','condition',\n",
    "                         'sqft_above','sqft_basement','yr_built']]"
   ]
  },
  {
   "cell_type": "markdown",
   "metadata": {},
   "source": [
    "Draw a regression"
   ]
  },
  {
   "cell_type": "code",
   "execution_count": 104,
   "metadata": {},
   "outputs": [
    {
     "data": {
      "text/plain": [
       "LinearRegression(copy_X=True, fit_intercept=True, n_jobs=1, normalize=False)"
      ]
     },
     "execution_count": 104,
     "metadata": {},
     "output_type": "execute_result"
    }
   ],
   "source": [
    "lm_for_impute.fit(lm_fitting_df[[x for x in lm_fitting_df.columns if x != 'price']], lm_fitting_df['price'])"
   ]
  },
  {
   "cell_type": "markdown",
   "metadata": {},
   "source": [
    "Replace missing values with predicted data\n",
    "\\begin{equation}\n",
    "y_i = \\beta_0 + \\beta_1 X_i + \\epsilon_i\n",
    "\\end{equation}"
   ]
  },
  {
   "cell_type": "code",
   "execution_count": 105,
   "metadata": {
    "collapsed": true
   },
   "outputs": [],
   "source": [
    "df_house_impute1['price'][df_house_impute1['price'].isnull()] = lm_for_impute.predict(df_house_impute1.drop(['price'],axis=1))"
   ]
  },
  {
   "cell_type": "code",
   "execution_count": 106,
   "metadata": {},
   "outputs": [
    {
     "data": {
      "image/png": "[encoded data removed]",
      "text/plain": [
       "<matplotlib.figure.Figure at 0x1006f630>"
      ]
     },
     "metadata": {},
     "output_type": "display_data"
    }
   ],
   "source": [
    "#draw boxplot\n",
    "boxplot = pd.DataFrame({'imputed': df_house_impute1['price'],'dropped': lowestprice_house_dropna['price']})\n",
    "boxplot.plot(kind='box', sym = 'k.',figsize=(10,8))\n",
    "plt.show()"
   ]
  },
  {
   "cell_type": "markdown",
   "metadata": {},
   "source": [
    "Test r-square"
   ]
  },
  {
   "cell_type": "code",
   "execution_count": 107,
   "metadata": {},
   "outputs": [
    {
     "name": "stdout",
     "output_type": "stream",
     "text": [
      "r-squared for this model =  0.685624846706\n"
     ]
    }
   ],
   "source": [
    "X_train, X_test, y_train, y_test = train_test_split(lm_fitting_df.iloc[:,1:],lm_fitting_df.iloc[:,:1],random_state=6)\n",
    "lm_dropped = LinearRegression()\n",
    "lm_dropped.fit(X_train,y_train)\n",
    "\n",
    "print 'r-squared for this model = ',lm_dropped.score(X_test,y_test)"
   ]
  },
  {
   "cell_type": "code",
   "execution_count": 108,
   "metadata": {},
   "outputs": [
    {
     "name": "stdout",
     "output_type": "stream",
     "text": [
      "r-squared for this model =  0.743901119526\n"
     ]
    }
   ],
   "source": [
    "X_train, X_test, y_train, y_test = train_test_split(df_house_impute1.iloc[:,1:],df_house_impute1.iloc[:,:1],random_state=6)\n",
    "lm_dropped = LinearRegression()\n",
    "lm_dropped.fit(X_train,y_train)\n",
    "\n",
    "print 'r-squared for this model = ',lm_dropped.score(X_test,y_test)"
   ]
  },
  {
   "cell_type": "markdown",
   "metadata": {},
   "source": [
    "There are just 40 missing values has been predicted. It seems a good fit compared with dropna data set. 74% indicates that the model explains 74% the variability of the response data around its mean."
   ]
  },
  {
   "cell_type": "markdown",
   "metadata": {},
   "source": [
    "***"
   ]
  },
  {
   "cell_type": "markdown",
   "metadata": {},
   "source": [
    "##### 2. Handling with Lower Price Cities Missing Values"
   ]
  },
  {
   "cell_type": "code",
   "execution_count": 109,
   "metadata": {
    "scrolled": true
   },
   "outputs": [
    {
     "data": {
      "text/plain": [
       "[u'Burien',\n",
       " u'Enumclaw',\n",
       " u'Black Diamond',\n",
       " u'Maple Valley',\n",
       " u'Renton',\n",
       " u'Shoreline',\n",
       " u'North Bend',\n",
       " u'Duvall',\n",
       " u'Inglewood-Finn Hill',\n",
       " u'Carnation',\n",
       " u'Vashon']"
      ]
     },
     "execution_count": 109,
     "metadata": {},
     "output_type": "execute_result"
    }
   ],
   "source": [
    "low_price_cities"
   ]
  },
  {
   "cell_type": "code",
   "execution_count": 110,
   "metadata": {},
   "outputs": [
    {
     "data": {
      "text/html": [
       "<div>\n",
       "<style>\n",
       "    .dataframe thead tr:only-child th {\n",
       "        text-align: right;\n",
       "    }\n",
       "\n",
       "    .dataframe thead th {\n",
       "        text-align: left;\n",
       "    }\n",
       "\n",
       "    .dataframe tbody tr th {\n",
       "        vertical-align: top;\n",
       "    }\n",
       "</style>\n",
       "<table border=\"1\" class=\"dataframe\">\n",
       "  <thead>\n",
       "    <tr style=\"text-align: right;\">\n",
       "      <th></th>\n",
       "      <th>date</th>\n",
       "      <th>price</th>\n",
       "      <th>bedrooms</th>\n",
       "      <th>bathrooms</th>\n",
       "      <th>sqft_living</th>\n",
       "      <th>sqft_lot</th>\n",
       "      <th>floors</th>\n",
       "      <th>waterfront</th>\n",
       "      <th>view</th>\n",
       "      <th>condition</th>\n",
       "      <th>sqft_above</th>\n",
       "      <th>sqft_basement</th>\n",
       "      <th>yr_built</th>\n",
       "      <th>yr_renovated</th>\n",
       "      <th>street</th>\n",
       "      <th>city</th>\n",
       "      <th>statezip</th>\n",
       "      <th>country</th>\n",
       "      <th>price_living</th>\n",
       "    </tr>\n",
       "  </thead>\n",
       "  <tbody>\n",
       "    <tr>\n",
       "      <th>0</th>\n",
       "      <td>2014-05-02</td>\n",
       "      <td>12.653958</td>\n",
       "      <td>3</td>\n",
       "      <td>1.5</td>\n",
       "      <td>1340</td>\n",
       "      <td>7912</td>\n",
       "      <td>1.5</td>\n",
       "      <td>0</td>\n",
       "      <td>0</td>\n",
       "      <td>3</td>\n",
       "      <td>1340</td>\n",
       "      <td>0</td>\n",
       "      <td>1955</td>\n",
       "      <td>NaN</td>\n",
       "      <td>18810 Densmore Ave N</td>\n",
       "      <td>Shoreline</td>\n",
       "      <td>WA 98133</td>\n",
       "      <td>USA</td>\n",
       "      <td>0.009443</td>\n",
       "    </tr>\n",
       "    <tr>\n",
       "      <th>7</th>\n",
       "      <td>2014-05-02</td>\n",
       "      <td>13.085699</td>\n",
       "      <td>4</td>\n",
       "      <td>2.5</td>\n",
       "      <td>2710</td>\n",
       "      <td>35868</td>\n",
       "      <td>2.0</td>\n",
       "      <td>0</td>\n",
       "      <td>0</td>\n",
       "      <td>3</td>\n",
       "      <td>2710</td>\n",
       "      <td>0</td>\n",
       "      <td>1989</td>\n",
       "      <td>NaN</td>\n",
       "      <td>23762 SE 253rd Pl</td>\n",
       "      <td>Maple Valley</td>\n",
       "      <td>WA 98038</td>\n",
       "      <td>USA</td>\n",
       "      <td>0.004829</td>\n",
       "    </tr>\n",
       "    <tr>\n",
       "      <th>8</th>\n",
       "      <td>2014-05-02</td>\n",
       "      <td>13.022543</td>\n",
       "      <td>3</td>\n",
       "      <td>2.5</td>\n",
       "      <td>2430</td>\n",
       "      <td>88426</td>\n",
       "      <td>1.0</td>\n",
       "      <td>0</td>\n",
       "      <td>0</td>\n",
       "      <td>4</td>\n",
       "      <td>1570</td>\n",
       "      <td>860</td>\n",
       "      <td>1985</td>\n",
       "      <td>NaN</td>\n",
       "      <td>46611-46625 SE 129th St</td>\n",
       "      <td>North Bend</td>\n",
       "      <td>WA 98045</td>\n",
       "      <td>USA</td>\n",
       "      <td>0.005359</td>\n",
       "    </tr>\n",
       "    <tr>\n",
       "      <th>19</th>\n",
       "      <td>2014-05-02</td>\n",
       "      <td>12.524526</td>\n",
       "      <td>3</td>\n",
       "      <td>1.5</td>\n",
       "      <td>1180</td>\n",
       "      <td>10277</td>\n",
       "      <td>1.0</td>\n",
       "      <td>0</td>\n",
       "      <td>0</td>\n",
       "      <td>3</td>\n",
       "      <td>1180</td>\n",
       "      <td>0</td>\n",
       "      <td>1983</td>\n",
       "      <td>NaN</td>\n",
       "      <td>12425 415th Ave SE</td>\n",
       "      <td>North Bend</td>\n",
       "      <td>WA 98045</td>\n",
       "      <td>USA</td>\n",
       "      <td>0.010614</td>\n",
       "    </tr>\n",
       "    <tr>\n",
       "      <th>33</th>\n",
       "      <td>2014-05-02</td>\n",
       "      <td>13.345507</td>\n",
       "      <td>4</td>\n",
       "      <td>2.5</td>\n",
       "      <td>2820</td>\n",
       "      <td>8408</td>\n",
       "      <td>2.0</td>\n",
       "      <td>0</td>\n",
       "      <td>0</td>\n",
       "      <td>3</td>\n",
       "      <td>2820</td>\n",
       "      <td>0</td>\n",
       "      <td>2014</td>\n",
       "      <td>NaN</td>\n",
       "      <td>17052 4th Ave NE</td>\n",
       "      <td>Shoreline</td>\n",
       "      <td>WA 98155</td>\n",
       "      <td>USA</td>\n",
       "      <td>0.004732</td>\n",
       "    </tr>\n",
       "  </tbody>\n",
       "</table>\n",
       "</div>"
      ],
      "text/plain": [
       "         date      price  bedrooms  bathrooms  sqft_living  sqft_lot  floors  \\\n",
       "0  2014-05-02  12.653958         3        1.5         1340      7912     1.5   \n",
       "7  2014-05-02  13.085699         4        2.5         2710     35868     2.0   \n",
       "8  2014-05-02  13.022543         3        2.5         2430     88426     1.0   \n",
       "19 2014-05-02  12.524526         3        1.5         1180     10277     1.0   \n",
       "33 2014-05-02  13.345507         4        2.5         2820      8408     2.0   \n",
       "\n",
       "    waterfront  view  condition  sqft_above  sqft_basement  yr_built  \\\n",
       "0            0     0          3        1340              0      1955   \n",
       "7            0     0          3        2710              0      1989   \n",
       "8            0     0          4        1570            860      1985   \n",
       "19           0     0          3        1180              0      1983   \n",
       "33           0     0          3        2820              0      2014   \n",
       "\n",
       "    yr_renovated                   street          city  statezip country  \\\n",
       "0            NaN     18810 Densmore Ave N     Shoreline  WA 98133     USA   \n",
       "7            NaN        23762 SE 253rd Pl  Maple Valley  WA 98038     USA   \n",
       "8            NaN  46611-46625 SE 129th St    North Bend  WA 98045     USA   \n",
       "19           NaN       12425 415th Ave SE    North Bend  WA 98045     USA   \n",
       "33           NaN         17052 4th Ave NE     Shoreline  WA 98155     USA   \n",
       "\n",
       "    price_living  \n",
       "0       0.009443  \n",
       "7       0.004829  \n",
       "8       0.005359  \n",
       "19      0.010614  \n",
       "33      0.004732  "
      ]
     },
     "execution_count": 110,
     "metadata": {},
     "output_type": "execute_result"
    }
   ],
   "source": [
    "#build a new dataframe that just contain the city which is in low_price_list\n",
    "df_house_copy=df_house[df_house['city'].isin(low_price_cities)]\n",
    "df_house_copy.head()"
   ]
  },
  {
   "cell_type": "code",
   "execution_count": 111,
   "metadata": {},
   "outputs": [
    {
     "data": {
      "text/plain": [
       "date               0\n",
       "price             43\n",
       "bedrooms           0\n",
       "bathrooms          0\n",
       "sqft_living        0\n",
       "sqft_lot           0\n",
       "floors             0\n",
       "waterfront         0\n",
       "view               0\n",
       "condition          0\n",
       "sqft_above         0\n",
       "sqft_basement      0\n",
       "yr_built           0\n",
       "yr_renovated     736\n",
       "street             0\n",
       "city               0\n",
       "statezip           0\n",
       "country            0\n",
       "price_living      43\n",
       "dtype: int64"
      ]
     },
     "execution_count": 111,
     "metadata": {},
     "output_type": "execute_result"
    }
   ],
   "source": [
    "#copy a new dataframe which not impact on original dataframe when modify the data\n",
    "lowprice_house_dropna=df_house_copy.copy()\n",
    "#create a new dataframe to replace missing values with NaN\n",
    "df_house_impute2= lowprice_house_dropna.copy()\n",
    "#check how many NaN in dataframe\n",
    "lowprice_house_dropna.isnull().sum()"
   ]
  },
  {
   "cell_type": "code",
   "execution_count": 112,
   "metadata": {
    "collapsed": true
   },
   "outputs": [],
   "source": [
    "#drop rows with the price is NaN\n",
    "lowprice_house_dropna.dropna(subset=['price'],axis=0,inplace=True)"
   ]
  },
  {
   "cell_type": "markdown",
   "metadata": {},
   "source": [
    "Counting number of NaN both the dataframe has now"
   ]
  },
  {
   "cell_type": "code",
   "execution_count": 113,
   "metadata": {},
   "outputs": [
    {
     "data": {
      "text/plain": [
       "0"
      ]
     },
     "execution_count": 113,
     "metadata": {},
     "output_type": "execute_result"
    }
   ],
   "source": [
    "lowprice_house_dropna['price'].isnull().sum()"
   ]
  },
  {
   "cell_type": "code",
   "execution_count": 114,
   "metadata": {},
   "outputs": [
    {
     "data": {
      "text/plain": [
       "43"
      ]
     },
     "execution_count": 114,
     "metadata": {},
     "output_type": "execute_result"
    }
   ],
   "source": [
    "df_house_impute2['price'].isnull().sum()"
   ]
  },
  {
   "cell_type": "markdown",
   "metadata": {},
   "source": [
    "Drop the column which is categorical variables"
   ]
  },
  {
   "cell_type": "code",
   "execution_count": 115,
   "metadata": {
    "collapsed": true
   },
   "outputs": [],
   "source": [
    "lm_for_impute = LinearRegression()\n",
    "lm_fitting_df=lowprice_house_dropna[['price','bedrooms','bathrooms','sqft_living','sqft_lot','floors','waterfront','view','condition',\n",
    "                         'sqft_above','sqft_basement','yr_built']]\n",
    "df_house_impute2=df_house_impute2[['price','bedrooms','bathrooms','sqft_living','sqft_lot','floors','waterfront','view','condition',\n",
    "                         'sqft_above','sqft_basement','yr_built']]"
   ]
  },
  {
   "cell_type": "markdown",
   "metadata": {},
   "source": [
    "Draw a regression"
   ]
  },
  {
   "cell_type": "code",
   "execution_count": 116,
   "metadata": {},
   "outputs": [
    {
     "data": {
      "text/plain": [
       "LinearRegression(copy_X=True, fit_intercept=True, n_jobs=1, normalize=False)"
      ]
     },
     "execution_count": 116,
     "metadata": {},
     "output_type": "execute_result"
    }
   ],
   "source": [
    "lm_for_impute.fit(lm_fitting_df[[x for x in lm_fitting_df.columns if x != 'price']], lm_fitting_df['price'])"
   ]
  },
  {
   "cell_type": "markdown",
   "metadata": {},
   "source": [
    "Replace missing values with predicted data\n",
    "\\begin{equation}\n",
    "y_i = \\beta_0 + \\beta_1 X_i + \\epsilon_i\n",
    "\\end{equation}"
   ]
  },
  {
   "cell_type": "code",
   "execution_count": 117,
   "metadata": {
    "collapsed": true
   },
   "outputs": [],
   "source": [
    "df_house_impute2['price'][df_house_impute2['price'].isnull()] = lm_for_impute.predict(df_house_impute2.drop(['price'],axis=1))"
   ]
  },
  {
   "cell_type": "code",
   "execution_count": 118,
   "metadata": {},
   "outputs": [
    {
     "data": {
      "image/png": "[encoded data removed]",
      "text/plain": [
       "<matplotlib.figure.Figure at 0xfd72748>"
      ]
     },
     "metadata": {},
     "output_type": "display_data"
    }
   ],
   "source": [
    "#draw boxplot\n",
    "boxplot = pd.DataFrame({'imputed': df_house_impute2['price'],'dropped': lowprice_house_dropna['price']})\n",
    "boxplot.plot(kind='box', sym = 'k.',figsize=(10,8))\n",
    "plt.show()"
   ]
  },
  {
   "cell_type": "markdown",
   "metadata": {},
   "source": [
    "Test r-square"
   ]
  },
  {
   "cell_type": "code",
   "execution_count": 119,
   "metadata": {},
   "outputs": [
    {
     "name": "stdout",
     "output_type": "stream",
     "text": [
      "r-squared for this model =  0.610116306991\n"
     ]
    }
   ],
   "source": [
    "X_train, X_test, y_train, y_test = train_test_split(lm_fitting_df.iloc[:,1:],lm_fitting_df.iloc[:,:1],random_state=9)\n",
    "lm_dropped = LinearRegression()\n",
    "lm_dropped.fit(X_train,y_train)\n",
    "\n",
    "print 'r-squared for this model = ',lm_dropped.score(X_test,y_test)"
   ]
  },
  {
   "cell_type": "code",
   "execution_count": 120,
   "metadata": {},
   "outputs": [
    {
     "name": "stdout",
     "output_type": "stream",
     "text": [
      "r-squared for this model =  0.711056872216\n"
     ]
    }
   ],
   "source": [
    "X_train, X_test, y_train, y_test = train_test_split(df_house_impute2.iloc[:,1:],df_house_impute2.iloc[:,:1],random_state=6)\n",
    "lm_dropped = LinearRegression()\n",
    "lm_dropped.fit(X_train,y_train)\n",
    "\n",
    "print 'r-squared for this model = ',lm_dropped.score(X_test,y_test)"
   ]
  },
  {
   "cell_type": "markdown",
   "metadata": {},
   "source": [
    "There are just 43 missing values has been predicted. It seems a good fit compared with dropna data set. 71% indicates that the model explains 71% the variability of the response data around its mean."
   ]
  },
  {
   "cell_type": "markdown",
   "metadata": {},
   "source": [
    "*** "
   ]
  },
  {
   "cell_type": "markdown",
   "metadata": {},
   "source": [
    "##### 3. Handling with higher price cities missing value"
   ]
  },
  {
   "cell_type": "code",
   "execution_count": 121,
   "metadata": {},
   "outputs": [
    {
     "data": {
      "text/plain": [
       "[u'Kenmore',\n",
       " u'Normandy Park',\n",
       " u'Bothell',\n",
       " u'Lake Forest Park',\n",
       " u'Seattle',\n",
       " u'Ravensdale',\n",
       " u'Kirkland',\n",
       " u'Snoqualmie Pass',\n",
       " u'Snoqualmie',\n",
       " u'Preston',\n",
       " u'Issaquah']"
      ]
     },
     "execution_count": 121,
     "metadata": {},
     "output_type": "execute_result"
    }
   ],
   "source": [
    "high_price_cities"
   ]
  },
  {
   "cell_type": "code",
   "execution_count": 122,
   "metadata": {},
   "outputs": [
    {
     "data": {
      "text/html": [
       "<div>\n",
       "<style>\n",
       "    .dataframe thead tr:only-child th {\n",
       "        text-align: right;\n",
       "    }\n",
       "\n",
       "    .dataframe thead th {\n",
       "        text-align: left;\n",
       "    }\n",
       "\n",
       "    .dataframe tbody tr th {\n",
       "        vertical-align: top;\n",
       "    }\n",
       "</style>\n",
       "<table border=\"1\" class=\"dataframe\">\n",
       "  <thead>\n",
       "    <tr style=\"text-align: right;\">\n",
       "      <th></th>\n",
       "      <th>date</th>\n",
       "      <th>price</th>\n",
       "      <th>bedrooms</th>\n",
       "      <th>bathrooms</th>\n",
       "      <th>sqft_living</th>\n",
       "      <th>sqft_lot</th>\n",
       "      <th>floors</th>\n",
       "      <th>waterfront</th>\n",
       "      <th>view</th>\n",
       "      <th>condition</th>\n",
       "      <th>sqft_above</th>\n",
       "      <th>sqft_basement</th>\n",
       "      <th>yr_built</th>\n",
       "      <th>yr_renovated</th>\n",
       "      <th>street</th>\n",
       "      <th>city</th>\n",
       "      <th>statezip</th>\n",
       "      <th>country</th>\n",
       "      <th>price_living</th>\n",
       "    </tr>\n",
       "  </thead>\n",
       "  <tbody>\n",
       "    <tr>\n",
       "      <th>1</th>\n",
       "      <td>2014-05-02</td>\n",
       "      <td>14.684290</td>\n",
       "      <td>5</td>\n",
       "      <td>2.50</td>\n",
       "      <td>3650</td>\n",
       "      <td>9050</td>\n",
       "      <td>2.0</td>\n",
       "      <td>0</td>\n",
       "      <td>4</td>\n",
       "      <td>5</td>\n",
       "      <td>3370</td>\n",
       "      <td>280</td>\n",
       "      <td>1921</td>\n",
       "      <td>NaN</td>\n",
       "      <td>709 W Blaine St</td>\n",
       "      <td>Seattle</td>\n",
       "      <td>WA 98119</td>\n",
       "      <td>USA</td>\n",
       "      <td>0.004023</td>\n",
       "    </tr>\n",
       "    <tr>\n",
       "      <th>5</th>\n",
       "      <td>2014-05-02</td>\n",
       "      <td>13.102161</td>\n",
       "      <td>2</td>\n",
       "      <td>1.00</td>\n",
       "      <td>880</td>\n",
       "      <td>6380</td>\n",
       "      <td>1.0</td>\n",
       "      <td>0</td>\n",
       "      <td>0</td>\n",
       "      <td>3</td>\n",
       "      <td>880</td>\n",
       "      <td>0</td>\n",
       "      <td>1938</td>\n",
       "      <td>1994.0</td>\n",
       "      <td>522 NE 88th St</td>\n",
       "      <td>Seattle</td>\n",
       "      <td>WA 98115</td>\n",
       "      <td>USA</td>\n",
       "      <td>0.014889</td>\n",
       "    </tr>\n",
       "    <tr>\n",
       "      <th>9</th>\n",
       "      <td>2014-05-02</td>\n",
       "      <td>13.369223</td>\n",
       "      <td>4</td>\n",
       "      <td>2.00</td>\n",
       "      <td>1520</td>\n",
       "      <td>6200</td>\n",
       "      <td>1.5</td>\n",
       "      <td>0</td>\n",
       "      <td>0</td>\n",
       "      <td>3</td>\n",
       "      <td>1520</td>\n",
       "      <td>0</td>\n",
       "      <td>1945</td>\n",
       "      <td>NaN</td>\n",
       "      <td>6811 55th Ave NE</td>\n",
       "      <td>Seattle</td>\n",
       "      <td>WA 98115</td>\n",
       "      <td>USA</td>\n",
       "      <td>0.008796</td>\n",
       "    </tr>\n",
       "    <tr>\n",
       "      <th>10</th>\n",
       "      <td>2014-05-02</td>\n",
       "      <td>13.045482</td>\n",
       "      <td>3</td>\n",
       "      <td>1.75</td>\n",
       "      <td>1710</td>\n",
       "      <td>7320</td>\n",
       "      <td>1.0</td>\n",
       "      <td>0</td>\n",
       "      <td>0</td>\n",
       "      <td>3</td>\n",
       "      <td>1710</td>\n",
       "      <td>0</td>\n",
       "      <td>1948</td>\n",
       "      <td>NaN</td>\n",
       "      <td>Burke-Gilman Trail</td>\n",
       "      <td>Lake Forest Park</td>\n",
       "      <td>WA 98155</td>\n",
       "      <td>USA</td>\n",
       "      <td>0.007629</td>\n",
       "    </tr>\n",
       "    <tr>\n",
       "      <th>11</th>\n",
       "      <td>2014-05-02</td>\n",
       "      <td>14.151983</td>\n",
       "      <td>4</td>\n",
       "      <td>2.50</td>\n",
       "      <td>2920</td>\n",
       "      <td>4000</td>\n",
       "      <td>1.5</td>\n",
       "      <td>0</td>\n",
       "      <td>0</td>\n",
       "      <td>5</td>\n",
       "      <td>1910</td>\n",
       "      <td>1010</td>\n",
       "      <td>1909</td>\n",
       "      <td>NaN</td>\n",
       "      <td>3838-4098 44th Ave NE</td>\n",
       "      <td>Seattle</td>\n",
       "      <td>WA 98105</td>\n",
       "      <td>USA</td>\n",
       "      <td>0.004847</td>\n",
       "    </tr>\n",
       "  </tbody>\n",
       "</table>\n",
       "</div>"
      ],
      "text/plain": [
       "         date      price  bedrooms  bathrooms  sqft_living  sqft_lot  floors  \\\n",
       "1  2014-05-02  14.684290         5       2.50         3650      9050     2.0   \n",
       "5  2014-05-02  13.102161         2       1.00          880      6380     1.0   \n",
       "9  2014-05-02  13.369223         4       2.00         1520      6200     1.5   \n",
       "10 2014-05-02  13.045482         3       1.75         1710      7320     1.0   \n",
       "11 2014-05-02  14.151983         4       2.50         2920      4000     1.5   \n",
       "\n",
       "    waterfront  view  condition  sqft_above  sqft_basement  yr_built  \\\n",
       "1            0     4          5        3370            280      1921   \n",
       "5            0     0          3         880              0      1938   \n",
       "9            0     0          3        1520              0      1945   \n",
       "10           0     0          3        1710              0      1948   \n",
       "11           0     0          5        1910           1010      1909   \n",
       "\n",
       "    yr_renovated                 street              city  statezip country  \\\n",
       "1            NaN        709 W Blaine St           Seattle  WA 98119     USA   \n",
       "5         1994.0         522 NE 88th St           Seattle  WA 98115     USA   \n",
       "9            NaN       6811 55th Ave NE           Seattle  WA 98115     USA   \n",
       "10           NaN     Burke-Gilman Trail  Lake Forest Park  WA 98155     USA   \n",
       "11           NaN  3838-4098 44th Ave NE           Seattle  WA 98105     USA   \n",
       "\n",
       "    price_living  \n",
       "1       0.004023  \n",
       "5       0.014889  \n",
       "9       0.008796  \n",
       "10      0.007629  \n",
       "11      0.004847  "
      ]
     },
     "execution_count": 122,
     "metadata": {},
     "output_type": "execute_result"
    }
   ],
   "source": [
    "##build a new dataframe that just contain the city which is in high_price_list\n",
    "df_house2=df_house[df_house['city'].isin(high_price_cities)]\n",
    "df_house2.head()"
   ]
  },
  {
   "cell_type": "code",
   "execution_count": 123,
   "metadata": {},
   "outputs": [
    {
     "data": {
      "text/plain": [
       "date                0\n",
       "price             106\n",
       "bedrooms            0\n",
       "bathrooms           0\n",
       "sqft_living         0\n",
       "sqft_lot            0\n",
       "floors              0\n",
       "waterfront          0\n",
       "view                0\n",
       "condition           0\n",
       "sqft_above          0\n",
       "sqft_basement       0\n",
       "yr_built            0\n",
       "yr_renovated     2047\n",
       "street              0\n",
       "city                0\n",
       "statezip            0\n",
       "country             0\n",
       "price_living      104\n",
       "dtype: int64"
      ]
     },
     "execution_count": 123,
     "metadata": {},
     "output_type": "execute_result"
    }
   ],
   "source": [
    "#copy a new dataframe which not impact on original dataframe when modify the data\n",
    "highprice_house_dropna=df_house2.copy()\n",
    "#create a new dataframe to replace missing values with NaN\n",
    "df_house_impute3= highprice_house_dropna.copy()\n",
    "#check how many NaN in dataframe\n",
    "highprice_house_dropna.isnull().sum()"
   ]
  },
  {
   "cell_type": "code",
   "execution_count": 124,
   "metadata": {
    "collapsed": true
   },
   "outputs": [],
   "source": [
    "#drop rows with the price is NaN\n",
    "highprice_house_dropna.dropna(subset=['price'],axis=0,inplace=True)"
   ]
  },
  {
   "cell_type": "markdown",
   "metadata": {},
   "source": [
    "Counting number of NaN both the dataframe has now"
   ]
  },
  {
   "cell_type": "code",
   "execution_count": 125,
   "metadata": {},
   "outputs": [
    {
     "data": {
      "text/plain": [
       "0"
      ]
     },
     "execution_count": 125,
     "metadata": {},
     "output_type": "execute_result"
    }
   ],
   "source": [
    "highprice_house_dropna['price'].isnull().sum()"
   ]
  },
  {
   "cell_type": "code",
   "execution_count": 126,
   "metadata": {},
   "outputs": [
    {
     "data": {
      "text/plain": [
       "106"
      ]
     },
     "execution_count": 126,
     "metadata": {},
     "output_type": "execute_result"
    }
   ],
   "source": [
    "df_house_impute3['price'].isnull().sum()"
   ]
  },
  {
   "cell_type": "markdown",
   "metadata": {},
   "source": [
    "Drop the column which is categorical variables"
   ]
  },
  {
   "cell_type": "code",
   "execution_count": 127,
   "metadata": {
    "collapsed": true
   },
   "outputs": [],
   "source": [
    "lm_for_impute = LinearRegression()\n",
    "lm_fitting_df=highprice_house_dropna[['price','bedrooms','bathrooms','sqft_living','sqft_lot','floors','waterfront','view','condition',\n",
    "                         'sqft_above','sqft_basement','yr_built']]\n",
    "df_house_impute3=df_house_impute3[['price','bedrooms','bathrooms','sqft_living','sqft_lot','floors','waterfront','view','condition',\n",
    "                         'sqft_above','sqft_basement','yr_built']]"
   ]
  },
  {
   "cell_type": "markdown",
   "metadata": {},
   "source": [
    "Draw a regression"
   ]
  },
  {
   "cell_type": "code",
   "execution_count": 128,
   "metadata": {},
   "outputs": [
    {
     "data": {
      "text/plain": [
       "LinearRegression(copy_X=True, fit_intercept=True, n_jobs=1, normalize=False)"
      ]
     },
     "execution_count": 128,
     "metadata": {},
     "output_type": "execute_result"
    }
   ],
   "source": [
    "lm_for_impute.fit(lm_fitting_df[[x for x in lm_fitting_df.columns if x != 'price']], lm_fitting_df['price'])"
   ]
  },
  {
   "cell_type": "markdown",
   "metadata": {},
   "source": [
    "Replace missing values with predicted data\n",
    "\\begin{equation}\n",
    "y_i = \\beta_0 + \\beta_1 X_i + \\epsilon_i\n",
    "\\end{equation}"
   ]
  },
  {
   "cell_type": "code",
   "execution_count": 129,
   "metadata": {
    "collapsed": true
   },
   "outputs": [],
   "source": [
    "df_house_impute3['price'][df_house_impute3['price'].isnull()] = lm_for_impute.predict(df_house_impute3.drop(['price'],axis=1))"
   ]
  },
  {
   "cell_type": "code",
   "execution_count": 130,
   "metadata": {},
   "outputs": [
    {
     "data": {
      "image/png": "[encoded data removed]",
      "text/plain": [
       "<matplotlib.figure.Figure at 0xfd5c358>"
      ]
     },
     "metadata": {},
     "output_type": "display_data"
    }
   ],
   "source": [
    "boxplot = pd.DataFrame({'imputed': df_house_impute3['price'],'dropped':highprice_house_dropna['price']})\n",
    "boxplot.plot(kind='box', sym = 'k.',figsize=(10,8))\n",
    "plt.show()"
   ]
  },
  {
   "cell_type": "markdown",
   "metadata": {},
   "source": [
    "Test r-square"
   ]
  },
  {
   "cell_type": "code",
   "execution_count": 131,
   "metadata": {},
   "outputs": [
    {
     "name": "stdout",
     "output_type": "stream",
     "text": [
      "r-squared for this model =  0.618714404717\n"
     ]
    }
   ],
   "source": [
    "X_train, X_test, y_train, y_test = train_test_split(lm_fitting_df.iloc[:,1:],lm_fitting_df.iloc[:,:1],random_state=80)\n",
    "lm_dropped = LinearRegression()\n",
    "lm_dropped.fit(X_train,y_train)\n",
    "\n",
    "print 'r-squared for this model = ',lm_dropped.score(X_test,y_test)"
   ]
  },
  {
   "cell_type": "code",
   "execution_count": 132,
   "metadata": {},
   "outputs": [
    {
     "name": "stdout",
     "output_type": "stream",
     "text": [
      "r-squared for this model =  0.657588066649\n"
     ]
    }
   ],
   "source": [
    "X_train, X_test, y_train, y_test = train_test_split(df_house_impute3.iloc[:,1:],df_house_impute3.iloc[:,:1],random_state=80)\n",
    "lm_dropped = LinearRegression()\n",
    "lm_dropped.fit(X_train,y_train)\n",
    "\n",
    "print 'r-squared for this model = ',lm_dropped.score(X_test,y_test)"
   ]
  },
  {
   "cell_type": "markdown",
   "metadata": {},
   "source": [
    "There are 106 missing values has been predicted - relatively large data set. It seems a good fit but very better than the previous two predictions. 65% indicates that the model explains 65% the variability of the response data around its mean."
   ]
  },
  {
   "cell_type": "markdown",
   "metadata": {},
   "source": [
    "***"
   ]
  },
  {
   "cell_type": "markdown",
   "metadata": {},
   "source": [
    "##### 4. Handling with highest price cities missing value"
   ]
  },
  {
   "cell_type": "code",
   "execution_count": 133,
   "metadata": {},
   "outputs": [
    {
     "data": {
      "text/plain": [
       "[u'Fall City',\n",
       " u'Woodinville',\n",
       " u'Newcastle',\n",
       " u'Redmond',\n",
       " u'Sammamish',\n",
       " u'Bellevue',\n",
       " u'Beaux Arts Village',\n",
       " u'Mercer Island',\n",
       " u'Yarrow Point',\n",
       " u'Clyde Hill',\n",
       " u'Medina']"
      ]
     },
     "execution_count": 133,
     "metadata": {},
     "output_type": "execute_result"
    }
   ],
   "source": [
    "highest_price_cities"
   ]
  },
  {
   "cell_type": "code",
   "execution_count": 134,
   "metadata": {},
   "outputs": [
    {
     "data": {
      "text/html": [
       "<div>\n",
       "<style>\n",
       "    .dataframe thead tr:only-child th {\n",
       "        text-align: right;\n",
       "    }\n",
       "\n",
       "    .dataframe thead th {\n",
       "        text-align: left;\n",
       "    }\n",
       "\n",
       "    .dataframe tbody tr th {\n",
       "        vertical-align: top;\n",
       "    }\n",
       "</style>\n",
       "<table border=\"1\" class=\"dataframe\">\n",
       "  <thead>\n",
       "    <tr style=\"text-align: right;\">\n",
       "      <th></th>\n",
       "      <th>date</th>\n",
       "      <th>price</th>\n",
       "      <th>bedrooms</th>\n",
       "      <th>bathrooms</th>\n",
       "      <th>sqft_living</th>\n",
       "      <th>sqft_lot</th>\n",
       "      <th>floors</th>\n",
       "      <th>waterfront</th>\n",
       "      <th>view</th>\n",
       "      <th>condition</th>\n",
       "      <th>sqft_above</th>\n",
       "      <th>sqft_basement</th>\n",
       "      <th>yr_built</th>\n",
       "      <th>yr_renovated</th>\n",
       "      <th>street</th>\n",
       "      <th>city</th>\n",
       "      <th>statezip</th>\n",
       "      <th>country</th>\n",
       "      <th>price_living</th>\n",
       "    </tr>\n",
       "  </thead>\n",
       "  <tbody>\n",
       "    <tr>\n",
       "      <th>3</th>\n",
       "      <td>2014-05-02</td>\n",
       "      <td>12.948010</td>\n",
       "      <td>3</td>\n",
       "      <td>2.25</td>\n",
       "      <td>2000</td>\n",
       "      <td>8030</td>\n",
       "      <td>1.0</td>\n",
       "      <td>0</td>\n",
       "      <td>0</td>\n",
       "      <td>4</td>\n",
       "      <td>1000</td>\n",
       "      <td>1000</td>\n",
       "      <td>1963</td>\n",
       "      <td>NaN</td>\n",
       "      <td>857 170th Pl NE</td>\n",
       "      <td>Bellevue</td>\n",
       "      <td>WA 98008</td>\n",
       "      <td>USA</td>\n",
       "      <td>0.006474</td>\n",
       "    </tr>\n",
       "    <tr>\n",
       "      <th>4</th>\n",
       "      <td>2014-05-02</td>\n",
       "      <td>13.217674</td>\n",
       "      <td>4</td>\n",
       "      <td>2.50</td>\n",
       "      <td>1940</td>\n",
       "      <td>10500</td>\n",
       "      <td>1.0</td>\n",
       "      <td>0</td>\n",
       "      <td>0</td>\n",
       "      <td>4</td>\n",
       "      <td>1140</td>\n",
       "      <td>800</td>\n",
       "      <td>1976</td>\n",
       "      <td>NaN</td>\n",
       "      <td>9105 170th Ave NE</td>\n",
       "      <td>Redmond</td>\n",
       "      <td>WA 98052</td>\n",
       "      <td>USA</td>\n",
       "      <td>0.006813</td>\n",
       "    </tr>\n",
       "    <tr>\n",
       "      <th>6</th>\n",
       "      <td>2014-05-02</td>\n",
       "      <td>12.721886</td>\n",
       "      <td>2</td>\n",
       "      <td>2.00</td>\n",
       "      <td>1350</td>\n",
       "      <td>2560</td>\n",
       "      <td>1.0</td>\n",
       "      <td>0</td>\n",
       "      <td>0</td>\n",
       "      <td>3</td>\n",
       "      <td>1350</td>\n",
       "      <td>0</td>\n",
       "      <td>1976</td>\n",
       "      <td>NaN</td>\n",
       "      <td>2616 174th Ave NE</td>\n",
       "      <td>Redmond</td>\n",
       "      <td>WA 98052</td>\n",
       "      <td>USA</td>\n",
       "      <td>0.009424</td>\n",
       "    </tr>\n",
       "    <tr>\n",
       "      <th>12</th>\n",
       "      <td>2014-05-02</td>\n",
       "      <td>13.285332</td>\n",
       "      <td>3</td>\n",
       "      <td>1.75</td>\n",
       "      <td>2330</td>\n",
       "      <td>14892</td>\n",
       "      <td>1.0</td>\n",
       "      <td>0</td>\n",
       "      <td>0</td>\n",
       "      <td>3</td>\n",
       "      <td>1970</td>\n",
       "      <td>360</td>\n",
       "      <td>1980</td>\n",
       "      <td>NaN</td>\n",
       "      <td>1833 220th Pl NE</td>\n",
       "      <td>Sammamish</td>\n",
       "      <td>WA 98074</td>\n",
       "      <td>USA</td>\n",
       "      <td>0.005702</td>\n",
       "    </tr>\n",
       "    <tr>\n",
       "      <th>16</th>\n",
       "      <td>2014-05-02</td>\n",
       "      <td>12.945626</td>\n",
       "      <td>3</td>\n",
       "      <td>1.50</td>\n",
       "      <td>1570</td>\n",
       "      <td>6700</td>\n",
       "      <td>1.0</td>\n",
       "      <td>0</td>\n",
       "      <td>0</td>\n",
       "      <td>4</td>\n",
       "      <td>1570</td>\n",
       "      <td>0</td>\n",
       "      <td>1956</td>\n",
       "      <td>NaN</td>\n",
       "      <td>15424 SE 9th St</td>\n",
       "      <td>Bellevue</td>\n",
       "      <td>WA 98007</td>\n",
       "      <td>USA</td>\n",
       "      <td>0.008246</td>\n",
       "    </tr>\n",
       "  </tbody>\n",
       "</table>\n",
       "</div>"
      ],
      "text/plain": [
       "         date      price  bedrooms  bathrooms  sqft_living  sqft_lot  floors  \\\n",
       "3  2014-05-02  12.948010         3       2.25         2000      8030     1.0   \n",
       "4  2014-05-02  13.217674         4       2.50         1940     10500     1.0   \n",
       "6  2014-05-02  12.721886         2       2.00         1350      2560     1.0   \n",
       "12 2014-05-02  13.285332         3       1.75         2330     14892     1.0   \n",
       "16 2014-05-02  12.945626         3       1.50         1570      6700     1.0   \n",
       "\n",
       "    waterfront  view  condition  sqft_above  sqft_basement  yr_built  \\\n",
       "3            0     0          4        1000           1000      1963   \n",
       "4            0     0          4        1140            800      1976   \n",
       "6            0     0          3        1350              0      1976   \n",
       "12           0     0          3        1970            360      1980   \n",
       "16           0     0          4        1570              0      1956   \n",
       "\n",
       "    yr_renovated             street       city  statezip country  price_living  \n",
       "3            NaN    857 170th Pl NE   Bellevue  WA 98008     USA      0.006474  \n",
       "4            NaN  9105 170th Ave NE    Redmond  WA 98052     USA      0.006813  \n",
       "6            NaN  2616 174th Ave NE    Redmond  WA 98052     USA      0.009424  \n",
       "12           NaN   1833 220th Pl NE  Sammamish  WA 98074     USA      0.005702  \n",
       "16           NaN    15424 SE 9th St   Bellevue  WA 98007     USA      0.008246  "
      ]
     },
     "execution_count": 134,
     "metadata": {},
     "output_type": "execute_result"
    }
   ],
   "source": [
    "##build a new dataframe that just contain the city which is in highest_price_list\n",
    "df_house2=df_house[df_house['city'].isin(highest_price_cities)]\n",
    "df_house2.head()"
   ]
  },
  {
   "cell_type": "code",
   "execution_count": 135,
   "metadata": {},
   "outputs": [
    {
     "data": {
      "text/plain": [
       "date               0\n",
       "price             66\n",
       "bedrooms           0\n",
       "bathrooms          0\n",
       "sqft_living        0\n",
       "sqft_lot           0\n",
       "floors             0\n",
       "waterfront         0\n",
       "view               0\n",
       "condition          0\n",
       "sqft_above         0\n",
       "sqft_basement      0\n",
       "yr_built           0\n",
       "yr_renovated     919\n",
       "street             0\n",
       "city               0\n",
       "statezip           0\n",
       "country            0\n",
       "price_living      63\n",
       "dtype: int64"
      ]
     },
     "execution_count": 135,
     "metadata": {},
     "output_type": "execute_result"
    }
   ],
   "source": [
    "#copy a new dataframe which not impact on original dataframe when modify the data\n",
    "highest_house_dropna=df_house2.copy()\n",
    "#create a new dataframe to replace missing values with NaN\n",
    "df_house_impute4= highest_house_dropna.copy()\n",
    "#see how many NaN in dataframe\n",
    "highest_house_dropna.isnull().sum()"
   ]
  },
  {
   "cell_type": "code",
   "execution_count": 136,
   "metadata": {
    "collapsed": true
   },
   "outputs": [],
   "source": [
    "#drop rows with the price is NaN\n",
    "highest_house_dropna.dropna(subset=['price'],axis=0,inplace=True)"
   ]
  },
  {
   "cell_type": "markdown",
   "metadata": {},
   "source": [
    "Counting number of NaN both the dataframe has now"
   ]
  },
  {
   "cell_type": "code",
   "execution_count": 137,
   "metadata": {},
   "outputs": [
    {
     "data": {
      "text/plain": [
       "0"
      ]
     },
     "execution_count": 137,
     "metadata": {},
     "output_type": "execute_result"
    }
   ],
   "source": [
    "highest_house_dropna['price'].isnull().sum()"
   ]
  },
  {
   "cell_type": "code",
   "execution_count": 138,
   "metadata": {},
   "outputs": [
    {
     "data": {
      "text/plain": [
       "66"
      ]
     },
     "execution_count": 138,
     "metadata": {},
     "output_type": "execute_result"
    }
   ],
   "source": [
    "df_house_impute4['price'].isnull().sum()"
   ]
  },
  {
   "cell_type": "markdown",
   "metadata": {},
   "source": [
    "Drop the column which is categorical variables"
   ]
  },
  {
   "cell_type": "code",
   "execution_count": 139,
   "metadata": {
    "collapsed": true
   },
   "outputs": [],
   "source": [
    "lm_for_impute = LinearRegression()\n",
    "lm_fitting_df=highest_house_dropna[['price','bedrooms','bathrooms','sqft_living','sqft_lot','floors','waterfront','view','condition',\n",
    "                         'sqft_above','sqft_basement','yr_built']]\n",
    "df_house_impute4=df_house_impute4[['price','bedrooms','bathrooms','sqft_living','sqft_lot','floors','waterfront','view','condition',\n",
    "                         'sqft_above','sqft_basement','yr_built']]"
   ]
  },
  {
   "cell_type": "markdown",
   "metadata": {},
   "source": [
    "Draw a regression"
   ]
  },
  {
   "cell_type": "code",
   "execution_count": 140,
   "metadata": {},
   "outputs": [
    {
     "data": {
      "text/plain": [
       "LinearRegression(copy_X=True, fit_intercept=True, n_jobs=1, normalize=False)"
      ]
     },
     "execution_count": 140,
     "metadata": {},
     "output_type": "execute_result"
    }
   ],
   "source": [
    "lm_for_impute.fit(lm_fitting_df[[x for x in lm_fitting_df.columns if x != 'price']], lm_fitting_df['price'])"
   ]
  },
  {
   "cell_type": "markdown",
   "metadata": {},
   "source": [
    "Replace missing values with predicted data\n",
    "\\begin{equation}\n",
    "y_i = \\beta_0 + \\beta_1 X_i + \\epsilon_i\n",
    "\\end{equation}"
   ]
  },
  {
   "cell_type": "code",
   "execution_count": 141,
   "metadata": {
    "collapsed": true
   },
   "outputs": [],
   "source": [
    "df_house_impute4['price'][df_house_impute4['price'].isnull()] = lm_for_impute.predict(df_house_impute4.drop(['price'],axis=1))"
   ]
  },
  {
   "cell_type": "code",
   "execution_count": 142,
   "metadata": {},
   "outputs": [
    {
     "data": {
      "image/png": "[encoded data removed]",
      "text/plain": [
       "<matplotlib.figure.Figure at 0x1022ed68>"
      ]
     },
     "metadata": {},
     "output_type": "display_data"
    }
   ],
   "source": [
    "boxplot = pd.DataFrame({'imputed': df_house_impute4['price'],'dropped': highest_house_dropna['price']})\n",
    "boxplot.plot(kind='box', sym = 'k.',figsize=(10,8))\n",
    "plt.show()"
   ]
  },
  {
   "cell_type": "markdown",
   "metadata": {},
   "source": [
    "Test r-square"
   ]
  },
  {
   "cell_type": "code",
   "execution_count": 143,
   "metadata": {},
   "outputs": [
    {
     "name": "stdout",
     "output_type": "stream",
     "text": [
      "r-squared for this model =  0.708660261207\n"
     ]
    }
   ],
   "source": [
    "X_train, X_test, y_train, y_test = train_test_split(lm_fitting_df.iloc[:,1:],lm_fitting_df.iloc[:,:1],random_state=6)\n",
    "lm_dropped = LinearRegression()\n",
    "lm_dropped.fit(X_train,y_train)\n",
    "\n",
    "print 'r-squared for this model = ',lm_dropped.score(X_test,y_test)"
   ]
  },
  {
   "cell_type": "code",
   "execution_count": 144,
   "metadata": {},
   "outputs": [
    {
     "name": "stdout",
     "output_type": "stream",
     "text": [
      "r-squared for this model =  0.713009986193\n"
     ]
    }
   ],
   "source": [
    "X_train, X_test, y_train, y_test = train_test_split(df_house_impute4.iloc[:,1:],df_house_impute4.iloc[:,:1],random_state=6)\n",
    "lm_dropped = LinearRegression()\n",
    "lm_dropped.fit(X_train,y_train)\n",
    "\n",
    "print 'r-squared for this model = ',lm_dropped.score(X_test,y_test)"
   ]
  },
  {
   "cell_type": "markdown",
   "metadata": {},
   "source": [
    "There are 66 missing values has been predicted. It seems a good fit compared with dropna data set. 71% indicates that the model explains 71% the variability of the response data around its mean."
   ]
  },
  {
   "cell_type": "markdown",
   "metadata": {},
   "source": [
    "**** "
   ]
  },
  {
   "cell_type": "markdown",
   "metadata": {
    "collapsed": true
   },
   "source": [
    "## Writing into a csv file"
   ]
  },
  {
   "cell_type": "markdown",
   "metadata": {},
   "source": [
    "Replacing all the NaN values with Zero's in a column "
   ]
  },
  {
   "cell_type": "code",
   "execution_count": 145,
   "metadata": {
    "collapsed": true
   },
   "outputs": [],
   "source": [
    "#merge the filled housing price dataframe\n",
    "new_df=pd.concat([df_house_impute1, df_house_impute2,df_house_impute3,df_house_impute4], join='inner')\n",
    "#set index back\n",
    "new_df.sort_index(inplace=True)"
   ]
  },
  {
   "cell_type": "code",
   "execution_count": 146,
   "metadata": {
    "collapsed": true,
    "scrolled": true
   },
   "outputs": [],
   "source": [
    "#return column of exponential values\n",
    "new_df['price']=np.exp(new_df['price'])\n",
    "#change the price format to integer\n",
    "new_df['price']=new_df['price'].astype(int)"
   ]
  },
  {
   "cell_type": "code",
   "execution_count": 147,
   "metadata": {
    "collapsed": true,
    "scrolled": true
   },
   "outputs": [],
   "source": [
    "#date dataframe\n",
    "date=df_house[['date']]\n",
    "#the rest of catagorial variable and yr_novatd dataframe\n",
    "rest_of_column=df_house[['yr_renovated','street','city','statezip','country']]\n",
    "#merge those dataframes\n",
    "new_df=pd.concat([date, new_df,rest_of_column], axis=1)"
   ]
  },
  {
   "cell_type": "markdown",
   "metadata": {},
   "source": [
    "Change back to orginal data format"
   ]
  },
  {
   "cell_type": "code",
   "execution_count": 148,
   "metadata": {
    "collapsed": true
   },
   "outputs": [],
   "source": [
    "new_df['date'] = new_df['date'].dt.strftime('%Y%m%d')+str('T000000')"
   ]
  },
  {
   "cell_type": "markdown",
   "metadata": {},
   "source": [
    "Final dataframe looks like"
   ]
  },
  {
   "cell_type": "code",
   "execution_count": 31,
   "metadata": {},
   "outputs": [],
   "source": [
    "new_df"
   ]
  },
  {
   "cell_type": "code",
   "execution_count": 150,
   "metadata": {
    "scrolled": false
   },
   "outputs": [
    {
     "name": "stdout",
     "output_type": "stream",
     "text": [
      "<class 'pandas.core.frame.DataFrame'>\n",
      "Int64Index: 4600 entries, 0 to 4600\n",
      "Data columns (total 18 columns):\n",
      "date             4600 non-null object\n",
      "price            4600 non-null int32\n",
      "bedrooms         4600 non-null int32\n",
      "bathrooms        4600 non-null float64\n",
      "sqft_living      4600 non-null int64\n",
      "sqft_lot         4600 non-null int32\n",
      "floors           4600 non-null float64\n",
      "waterfront       4600 non-null int64\n",
      "view             4600 non-null int64\n",
      "condition        4600 non-null int64\n",
      "sqft_above       4600 non-null int64\n",
      "sqft_basement    4600 non-null int64\n",
      "yr_built         4600 non-null int64\n",
      "yr_renovated     229 non-null float64\n",
      "street           4600 non-null object\n",
      "city             4600 non-null object\n",
      "statezip         4600 non-null object\n",
      "country          4600 non-null object\n",
      "dtypes: float64(3), int32(3), int64(7), object(5)\n",
      "memory usage: 788.9+ KB\n"
     ]
    }
   ],
   "source": [
    "new_df.info()"
   ]
  },
  {
   "cell_type": "code",
   "execution_count": 151,
   "metadata": {
    "collapsed": true
   },
   "outputs": [],
   "source": [
    "#writing into a csv file. index\n",
    "new_df.to_csv('clean_data.csv', encoding='utf-8',index=False)"
   ]
  },
  {
   "cell_type": "markdown",
   "metadata": {},
   "source": [
    "***"
   ]
  },
  {
   "cell_type": "markdown",
   "metadata": {
    "collapsed": true
   },
   "source": [
    "## Summary"
   ]
  },
  {
   "cell_type": "markdown",
   "metadata": {},
   "source": [
    "From this project, we gengerally audit and clean the loaded data from the dat file.\n",
    "* Task1: Parsing the property sales data stored in “data.dat”\n",
    "\n",
    "        * Examine and load the data into a Pandas DataFrame.\n",
    "        * Parse the loaded data so that each sales record which corresponding to the table attributes\n",
    "        \n",
    "        \n",
    "* Task2: Auditing and cleansing the loaded data\n",
    "\n",
    "        * Irregularities\n",
    "        * Lexical errors\n",
    "        * Violations of the Integrity constraint, Inconsistency and Semantic errors\n",
    "        * Duplications\n",
    "        * Outliers\n",
    "        * Missing values\n",
    "* Loading into a csv file\n"
   ]
  }
 ],
 "metadata": {
  "kernelspec": {
   "display_name": "Python 2",
   "language": "python",
   "name": "python2"
  },
  "language_info": {
   "codemirror_mode": {
    "name": "ipython",
    "version": 2
   },
   "file_extension": ".py",
   "mimetype": "text/x-python",
   "name": "python",
   "nbconvert_exporter": "python",
   "pygments_lexer": "ipython2",
   "version": "2.7.16"
  }
 },
 "nbformat": 4,
 "nbformat_minor": 2
}
