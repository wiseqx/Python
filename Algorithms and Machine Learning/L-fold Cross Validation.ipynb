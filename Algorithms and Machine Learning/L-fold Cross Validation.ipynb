{
 "cells": [
  {
   "cell_type": "markdown",
   "metadata": {},
   "source": [
    "## L-fold Cross\tValidation"
   ]
  },
  {
   "cell_type": "code",
   "execution_count": 1,
   "metadata": {},
   "outputs": [
    {
     "name": "stderr",
     "output_type": "stream",
     "text": [
      "Python 3.6.4 :: Anaconda, Inc.\n"
     ]
    }
   ],
   "source": [
    "#Python version\n",
    "!python --version #This assignment use the version of 3.6.0"
   ]
  },
  {
   "cell_type": "code",
   "execution_count": 2,
   "metadata": {},
   "outputs": [],
   "source": [
    "#import library\n",
    "from csv import reader #read csv file\n",
    "import random #resampling training set\n",
    "from random import seed #gives it its first \"previous\" value\n",
    "import operator #sort\n",
    "import pandas as pd #build dataframe\n",
    "import numpy as np #calculation\n",
    "import matplotlib #plotting\n",
    "import matplotlib.pyplot as plt #plotting\n",
    "matplotlib.style.use('ggplot') #change plotting style"
   ]
  },
  {
   "cell_type": "code",
   "execution_count": 3,
   "metadata": {},
   "outputs": [],
   "source": [
    "# Load a CSV file\n",
    "def load_csv(filename):\n",
    "    dataset = list()\n",
    "    with open(filename, 'r') as file:\n",
    "        #read file\n",
    "        csv_reader = reader(file)\n",
    "        for row in csv_reader:\n",
    "            if not row:\n",
    "                continue\n",
    "            #add each row in list\n",
    "            dataset.append(row)\n",
    "    #remove the header\n",
    "    dataset.pop(0)\n",
    "    return dataset"
   ]
  },
  {
   "cell_type": "code",
   "execution_count": 4,
   "metadata": {
    "collapsed": true
   },
   "outputs": [
    {
     "data": {
      "text/plain": [
       "[[1960.0, 0.71],\n",
       " [1960.5, 0.85],\n",
       " [1961.0, 0.61],\n",
       " [1961.5, 0.92],\n",
       " [1962.0, 0.72],\n",
       " [1962.5, 0.92],\n",
       " [1963.0, 0.83],\n",
       " [1963.5, 1.0],\n",
       " [1964.0, 0.92],\n",
       " [1964.5, 1.24],\n",
       " [1965.0, 1.16],\n",
       " [1965.5, 1.45],\n",
       " [1966.0, 1.26],\n",
       " [1966.5, 1.86],\n",
       " [1967.0, 1.53],\n",
       " [1967.5, 1.83],\n",
       " [1968.0, 1.53],\n",
       " [1968.5, 2.34],\n",
       " [1969.0, 2.16],\n",
       " [1969.5, 2.7],\n",
       " [1970.0, 2.79],\n",
       " [1970.5, 3.69],\n",
       " [1971.0, 3.6],\n",
       " [1971.5, 4.32],\n",
       " [1972.0, 4.86],\n",
       " [1972.5, 5.04],\n",
       " [1973.0, 5.58],\n",
       " [1973.5, 6.57],\n",
       " [1974.0, 6.03],\n",
       " [1974.5, 6.93],\n",
       " [1975.0, 6.93],\n",
       " [1975.5, 7.83],\n",
       " [1976.0, 7.74],\n",
       " [1976.5, 8.28],\n",
       " [1977.0, 9.54],\n",
       " [1977.5, 9.54],\n",
       " [1978.0, 11.88],\n",
       " [1978.5, 12.15],\n",
       " [1979.0, 14.04],\n",
       " [1979.5, 14.85],\n",
       " [1980.0, 16.2],\n",
       " [1980.5, 16.02]]"
      ]
     },
     "execution_count": 4,
     "metadata": {},
     "output_type": "execute_result"
    }
   ],
   "source": [
    "#load training set and remove header\n",
    "trainset=[[float(i) for i in a] for a in load_csv(\"Task1A_train.csv\")]\n",
    "trainset"
   ]
  },
  {
   "cell_type": "code",
   "execution_count": 5,
   "metadata": {
    "collapsed": true
   },
   "outputs": [
    {
     "data": {
      "text/plain": [
       "[[1960.25, 0.63],\n",
       " [1960.75, 0.44],\n",
       " [1961.25, 0.69],\n",
       " [1961.75, 0.55],\n",
       " [1962.25, 0.77],\n",
       " [1962.75, 0.6],\n",
       " [1963.25, 0.8],\n",
       " [1963.75, 0.77],\n",
       " [1964.25, 1.0],\n",
       " [1964.75, 1.0],\n",
       " [1965.25, 1.3],\n",
       " [1965.75, 1.25],\n",
       " [1966.25, 1.38],\n",
       " [1966.75, 1.56],\n",
       " [1967.25, 1.59],\n",
       " [1967.75, 1.86],\n",
       " [1968.25, 2.07],\n",
       " [1968.75, 2.25],\n",
       " [1969.25, 2.43],\n",
       " [1969.75, 2.25],\n",
       " [1970.25, 3.42],\n",
       " [1970.75, 3.6],\n",
       " [1971.25, 4.32],\n",
       " [1971.75, 4.05],\n",
       " [1972.25, 5.04],\n",
       " [1972.75, 4.41],\n",
       " [1973.25, 5.85],\n",
       " [1973.75, 5.31],\n",
       " [1974.25, 6.39],\n",
       " [1974.75, 5.85],\n",
       " [1975.25, 7.74],\n",
       " [1975.75, 6.12],\n",
       " [1976.25, 8.91],\n",
       " [1976.75, 6.84],\n",
       " [1977.25, 10.26],\n",
       " [1977.75, 8.73],\n",
       " [1978.25, 12.06],\n",
       " [1978.75, 8.91],\n",
       " [1979.25, 12.96],\n",
       " [1979.75, 9.99],\n",
       " [1980.25, 14.67],\n",
       " [1980.75, 11.61]]"
      ]
     },
     "execution_count": 5,
     "metadata": {},
     "output_type": "execute_result"
    }
   ],
   "source": [
    "#loading test set and remove header\n",
    "testset=[[float(i) for i in a] for a in load_csv(\"Task1A_test.csv\")]\n",
    "testset"
   ]
  },
  {
   "cell_type": "markdown",
   "metadata": {},
   "source": [
    "######  knn model "
   ]
  },
  {
   "cell_type": "code",
   "execution_count": 6,
   "metadata": {},
   "outputs": [],
   "source": [
    "#calculate euclidean distance\n",
    "def euclideanDistance(x,y):\n",
    "    x=np.array(x)\n",
    "    y=np.array(y)\n",
    "    dist = np.sqrt(np.sum((x-y)**2))\n",
    "    return dist"
   ]
  },
  {
   "cell_type": "code",
   "execution_count": 7,
   "metadata": {},
   "outputs": [],
   "source": [
    "#calculate average value\n",
    "def average_value(value):\n",
    "    length=len(value)\n",
    "    average=sum(value)/length\n",
    "    return average"
   ]
  },
  {
   "cell_type": "code",
   "execution_count": 8,
   "metadata": {},
   "outputs": [],
   "source": [
    "#calculate errors using rmse\n",
    "def rmse(predictions, targets):\n",
    "    return np.sqrt(((predictions - targets) ** 2).mean())"
   ]
  },
  {
   "cell_type": "code",
   "execution_count": 9,
   "metadata": {},
   "outputs": [],
   "source": [
    "#KNN model\n",
    "def knn(train_data, train_label, test_data, k=3):\n",
    "    distances = []\n",
    "    test_label=[]\n",
    "    neighbor_value=[]\n",
    "    length = len(test_data)-1\n",
    "    for each in range(len(test_data)):\n",
    "        #calculate distance between test label x and each train point\n",
    "        for x in range(len(train_data)):\n",
    "            dist = euclideanDistance(test_data[each], train_data[x])\n",
    "            #add all distance to list\n",
    "            distances.append((train_data[x], dist))\n",
    "        #sort all of distances in ascending order\n",
    "        distances.sort(key=operator.itemgetter(1))\n",
    "        #find first k values\n",
    "        for num in distances[:k]:\n",
    "            neighbor_value.append(num[0][1])\n",
    "        #take average of values\n",
    "        average_distance=average_value(neighbor_value)\n",
    "        test_label.append(average_distance)\n",
    "        neighbor_value=[]\n",
    "        distances=[]\n",
    "    return test_label"
   ]
  },
  {
   "cell_type": "markdown",
   "metadata": {},
   "source": [
    "### STEP I: \t\n",
    "Implement a L-Fold Cross Validation (CV) function for your KNNregressor:\n"
   ]
  },
  {
   "cell_type": "code",
   "execution_count": 16,
   "metadata": {},
   "outputs": [],
   "source": [
    "# Split a dataset into k folds\n",
    "def cross_validation_split(train_data, train_label, numfolds=10, k=4):\n",
    "    dataset_split = list()\n",
    "    dataset_copy = list(train_data)\n",
    "    dataset_split = []\n",
    "    #step1: shuffle the training data using round robin\n",
    "    dataset_copy = random.sample(dataset_copy, len(dataset_copy))\n",
    "    for i in range(numfolds):\n",
    "        dataset_split.append([])\n",
    "    for index, element in enumerate(dataset_copy):\n",
    "        index_bin = (int)(index % numfolds)\n",
    "        dataset_split[index_bin].append(element)                  \n",
    "    \n",
    "    #step 2: splitting training dataset into K subset\n",
    "    training_set=[]\n",
    "    test_set=[]\n",
    "    fold_errors=[]\n",
    "    #test set would be from first subset to last subset\n",
    "    for i in range(numfolds):\n",
    "        test_set+=dataset_split[i]\n",
    "        #take ith training set as test set.\n",
    "        for j in range(numfolds):\n",
    "            #if i is not equal to j, then add j to training set, and make j as part of training set\n",
    "            if j!=i:\n",
    "                training_set+=dataset_split[j]\n",
    "\n",
    "        #step3: training ith training dataset and get a KNN model. \n",
    "        knn_set=knn(training_set, train_label, test_set, k)\n",
    "        #real label\n",
    "        real_set=[x[1] for x in dataset_split[i]]\n",
    "        #using rmse to calculate the errors\n",
    "        errors=rmse(np.array(knn_set), np.array(real_set))\n",
    "        fold_errors.append(errors)\n",
    "        \n",
    "        training_set=[]\n",
    "        test_set=[]\n",
    "    \n",
    "    return fold_errors"
   ]
  },
  {
   "cell_type": "markdown",
   "metadata": {},
   "source": [
    "### Step II: \n",
    "Plot the average error numbers versus 1/K for K=1,..,20 in your KNN regressor. And add two dashed lines around the average error indicating the average +/-standard deviation of errors. "
   ]
  },
  {
   "cell_type": "code",
   "execution_count": 17,
   "metadata": {},
   "outputs": [],
   "source": [
    "#extract train labels\n",
    "train_label=[]\n",
    "for each in trainset:\n",
    "    train_label.append(each[1])"
   ]
  },
  {
   "cell_type": "code",
   "execution_count": 18,
   "metadata": {},
   "outputs": [],
   "source": [
    "#testing model\n",
    "seed(1)\n",
    "errors_list=[]\n",
    "average_set=[]\n",
    "sd_positive_list=[]\n",
    "sd_negative_list=[]\n",
    "sd_list=[]\n",
    "#change the value of k=1,...,20 in KNN regressor\n",
    "for k in range(1,21):\n",
    "    #l folder cross validation\n",
    "    cv_errors=cross_validation_split(trainset, train_label, 10, k)\n",
    "    errors_list.append(cv_errors)\n",
    "    #average errors\n",
    "    average_error=sum(cv_errors)/10\n",
    "    average_set.append(average_error)\n",
    "    #calculate standard deviation of errors\n",
    "    sd=np.array(cv_errors).std()\n",
    "    sd_list.append(sd)\n",
    "    #get a list of values for average errors+sd\n",
    "    positive_value=average_error+sd\n",
    "    #get a list of values for average_error-sd\n",
    "    negative_value=average_error-sd\n",
    "    sd_positive_list.append(positive_value)\n",
    "    sd_negative_list.append(negative_value)"
   ]
  },
  {
   "cell_type": "code",
   "execution_count": 19,
   "metadata": {
    "collapsed": true
   },
   "outputs": [
    {
     "data": {
      "text/html": [
       "<div>\n",
       "<style scoped>\n",
       "    .dataframe tbody tr th:only-of-type {\n",
       "        vertical-align: middle;\n",
       "    }\n",
       "\n",
       "    .dataframe tbody tr th {\n",
       "        vertical-align: top;\n",
       "    }\n",
       "\n",
       "    .dataframe thead th {\n",
       "        text-align: right;\n",
       "    }\n",
       "</style>\n",
       "<table border=\"1\" class=\"dataframe\">\n",
       "  <thead>\n",
       "    <tr style=\"text-align: right;\">\n",
       "      <th></th>\n",
       "      <th>average</th>\n",
       "      <th>standard_deviation</th>\n",
       "      <th>standard_deviation_negative</th>\n",
       "      <th>standard_deviation_positive</th>\n",
       "    </tr>\n",
       "    <tr>\n",
       "      <th>k</th>\n",
       "      <th></th>\n",
       "      <th></th>\n",
       "      <th></th>\n",
       "      <th></th>\n",
       "    </tr>\n",
       "  </thead>\n",
       "  <tbody>\n",
       "    <tr>\n",
       "      <th>1.000000</th>\n",
       "      <td>0.301834</td>\n",
       "      <td>0.137791</td>\n",
       "      <td>0.164043</td>\n",
       "      <td>0.439625</td>\n",
       "    </tr>\n",
       "    <tr>\n",
       "      <th>0.500000</th>\n",
       "      <td>0.340856</td>\n",
       "      <td>0.097546</td>\n",
       "      <td>0.243310</td>\n",
       "      <td>0.438401</td>\n",
       "    </tr>\n",
       "    <tr>\n",
       "      <th>0.333333</th>\n",
       "      <td>0.453508</td>\n",
       "      <td>0.293675</td>\n",
       "      <td>0.159833</td>\n",
       "      <td>0.747183</td>\n",
       "    </tr>\n",
       "    <tr>\n",
       "      <th>0.250000</th>\n",
       "      <td>0.369164</td>\n",
       "      <td>0.302915</td>\n",
       "      <td>0.066249</td>\n",
       "      <td>0.672078</td>\n",
       "    </tr>\n",
       "    <tr>\n",
       "      <th>0.200000</th>\n",
       "      <td>0.494738</td>\n",
       "      <td>0.572695</td>\n",
       "      <td>-0.077957</td>\n",
       "      <td>1.067433</td>\n",
       "    </tr>\n",
       "  </tbody>\n",
       "</table>\n",
       "</div>"
      ],
      "text/plain": [
       "           average  standard_deviation  standard_deviation_negative  \\\n",
       "k                                                                     \n",
       "1.000000  0.301834            0.137791                     0.164043   \n",
       "0.500000  0.340856            0.097546                     0.243310   \n",
       "0.333333  0.453508            0.293675                     0.159833   \n",
       "0.250000  0.369164            0.302915                     0.066249   \n",
       "0.200000  0.494738            0.572695                    -0.077957   \n",
       "\n",
       "          standard_deviation_positive  \n",
       "k                                      \n",
       "1.000000                     0.439625  \n",
       "0.500000                     0.438401  \n",
       "0.333333                     0.747183  \n",
       "0.250000                     0.672078  \n",
       "0.200000                     1.067433  "
      ]
     },
     "execution_count": 19,
     "metadata": {},
     "output_type": "execute_result"
    }
   ],
   "source": [
    "#build a dataframe to plotting\n",
    "df3 = pd.DataFrame({'k':[1/x for x in range(1,21)],\n",
    "                   'average':average_set,\n",
    "                   'standard_deviation_positive': sd_positive_list,\n",
    "                   'standard_deviation_negative': sd_negative_list,\n",
    "                    'standard_deviation': sd_list})\n",
    "df3 = df3.set_index('k')\n",
    "df3.head()"
   ]
  },
  {
   "cell_type": "code",
   "execution_count": 20,
   "metadata": {},
   "outputs": [
    {
     "data": {
      "image/png": "[encoded data removed]",
      "text/plain": [
       "<matplotlib.figure.Figure at 0x1ca0f6eda58>"
      ]
     },
     "metadata": {},
     "output_type": "display_data"
    }
   ],
   "source": [
    "#plot a graph\n",
    "plt.figure(figsize=(10,8))\n",
    "plt.plot(df3['average'],linestyle='-')\n",
    "plt.plot(df3['standard_deviation_negative'], linestyle='--')\n",
    "plt.plot(df3['standard_deviation_positive'], linestyle='--')\n",
    "\n",
    "#set x-axis  label\n",
    "plt.xlabel(\"1/K\")\n",
    "#set y-axis label\n",
    "plt.ylabel(\"Average Error\")\n",
    "#set title\n",
    "plt.title('L-fold CV Errors')\n",
    "plt.legend(labels=['average','sd-','sd+'])\n",
    "plt.show()\n",
    "#plt.savefig('myfig1.png', dpi=1000)"
   ]
  },
  {
   "cell_type": "markdown",
   "metadata": {},
   "source": [
    "### Summary: "
   ]
  },
  {
   "cell_type": "markdown",
   "metadata": {},
   "source": [
    "K=2 is the best value for the model because it result to minimum average error and minimum standard deviation of errors based on cross validation plot. \n",
    "\n",
    "When K=1, The error and standard deviation are not too high, because it fits model only to the 1-nearest point. This means the model will be really close to training data. The variance is relatively higher, because optimizing on only 1-nearest point means that the probability of modelling with the noise is really high. \n",
    "\n",
    "After K=2, CV error and standard deviation beginning to goes up. This is because the larger the K, the more decision boundary smoother and the model is more simplier. And eventually will get a model that under-fits the data rather than over-fitting it.  "
   ]
  }
 ],
 "metadata": {
  "kernelspec": {
   "display_name": "Python 3",
   "language": "python",
   "name": "python3"
  },
  "language_info": {
   "codemirror_mode": {
    "name": "ipython",
    "version": 3
   },
   "file_extension": ".py",
   "mimetype": "text/x-python",
   "name": "python",
   "nbconvert_exporter": "python",
   "pygments_lexer": "ipython3",
   "version": "3.7.3"
  }
 },
 "nbformat": 4,
 "nbformat_minor": 2
}
