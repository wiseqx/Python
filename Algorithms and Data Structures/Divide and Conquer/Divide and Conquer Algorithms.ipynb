{
 "cells": [
  {
   "cell_type": "markdown",
   "metadata": {},
   "source": [
    "# Divide and Conquer Algorithms"
   ]
  },
  {
   "cell_type": "code",
   "execution_count": 1,
   "metadata": {},
   "outputs": [
    {
     "name": "stderr",
     "output_type": "stream",
     "text": [
      "Python 3.6.0 :: Anaconda 4.3.1 (64-bit)\n"
     ]
    }
   ],
   "source": [
    "#Python version\n",
    "!python --version #This assignment use the version of 3.6.0"
   ]
  },
  {
   "cell_type": "markdown",
   "metadata": {},
   "source": [
    "### 1"
   ]
  },
  {
   "cell_type": "code",
   "execution_count": 2,
   "metadata": {
    "collapsed": true
   },
   "outputs": [],
   "source": [
    "class Point:\n",
    "    \n",
    "    #constructor method, input should be a point like: '(1,2)', \n",
    "    def __init__(self, point):\n",
    "        self.str_data=tuple(point)\n",
    "        self.x1 = self.str_data[0]\n",
    "        self.y1 = self.str_data[1]\n",
    "\n",
    "    #set X method: could change value of X\n",
    "    def setX(self, x):\n",
    "        self.x1 = x\n",
    "\n",
    "    #set Y method: could change value of Y\n",
    "    def setY(self, y):\n",
    "        self.y1 = y\n",
    "\n",
    "    #get X method: getX from tuple point\n",
    "    def getX(self):\n",
    "        return self.x1\n",
    "    \n",
    "    #get Y method: getY from tuple point\n",
    "    def getY(self):\n",
    "        return self.y1\n",
    "\n",
    "    #get index of item\n",
    "    def __getitem__(self,row):\n",
    "        return self.str_data[row]\n",
    "\n",
    "    #caclulate manhatten distance when input another object of Point class\n",
    "    def manhattan_distance(self,other):\n",
    "        ax=abs(self.x1-other.getX())\n",
    "        ay=abs(self.y1-other.getY())\n",
    "        return ax+ay\n",
    "\n",
    "    #string representation\n",
    "    def __repr__(self):\n",
    "        return '({},{})'.format(self.x1,self.y1)"
   ]
  },
  {
   "cell_type": "markdown",
   "metadata": {},
   "source": [
    "Test:"
   ]
  },
  {
   "cell_type": "code",
   "execution_count": 3,
   "metadata": {},
   "outputs": [
    {
     "name": "stdout",
     "output_type": "stream",
     "text": [
      "getX of Point a:  9\n",
      "getY of Point a:  14\n",
      "manhattan distance between the point 'a' and point 'b':  37\n",
      "Point a is:  (9,14)\n"
     ]
    }
   ],
   "source": [
    "#put points a,b,c,d,e,f,g into Class\n",
    "a=Point((9,14))\n",
    "b=Point((-8,-6))\n",
    "c=Point((5,3))\n",
    "d=Point((5,4))\n",
    "e=Point((7,6))\n",
    "f=Point((9,10))\n",
    "g=Point((6,4))\n",
    "#test getX\n",
    "print(\"getX of Point a: \",a.getX())\n",
    "#test getY\n",
    "print(\"getY of Point a: \", a.getY())\n",
    "#test methods\n",
    "print(\"manhattan distance between the point 'a' and point 'b': \", a.manhattan_distance(b))\n",
    "#test print\n",
    "print(\"Point a is: \",a)"
   ]
  },
  {
   "cell_type": "markdown",
   "metadata": {},
   "source": [
    "***"
   ]
  },
  {
   "cell_type": "markdown",
   "metadata": {},
   "source": [
    "###  2 & 3"
   ]
  },
  {
   "cell_type": "code",
   "execution_count": 4,
   "metadata": {
    "collapsed": true
   },
   "outputs": [],
   "source": [
    "class PointSet():\n",
    "\n",
    "    #assume that the Pointset already has a number of points, and these points are from object of Points class\n",
    "    def __init__(self,p_set):\n",
    "        self.point_list=list(p_set)\n",
    "        #sort X\n",
    "        self.point_list=sorted(self.point_list,key=lambda x: x[0])\n",
    "\n",
    "    #inset method: insert points into list\n",
    "    def insertpoint(self,new_item):\n",
    "        self.point_list.append(new_item)\n",
    "        #every points indert needed to be sorted\n",
    "        self.point_list = sorted(self.point_list, key=lambda x: x[0])\n",
    "        return self.point_list\n",
    "\n",
    "    #remove method: remove points\n",
    "    def removepoint(self,target_item):\n",
    "        if target_item in self.point_list:\n",
    "            self.point_list.remove(target_item)\n",
    "        else:\n",
    "            #if not in list, yield error\n",
    "            yield IOError\n",
    "        return self.point_list\n",
    "\n",
    "    #get item from index\n",
    "    def __getitem__(self,index):\n",
    "        return self.point_list[index]\n",
    "\n",
    "    #Brute force method to search the closest points and their corresponding distance\n",
    "    def BruteForce(self):\n",
    "        n=len(self.point_list)\n",
    "        distance = self.point_list[0].manhattan_distance(self.point_list[1])\n",
    "        point1 = self.point_list[0]\n",
    "        point2 = self.point_list[1]\n",
    "        #if input points are only 2, just return these 2 points and distance\n",
    "        if n == 2:\n",
    "            return point1, point2, distance\n",
    "        #compare one distance with others and get the most shortest one (method like bubble sort)\n",
    "        for i in range(n - 1):\n",
    "            for j in range(i + 1, n):\n",
    "                if i != 0 and j != 1:\n",
    "                    temp_dis = self.point_list[i].manhattan_distance(self.point_list[j])\n",
    "                    if temp_dis < distance:\n",
    "                        distance = temp_dis\n",
    "                        point1, point2 = self.point_list[i], self.point_list[j]\n",
    "        return point1, point2, distance\n",
    "\n",
    "    #Divide and conquer function\n",
    "    def DivideandConquer(self):\n",
    "        n=len(self.point_list)\n",
    "        #if points less than number of 3, returen to Brute force method\n",
    "        if n<=3:\n",
    "            return self.BruteForce()\n",
    "        mid=n//2\n",
    "        #divide points set to left and right\n",
    "        self.left=PointSet(self.point_list[:mid])\n",
    "        self.right=PointSet(self.point_list[mid:])\n",
    "        \n",
    "        #recursively\n",
    "        P1,Q1,dis1=self.left.DivideandConquer()\n",
    "        P2,Q2,dis2=self.right.DivideandConquer()\n",
    "        \n",
    "        #compare distance with left and right set of points\n",
    "        if dis1<=dis2:\n",
    "            real_d=dis1\n",
    "            points=(P1,Q1)\n",
    "        else:\n",
    "            real_d=dis2\n",
    "            points=(P2,Q2)\n",
    "        \n",
    "        #compare the distance from split area\n",
    "        (P3,Q3,dis3)=self.DandC_Split_Pair(self.point_list,self.point_list,real_d,points)\n",
    "\n",
    "        if real_d<=dis3:\n",
    "            return points[0],points[1],real_d\n",
    "        else:\n",
    "            return P3,Q3,dis3\n",
    "\n",
    "    def DandC_Split_Pair(self, point_x, point_y, delta, best_pair):\n",
    "        # select midpoint on x-sorted array\n",
    "        x_axis = point_x[len(self.point_list)//2][0]\n",
    "        # Create a subarray of points not further than delta from\n",
    "        s_y=[]\n",
    "        for x in point_y:\n",
    "            if x_axis-delta<=x[0]<=x_axis+delta:\n",
    "                s_y.append(x)\n",
    "        #sort Y\n",
    "        s_y = sorted(s_y, key=lambda x: x[1])\n",
    "        # assign best value to delta\n",
    "        best = delta \n",
    "        # store length of subarray for quickness\n",
    "        length_y = len(s_y) \n",
    "        for i in range(length_y - 1):\n",
    "            for j in range(i + 1, min(i + 7, length_y)):\n",
    "                k, q = s_y[i], s_y[j]\n",
    "                dst = k.manhattan_distance(q)\n",
    "                if dst < best:\n",
    "                    best_pair = k, q\n",
    "                    best = dst\n",
    "        return best_pair[0], best_pair[1], best\n",
    "\n",
    "    #string representation\n",
    "    def __repr__(self):\n",
    "        output=\"\"\n",
    "        for char in range(0,len(self.point_list)):\n",
    "            output+=str(self.point_list[char])+str(\",\")\n",
    "        output1=output.rstrip(\",\")\n",
    "        real_output=str(\"[\")+output1+str(\"]\")\n",
    "        return real_output"
   ]
  },
  {
   "cell_type": "markdown",
   "metadata": {},
   "source": [
    "Test"
   ]
  },
  {
   "cell_type": "code",
   "execution_count": 5,
   "metadata": {},
   "outputs": [
    {
     "name": "stdout",
     "output_type": "stream",
     "text": [
      "Pointset is:  [(-8,-6),(5,3),(5,4),(6,4),(7,6),(9,14),(9,10)]\n",
      "pointset after inserting a point:  [(-8,-6),(1,0),(5,3),(5,4),(6,4),(7,6),(9,14),(9,10)]\n",
      "BruteForce ((5,3), (5,4), 1)\n",
      "DivideandConquer ((5,3), (5,4), 1)\n"
     ]
    }
   ],
   "source": [
    "#put all of points from question1 into a list\n",
    "li=[a,b,c,d,e,f,g]\n",
    "#put list into PointSet class\n",
    "pointset1=PointSet(li)\n",
    "print(\"Pointset is: \",pointset1)\n",
    "#test insert point\n",
    "l=Point((1,0))\n",
    "pointset1.insertpoint(l)\n",
    "print(\"pointset after inserting a point: \", pointset1)\n",
    "#test Bruteforce\n",
    "print(\"BruteForce\",pointset1.BruteForce())\n",
    "#test divide and conquer\n",
    "print(\"DivideandConquer\",pointset1.DivideandConquer())"
   ]
  },
  {
   "cell_type": "markdown",
   "metadata": {},
   "source": [
    "***"
   ]
  },
  {
   "cell_type": "markdown",
   "metadata": {},
   "source": [
    "### 4\n",
    "* a. Implement the naive O(n2) brute-force algorithm.\n",
    "* b. Implement the divide-and-conquer algorithm."
   ]
  },
  {
   "cell_type": "markdown",
   "metadata": {},
   "source": [
    "For this question, according to time complexity. The big O for Bruteforce is n^2 and Divide and conquer is nlogn. So my prediction under the runtime is the time for brutefore is much slower than divide and conquer. The plot for Bruteforce should be expotential growth and Divide and conquer should be like a falt line at first and increase gentely at the end. The graph porves my thought."
   ]
  },
  {
   "cell_type": "markdown",
   "metadata": {},
   "source": [
    "Testing each algorithms'runtime for putting 10,000 points into point set."
   ]
  },
  {
   "cell_type": "code",
   "execution_count": 6,
   "metadata": {
    "collapsed": true
   },
   "outputs": [],
   "source": [
    "#import random 10,000 samples for x and y from range -10,000 to 10,000\n",
    "import random\n",
    "x_li=random.sample(range(-10000,10000),10000)\n",
    "y_li = random.sample(range(-10000,10000),10000)\n",
    "\n",
    "#test 10,000 points and see what's time for Bruteforce and Divide and Conquer\n",
    "sample_list=[]\n",
    "for i in range(10000):\n",
    "    a=(x_li[i],y_li[i])\n",
    "    sample_list.append(a)\n",
    "\n",
    "li=[]\n",
    "for each in sample_list:\n",
    "    li.append(Point(each))\n",
    "real_pointset = PointSet(li)"
   ]
  },
  {
   "cell_type": "code",
   "execution_count": 7,
   "metadata": {},
   "outputs": [
    {
     "name": "stdout",
     "output_type": "stream",
     "text": [
      "The time of BruteForce is : 85.02747520309852\n"
     ]
    }
   ],
   "source": [
    "#test for Bruteforce\n",
    "import timeit\n",
    "start = timeit.default_timer()\n",
    "real_pointset.BruteForce()\n",
    "stop = timeit.default_timer()\n",
    "print('The time of BruteForce is :', stop-start)"
   ]
  },
  {
   "cell_type": "code",
   "execution_count": 8,
   "metadata": {},
   "outputs": [
    {
     "name": "stdout",
     "output_type": "stream",
     "text": [
      "The time of DivideandConquer is : 0.686855394280343\n"
     ]
    }
   ],
   "source": [
    "#test for divide and conquer\n",
    "start = timeit.default_timer()\n",
    "real_pointset.DivideandConquer()\n",
    "stop = timeit.default_timer()\n",
    "print('The time of DivideandConquer is :', stop-start)"
   ]
  },
  {
   "cell_type": "markdown",
   "metadata": {},
   "source": [
    "We can see that when we are running 10,000 points in a list, the time for bruteforce function is much slower than Divide and conquer. Now we can draw a plot for visualize more clearly and straightforward."
   ]
  },
  {
   "cell_type": "markdown",
   "metadata": {},
   "source": [
    "#### Plot runtime graph"
   ]
  },
  {
   "cell_type": "code",
   "execution_count": 9,
   "metadata": {},
   "outputs": [
    {
     "data": {
      "image/png": "[encoded data removed]",
      "text/plain": [
       "<matplotlib.figure.Figure at 0x1ce5829ee48>"
      ]
     },
     "metadata": {},
     "output_type": "display_data"
    }
   ],
   "source": [
    "import matplotlib.pyplot as plt \n",
    "x_li=random.sample(range(-20000,20000),20000)\n",
    "y_li = random.sample(range(-20000,20000),20000)\n",
    "time_list1=[]\n",
    "#set a-axis coordinate\n",
    "num=[2000,4000,6000,8000,10000]\n",
    "#count divide and conquer time\n",
    "for i in num:\n",
    "    sample_list=[]\n",
    "    for j in range(i):\n",
    "        a=(x_li[j],y_li[j])\n",
    "        sample_list.append(a)\n",
    "    li=[]\n",
    "    for each in sample_list:\n",
    "        li.append(Point(each))\n",
    "    a_pointset = PointSet(li)\n",
    "    start1 = timeit.default_timer()\n",
    "    a_pointset.DivideandConquer()\n",
    "    stop1 = timeit.default_timer()\n",
    "    time_list1.append(stop1-start1)\n",
    "\n",
    "#count Brute force time\n",
    "time_list=[]\n",
    "for i in num:\n",
    "    sample_list=[]\n",
    "    for j in range(i):\n",
    "        a=(x_li[j],y_li[j])\n",
    "        sample_list.append(a)\n",
    "    li=[]\n",
    "    for each in sample_list:\n",
    "        li.append(Point(each))\n",
    "    a_pointset = PointSet(li)\n",
    "    start1 = timeit.default_timer()\n",
    "    a_pointset.BruteForce()\n",
    "    stop1 = timeit.default_timer()\n",
    "    time_list.append(stop1-start1)\n",
    "\n",
    "#plot runtime graph    \n",
    "plt.figure(15)  \n",
    "plt.subplot()\n",
    "#plot with red line and blue line\n",
    "plt.plot(num, time_list1,'r-')  \n",
    "plt.plot(num, time_list, 'b-')  \n",
    "#set xlabel, ylabel, title and legend\n",
    "plt.xlabel('Points')\n",
    "plt.ylabel('Time(seconds)')\n",
    "plt.title('Variation Diagram for Runtime with Points Increasing')\n",
    "plt.legend(labels=['DivideandConquer','BruteForce'],loc='best')\n",
    "plt.show()      "
   ]
  },
  {
   "cell_type": "markdown",
   "metadata": {},
   "source": [
    "***"
   ]
  },
  {
   "cell_type": "markdown",
   "metadata": {},
   "source": [
    "### 5"
   ]
  },
  {
   "cell_type": "markdown",
   "metadata": {},
   "source": [
    "* First step:\n",
    "\n",
    "Def DivideandConquer(x,y)\n",
    "\n",
    "Because I use build-in sorted function by python, every time I sorted, the complexity of time is T(1) = O(1).\n",
    "\n",
    "We need to sort x-coordinate firstly, so the time complexity is O(1)\n",
    "\n",
    "\n",
    "* Second step:\n",
    "\n",
    "(Split in the middle)\n",
    "\n",
    "(leftX, leftY)=(first-half(Lx)), first-half(Lx) sorted by y-coordinate)\n",
    "\n",
    "(rightX, rightY)=(second-half(Lx)), second-half(Lx) sorted by y-coordinate)\n",
    "\n",
    "Time complexity above is T(n)=O(1)+O(1)\n",
    "\n",
    "\n",
    "* Third Step:\n",
    "\n",
    "d_min_left = closest_pair(leftX, leftY)\n",
    "\n",
    "d_min_right = closest_pair(rightX, rightY)\n",
    "\n",
    "d_min=min(d_min_left, d_min_right)\n",
    "\n",
    "Total time complexity is T(n)= 2T(2/n)+O(1)\n",
    "\n",
    "\n",
    "* Forth Step:\n",
    "\n",
    "L = list of all points in Ly not further than d_min from separation line, sorted by y-coordinate\n",
    "\n",
    "Time complexity above is from function I written in class T(n)=O(n)+O(1)\n",
    "\n",
    "* Last step:\n",
    "\n",
    "d_x_min=compute minimum distance between x and the next 15 elements in L\n",
    "\n",
    "if d_x_min < d_min then d_min=d_x_min\n",
    "\n",
    "\n",
    "Adding all of Time complexity together: T(n)= O(1)+ O(1)+O(1)+ 2O(nlogn)+O(1)+ O(n)+O(1)+ O(1)\n",
    "#### The total Time complexity is T(n)=O(n logn)\n"
   ]
  },
  {
   "cell_type": "markdown",
   "metadata": {},
   "source": [
    "***"
   ]
  },
  {
   "cell_type": "markdown",
   "metadata": {},
   "source": [
    "### 6"
   ]
  },
  {
   "cell_type": "markdown",
   "metadata": {},
   "source": [
    "This part use python visualization Bokeh, the plot would gengerate in a new website."
   ]
  },
  {
   "cell_type": "code",
   "execution_count": 10,
   "metadata": {},
   "outputs": [],
   "source": [
    "import random\n",
    "from bokeh.plotting import figure,output_file,show\n",
    "from bokeh.models import Span, HoverTool, BoxSelectTool\n",
    "\n",
    "#seed is used to fix the first time I use the generatoruser. So user could change seed to get the different diagram\n",
    "random.seed(52)\n",
    "\n",
    "#get 200 random numbers without repetition from range -200 to 200\n",
    "x_li=random.sample(range(-200,200),200)\n",
    "y_li = random.sample(range(-200,200),200)\n",
    "\n",
    "#get points from list becomes objects of Point class \n",
    "x_list=[]\n",
    "y_list=[]\n",
    "point_list=[]\n",
    "for i in range(30):\n",
    "    #get all of X for points (X,Y)\n",
    "    x_list.append(x_li[i])\n",
    "    #get all of Y for points (X,Y)\n",
    "    y_list.append(y_li[i])\n",
    "    #get random point\n",
    "    a=(x_li[i],y_li[i])\n",
    "    point_list.append(a)\n",
    "#get points from list becomes objects of Point class \n",
    "total_li=[]\n",
    "for each in point_list:\n",
    "    total_li.append(Point(each))\n",
    "\n",
    "#sort x axis\n",
    "sorted_x=sorted(point_list,key=lambda x: x[0])\n",
    "\n",
    "#get x axis for plot a graph\n",
    "x_axis=abs(sorted_x[0][0]-sorted_x[-1][0])\n",
    "\n",
    "#get middle horizontal line\n",
    "middle_axis=x_axis/2+sorted_x[0][0]\n",
    "\n",
    "\n",
    "#get y axis after sorting\n",
    "sorted_y=sorted(point_list,key=lambda x: x[1])\n",
    "y_axis=sorted_y[0][1]-sorted_y[-1][1]\n",
    "\n",
    "#put all of points into PointSet class\n",
    "point_set=PointSet(total_li)\n",
    "#get the closest point and their distance\n",
    "my_point=point_set.DivideandConquer()\n",
    "\n",
    "#draw split left line\n",
    "left_line=middle_axis-my_point[2]\n",
    "#draw split right line\n",
    "right_line=middle_axis+my_point[2]\n",
    "\n",
    "#add hover tool\n",
    "TOOLS=[BoxSelectTool(),HoverTool()]\n",
    "p=figure(plot_width=500,plot_height=400,tools=TOOLS)\n",
    "#add an orthogon frame, label size, color, and transparence\n",
    "p.circle(x_list,y_list,size=10,color=\"green\",alpha=0.5)\n",
    "#add middle line\n",
    "middle_line = Span(location=middle_axis,\n",
    "                   dimension='height', line_color='orange',\n",
    "                    line_dash='dashed', line_width=3)\n",
    "p.add_layout(middle_line)\n",
    "\n",
    "#add left line for spilt area\n",
    "left_ax = Span(location=left_line,\n",
    "            dimension='height', line_color='red',\n",
    "            line_dash='dashed', line_width=3)\n",
    "p.add_layout(left_ax)\n",
    "\n",
    "#add right line for spilt area\n",
    "right_ax = Span(location=right_line,\n",
    "            dimension='height', line_color='red',\n",
    "            line_dash='dashed', line_width=3)\n",
    "p.add_layout(right_ax)\n",
    "\n",
    "#draw a line between 2 cloest points\n",
    "p.line([my_point[0][0],my_point[1][0]],[my_point[0][1],my_point[1][1]],line_width=4)\n",
    "\n",
    "#fill in color with split area\n",
    "p.quad(top=[sorted_y[-1][1]], bottom=[sorted_y[0][1]], left=[left_line],\n",
    "       right=[right_line], color=\"#CAB2D6\",alpha=0.5)\n",
    "\n",
    "#show x-axis tag\n",
    "p.xaxis.axis_label=\"X-coordinate\"\n",
    "#show y-axis tag\n",
    "p.yaxis.axis_label=\"Y-coordinate\"\n",
    "\n",
    "#save the file to directory\n",
    "output_file(\"scatter.html\")\n",
    "#show the graph\n",
    "show(p)"
   ]
  }
 ],
 "metadata": {
  "kernelspec": {
   "display_name": "Python 3",
   "language": "python",
   "name": "python3"
  },
  "language_info": {
   "codemirror_mode": {
    "name": "ipython",
    "version": 3
   },
   "file_extension": ".py",
   "mimetype": "text/x-python",
   "name": "python",
   "nbconvert_exporter": "python",
   "pygments_lexer": "ipython3",
   "version": "3.7.3"
  }
 },
 "nbformat": 4,
 "nbformat_minor": 2
}
