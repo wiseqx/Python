{
 "cells": [
  {
   "cell_type": "markdown",
   "metadata": {},
   "source": [
    "# Natural Language Processing \n",
    "\n",
    "Date: 02/02/2020\n",
    "\n",
    "Version: 5\n",
    "\n",
    "Environment: Python 2.7.11 and Jupyter notebook\n",
    "\n",
    "Libraries used: please include the main libraries you used in your assignment here:\n",
    "* BeautifulSoup (for parse XML file, included in Anaconda Python 2.7) \n",
    "* re (for regular expression, included in Anaconda Python 2.7) \n",
    "* nltk.corpora (access the corpora in the NLTK data package, included in Anaconda Python 2.7) \n",
    "* nltk.stem (for removing morphological affixes from words, included in Anaconda Python 2.7) \n",
    "* nltk.tokenize (for dividing a string into substrings, included in Anaconda Python 2.7) \n",
    "* nltk.probality (for the finding and ranking of quadgram collocations or other association measures, included in Anaconda Python 2.7)\n",
    "* nltk.util (Return the bigrams generated from a sequence of items, included in Anaconda Python 2.7) \n",
    "* nltk.collocations (for the finding and ranking of bigram, included in Anaconda Python 2.7)\n",
    "* itertool.chain (for making an iterator, included in Anaconda Python 2.7)\n",
    "* CountVectorizer (for creating a document-term matrix, included in Anaconda Python 2.7)\n",
    "\n",
    "***\n",
    "\n",
    "## 1. Introduction"
   ]
  },
  {
   "cell_type": "markdown",
   "metadata": {},
   "source": [
    "This python file demonstrates how natural language processing is applied to a Patent XML file. The result can be used to do a statistical relational learning for a company in the future. Statistical relational learning can be found everywhere. For example, when an internet user search a book on Amazon website, the website not only will show this book, but also will recommend several books in the same kind. Therefore, in order to solve information overload problems or help users to search unspecified data, many companies take advantage of personalized recommendation systems to help their customers to find what they are really interested in. \n",
    "\n",
    "This original Patent file provides 2500 patents. Each patent has a large amount of information which can be analyzed. This task is going to extract Citation Networks, a Hierarchical IPC Codes, and Abstracts from each patant. This file shows how pre-processing is going to do and it can also give users relevant data in the future. \n"
   ]
  },
  {
   "cell_type": "markdown",
   "metadata": {},
   "source": [
    "This project has 4 tasks. First is to extract \"Class\", \"Subclass\", \"Main Group\", and \"Subgroup\" from each patent. We can use either element tree or beautiful soup library. My concern is that if we use element tree to parse the given XML file, it cannot directly parse the file since it has searval roots, but beautifulsoup can easily make it possible by just using the interpreter 'html.parser'. "
   ]
  },
  {
   "cell_type": "markdown",
   "metadata": {},
   "source": [
    "Task 2 and 3 are very tricky since it is going to extract its own citation IDs from each patent. We all know that each patent may or may not be another patents' citation. And one patent usually has several citations. Applying \"find\" and \"findall\" function accurately will help us to finish this task efficiently."
   ]
  },
  {
   "cell_type": "markdown",
   "metadata": {},
   "source": [
    "Task 4 is a much more challenge task and it is the most important part for preparing statistical relation learning. The general steps would be pre-processing (including tokenise), remove stopwords, create bigram and build count vector. After doing this task, I find there are several ways to do for this part, and finally I take advanatage of the better one. "
   ]
  },
  {
   "cell_type": "markdown",
   "metadata": {},
   "source": [
    "## 2.  Import libraries "
   ]
  },
  {
   "cell_type": "code",
   "execution_count": 1,
   "metadata": {},
   "outputs": [],
   "source": [
    "# Code to import libraries as needed in this assessment\n",
    "from bs4 import BeautifulSoup\n",
    "import re\n",
    "import nltk\n",
    "from nltk.probability import *\n",
    "from nltk.collocations import *\n",
    "from nltk.tokenize.regexp import RegexpTokenizer\n",
    "from nltk.tokenize import MWETokenizer\n",
    "from nltk.stem import PorterStemmer\n",
    "from nltk.stem import LancasterStemmer\n",
    "from nltk.stem import WordNetLemmatizer\n",
    "from nltk.util import ngrams\n",
    "from nltk import collocations\n",
    "from nltk.corpus import wordnet\n",
    "from sklearn.feature_extraction.text import CountVectorizer\n",
    "from __future__ import division\n",
    "from itertools import chain"
   ]
  },
  {
   "cell_type": "code",
   "execution_count": 2,
   "metadata": {},
   "outputs": [
    {
     "data": {
      "text/plain": [
       "'3.4.4'"
      ]
     },
     "execution_count": 2,
     "metadata": {},
     "output_type": "execute_result"
    }
   ],
   "source": [
    "nltk.__version__"
   ]
  },
  {
   "cell_type": "code",
   "execution_count": 3,
   "metadata": {},
   "outputs": [
    {
     "name": "stderr",
     "output_type": "stream",
     "text": [
      "Python 2.7.16 :: Anaconda, Inc.\n"
     ]
    }
   ],
   "source": [
    "!python --version"
   ]
  },
  {
   "cell_type": "markdown",
   "metadata": {},
   "source": [
    "***"
   ]
  },
  {
   "cell_type": "markdown",
   "metadata": {},
   "source": [
    "## 3. Examining and loading data"
   ]
  },
  {
   "cell_type": "markdown",
   "metadata": {},
   "source": [
    "### Parse the file\n",
    "Here comes a chanllenge problem for parsing the XML file: only a part of XML file can be read not all of it. I think it is because\n",
    "every encode tag is at the beginning of the part of a file so that beautifulsoup cannot recognize several roots. I try several methods(such as just open the file and parse) since I want to know which method is more easy and straightforward. \n",
    "When I went through the beautifulsoup documentation in the official website, I notice that using Python’s \"html.parser\" instead of \"lxml\" function to read the file is much better to solve this problem, but the shortage is that the running time is slower than the \"lxml\" parser."
   ]
  },
  {
   "cell_type": "code",
   "execution_count": 4,
   "metadata": {},
   "outputs": [],
   "source": [
    "soup = BeautifulSoup(open(\"./patents.xml\"),\"html.parser\") "
   ]
  },
  {
   "cell_type": "markdown",
   "metadata": {},
   "source": [
    "## 4. Parsing XML and Extracting all the required information \n",
    "\n",
    "Here, you should write your own code to parsing the xml file, and extract the hierarchical IPC code, citation network, and abstracts. We strongly suggest that you use existing Python libraries to parse the xml file. Store the extracted information in files if required in the assessment description.\n"
   ]
  },
  {
   "cell_type": "markdown",
   "metadata": {},
   "source": [
    "## Task 1:"
   ]
  },
  {
   "cell_type": "markdown",
   "metadata": {},
   "source": [
    "### step 1: Finding all patent ID\n",
    "Finding all patent ID by using beautifulsoup.\n",
    "Because there are many patent ID in each part, our goal is to find the doc-number under publication reference tag."
   ]
  },
  {
   "cell_type": "code",
   "execution_count": 5,
   "metadata": {},
   "outputs": [
    {
     "data": {
      "text/plain": [
       "[u'PP021722', u'RE042159', u'RE042170']"
      ]
     },
     "execution_count": 5,
     "metadata": {},
     "output_type": "execute_result"
    }
   ],
   "source": [
    "#finding all of publication-ference tag.\n",
    "application=soup.find_all(\"publication-reference\")\n",
    "#there is just 1 patentid under 'doc-number'tag so that we can just use 'find' instead of 'findall' function \n",
    "docid=[item.find(\"doc-number\") for item in application]\n",
    "#extract text contents\n",
    "patentid=[item.string for item in docid]\n",
    "patentid[:3]"
   ]
  },
  {
   "cell_type": "markdown",
   "metadata": {},
   "source": [
    "Testing the total number of patent ID"
   ]
  },
  {
   "cell_type": "code",
   "execution_count": 6,
   "metadata": {},
   "outputs": [
    {
     "name": "stdout",
     "output_type": "stream",
     "text": [
      "the number of patent ID:  2500\n"
     ]
    }
   ],
   "source": [
    "print \"the number of patent ID: \",len(patentid)"
   ]
  },
  {
   "cell_type": "markdown",
   "metadata": {},
   "source": [
    "### step 2: Finding all of corrsponding tags\n",
    "Finding all corresponding tags by using beautifulsoup."
   ]
  },
  {
   "cell_type": "code",
   "execution_count": 7,
   "metadata": {},
   "outputs": [],
   "source": [
    "#extracting section,patent class,subclass, main-group and subgroup by using findall function\n",
    "section = [section.string for section in soup.find_all(\"section\")]\n",
    "patent_class = [pclass.string for pclass in soup.find_all(\"class\")]\n",
    "subclass = [subclass.string for subclass in soup.find_all(\"subclass\")]\n",
    "main_group = [main_group.string for main_group in soup.find_all(\"main-group\")]\n",
    "subgroup=[sub.string for sub in soup.find_all(\"subgroup\")]"
   ]
  },
  {
   "cell_type": "markdown",
   "metadata": {},
   "source": [
    "\n",
    "Testing the length of each"
   ]
  },
  {
   "cell_type": "code",
   "execution_count": 8,
   "metadata": {},
   "outputs": [
    {
     "name": "stdout",
     "output_type": "stream",
     "text": [
      "length of section is:  2500 \n",
      "length of patent class is:  2500 \n",
      "length of subclass is:  2500 \n",
      "length of main group is:  2500 \n",
      "length of subgroup is:  2500\n"
     ]
    }
   ],
   "source": [
    "print \"length of section is: \", len(section),\"\\nlength of patent class is: \",len(patent_class),\\\n",
    "\"\\nlength of subclass is: \",len(subclass),\"\\nlength of main group is: \",len(main_group),\\\n",
    "\"\\nlength of subgroup is: \",len(subgroup)"
   ]
  },
  {
   "cell_type": "markdown",
   "metadata": {},
   "source": [
    "### step 3: writing to a text file\n",
    "Now we can see all of the elements have the same length. It's time to write to a file in the correct format"
   ]
  },
  {
   "cell_type": "code",
   "execution_count": 9,
   "metadata": {},
   "outputs": [],
   "source": [
    "output_handle=open('classification.txt','w+')\n",
    "for i in range(len(patentid)):\n",
    "    #make all of pattern to string\n",
    "    new_line=str(patentid[i])+\":\"+str(section[i])+\",\"+str(patent_class[i])+\",\"+str(subclass[i])+\",\"+str(main_group[i])+\",\"+str(subgroup[i])+\"\\n\"\n",
    "    output_handle.write(new_line)\n",
    "    i=i+1\n",
    "    \n",
    "output_handle.close()"
   ]
  },
  {
   "cell_type": "markdown",
   "metadata": {},
   "source": [
    "The output file is under the same dicrectory with this jupiter file. "
   ]
  },
  {
   "cell_type": "markdown",
   "metadata": {},
   "source": [
    "## Task 2:"
   ]
  },
  {
   "cell_type": "markdown",
   "metadata": {},
   "source": [
    "### step 1: Finding all of citation \n",
    "In order to find all of citations, first of all is to get all of the references-cited tags. Then all of doc-numbers have been found under the referencs-cited tags because one references-cited tag has several doc-number tags. It will return a list withous moving any doc-number tags."
   ]
  },
  {
   "cell_type": "code",
   "execution_count": 10,
   "metadata": {},
   "outputs": [
    {
     "data": {
      "text/plain": [
       "[<doc-number>4954776</doc-number>,\n",
       " <doc-number>4956606</doc-number>,\n",
       " <doc-number>5015948</doc-number>,\n",
       " <doc-number>5115193</doc-number>,\n",
       " <doc-number>5180978</doc-number>,\n",
       " <doc-number>5332966</doc-number>,\n",
       " <doc-number>5332996</doc-number>,\n",
       " <doc-number>5351003</doc-number>,\n",
       " <doc-number>5381090</doc-number>,\n",
       " <doc-number>5521496</doc-number>,\n",
       " <doc-number>5914593</doc-number>]"
      ]
     },
     "execution_count": 10,
     "metadata": {},
     "output_type": "execute_result"
    }
   ],
   "source": [
    "#find all of reference-cited tag\n",
    "reference=soup.find_all(\"references-cited\")\n",
    "#because there are more than 1 doc-number under reference-cited, we still need to use findall function to search\n",
    "citation=[item.find_all(\"doc-number\") for item in reference]\n",
    "citation[1]"
   ]
  },
  {
   "cell_type": "markdown",
   "metadata": {},
   "source": [
    "### step 2: Writing into a text file\n",
    "My method is to take cited IDs from the index of the patent IDs. For example: when I use the first patent ID, I can take the first element from citation list and extract all of the corresponding cited IDs."
   ]
  },
  {
   "cell_type": "code",
   "execution_count": 11,
   "metadata": {},
   "outputs": [],
   "source": [
    "output_handle=open('citations.txt','w+')\n",
    "variable=\"\"\n",
    "#let patent ID and its cited patent ID with the same index\n",
    "for i in range(len(patentid)):\n",
    "    for num in citation[i]:\n",
    "        for element in num:\n",
    "            #extract all of doc-numbers context contents\n",
    "            variable+=str(element.string)+\",\"\n",
    "    new_variable=variable.rstrip(\",\") #remove comma at the end of string\n",
    "    line=str(patentid[i])+\":\"+new_variable+\"\\n\"\n",
    "    variable=\"\"\n",
    "    output_handle.write(line)\n",
    "\n",
    "output_handle.close()"
   ]
  },
  {
   "cell_type": "markdown",
   "metadata": {},
   "source": [
    "## Task 3:"
   ]
  },
  {
   "cell_type": "markdown",
   "metadata": {},
   "source": [
    "In terms of this question, I directly use the text file from the last question. My thoughts is that removing the citing IDs before comma, and then tokenise the comma between the cited IDs and the extra line tag which is between each lines. Then I use FreqDist function from \"nltk\" library to know the frquency of each cited IDs. Also, I sort the cited IDs to make users read and search more conveniently."
   ]
  },
  {
   "cell_type": "code",
   "execution_count": 12,
   "metadata": {},
   "outputs": [],
   "source": [
    "input_handle=open('citations.txt','r')\n",
    "output_handle=open('cited.txt','w+')\n",
    "\n",
    "#make citation file as input file and read each line\n",
    "text_file=\"\"\n",
    "for line in input_handle:\n",
    "    for i in range(len(line)):\n",
    "        if line[i]==\":\":#remove the citing IDs before the colon\n",
    "            new_line=line[i+1:]\n",
    "            text_file+=new_line\n",
    "            \n",
    "#remove comma and extra line tag    \n",
    "tokenizer = RegexpTokenizer(r\"[\\n\\,]\", gaps=True) \n",
    "words=tokenizer.tokenize(text_file) \n",
    "\n",
    "#automatically create a dictionary with the key for cited IDs and value for frequency\n",
    "fdist1=FreqDist(words)\n",
    "\n",
    "#sort the keys to decending order to make the user read or search a file conveniently\n",
    "for key in sorted(fdist1.keys()):\n",
    "    lines=str(key)+\":\"+str(fdist1[key])+\"\\n\"\n",
    "    output_handle.write(lines)\n",
    "    \n",
    "input_handle.close()\n",
    "output_handle.close()"
   ]
  },
  {
   "cell_type": "markdown",
   "metadata": {},
   "source": [
    "## Task 4:\n",
    "For this part of questions, my procedure is : \n",
    "* 1.extract abstracts\n",
    "* 2.tokenise \n",
    "* 3.stemming and Lemmatization\n",
    "* 4.remove stopwords \n",
    "* 5.bigram \n",
    "* 6.remove top-20 most frequent words \n",
    "* 7.remove words only appearing in one abstract\n",
    "* 8.bulid count vector \n",
    "* 9.write into a file"
   ]
  },
  {
   "cell_type": "markdown",
   "metadata": {
    "collapsed": true
   },
   "source": [
    "### STEP 1: Extract all of abstracts\n",
    "Fiest of all, abstracts need to be extrated. From the XML file, every abstract may have 1 or more 'p' tags. It indicates that we need to find all of them under each patent ID. Then we convert list to string in order to prepare the next tokenise step."
   ]
  },
  {
   "cell_type": "markdown",
   "metadata": {},
   "source": [
    "1.1: Finding all of abstract by using beautifulsoup"
   ]
  },
  {
   "cell_type": "code",
   "execution_count": 13,
   "metadata": {},
   "outputs": [
    {
     "name": "stdout",
     "output_type": "stream",
     "text": [
      "The number of abstract tags:  2500\n"
     ]
    }
   ],
   "source": [
    "#find all of  abstract tags\n",
    "abstract_tag=soup.find_all(\"abstract\")\n",
    "print \"The number of abstract tags: \",len(abstract_tag)"
   ]
  },
  {
   "cell_type": "markdown",
   "metadata": {},
   "source": [
    "1.2: Finding all of 'p' element under each abstract"
   ]
  },
  {
   "cell_type": "code",
   "execution_count": 14,
   "metadata": {},
   "outputs": [
    {
     "data": {
      "text/plain": [
       "[<p id=\"p-0001\" num=\"0000\">A sensing device includes a circuit that compensates for time and spatial changes in temperature. The circuit includes elements to correct for variation in permeability of a highly permeable core of a differential variable reluctance transducer as temperature changes. The circuit also provides correction for temperature gradients across coils of the transducer.</p>]"
      ]
     },
     "execution_count": 14,
     "metadata": {},
     "output_type": "execute_result"
    }
   ],
   "source": [
    "#evry patentid may have serveral abstracts, finding al of 'p's under each patent ID.\n",
    "find_p=[item.find_all(\"p\") for item in abstract_tag]\n",
    "find_p[1]"
   ]
  },
  {
   "cell_type": "code",
   "execution_count": 15,
   "metadata": {},
   "outputs": [
    {
     "name": "stdout",
     "output_type": "stream",
     "text": [
      "The number of 'p' elements:  2500\n"
     ]
    }
   ],
   "source": [
    "print \"The number of 'p' elements: \",len(find_p)"
   ]
  },
  {
   "cell_type": "markdown",
   "metadata": {},
   "source": [
    "1.3: Extracting text contents between 'p' tags"
   ]
  },
  {
   "cell_type": "code",
   "execution_count": 16,
   "metadata": {},
   "outputs": [
    {
     "data": {
      "text/plain": [
       "[u'A sensing device includes a circuit that compensates for time and spatial changes in temperature. The circuit includes elements to correct for variation in permeability of a highly permeable core of a differential variable reluctance transducer as temperature changes. The circuit also provides correction for temperature gradients across coils of the transducer.']"
      ]
     },
     "execution_count": 16,
     "metadata": {},
     "output_type": "execute_result"
    }
   ],
   "source": [
    "#remove 'p' tags and extract its text contents\n",
    "tag_list=[]\n",
    "for each in find_p:\n",
    "    a=[tag.string for tag in each]\n",
    "    tag_list.append(a)\n",
    "tag_list[1]"
   ]
  },
  {
   "cell_type": "code",
   "execution_count": 17,
   "metadata": {},
   "outputs": [
    {
     "name": "stdout",
     "output_type": "stream",
     "text": [
      "The number of text contents:  2500\n"
     ]
    }
   ],
   "source": [
    "print \"The number of text contents: \",len(tag_list)"
   ]
  },
  {
   "cell_type": "markdown",
   "metadata": {},
   "source": [
    "1.4: merge those abstracts which have more than 2 text contents under a single abstract element"
   ]
  },
  {
   "cell_type": "code",
   "execution_count": 18,
   "metadata": {},
   "outputs": [
    {
     "data": {
      "text/plain": [
       "[u'A new apple tree named \\u2018Daligris\\u2019 is disclosed. The fruit of the new variety is particularly notable for its eating quality and distinctive flavor and appearance. The fruit is very sweet and has a pronounced aniseed flavor, and takes on a distinctive red orange coloration as it ripens on the tree.']"
      ]
     },
     "execution_count": 18,
     "metadata": {},
     "output_type": "execute_result"
    }
   ],
   "source": [
    "#merge those abstracts which have more than 2 text content from 'p's under the single abstract tag  \n",
    "new_tag_list=[]\n",
    "new_item=\"\"\n",
    "for each in tag_list:\n",
    "    #check if each item in a single patent ID has 2 or more abstracts\n",
    "    if len(each)<2:\n",
    "        new_tag_list.append(each)\n",
    "    else:\n",
    "        for item in each:\n",
    "            #some text content of p is \"\\n\"(extra line tag), it should be avoided\n",
    "            if item!=None:\n",
    "                new_item+=item\n",
    "        new_tag_list.append([new_item])\n",
    "        new_item=\"\"\n",
    "    \n",
    "new_tag_list[0]"
   ]
  },
  {
   "cell_type": "code",
   "execution_count": 19,
   "metadata": {},
   "outputs": [
    {
     "name": "stdout",
     "output_type": "stream",
     "text": [
      "The total number of abstracts after merging 'p' tags:  2500\n"
     ]
    }
   ],
   "source": [
    "print \"The total number of abstracts after merging 'p' tags: \", len(new_tag_list)"
   ]
  },
  {
   "cell_type": "markdown",
   "metadata": {},
   "source": [
    "1.5: Converting list to string in order to tokenise"
   ]
  },
  {
   "cell_type": "code",
   "execution_count": 20,
   "metadata": {},
   "outputs": [
    {
     "data": {
      "text/plain": [
       "u'A new apple tree named \\u2018Daligris\\u2019 is disclosed. The fruit of the new variety is particularly notable for its eating quality and distinctive flavor and appearance. The fruit is very sweet and has a pronounced aniseed flavor, and takes on a distinctive red orange coloration as it ripens on the tree.'"
      ]
     },
     "execution_count": 20,
     "metadata": {},
     "output_type": "execute_result"
    }
   ],
   "source": [
    "#firstly: coverting inside list to string \n",
    "abstracts = [item for sublist in new_tag_list for item in sublist]\n",
    "abstracts[0]"
   ]
  },
  {
   "cell_type": "code",
   "execution_count": 21,
   "metadata": {},
   "outputs": [
    {
     "name": "stdout",
     "output_type": "stream",
     "text": [
      "number of abstracts:  2500\n"
     ]
    }
   ],
   "source": [
    "print \"number of abstracts: \",len(abstracts)"
   ]
  },
  {
   "cell_type": "markdown",
   "metadata": {},
   "source": [
    "Case normalisation"
   ]
  },
  {
   "cell_type": "code",
   "execution_count": 22,
   "metadata": {},
   "outputs": [
    {
     "data": {
      "text/plain": [
       "u'a'"
      ]
     },
     "execution_count": 22,
     "metadata": {},
     "output_type": "execute_result"
    }
   ],
   "source": [
    "#secondly, converting list to string and use it to tokenise\n",
    "abstracts_text=\"\"\n",
    "for each in abstracts:\n",
    "    #case nomalisation\n",
    "    abstracts_text+=each.lower()\n",
    "abstracts_text[0]"
   ]
  },
  {
   "cell_type": "markdown",
   "metadata": {},
   "source": [
    "## 5. Preprocessing the abstracts \n",
    "\n",
    "In this section, you should write Python code to pre-process the abstracts, convert them into the required format, and store the processed data. We suggest that you refer to the lecture and tutorial materials and the references provided in those materials.\n"
   ]
  },
  {
   "cell_type": "markdown",
   "metadata": {},
   "source": [
    "## Task 4 continued"
   ]
  },
  {
   "cell_type": "markdown",
   "metadata": {},
   "source": [
    "### STEP 2: Tokenise\n",
    "I already lower the case from last step, next, I am going to use regular expression to tokenise."
   ]
  },
  {
   "cell_type": "code",
   "execution_count": 23,
   "metadata": {
    "scrolled": true
   },
   "outputs": [],
   "source": [
    "#tokenise \n",
    "pattern = r\"\"\"(?x)                   # set flag to allow verbose regexps\n",
    "              (?:[A-Z]\\.)+           # abbreviations, e.g. U.S.A.\n",
    "              |\\d+(?:\\.\\d+)?%?       # numbers, incl. currency and percentages\n",
    "              |\\w+(?:[-']\\w+)*       # words w/ optional internal hyphens/apostrophe\n",
    "              |(?:[+/\\-@&*])         # special characters with meanings\n",
    "            \"\"\""
   ]
  },
  {
   "cell_type": "code",
   "execution_count": 24,
   "metadata": {},
   "outputs": [
    {
     "data": {
      "text/plain": [
       "[u'a',\n",
       " u'new',\n",
       " u'apple',\n",
       " u'tree',\n",
       " u'named',\n",
       " u'daligris',\n",
       " u'is',\n",
       " u'disclosed',\n",
       " u'the',\n",
       " u'fruit',\n",
       " u'of',\n",
       " u'the',\n",
       " u'new',\n",
       " u'variety',\n",
       " u'is',\n",
       " u'particularly',\n",
       " u'notable',\n",
       " u'for',\n",
       " u'its',\n",
       " u'eating',\n",
       " u'quality',\n",
       " u'and',\n",
       " u'distinctive',\n",
       " u'flavor',\n",
       " u'and',\n",
       " u'appearance',\n",
       " u'the',\n",
       " u'fruit',\n",
       " u'is',\n",
       " u'very',\n",
       " u'sweet',\n",
       " u'and',\n",
       " u'has',\n",
       " u'a',\n",
       " u'pronounced',\n",
       " u'aniseed',\n",
       " u'flavor',\n",
       " u'and',\n",
       " u'takes',\n",
       " u'on',\n",
       " u'a',\n",
       " u'distinctive',\n",
       " u'red',\n",
       " u'orange',\n",
       " u'coloration',\n",
       " u'as',\n",
       " u'it',\n",
       " u'ripens',\n",
       " u'on',\n",
       " u'the',\n",
       " u'tree']"
      ]
     },
     "execution_count": 24,
     "metadata": {},
     "output_type": "execute_result"
    }
   ],
   "source": [
    "#tokenised each abstract \n",
    "abstrcts_tokenised=[]\n",
    "for each in abstracts:\n",
    "    #case normalisation: make the context to lowercase\n",
    "    a=nltk.regexp_tokenize(each.lower(), pattern)\n",
    "    abstrcts_tokenised.append(a)\n",
    "abstrcts_tokenised[0]"
   ]
  },
  {
   "cell_type": "markdown",
   "metadata": {},
   "source": [
    "### STEP 3:  Stemming and Lemmatization\n",
    "After tokenising the whole text, it has a lot of similar words in different meanings. For example, nouns are inflected in the plural, verbs are inflected in the various tenses, and adjectives are inflected in the comparative/superlative. The derivation process creates a new word out of an existing one often by adding either a prefix or a suffix. Therefore, it is important to do stemming and lemmatization process, otherwise it would affect counting bigrams in the next step owing to tence or useless prefix(such as '/apple'). That's also the reason why I am doing lemmatization before doing the bigrams: it would help a lot with next several steps."
   ]
  },
  {
   "cell_type": "markdown",
   "metadata": {},
   "source": [
    "Here, I tried 3 ways for stemming and accept the third one eventually."
   ]
  },
  {
   "cell_type": "markdown",
   "metadata": {
    "collapsed": true
   },
   "source": [
    "1.The first method is to use the Porter Stemmer. However, for some special cases, the Porter Stemmer might not work as expected, like 'apple'→'appl','disclosed'→'disclos'. That're not we want. And bigram are used for speech recognition, spelling correction, entity detection, if we output wrong in advance from this step, the bigram does not make any sense either."
   ]
  },
  {
   "cell_type": "code",
   "execution_count": 21,
   "metadata": {},
   "outputs": [
    {
     "name": "stdout",
     "output_type": "stream",
     "text": [
      "[u'a', u'new', u'appl', u'tree', u'name', u'daligri', u'is', u'disclos', u'the', u'fruit', u'of', u'the', u'new', u'varieti', u'is', u'particularli', u'notabl', u'for', u'it', u'eat', u'qualiti', u'and', u'distinct', u'flavor', u'and', u'appear', u'the', u'fruit', u'is', u'veri', u'sweet', u'and', u'ha', u'a', u'pronounc', u'anise', u'flavor', u'and', u'take', u'on', u'a', u'distinct', u'red', u'orang', u'color', u'as', u'it', u'ripen', u'on', u'the', u'tree']\n"
     ]
    }
   ],
   "source": [
    "# stemmer_noun = PorterStemmer()\n",
    "# stemmer_list = []\n",
    "# ste_temp_list=[]\n",
    "# for each in abstrcts_tokenised:\n",
    "#     for item in each:\n",
    "#         stem_sent = stemmer_noun.stem(item)\n",
    "#         ste_temp_list.append(stem_sent)\n",
    "#     stemmer_list.append(ste_temp_list)\n",
    "#     ste_temp_list=[]\n",
    "# #show only first abstract text content\n",
    "# print stemmer_list[0]"
   ]
  },
  {
   "cell_type": "markdown",
   "metadata": {},
   "source": [
    "2.The Second method is to use the Porter Stemmer. However, for some special cases, the Porter Stemmer might not work as expected, like 'tree'→'tre','particular'→'particul'. That would influence with searching bigram as well."
   ]
  },
  {
   "cell_type": "code",
   "execution_count": 22,
   "metadata": {},
   "outputs": [
    {
     "name": "stdout",
     "output_type": "stream",
     "text": [
      "[u'a', u'new', u'appl', u'tre', u'nam', u'daligr', u'is', u'disclos', u'the', u'fruit', u'of', u'the', u'new', u'vary', u'is', u'particul', u'not', u'for', u'it', u'eat', u'qual', u'and', u'distinct', u'flav', u'and', u'appear', u'the', u'fruit', u'is', u'very', u'sweet', u'and', u'has', u'a', u'pronount', u'anisee', u'flav', u'and', u'tak', u'on', u'a', u'distinct', u'red', u'orang', u'col', u'as', u'it', u'rip', u'on', u'the', u'tre']\n"
     ]
    }
   ],
   "source": [
    "# stemmer_verb = LancasterStemmer()\n",
    "# stemmer_list = []\n",
    "# ste_temp_list=[]\n",
    "# for each in abstrcts_tokenised:\n",
    "#     for item in each:\n",
    "#         stem_sent = stemmer_verb.stem(item)\n",
    "#         ste_temp_list.append(stem_sent)\n",
    "#     stemmer_list.append(ste_temp_list)\n",
    "#     ste_temp_list=[]\n",
    "# print stemmer_list[0]"
   ]
  },
  {
   "cell_type": "markdown",
   "metadata": {
    "collapsed": true
   },
   "source": [
    "3.The third way is to use a lemmatizer that utilises more information about the language to accurately identify the lemma for each word. And looks much better. I accept this method."
   ]
  },
  {
   "cell_type": "code",
   "execution_count": 23,
   "metadata": {},
   "outputs": [
    {
     "name": "stdout",
     "output_type": "stream",
     "text": [
      "[(u'a', 'DT'), (u'new', 'JJ'), (u'apple', 'NN'), (u'tree', 'NN'), (u'named', 'VBN'), (u'daligris', 'NN'), (u'is', 'VBZ'), (u'disclosed', 'VBN'), (u'the', 'DT'), (u'fruit', 'NN'), (u'of', 'IN'), (u'the', 'DT'), (u'new', 'JJ'), (u'variety', 'NN'), (u'is', 'VBZ'), (u'particularly', 'RB'), (u'notable', 'JJ'), (u'for', 'IN'), (u'its', 'PRP$'), (u'eating', 'JJ'), (u'quality', 'NN'), (u'and', 'CC'), (u'distinctive', 'JJ'), (u'flavor', 'NN'), (u'and', 'CC'), (u'appearance', 'VB'), (u'the', 'DT'), (u'fruit', 'NN'), (u'is', 'VBZ'), (u'very', 'RB'), (u'sweet', 'JJ'), (u'and', 'CC'), (u'has', 'VBZ'), (u'a', 'DT'), (u'pronounced', 'VBN'), (u'aniseed', 'NN'), (u'flavor', 'NN'), (u'and', 'CC'), (u'takes', 'VBZ'), (u'on', 'IN'), (u'a', 'DT'), (u'distinctive', 'JJ'), (u'red', 'JJ'), (u'orange', 'NN'), (u'coloration', 'NN'), (u'as', 'IN'), (u'it', 'PRP'), (u'ripens', 'VBZ'), (u'on', 'IN'), (u'the', 'DT'), (u'tree', 'NN')]\n"
     ]
    }
   ],
   "source": [
    "#firstly, code should make use the POS tags of each word to decide the lexical base form\n",
    "tagged_sents = []\n",
    "for sent in abstrcts_tokenised:\n",
    "    tagged_sent = nltk.tag.pos_tag(sent)\n",
    "    tagged_sents.append(tagged_sent)\n",
    "#because the file is large, I just ask to show the first abstract to check the output\n",
    "print tagged_sents[0]"
   ]
  },
  {
   "cell_type": "code",
   "execution_count": 24,
   "metadata": {
    "collapsed": true
   },
   "outputs": [],
   "source": [
    "def get_wordnet_pos(treebank_tag):\n",
    "    #tag startwith J,change to ADJ\n",
    "    if treebank_tag.startswith('J'):\n",
    "        return wordnet.ADJ\n",
    "    #tag name startwith V, change to VERB\n",
    "    elif treebank_tag.startswith('V'):\n",
    "        return wordnet.VERB\n",
    "    #tag name startwith N, change to NUUN\n",
    "    elif treebank_tag.startswith('N'):\n",
    "        return wordnet.NOUN\n",
    "    #tag name startwith R, change to ADV\n",
    "    elif treebank_tag.startswith('R'):\n",
    "        return wordnet.ADV\n",
    "    else:\n",
    "        #change else tag to NOUN\n",
    "        return wordnet.NOUN"
   ]
  },
  {
   "cell_type": "code",
   "execution_count": 25,
   "metadata": {},
   "outputs": [
    {
     "name": "stdout",
     "output_type": "stream",
     "text": [
      "[u'a', u'new', u'apple', u'tree', u'name', u'daligris', u'be', u'disclose', u'the', u'fruit', u'of', u'the', u'new', u'variety', u'be', u'particularly', u'notable', u'for', u'it', u'eating', u'quality', u'and', u'distinctive', u'flavor', u'and', u'appearance', u'the', u'fruit', u'be', u'very', u'sweet', u'and', u'have', u'a', u'pronounce', u'aniseed', u'flavor', u'and', u'take', u'on', u'a', u'distinctive', u'red', u'orange', u'coloration', u'a', u'it', u'ripen', u'on', u'the', u'tree']\n"
     ]
    }
   ],
   "source": [
    "#use wordnetlemmatizer to lemmization\n",
    "lemmatizer = WordNetLemmatizer()\n",
    "\n",
    "final_tokens =[]\n",
    "for tagged_set in tagged_sents:\n",
    "    final_tokens.append([lemmatizer.lemmatize(w[0], get_wordnet_pos(w[1])) for w in tagged_set])\n",
    "#just show the first abstract\n",
    "print final_tokens[0]"
   ]
  },
  {
   "cell_type": "markdown",
   "metadata": {
    "collapsed": true
   },
   "source": [
    "### Now it is time to make a dictionary\n",
    "Each patent ID belongs to its own abstract/abstracts"
   ]
  },
  {
   "cell_type": "code",
   "execution_count": 26,
   "metadata": {
    "collapsed": true,
    "scrolled": true
   },
   "outputs": [],
   "source": [
    "#create dictionary\n",
    "dic={}\n",
    "#key values are patent id, values are corresponding abstracts after tokenise and stemming\n",
    "for i in range(len(patentid)):\n",
    "    dic[patentid[i]]=final_tokens[i]"
   ]
  },
  {
   "cell_type": "code",
   "execution_count": 27,
   "metadata": {},
   "outputs": [
    {
     "data": {
      "text/plain": [
       "[u'the',\n",
       " u'invention',\n",
       " u'relate',\n",
       " u'to',\n",
       " u'a',\n",
       " u'method',\n",
       " u'for',\n",
       " u'produce',\n",
       " u'acrylic',\n",
       " u'acid',\n",
       " u'in',\n",
       " u'one',\n",
       " u'step',\n",
       " u'by',\n",
       " u'an',\n",
       " u'oxydehydration',\n",
       " u'reaction',\n",
       " u'of',\n",
       " u'glycerol',\n",
       " u'in',\n",
       " u'the',\n",
       " u'presence',\n",
       " u'of',\n",
       " u'molecular',\n",
       " u'oxygen',\n",
       " u'the',\n",
       " u'reaction',\n",
       " u'preferably',\n",
       " u'carry',\n",
       " u'out',\n",
       " u'in',\n",
       " u'gaseous',\n",
       " u'phase',\n",
       " u'in',\n",
       " u'the',\n",
       " u'presence',\n",
       " u'of',\n",
       " u'a',\n",
       " u'suitable',\n",
       " u'catalyst']"
      ]
     },
     "execution_count": 27,
     "metadata": {},
     "output_type": "execute_result"
    }
   ],
   "source": [
    "#check with the first abstarct\n",
    "dic['07910771']"
   ]
  },
  {
   "cell_type": "markdown",
   "metadata": {},
   "source": [
    "Now, Let's check how many types we have in the whole corpus and the lexical diversity"
   ]
  },
  {
   "cell_type": "code",
   "execution_count": 28,
   "metadata": {},
   "outputs": [
    {
     "name": "stdout",
     "output_type": "stream",
     "text": [
      "Vocabulary size:  9520 \n",
      "Total number of tokens:  281148 \n",
      "Lexical diversity:  29.5323529412\n"
     ]
    }
   ],
   "source": [
    "words = list(chain.from_iterable(dic.values())) #put all of abstract into a whole list\n",
    "vocab = set(words) #extract unique words\n",
    "lexical_diversity = len(words)/len(vocab)\n",
    "print \"Vocabulary size: \",len(vocab),\"\\nTotal number of tokens: \", len(words), \\\n",
    "\"\\nLexical diversity: \", lexical_diversity"
   ]
  },
  {
   "cell_type": "markdown",
   "metadata": {},
   "source": [
    "### STEP 4:  Removing stopwords"
   ]
  },
  {
   "cell_type": "markdown",
   "metadata": {
    "collapsed": true
   },
   "source": [
    "The reason why Removing stopwords is that if the stopwords are not removed, the bigram would give us some words that does not make any sense, such as \"is that\", \"It is\", which were not what we were looking for. So we need to remove the stopwords before we doing the bigrams.\n",
    "Here, Instead of using the built-in stopword list of NLTK, I use a rich stopword list from textfile. I assume that the stopwords textfile is in the same directory with this assignment jupiter notebook."
   ]
  },
  {
   "cell_type": "markdown",
   "metadata": {},
   "source": [
    "PS:The reason why I append 2 words in stopwords file below is that after I remove the stopwords(without appending these two) and search in bigram, I notice that 'include' and 'provide' are the most frequent two words that appears as verb, which seems not a bigram collections with other words such as 'include tree'. So I remove them in advance here."
   ]
  },
  {
   "cell_type": "code",
   "execution_count": 29,
   "metadata": {
    "collapsed": true
   },
   "outputs": [],
   "source": [
    "stopwords = []\n",
    "#assume stopwords file are under the same directory with this assignment file\n",
    "with open('./stopwords_en.txt') as f:\n",
    "    stopwords = f.read().splitlines()\n",
    "#append the words that will interfer with searching bigrams\n",
    "stopwords.append('/')\n",
    "stopwords.append('include')\n",
    "stopwords.append('provide')"
   ]
  },
  {
   "cell_type": "code",
   "execution_count": 30,
   "metadata": {},
   "outputs": [
    {
     "data": {
      "text/plain": [
       "[u'invention',\n",
       " u'relate',\n",
       " u'method',\n",
       " u'produce',\n",
       " u'acrylic',\n",
       " u'acid',\n",
       " u'step',\n",
       " u'oxydehydration',\n",
       " u'reaction',\n",
       " u'glycerol',\n",
       " u'presence',\n",
       " u'molecular',\n",
       " u'oxygen',\n",
       " u'reaction',\n",
       " u'preferably',\n",
       " u'carry',\n",
       " u'gaseous',\n",
       " u'phase',\n",
       " u'presence',\n",
       " u'suitable',\n",
       " u'catalyst']"
      ]
     },
     "execution_count": 30,
     "metadata": {},
     "output_type": "execute_result"
    }
   ],
   "source": [
    "stopwords_list = set(stopwords)\n",
    "for k, v in dic.iteritems():\n",
    "    dic[k] = [word for word in v if word not in stopwords_list]\n",
    "dic['07910771']"
   ]
  },
  {
   "cell_type": "markdown",
   "metadata": {},
   "source": [
    "Now, Let's check how many types we have in the whole corpus and the lexical diversity again"
   ]
  },
  {
   "cell_type": "code",
   "execution_count": 31,
   "metadata": {},
   "outputs": [
    {
     "name": "stdout",
     "output_type": "stream",
     "text": [
      "Vocabulary size:  9198 \n",
      "Total number of tokens:  144245 \n",
      "Lexical diversity:  15.6822135247\n"
     ]
    }
   ],
   "source": [
    "#repeat the procedure\n",
    "words_1 = list(chain.from_iterable(dic.values()))\n",
    "vocab_1 = set(words_1)\n",
    "lexical_diversity1 = len(words_1)/len(vocab_1)\n",
    "print \"Vocabulary size: \",len(vocab_1),\"\\nTotal number of tokens: \", len(words_1), \\\n",
    "\"\\nLexical diversity: \", lexical_diversity1"
   ]
  },
  {
   "cell_type": "markdown",
   "metadata": {},
   "source": [
    "From the data, we can see that the number of vocabularies decreases about 400 words. And lexical diversity decreases as well."
   ]
  },
  {
   "cell_type": "markdown",
   "metadata": {},
   "source": [
    "### STEP 5:  Extracting bigrams "
   ]
  },
  {
   "cell_type": "markdown",
   "metadata": {},
   "source": [
    "Here, I also use 2 methods to know which bigram collection is better. "
   ]
  },
  {
   "cell_type": "markdown",
   "metadata": {},
   "source": [
    "First try: Extracting from a text a list of n-gram can be easily accomplished with function ngram(). From the results, we could see that some collation words are not what we want, such as 'system method', 'end portion' etc. So this method is not a good way to find bigrams."
   ]
  },
  {
   "cell_type": "code",
   "execution_count": 32,
   "metadata": {
    "collapsed": true
   },
   "outputs": [],
   "source": [
    "bigrams = ngrams(words_1, n = 2)\n",
    "fdbigram = FreqDist(bigrams)"
   ]
  },
  {
   "cell_type": "code",
   "execution_count": 33,
   "metadata": {},
   "outputs": [
    {
     "data": {
      "text/plain": [
       "[((u'present', u'invention'), 230),\n",
       " ((u'system', u'method'), 110),\n",
       " ((u'memory', u'cell'), 98),\n",
       " ((u'semiconductor', u'substrate'), 95),\n",
       " ((u'control', u'unit'), 94),\n",
       " ((u'light', u'source'), 89),\n",
       " ((u'memory', u'device'), 84),\n",
       " ((u'electrically', u'connect'), 84),\n",
       " ((u'invention', u'relate'), 83),\n",
       " ((u'control', u'signal'), 79),\n",
       " ((u'light', u'emit'), 76),\n",
       " ((u'integrate', u'circuit'), 76),\n",
       " ((u'layer', u'form'), 76),\n",
       " ((u'power', u'supply'), 75),\n",
       " ((u'circuit', u'board'), 73),\n",
       " ((u'semiconductor', u'device'), 68),\n",
       " ((u'support', u'member'), 66),\n",
       " ((u'main', u'body'), 64),\n",
       " ((u'image', u'data'), 60),\n",
       " ((u'end', u'portion'), 59),\n",
       " ((u'input', u'signal'), 57),\n",
       " ((u'semiconductor', u'layer'), 57),\n",
       " ((u'electronic', u'device'), 54),\n",
       " ((u'liquid', u'crystal'), 54),\n",
       " ((u'method', u'apparatus'), 53),\n",
       " ((u'upper', u'surface'), 51),\n",
       " ((u'output', u'signal'), 49),\n",
       " ((u'method', u'system'), 47),\n",
       " ((u'configure', u'receive'), 47),\n",
       " ((u'control', u'circuit'), 46),\n",
       " ((u'clock', u'signal'), 46),\n",
       " ((u'distal', u'end'), 45),\n",
       " ((u'side', u'wall'), 43),\n",
       " ((u'thin', u'film'), 42),\n",
       " ((u'method', u'manufacture'), 42),\n",
       " ((u'system', u'comprise'), 41),\n",
       " ((u'gate', u'electrode'), 41),\n",
       " ((u'insulation', u'layer'), 40),\n",
       " ((u'bit', u'line'), 39),\n",
       " ((u'film', u'form'), 39),\n",
       " ((u'display', u'panel'), 38),\n",
       " ((u'signal', u'output'), 38),\n",
       " ((u'device', u'comprise'), 38),\n",
       " ((u'disclose', u'method'), 37),\n",
       " ((u'device', u'method'), 37),\n",
       " ((u'portion', u'form'), 37),\n",
       " ((u'apparatus', u'method'), 37),\n",
       " ((u'fluid', u'communication'), 37),\n",
       " ((u'method', u'comprise'), 37),\n",
       " ((u'apparatus', u'comprise'), 37),\n",
       " ((u'fuel', u'cell'), 37),\n",
       " ((u'longitudinal', u'axis'), 36),\n",
       " ((u'power', u'source'), 36),\n",
       " ((u'frame', u'member'), 36),\n",
       " ((u'user', u'interface'), 35),\n",
       " ((u'embodiment', u'present'), 35),\n",
       " ((u'display', u'device'), 35),\n",
       " ((u'support', u'structure'), 34),\n",
       " ((u'signal', u'control'), 34),\n",
       " ((u'unit', u'configure'), 33),\n",
       " ((u'contact', u'surface'), 33),\n",
       " ((u'print', u'circuit'), 32),\n",
       " ((u'end', u'end'), 32),\n",
       " ((u'laser', u'beam'), 32),\n",
       " ((u'wireless', u'communication'), 32),\n",
       " ((u'image', u'form'), 32),\n",
       " ((u'insulating', u'film'), 31),\n",
       " ((u'conductive', u'layer'), 30),\n",
       " ((u'supply', u'voltage'), 30),\n",
       " ((u'semiconductor', u'die'), 30),\n",
       " ((u'comprise', u'plurality'), 30),\n",
       " ((u'input', u'output'), 30),\n",
       " ((u'control', u'system'), 30),\n",
       " ((u'signal', u'generate'), 30),\n",
       " ((u'surface', u'semiconductor'), 29),\n",
       " ((u'data', u'packet'), 29),\n",
       " ((u'communication', u'system'), 29),\n",
       " ((u'receive', u'data'), 29),\n",
       " ((u'light', u'beam'), 29),\n",
       " ((u'crystal', u'display'), 29),\n",
       " ((u'combustion', u'engine'), 29),\n",
       " ((u'internal', u'combustion'), 29),\n",
       " ((u'form', u'substrate'), 29),\n",
       " ((u'flow', u'passage'), 28),\n",
       " ((u'magnetic', u'layer'), 28),\n",
       " ((u'fluid', u'flow'), 28),\n",
       " ((u'surface', u'substrate'), 28),\n",
       " ((u'processing', u'apparatus'), 28),\n",
       " ((u'comprise', u'step'), 27),\n",
       " ((u'pivotally', u'connect'), 27),\n",
       " ((u'optical', u'axis'), 27),\n",
       " ((u'upper', u'portion'), 27),\n",
       " ((u'electrode', u'form'), 27),\n",
       " ((u'storage', u'device'), 27),\n",
       " ((u'dielectric', u'layer'), 27),\n",
       " ((u'time', u'period'), 27),\n",
       " ((u'reference', u'voltage'), 27),\n",
       " ((u'planetary', u'gear'), 26),\n",
       " ((u'integrated', u'circuit'), 26),\n",
       " ((u'electrical', u'contact'), 26)]"
      ]
     },
     "execution_count": 33,
     "metadata": {},
     "output_type": "execute_result"
    }
   ],
   "source": [
    "#100 most common bigrams\n",
    "fdbigram.most_common(100)"
   ]
  },
  {
   "cell_type": "markdown",
   "metadata": {},
   "source": [
    "Now we can see the most 100 co-orccuring words and ranking."
   ]
  },
  {
   "cell_type": "code",
   "execution_count": 34,
   "metadata": {
    "collapsed": true
   },
   "outputs": [
    {
     "data": {
      "text/plain": [
       "[(u'0.25', u'gbytes'),\n",
       " (u'047', u'958'),\n",
       " (u'064', u'nm'),\n",
       " (u'1.2', u'picoliters'),\n",
       " (u'1.625', u'1.835'),\n",
       " (u'13', u'mole'),\n",
       " (u'16.5', u'18'),\n",
       " (u'160', u'mg'),\n",
       " (u'18%', u'76%'),\n",
       " (u'26', u'gage'),\n",
       " (u'51', u'76'),\n",
       " (u'52', u'88'),\n",
       " (u'5300', u'6000'),\n",
       " (u'600', u'psig'),\n",
       " (u'65', u'90%'),\n",
       " (u'82%', u'24%'),\n",
       " (u'92', u'efficacy'),\n",
       " (u'adhering', u'compactly'),\n",
       " (u'adopt', u'opened-out'),\n",
       " (u'aliphatic', u'polyol'),\n",
       " (u'allot', u'end-user'),\n",
       " (u'alpine', u'cross-country'),\n",
       " (u'animated', u'gif'),\n",
       " (u'aseptic', u'squeezable'),\n",
       " (u'aspheric', u'inflection'),\n",
       " (u'assembled', u'segregate'),\n",
       " (u'attention', u'peer'),\n",
       " (u'attributed', u'categorical'),\n",
       " (u'autonomic', u'neuropathy'),\n",
       " (u'av', u'synchrony'),\n",
       " (u'bactericide', u'fungicide'),\n",
       " (u'bayonet', u'matable'),\n",
       " (u'bifurcated', u'vasculature'),\n",
       " (u'birefringence', u'0.02'),\n",
       " (u'biscuit', u'65'),\n",
       " (u'borate', u'derivate'),\n",
       " (u'breakage', u'frangible'),\n",
       " (u'broadcasting-terrestrial', u'isdb-t'),\n",
       " (u'broaden', u'sputtered'),\n",
       " (u'buildup', u'sticking'),\n",
       " (u'carboxyl-functional', u'cross-linking'),\n",
       " (u'cardio', u'electrotherapy'),\n",
       " (u'cardiovascular', u'autonomic'),\n",
       " (u'cdc', u'cpsc'),\n",
       " (u'centerers', u'gyroscopic'),\n",
       " (u'chaffer', u'harvester'),\n",
       " (u'channel-lock', u'plier'),\n",
       " (u'chf', u'obesity'),\n",
       " (u'child-resistant', u'fold-over'),\n",
       " (u'chocolate', u'egg')]"
      ]
     },
     "execution_count": 34,
     "metadata": {},
     "output_type": "execute_result"
    }
   ],
   "source": [
    "#The following code will find the best 100 bigrams using the PMI scores.\n",
    "bigram_measures = nltk.collocations.BigramAssocMeasures()\n",
    "finder = nltk.collocations.BigramCollocationFinder.from_words(words_1)\n",
    "finder.nbest(bigram_measures.pmi, 50)"
   ]
  },
  {
   "cell_type": "markdown",
   "metadata": {
    "collapsed": true
   },
   "source": [
    "Second try: spanning intervening words. It is useful to apply filters, in this case, we ignore all bigrams which have less than three times in the corpus. From this method output, every bigram looks much better. I accept this one. "
   ]
  },
  {
   "cell_type": "code",
   "execution_count": 35,
   "metadata": {
    "collapsed": true
   },
   "outputs": [
    {
     "data": {
      "text/plain": [
       "[(u'present', u'invention'),\n",
       " (u'memory', u'cell'),\n",
       " (u'invention', u'relate'),\n",
       " (u'light', u'emit'),\n",
       " (u'electrically', u'connect'),\n",
       " (u'integrate', u'circuit'),\n",
       " (u'light', u'source'),\n",
       " (u'liquid', u'crystal'),\n",
       " (u'semiconductor', u'substrate'),\n",
       " (u'circuit', u'board'),\n",
       " (u'power', u'supply'),\n",
       " (u'main', u'body'),\n",
       " (u'thin', u'film'),\n",
       " (u'system', u'method'),\n",
       " (u'planetary', u'gear'),\n",
       " (u'laser', u'beam'),\n",
       " (u'embodiment', u'invention'),\n",
       " (u'combustion', u'engine'),\n",
       " (u'longitudinal', u'axis'),\n",
       " (u'region', u'region'),\n",
       " (u'present', u'relate'),\n",
       " (u'print', u'board'),\n",
       " (u'clock', u'signal'),\n",
       " (u'internal', u'combustion'),\n",
       " (u'method', u'manufacture'),\n",
       " (u'fuel', u'cell'),\n",
       " (u'layer', u'layer'),\n",
       " (u'control', u'unit'),\n",
       " (u'semiconductor', u'device'),\n",
       " (u'permanent', u'magnet'),\n",
       " (u'insulating', u'film'),\n",
       " (u'output', u'signal'),\n",
       " (u'insulation', u'layer'),\n",
       " (u'input', u'output'),\n",
       " (u'memory', u'device'),\n",
       " (u'wind', u'turbine'),\n",
       " (u'side', u'wall'),\n",
       " (u'input', u'signal'),\n",
       " (u'gate', u'electrode'),\n",
       " (u'call', u'party'),\n",
       " (u'display', u'panel'),\n",
       " (u'wireless', u'communication'),\n",
       " (u'electrode', u'electrode'),\n",
       " (u'user', u'interface'),\n",
       " (u'crystal', u'display'),\n",
       " (u'internal', u'engine'),\n",
       " (u'conductivity', u'type'),\n",
       " (u'generate', u'signal'),\n",
       " (u'section', u'section'),\n",
       " (u'layer', u'form'),\n",
       " (u'member', u'member'),\n",
       " (u'flow', u'passage'),\n",
       " (u'support', u'member'),\n",
       " (u'fluid', u'communication'),\n",
       " (u'display', u'display'),\n",
       " (u'resource', u'allocation'),\n",
       " (u'upper', u'surface'),\n",
       " (u'heat', u'sink'),\n",
       " (u'electronic', u'device'),\n",
       " (u'portion', u'portion'),\n",
       " (u'terminal', u'terminal'),\n",
       " (u'memory', u'array'),\n",
       " (u'emit', u'diode'),\n",
       " (u'source', u'drain'),\n",
       " (u'dielectric', u'layer'),\n",
       " (u'non-volatile', u'memory'),\n",
       " (u'golf', u'club'),\n",
       " (u'heat', u'exchanger'),\n",
       " (u'hydrophobic', u'drug'),\n",
       " (u'image', u'data'),\n",
       " (u'embodiment', u'present'),\n",
       " (u'semiconductor', u'layer'),\n",
       " (u'control', u'signal'),\n",
       " (u'hard', u'mask'),\n",
       " (u'magnetic', u'field'),\n",
       " (u'time', u'period'),\n",
       " (u'control', u'control'),\n",
       " (u'integrated', u'circuit'),\n",
       " (u'preferred', u'embodiment'),\n",
       " (u'insulative', u'housing'),\n",
       " (u'cell', u'array'),\n",
       " (u'port', u'port'),\n",
       " (u'rfid', u'reader'),\n",
       " (u'print', u'circuit'),\n",
       " (u'printed', u'board'),\n",
       " (u'power', u'source'),\n",
       " (u'open', u'close'),\n",
       " (u'configure', u'receive'),\n",
       " (u'electric', u'motor'),\n",
       " (u'reference', u'voltage'),\n",
       " (u'hydraulic', u'pressure'),\n",
       " (u'pivotally', u'connect'),\n",
       " (u'signal', u'output'),\n",
       " (u'accelerator', u'pedal'),\n",
       " (u'fluid', u'flow'),\n",
       " (u'disclose', u'method'),\n",
       " (u'form', u'substrate'),\n",
       " (u'image', u'image'),\n",
       " (u'hardware', u'node'),\n",
       " (u'computer', u'program')]"
      ]
     },
     "execution_count": 35,
     "metadata": {},
     "output_type": "execute_result"
    }
   ],
   "source": [
    "bigram_measures = nltk.collocations.BigramAssocMeasures()\n",
    "#use wondow size used for the collocations extraction\n",
    "finder = BigramCollocationFinder.from_words(words_1,window_size=3)\n",
    "#use filter to ignore all bigrams which occur less than three times\n",
    "finder.apply_freq_filter(3)\n",
    "finder.apply_word_filter(lambda w: len(w) < 4 or w in stopwords)\n",
    "filtered_words=finder.nbest(bigram_measures.likelihood_ratio, 100)\n",
    "filtered_words"
   ]
  },
  {
   "cell_type": "code",
   "execution_count": 39,
   "metadata": {
    "collapsed": true
   },
   "outputs": [
    {
     "data": {
      "text/plain": [
       "[((u'present', u'invention'), 231),\n",
       " ((u'system', u'method'), 127),\n",
       " ((u'portion', u'portion'), 122),\n",
       " ((u'control', u'unit'), 98),\n",
       " ((u'memory', u'cell'), 98),\n",
       " ((u'semiconductor', u'substrate'), 97),\n",
       " ((u'layer', u'layer'), 95),\n",
       " ((u'light', u'source'), 95),\n",
       " ((u'layer', u'form'), 92),\n",
       " ((u'semiconductor', u'device'), 89),\n",
       " ((u'control', u'signal'), 88),\n",
       " ((u'electrically', u'connect'), 87),\n",
       " ((u'member', u'member'), 87),\n",
       " ((u'signal', u'signal'), 86),\n",
       " ((u'memory', u'device'), 84),\n",
       " ((u'invention', u'relate'), 83),\n",
       " ((u'light', u'emit'), 83),\n",
       " ((u'output', u'signal'), 82),\n",
       " ((u'control', u'control'), 80),\n",
       " ((u'power', u'supply'), 80),\n",
       " ((u'integrate', u'circuit'), 77),\n",
       " ((u'circuit', u'board'), 73),\n",
       " ((u'generate', u'signal'), 72),\n",
       " ((u'support', u'member'), 71),\n",
       " ((u'input', u'signal'), 69),\n",
       " ((u'image', u'data'), 68),\n",
       " ((u'region', u'region'), 67),\n",
       " ((u'surface', u'surface'), 66),\n",
       " ((u'form', u'substrate'), 64),\n",
       " ((u'main', u'body'), 64),\n",
       " ((u'position', u'position'), 64),\n",
       " ((u'signal', u'output'), 63),\n",
       " ((u'device', u'device'), 60),\n",
       " ((u'method', u'apparatus'), 60),\n",
       " ((u'semiconductor', u'layer'), 60),\n",
       " ((u'unit', u'unit'), 60),\n",
       " ((u'method', u'system'), 56),\n",
       " ((u'receive', u'signal'), 56),\n",
       " ((u'electronic', u'device'), 55),\n",
       " ((u'embodiment', u'invention'), 55),\n",
       " ((u'input', u'output'), 55),\n",
       " ((u'upper', u'surface'), 55),\n",
       " ((u'data', u'data'), 54),\n",
       " ((u'device', u'method'), 54),\n",
       " ((u'liquid', u'crystal'), 54),\n",
       " ((u'contact', u'surface'), 53),\n",
       " ((u'form', u'layer'), 53),\n",
       " ((u'form', u'surface'), 53),\n",
       " ((u'surface', u'substrate'), 52),\n",
       " ((u'system', u'comprise'), 51),\n",
       " ((u'clock', u'signal'), 50),\n",
       " ((u'control', u'circuit'), 50),\n",
       " ((u'section', u'section'), 50),\n",
       " ((u'configure', u'receive'), 49),\n",
       " ((u'electrode', u'electrode'), 49),\n",
       " ((u'image', u'image'), 49),\n",
       " ((u'side', u'wall'), 49),\n",
       " ((u'signal', u'control'), 49),\n",
       " ((u'disclose', u'method'), 48),\n",
       " ((u'invention', u'method'), 47),\n",
       " ((u'apparatus', u'method'), 46),\n",
       " ((u'connect', u'portion'), 46),\n",
       " ((u'display', u'display'), 46),\n",
       " ((u'receive', u'data'), 46),\n",
       " ((u'device', u'comprise'), 45),\n",
       " ((u'film', u'form'), 45),\n",
       " ((u'method', u'manufacture'), 45),\n",
       " ((u'portion', u'form'), 45),\n",
       " ((u'signal', u'unit'), 45),\n",
       " ((u'layer', u'substrate'), 44),\n",
       " ((u'store', u'data'), 43),\n",
       " ((u'thin', u'film'), 43),\n",
       " ((u'display', u'panel'), 42),\n",
       " ((u'present', u'relate'), 42),\n",
       " ((u'circuit', u'circuit'), 41),\n",
       " ((u'fluid', u'communication'), 41),\n",
       " ((u'gate', u'electrode'), 41),\n",
       " ((u'housing', u'housing'), 41),\n",
       " ((u'power', u'source'), 41),\n",
       " ((u'apparatus', u'comprise'), 40),\n",
       " ((u'fuel', u'cell'), 40),\n",
       " ((u'insulation', u'layer'), 40),\n",
       " ((u'terminal', u'terminal'), 40),\n",
       " ((u'form', u'semiconductor'), 39),\n",
       " ((u'image', u'apparatus'), 39),\n",
       " ((u'outer', u'surface'), 39),\n",
       " ((u'signal', u'generate'), 39),\n",
       " ((u'unit', u'control'), 39),\n",
       " ((u'display', u'device'), 38),\n",
       " ((u'frame', u'member'), 38),\n",
       " ((u'method', u'comprise'), 38),\n",
       " ((u'support', u'support'), 38),\n",
       " ((u'conductive', u'layer'), 37),\n",
       " ((u'control', u'valve'), 37),\n",
       " ((u'electrode', u'form'), 37),\n",
       " ((u'longitudinal', u'axis'), 37),\n",
       " ((u'portion', u'connect'), 37),\n",
       " ((u'surface', u'semiconductor'), 37),\n",
       " ((u'comprise', u'plurality'), 36),\n",
       " ((u'control', u'system'), 36)]"
      ]
     },
     "execution_count": 39,
     "metadata": {},
     "output_type": "execute_result"
    }
   ],
   "source": [
    "#show the frequency of the bigrams which I searched from last step\n",
    "sorted(finder.ngram_fd.items(), key=lambda t: (-t[1], t[0]))[:100]"
   ]
  },
  {
   "cell_type": "code",
   "execution_count": 37,
   "metadata": {
    "collapsed": true
   },
   "outputs": [
    {
     "data": {
      "text/plain": [
       "[u'invention_relate',\n",
       " u'method',\n",
       " u'produce',\n",
       " u'acrylic',\n",
       " u'acid',\n",
       " u'step',\n",
       " u'oxydehydration',\n",
       " u'reaction',\n",
       " u'glycerol',\n",
       " u'presence',\n",
       " u'molecular',\n",
       " u'oxygen',\n",
       " u'reaction',\n",
       " u'preferably',\n",
       " u'carry',\n",
       " u'gaseous',\n",
       " u'phase',\n",
       " u'presence',\n",
       " u'suitable',\n",
       " u'catalyst']"
      ]
     },
     "execution_count": 37,
     "metadata": {},
     "output_type": "execute_result"
    }
   ],
   "source": [
    "#replace bigram with each corresponding words in abstracts\n",
    "mwe_tokenizer = MWETokenizer()\n",
    "for key,value in dic.iteritems():\n",
    "    pre_value=list(set(dic[key]))\n",
    "    for each in filtered_words:\n",
    "        #append bigrams to each abstracts\n",
    "        pre_value.append(each)\n",
    "    #replace bigrams with original words\n",
    "    mwe_tokenizer = MWETokenizer(pre_value)\n",
    "    dic[key]=mwe_tokenizer.tokenize(dic[key])\n",
    "#check the first abstract\n",
    "dic['07910771']"
   ]
  },
  {
   "cell_type": "markdown",
   "metadata": {},
   "source": [
    "### STEP 6:  Removing top-20 frequency words"
   ]
  },
  {
   "cell_type": "markdown",
   "metadata": {
    "collapsed": true
   },
   "source": [
    "I think the reason why we need to remove frequency words is that if a word appears in several abstracts, it would interfere with search relevance data. For example, if I search a patent, system may found a lot of patents relevant to that patent because they have a lot of same words. In this case, user may not find what they turely interested in."
   ]
  },
  {
   "cell_type": "code",
   "execution_count": 38,
   "metadata": {},
   "outputs": [
    {
     "data": {
      "image/png": "[encoded data removed]",
      "text/plain": [
       "<matplotlib.figure.Figure at 0x2212ae80>"
      ]
     },
     "metadata": {},
     "output_type": "display_data"
    }
   ],
   "source": [
    "words_2 = list(chain.from_iterable(dic.values()))\n",
    "#use freqdist to find the corresponding frequcy with each word\n",
    "fd_1 = FreqDist(words_2)\n",
    "#show the words\n",
    "vocabulary1=fd_1.keys()\n",
    "#show the top-20 frequency words\n",
    "frequent_words=vocabulary1[:20]\n",
    "#make a plot to visulazation\n",
    "fd_1.plot(25, cumulative=True)"
   ]
  },
  {
   "cell_type": "code",
   "execution_count": 39,
   "metadata": {},
   "outputs": [
    {
     "data": {
      "text/plain": [
       "20"
      ]
     },
     "execution_count": 39,
     "metadata": {},
     "output_type": "execute_result"
    }
   ],
   "source": [
    "len(frequent_words)"
   ]
  },
  {
   "cell_type": "code",
   "execution_count": 40,
   "metadata": {
    "collapsed": true
   },
   "outputs": [
    {
     "data": {
      "text/plain": [
       "[u'invention_relate',\n",
       " u'method',\n",
       " u'produce',\n",
       " u'acrylic',\n",
       " u'acid',\n",
       " u'step',\n",
       " u'oxydehydration',\n",
       " u'reaction',\n",
       " u'glycerol',\n",
       " u'presence',\n",
       " u'molecular',\n",
       " u'oxygen',\n",
       " u'reaction',\n",
       " u'preferably',\n",
       " u'carry',\n",
       " u'gaseous',\n",
       " u'phase',\n",
       " u'presence',\n",
       " u'suitable',\n",
       " u'catalyst']"
      ]
     },
     "execution_count": 40,
     "metadata": {},
     "output_type": "execute_result"
    }
   ],
   "source": [
    "#remove top-20 words for each value in dictionary\n",
    "for k, v in dic.iteritems():\n",
    "    dic[k] = [word for word in v if word not in frequent_words]\n",
    "dic['07910771']"
   ]
  },
  {
   "cell_type": "markdown",
   "metadata": {},
   "source": [
    "### STEP 7:  Removing words that only apperaring once in all abstracts"
   ]
  },
  {
   "cell_type": "markdown",
   "metadata": {},
   "source": [
    "Firstly, I try to use hapaxes() function to count the words that only appear once in the whole text. But it seems that it does not work for some words that appear more than once under an Abstract of a Patent ID and also does not appear in the other abstracts."
   ]
  },
  {
   "cell_type": "code",
   "execution_count": 482,
   "metadata": {
    "collapsed": true
   },
   "outputs": [],
   "source": [
    "#not recommeneded\n",
    "#find the words which only appear once in all abstracts\n",
    "lessFreqWords = set(fd_1.hapaxes())"
   ]
  },
  {
   "cell_type": "code",
   "execution_count": 483,
   "metadata": {},
   "outputs": [
    {
     "data": {
      "text/plain": [
       "3277"
      ]
     },
     "execution_count": 483,
     "metadata": {},
     "output_type": "execute_result"
    }
   ],
   "source": [
    "len(lessFreqWords)"
   ]
  },
  {
   "cell_type": "markdown",
   "metadata": {},
   "source": [
    "So I try another way to find the words appearing only once and the words which appears more than once in a single abstracts but does not appear under the other abstrcts."
   ]
  },
  {
   "cell_type": "code",
   "execution_count": 36,
   "metadata": {},
   "outputs": [],
   "source": [
    "value_list=[]\n",
    "for v in dic.values():\n",
    "    value_list.append(v)"
   ]
  },
  {
   "cell_type": "markdown",
   "metadata": {},
   "source": [
    "I write following code by myself to look for those satisified words and avoid removing bigrams simultaneously."
   ]
  },
  {
   "cell_type": "code",
   "execution_count": 42,
   "metadata": {
    "collapsed": true
   },
   "outputs": [],
   "source": [
    "#Running this program may take a few munites, thanks for waiting\n",
    "one_abstract_word=[]\n",
    "temp_list_use=[]\n",
    "#finding the words that does not appear in other abstracts\n",
    "for i in range(len(value_list)):\n",
    "    #if index=0, put abstract[1:] into a list, finding any words in first index doesn't appear in anther list\n",
    "    if i==0:\n",
    "        new_list=value_list[1:]\n",
    "        for each in new_list:\n",
    "            temp_list_use+=each\n",
    "        for each in value_list[0]:\n",
    "            if each not in temp_list_use:\n",
    "                one_abstract_word.append(each)\n",
    "        temp_list_use=[]\n",
    "        i+=1\n",
    "    #if i=last abstracts, put abstrcts[：-1] togther and make a list. Finding if any words in last abstract appears in former list.\n",
    "    elif i==len(value_list)-1:\n",
    "        new_list=value_list[:i]\n",
    "        for each in new_list:\n",
    "            temp_list_use+=each\n",
    "        for each in value_list[i]:\n",
    "            if each not in temp_list_use:\n",
    "                one_abstract_word.append(each)\n",
    "        temp_list_use=[]\n",
    "        i+=1\n",
    "    #make the bastract before and after index togther as a list. Finding if the words in index list appepars in another combined list.\n",
    "    else:\n",
    "        new_list=value_list[:i]+value_list[i+1:]\n",
    "        for item in new_list:\n",
    "            temp_list_use+=item\n",
    "        for each in value_list[i]:\n",
    "            if each not in temp_list_use:\n",
    "                one_abstract_word.append(each)\n",
    "        temp_list_use=[]\n",
    "        i+=1\n",
    "\n",
    "one_abstract_word_list=list(set(one_abstract_word))    "
   ]
  },
  {
   "cell_type": "code",
   "execution_count": 37,
   "metadata": {},
   "outputs": [],
   "source": [
    "#print list from last step\n",
    "#one_abstract_word_list"
   ]
  },
  {
   "cell_type": "markdown",
   "metadata": {},
   "source": [
    "The following below shows the number of words I found from my code, which is more than about 1000 words need to be removed than using hapaxes() function."
   ]
  },
  {
   "cell_type": "code",
   "execution_count": 44,
   "metadata": {},
   "outputs": [
    {
     "data": {
      "text/plain": [
       "4783"
      ]
     },
     "execution_count": 44,
     "metadata": {},
     "output_type": "execute_result"
    }
   ],
   "source": [
    "len(one_abstract_word_list)"
   ]
  },
  {
   "cell_type": "markdown",
   "metadata": {},
   "source": [
    "Now removing the words"
   ]
  },
  {
   "cell_type": "code",
   "execution_count": 45,
   "metadata": {
    "collapsed": true
   },
   "outputs": [],
   "source": [
    "for k, v in dic.iteritems():\n",
    "    dic[k] = [word for word in v if word not in one_abstract_word_list]\n",
    "words_3=list(chain.from_iterable(dic.values()))"
   ]
  },
  {
   "cell_type": "code",
   "execution_count": 46,
   "metadata": {},
   "outputs": [
    {
     "name": "stdout",
     "output_type": "stream",
     "text": [
      "Vocabulary size:  4486 \n",
      "Total number of tokens:  132808 \n",
      "Lexical diversity:  29.6049933125\n"
     ]
    }
   ],
   "source": [
    "vocab_3 = set(words_3)\n",
    "lexical_diversity3 = len(words_3)/len(vocab_3)\n",
    "print \"Vocabulary size: \",len(vocab_3),\"\\nTotal number of tokens: \", len(words_3), \\\n",
    "\"\\nLexical diversity: \", lexical_diversity3"
   ]
  },
  {
   "cell_type": "markdown",
   "metadata": {},
   "source": [
    "Review the 'vocab' file, I found some numbers that does not help to search the relevant data. \n",
    "(This step should have done after building a vocab file. But in order to make the procedure clean and clear, I add this step before the final build)"
   ]
  },
  {
   "cell_type": "code",
   "execution_count": 66,
   "metadata": {
    "collapsed": true
   },
   "outputs": [],
   "source": [
    "#remove numbers\n",
    "for k, v in dic.iteritems():\n",
    "    dic[k] = [word for word in v if not word.isdigit()]"
   ]
  },
  {
   "cell_type": "code",
   "execution_count": 67,
   "metadata": {},
   "outputs": [
    {
     "name": "stdout",
     "output_type": "stream",
     "text": [
      "Vocabulary size:  4453 \n",
      "Total number of tokens:  132529 \n",
      "Lexical diversity:  29.7617336627\n"
     ]
    }
   ],
   "source": [
    "words_4=list(chain.from_iterable(dic.values()))\n",
    "vocab_4 = set(words_4)\n",
    "lexical_diversity4 = len(words_4)/len(vocab_4)\n",
    "print \"Vocabulary size: \",len(vocab_4),\"\\nTotal number of tokens: \", len(words_4), \\\n",
    "\"\\nLexical diversity: \", lexical_diversity4"
   ]
  },
  {
   "cell_type": "markdown",
   "metadata": {},
   "source": [
    "Writing the PatentID and its abstract/abstracts to a text file. This step should be done twice. The first time is to use vocab_3 to build a file. After reviewing the file, I found some words look strange and can not help with further uses. Therefore, after removing those words, I build it at the second time."
   ]
  },
  {
   "cell_type": "code",
   "execution_count": 68,
   "metadata": {
    "collapsed": true
   },
   "outputs": [],
   "source": [
    "words_5=list(set(chain.from_iterable(dic.values())))\n",
    "output_handle=open('vocab.txt','w+')\n",
    "\n",
    "for num in range(len(words_5)):\n",
    "    line=str(num)+str(\":\")+str(words_5[num].encode('utf-8'))+\"\\n\"\n",
    "    output_handle.write(line)\n",
    "\n",
    "output_handle.close()"
   ]
  },
  {
   "cell_type": "markdown",
   "metadata": {
    "collapsed": true
   },
   "source": [
    "### STEP 8: Build count vector"
   ]
  },
  {
   "cell_type": "markdown",
   "metadata": {
    "collapsed": true
   },
   "source": [
    "Next, I generate a count vector represented for each document. "
   ]
  },
  {
   "cell_type": "code",
   "execution_count": 48,
   "metadata": {
    "collapsed": true
   },
   "outputs": [],
   "source": [
    "vectorizer = CountVectorizer(analyzer = \"word\")"
   ]
  },
  {
   "cell_type": "markdown",
   "metadata": {},
   "source": [
    "Using \"fit_transform\" to fit the model and learn from the vocabulary. And then transform the text data into feature vectors. Since dictionary stored each tokenised article in a list, we concatenate all of the words in a list and separate them with the white spaces."
   ]
  },
  {
   "cell_type": "code",
   "execution_count": 70,
   "metadata": {},
   "outputs": [
    {
     "name": "stdout",
     "output_type": "stream",
     "text": [
      "(2500, 4335)\n"
     ]
    }
   ],
   "source": [
    "data_features = vectorizer.fit_transform([' '.join(value) for value in dic.values()])\n",
    "print data_features.shape"
   ]
  },
  {
   "cell_type": "markdown",
   "metadata": {},
   "source": [
    "In order to save such a matrix in our computer memory but also speed up algebraic operations on a matrix, scikit-learn implements matrix/vector in a sparse representation."
   ]
  },
  {
   "cell_type": "code",
   "execution_count": 71,
   "metadata": {
    "scrolled": true
   },
   "outputs": [
    {
     "name": "stdout",
     "output_type": "stream",
     "text": [
      "ecg : 1\n",
      "direct : 1\n",
      "mating : 1\n",
      "gauge : 1\n",
      "stain : 1\n",
      "doped : 1\n",
      "operator : 1\n",
      "select : 1\n",
      "radiotherapy : 1\n",
      "wager : 1\n",
      "diametrically : 1\n",
      "improved : 1\n",
      "sink : 2\n",
      "radiofrequency : 1\n",
      "couple : 2\n",
      "dielectric_layer : 1\n",
      "1.5 : 1\n"
     ]
    }
   ],
   "source": [
    "vocab2 = vectorizer.get_feature_names()\n",
    "for word, count in zip(words_5, data_features.toarray()[0]):\n",
    "    if count > 0:\n",
    "        print word, \":\", count"
   ]
  },
  {
   "cell_type": "markdown",
   "metadata": {},
   "source": [
    "Another way is to get the count list by using FreqDist."
   ]
  },
  {
   "cell_type": "code",
   "execution_count": 64,
   "metadata": {},
   "outputs": [
    {
     "data": {
      "text/plain": [
       "FreqDist({u'acid': 1,\n",
       "          u'acrylic': 1,\n",
       "          u'carry': 1,\n",
       "          u'catalyst': 1,\n",
       "          u'gaseous': 1,\n",
       "          u'glycerol': 1,\n",
       "          u'invention_relate': 1,\n",
       "          u'method': 1,\n",
       "          u'molecular': 1,\n",
       "          u'oxygen': 1,\n",
       "          u'phase': 1,\n",
       "          u'preferably': 1,\n",
       "          u'presence': 2,\n",
       "          u'produce': 1,\n",
       "          u'reaction': 2,\n",
       "          u'step': 1,\n",
       "          u'suitable': 1})"
      ]
     },
     "execution_count": 64,
     "metadata": {},
     "output_type": "execute_result"
    }
   ],
   "source": [
    "FreqDist(dic['07910771'])"
   ]
  },
  {
   "cell_type": "markdown",
   "metadata": {},
   "source": [
    "### STEP 9: Writing a csv file"
   ]
  },
  {
   "cell_type": "code",
   "execution_count": 72,
   "metadata": {
    "collapsed": true
   },
   "outputs": [],
   "source": [
    "out_file = open('count_vector.txt', 'w') #invention relate method\n",
    "vocab = words_5\n",
    "line=\"\"\n",
    "for g,d in dic.iteritems():\n",
    "    out_file.write(g)\n",
    "    #add comma before patentid\n",
    "    out_file.write(\",\")\n",
    "    d_idx = [vocab.index(w) for w in d]\n",
    "    for k, v in FreqDist(d_idx).iteritems():\n",
    "        #formate with words and index\n",
    "        a=\"{}:{}\".format(k,v)\n",
    "        line+=str(a)+str(\",\")\n",
    "    #remove comma at each end of the line\n",
    "    new_line=line.rstrip(\",\")\n",
    "    out_file.write(new_line)\n",
    "    line=\"\"\n",
    "    out_file.write('\\n')\n",
    "out_file.close()"
   ]
  },
  {
   "cell_type": "markdown",
   "metadata": {},
   "source": [
    "### Short Summay:\n",
    "From this project, we pre-process several elements of the patents from the XML file. \n",
    "* 1.Extract and write a text file with the elements of: patent’s_ID:Section,Class,Subclass,Main_group,Subgroup.\n",
    "* 2.Extract each patent's citation and write a file with the format of: citing_patent_id:cited_patent_id,cited_patent_id...\n",
    "* 3.Count how many times that a particular patent has been cited and then save them in a file with format:cited_patent_id: times.\n",
    "* 4.Extract all of the abstracts of all of the patents, and then process and store those abstracts as a sparse count vectors format. Then generate a vocabulary file which stores vocabularies and its indexes in a count_vectors file for the future use."
   ]
  }
 ],
 "metadata": {
  "kernelspec": {
   "display_name": "Python 2",
   "language": "python",
   "name": "python2"
  },
  "language_info": {
   "codemirror_mode": {
    "name": "ipython",
    "version": 2
   },
   "file_extension": ".py",
   "mimetype": "text/x-python",
   "name": "python",
   "nbconvert_exporter": "python",
   "pygments_lexer": "ipython2",
   "version": "2.7.16"
  }
 },
 "nbformat": 4,
 "nbformat_minor": 1
}
